{
 "cells": [
  {
   "cell_type": "markdown",
   "id": "0e16e5b7-0cbe-40b6-9706-4aefe50cd647",
   "metadata": {},
   "source": [
    "### IMPORTANT: Model design\n",
    "\n",
    "This is a binary class. \n",
    "Naive Bayes often works well for this kind of task. However, there are several different implementations of the Naive Bayes algorithm in scikit-learn, and **each assumes that all of your predictor variables are of a single type** (e.g., Gaussian for continuous variables, Bernoulli for binary variables, etc.). \n",
    "\n",
    "This data has all different types of predictor variables.\n",
    "Real-world data is never perfect and sometimes the data breaks the assumptions of your model. \n",
    "\n",
    "In practice, you'll have to do the best you can with what you have. \n",
    "\n",
    "If we wanted to build the best possible Naive Bayes model, \n",
    "we'd treat each variable according to their different types and distributions, \n",
    "and then combine each conditional probability to get the final prediction for each observation. \n",
    "That's advanced data science.\n",
    "\n",
    "For this one start with `GaussianNB` classifier. \n",
    "This implementation assumes that all of your variables are continuous _and_ that they have a Gaussian (i.e., normal) distribution. \n",
    "Our data doesn't perfectly adhere to these assumptions, \n",
    "but a Gaussian model may still yield usable results, \n",
    "even with imperfect data.\n",
    "\n",
    "[OtherImplementations](https://scikit-learn.org/stable/modules/classes.html#module-sklearn.naive_bayes)"
   ]
  },
  {
   "cell_type": "code",
   "execution_count": 43,
   "id": "9c98d403-333d-43bc-b988-3b37dbe7176f",
   "metadata": {},
   "outputs": [],
   "source": [
    "import exploratory_data_analysis.eda_functions as eda\n",
    "import numpy as np\n",
    "import pandas as pd\n",
    "import matplotlib.pyplot as plt\n",
    "import seaborn as sns\n",
    "\n",
    "from sklearn.model_selection import train_test_split\n",
    "import sklearn.naive_bayes as NB\n",
    "\n",
    "## Scaler function\n",
    "## A good idea when modeling, is to scaling your predictor variables (most of the time)\n",
    "from sklearn.preprocessing import MinMaxScaler\n",
    "\n",
    "## metrics\n",
    "from sklearn.metrics import recall_score, precision_score, f1_score, accuracy_score\n",
    "from sklearn.metrics import confusion_matrix, ConfusionMatrixDisplay\n"
   ]
  },
  {
   "cell_type": "code",
   "execution_count": 54,
   "id": "f677f5d5-e9d6-41a1-b278-10e039736eb6",
   "metadata": {},
   "outputs": [],
   "source": [
    "def conf_matrix_plot(model, x_data, y_data):\n",
    "    '''\n",
    "    Accepts as argument model object, X data (test or validate), and y data (test or validate). \n",
    "    Return a plot of confusion matrix for predictions on y data.\n",
    "    ''' \n",
    "  \n",
    "    model_pred = model.predict(x_data)\n",
    "    cm = confusion_matrix(y_data, model_pred, labels=model.classes_)\n",
    "    disp = ConfusionMatrixDisplay(confusion_matrix=cm,\n",
    "                                  display_labels=model.classes_,\n",
    "                                 )\n",
    "  \n",
    "    disp.plot(values_format='') # `values_format=''` suppresses scientific notation\n",
    "    plt.show()"
   ]
  },
  {
   "cell_type": "code",
   "execution_count": 57,
   "id": "928c5587-c2e2-4871-b466-6051d661df22",
   "metadata": {},
   "outputs": [],
   "source": [
    "loc = '/home/gato/Scripts/DS/MachineLearning/data/churnModeling.csv'\n",
    "df = pd.read_csv(loc)"
   ]
  },
  {
   "cell_type": "code",
   "execution_count": 28,
   "id": "f85618e6-2cf0-4ace-a60c-b480b6ca732c",
   "metadata": {},
   "outputs": [
    {
     "data": {
      "text/html": [
       "<div>\n",
       "<style scoped>\n",
       "    .dataframe tbody tr th:only-of-type {\n",
       "        vertical-align: middle;\n",
       "    }\n",
       "\n",
       "    .dataframe tbody tr th {\n",
       "        vertical-align: top;\n",
       "    }\n",
       "\n",
       "    .dataframe thead th {\n",
       "        text-align: right;\n",
       "    }\n",
       "</style>\n",
       "<table border=\"1\" class=\"dataframe\">\n",
       "  <thead>\n",
       "    <tr style=\"text-align: right;\">\n",
       "      <th></th>\n",
       "      <th>CreditScore</th>\n",
       "      <th>Age</th>\n",
       "      <th>Tenure</th>\n",
       "      <th>Balance</th>\n",
       "      <th>NumOfProducts</th>\n",
       "      <th>HasCrCard</th>\n",
       "      <th>IsActiveMember</th>\n",
       "      <th>EstimatedSalary</th>\n",
       "      <th>Exited</th>\n",
       "      <th>Loyalty</th>\n",
       "      <th>Geography_Germany</th>\n",
       "      <th>Geography_Spain</th>\n",
       "    </tr>\n",
       "  </thead>\n",
       "  <tbody>\n",
       "    <tr>\n",
       "      <th>0</th>\n",
       "      <td>619</td>\n",
       "      <td>42</td>\n",
       "      <td>2</td>\n",
       "      <td>0.00</td>\n",
       "      <td>1</td>\n",
       "      <td>1</td>\n",
       "      <td>1</td>\n",
       "      <td>101348.88</td>\n",
       "      <td>1</td>\n",
       "      <td>0.047619</td>\n",
       "      <td>0</td>\n",
       "      <td>0</td>\n",
       "    </tr>\n",
       "    <tr>\n",
       "      <th>1</th>\n",
       "      <td>608</td>\n",
       "      <td>41</td>\n",
       "      <td>1</td>\n",
       "      <td>83807.86</td>\n",
       "      <td>1</td>\n",
       "      <td>0</td>\n",
       "      <td>1</td>\n",
       "      <td>112542.58</td>\n",
       "      <td>0</td>\n",
       "      <td>0.024390</td>\n",
       "      <td>0</td>\n",
       "      <td>1</td>\n",
       "    </tr>\n",
       "    <tr>\n",
       "      <th>2</th>\n",
       "      <td>502</td>\n",
       "      <td>42</td>\n",
       "      <td>8</td>\n",
       "      <td>159660.80</td>\n",
       "      <td>3</td>\n",
       "      <td>1</td>\n",
       "      <td>0</td>\n",
       "      <td>113931.57</td>\n",
       "      <td>1</td>\n",
       "      <td>0.190476</td>\n",
       "      <td>0</td>\n",
       "      <td>0</td>\n",
       "    </tr>\n",
       "    <tr>\n",
       "      <th>3</th>\n",
       "      <td>699</td>\n",
       "      <td>39</td>\n",
       "      <td>1</td>\n",
       "      <td>0.00</td>\n",
       "      <td>2</td>\n",
       "      <td>0</td>\n",
       "      <td>0</td>\n",
       "      <td>93826.63</td>\n",
       "      <td>0</td>\n",
       "      <td>0.025641</td>\n",
       "      <td>0</td>\n",
       "      <td>0</td>\n",
       "    </tr>\n",
       "    <tr>\n",
       "      <th>4</th>\n",
       "      <td>850</td>\n",
       "      <td>43</td>\n",
       "      <td>2</td>\n",
       "      <td>125510.82</td>\n",
       "      <td>1</td>\n",
       "      <td>1</td>\n",
       "      <td>1</td>\n",
       "      <td>79084.10</td>\n",
       "      <td>0</td>\n",
       "      <td>0.046512</td>\n",
       "      <td>0</td>\n",
       "      <td>1</td>\n",
       "    </tr>\n",
       "  </tbody>\n",
       "</table>\n",
       "</div>"
      ],
      "text/plain": [
       "   CreditScore  Age  Tenure    Balance  NumOfProducts  HasCrCard  \\\n",
       "0          619   42       2       0.00              1          1   \n",
       "1          608   41       1   83807.86              1          0   \n",
       "2          502   42       8  159660.80              3          1   \n",
       "3          699   39       1       0.00              2          0   \n",
       "4          850   43       2  125510.82              1          1   \n",
       "\n",
       "   IsActiveMember  EstimatedSalary  Exited   Loyalty  Geography_Germany  \\\n",
       "0               1        101348.88       1  0.047619                  0   \n",
       "1               1        112542.58       0  0.024390                  0   \n",
       "2               0        113931.57       1  0.190476                  0   \n",
       "3               0         93826.63       0  0.025641                  0   \n",
       "4               1         79084.10       0  0.046512                  0   \n",
       "\n",
       "   Geography_Spain  \n",
       "0                0  \n",
       "1                1  \n",
       "2                0  \n",
       "3                0  \n",
       "4                1  "
      ]
     },
     "execution_count": 28,
     "metadata": {},
     "output_type": "execute_result"
    }
   ],
   "source": [
    "df.head()"
   ]
  },
  {
   "cell_type": "code",
   "execution_count": 29,
   "id": "452ebca6-05b0-4444-a60e-3b4cb71a139d",
   "metadata": {},
   "outputs": [
    {
     "name": "stdout",
     "output_type": "stream",
     "text": [
      "<class 'pandas.core.frame.DataFrame'>\n",
      "RangeIndex: 10000 entries, 0 to 9999\n",
      "Data columns (total 12 columns):\n",
      " #   Column             Non-Null Count  Dtype  \n",
      "---  ------             --------------  -----  \n",
      " 0   CreditScore        10000 non-null  int64  \n",
      " 1   Age                10000 non-null  int64  \n",
      " 2   Tenure             10000 non-null  int64  \n",
      " 3   Balance            10000 non-null  float64\n",
      " 4   NumOfProducts      10000 non-null  int64  \n",
      " 5   HasCrCard          10000 non-null  int64  \n",
      " 6   IsActiveMember     10000 non-null  int64  \n",
      " 7   EstimatedSalary    10000 non-null  float64\n",
      " 8   Exited             10000 non-null  int64  \n",
      " 9   Loyalty            10000 non-null  float64\n",
      " 10  Geography_Germany  10000 non-null  int64  \n",
      " 11  Geography_Spain    10000 non-null  int64  \n",
      "dtypes: float64(3), int64(9)\n",
      "memory usage: 937.6 KB\n"
     ]
    }
   ],
   "source": [
    "df.info()"
   ]
  },
  {
   "cell_type": "code",
   "execution_count": 25,
   "id": "17c3922b-71f0-4753-896a-f1a03a221eed",
   "metadata": {},
   "outputs": [
    {
     "name": "stdout",
     "output_type": "stream",
     "text": [
      "---MODELS---\n",
      "GaussianNB\n",
      "_ALPHA_MIN\n",
      "_BaseDiscreteNB\n",
      "MultinomialNB\n",
      "ComplementNB\n",
      "BernoulliNB\n",
      "CategoricalNB\n"
     ]
    }
   ],
   "source": [
    "print('---MODELS---')\n",
    "for i in NB.__dir__()[-7:]:\n",
    "    print(i)"
   ]
  },
  {
   "cell_type": "code",
   "execution_count": 32,
   "id": "c3b20a3b-1420-4954-a00b-044580b62d59",
   "metadata": {},
   "outputs": [
    {
     "data": {
      "text/html": [
       "<div>\n",
       "<style scoped>\n",
       "    .dataframe tbody tr th:only-of-type {\n",
       "        vertical-align: middle;\n",
       "    }\n",
       "\n",
       "    .dataframe tbody tr th {\n",
       "        vertical-align: top;\n",
       "    }\n",
       "\n",
       "    .dataframe thead th {\n",
       "        text-align: right;\n",
       "    }\n",
       "</style>\n",
       "<table border=\"1\" class=\"dataframe\">\n",
       "  <thead>\n",
       "    <tr style=\"text-align: right;\">\n",
       "      <th></th>\n",
       "      <th>nulls</th>\n",
       "      <th>invalids</th>\n",
       "      <th>unique_item</th>\n",
       "    </tr>\n",
       "  </thead>\n",
       "  <tbody>\n",
       "    <tr>\n",
       "      <th>CreditScore</th>\n",
       "      <td>0</td>\n",
       "      <td>0</td>\n",
       "      <td>[619, 608, 502, 699, 850, 645, 822, 376, 501, ...</td>\n",
       "    </tr>\n",
       "    <tr>\n",
       "      <th>Age</th>\n",
       "      <td>0</td>\n",
       "      <td>0</td>\n",
       "      <td>[42, 41, 39, 43, 44, 50, 29, 27, 31, 24, 34, 2...</td>\n",
       "    </tr>\n",
       "    <tr>\n",
       "      <th>Tenure</th>\n",
       "      <td>0</td>\n",
       "      <td>0</td>\n",
       "      <td>[2, 1, 8, 7, 4, 6, 3, 10, 5, 9, 0]</td>\n",
       "    </tr>\n",
       "    <tr>\n",
       "      <th>Balance</th>\n",
       "      <td>0</td>\n",
       "      <td>0</td>\n",
       "      <td>[0.0, 83807.86, 159660.8, 125510.82, 113755.78...</td>\n",
       "    </tr>\n",
       "    <tr>\n",
       "      <th>NumOfProducts</th>\n",
       "      <td>0</td>\n",
       "      <td>0</td>\n",
       "      <td>[1, 3, 2, 4]</td>\n",
       "    </tr>\n",
       "    <tr>\n",
       "      <th>HasCrCard</th>\n",
       "      <td>0</td>\n",
       "      <td>0</td>\n",
       "      <td>[1, 0]</td>\n",
       "    </tr>\n",
       "    <tr>\n",
       "      <th>IsActiveMember</th>\n",
       "      <td>0</td>\n",
       "      <td>0</td>\n",
       "      <td>[1, 0]</td>\n",
       "    </tr>\n",
       "    <tr>\n",
       "      <th>EstimatedSalary</th>\n",
       "      <td>0</td>\n",
       "      <td>0</td>\n",
       "      <td>[101348.88, 112542.58, 113931.57, 93826.63, 79...</td>\n",
       "    </tr>\n",
       "    <tr>\n",
       "      <th>Exited</th>\n",
       "      <td>0</td>\n",
       "      <td>0</td>\n",
       "      <td>[1, 0]</td>\n",
       "    </tr>\n",
       "    <tr>\n",
       "      <th>Loyalty</th>\n",
       "      <td>0</td>\n",
       "      <td>0</td>\n",
       "      <td>[0.0476190476190476, 0.024390243902439, 0.1904...</td>\n",
       "    </tr>\n",
       "    <tr>\n",
       "      <th>Geography_Germany</th>\n",
       "      <td>0</td>\n",
       "      <td>0</td>\n",
       "      <td>[0, 1]</td>\n",
       "    </tr>\n",
       "    <tr>\n",
       "      <th>Geography_Spain</th>\n",
       "      <td>0</td>\n",
       "      <td>0</td>\n",
       "      <td>[0, 1]</td>\n",
       "    </tr>\n",
       "  </tbody>\n",
       "</table>\n",
       "</div>"
      ],
      "text/plain": [
       "                   nulls  invalids  \\\n",
       "CreditScore            0         0   \n",
       "Age                    0         0   \n",
       "Tenure                 0         0   \n",
       "Balance                0         0   \n",
       "NumOfProducts          0         0   \n",
       "HasCrCard              0         0   \n",
       "IsActiveMember         0         0   \n",
       "EstimatedSalary        0         0   \n",
       "Exited                 0         0   \n",
       "Loyalty                0         0   \n",
       "Geography_Germany      0         0   \n",
       "Geography_Spain        0         0   \n",
       "\n",
       "                                                         unique_item  \n",
       "CreditScore        [619, 608, 502, 699, 850, 645, 822, 376, 501, ...  \n",
       "Age                [42, 41, 39, 43, 44, 50, 29, 27, 31, 24, 34, 2...  \n",
       "Tenure                            [2, 1, 8, 7, 4, 6, 3, 10, 5, 9, 0]  \n",
       "Balance            [0.0, 83807.86, 159660.8, 125510.82, 113755.78...  \n",
       "NumOfProducts                                           [1, 3, 2, 4]  \n",
       "HasCrCard                                                     [1, 0]  \n",
       "IsActiveMember                                                [1, 0]  \n",
       "EstimatedSalary    [101348.88, 112542.58, 113931.57, 93826.63, 79...  \n",
       "Exited                                                        [1, 0]  \n",
       "Loyalty            [0.0476190476190476, 0.024390243902439, 0.1904...  \n",
       "Geography_Germany                                             [0, 1]  \n",
       "Geography_Spain                                               [0, 1]  "
      ]
     },
     "execution_count": 32,
     "metadata": {},
     "output_type": "execute_result"
    }
   ],
   "source": [
    "eda.get_invalid_values(df)"
   ]
  },
  {
   "cell_type": "markdown",
   "id": "405bb7bf-db59-4d1b-b037-45331ccb4c56",
   "metadata": {},
   "source": [
    "## Note\n",
    "Data has been cleanned previously.\n",
    "\n",
    "Lets look at the manual"
   ]
  },
  {
   "cell_type": "code",
   "execution_count": 44,
   "id": "5b592562-1098-4218-ab58-7bba6a70759b",
   "metadata": {},
   "outputs": [],
   "source": [
    "#help(NB.GaussianNB)"
   ]
  },
  {
   "cell_type": "code",
   "execution_count": 39,
   "id": "90407bf8-ca6c-45b2-a433-b727a771b6d3",
   "metadata": {},
   "outputs": [
    {
     "name": "stdout",
     "output_type": "stream",
     "text": [
      "VALUE COUNTS\n",
      "0    7963\n",
      "1    2037\n",
      "Name: Exited, dtype: int64\n",
      "0    79.63\n",
      "1    20.37\n",
      "Name: Exited, dtype: float64\n"
     ]
    },
    {
     "data": {
      "image/png": "[encoded data removed]",
      "text/plain": [
       "<Figure size 640x480 with 1 Axes>"
      ]
     },
     "metadata": {},
     "output_type": "display_data"
    }
   ],
   "source": [
    "## Observing target distribution\n",
    "## \n",
    "sns.countplot(data=df, x='Exited');\n",
    "print('VALUE COUNTS')\n",
    "print(df['Exited'].value_counts())\n",
    "print(df['Exited'].value_counts(normalize=True)*100)\n",
    "sns.countplot(x=df['Exited']);"
   ]
  },
  {
   "cell_type": "markdown",
   "id": "9a62b332-31f5-4aa6-b4ac-93ce713433e6",
   "metadata": {},
   "source": [
    "## Drop dependent variables\n",
    "\n",
    "Remember that Naive Bayes models operate best when there's conditional independence between the predictor variables. When we prepared our data, we engineered a feature called `Loyalty` by dividing `Tenure` by `Age`. Because this new feature is just the quotient of two existing variables, it's no longer conditionally independent. Therefore, we'll drop `Tenure` and `Age` to help adhere to the assumptions of our model."
   ]
  },
  {
   "cell_type": "code",
   "execution_count": 40,
   "id": "7f49da02-abea-47d8-8b17-dd1cc16ee672",
   "metadata": {},
   "outputs": [],
   "source": [
    "df.drop(['Tenure', 'Age'], axis=1, inplace=True)"
   ]
  },
  {
   "cell_type": "code",
   "execution_count": 42,
   "id": "5391711c-05eb-478a-b98f-34decdfbcd03",
   "metadata": {},
   "outputs": [],
   "source": [
    "# Define the y (target) variable\n",
    "y = df['Exited']\n",
    "\n",
    "# Define the X (predictor) variables\n",
    "X = df.copy()\n",
    "X = X.drop('Exited', axis=1)\n",
    "\n",
    "# Split into train and test sets\n",
    "X_train, X_test, y_train, y_test = train_test_split(X, y, test_size=0.25, \\\n",
    "                                                    stratify=y, random_state=42)"
   ]
  },
  {
   "cell_type": "markdown",
   "id": "daff1881-37c3-46e2-ad1e-3c618d664a18",
   "metadata": {},
   "source": [
    "## 1. Not Scaled"
   ]
  },
  {
   "cell_type": "code",
   "execution_count": 47,
   "id": "600ba2ed-eba5-4dde-a085-8048fb96e823",
   "metadata": {},
   "outputs": [],
   "source": [
    "## here there is no scalling, notice the preformances and compare later to scaled data.\n",
    "# Fit the model\n",
    "gnb1 = GaussianNB()\n",
    "gnb1.fit(X_train, y_train)\n",
    "\n",
    "# Get the predictions on test data\n",
    "y_preds1 = gnb1.predict(X_test)"
   ]
  },
  {
   "cell_type": "code",
   "execution_count": 48,
   "id": "85a67043-4bab-458e-b3c6-1209f603f0c6",
   "metadata": {},
   "outputs": [
    {
     "name": "stdout",
     "output_type": "stream",
     "text": [
      "Accuracy: 0.796\n",
      "Precision: 0.000\n",
      "Recall: 0.000\n",
      "F1 Score: 0.000\n"
     ]
    },
    {
     "name": "stderr",
     "output_type": "stream",
     "text": [
      "/home/gato/anaconda3/lib/python3.9/site-packages/sklearn/metrics/_classification.py:1318: UndefinedMetricWarning: Precision is ill-defined and being set to 0.0 due to no predicted samples. Use `zero_division` parameter to control this behavior.\n",
      "  _warn_prf(average, modifier, msg_start, len(result))\n"
     ]
    }
   ],
   "source": [
    "print('Accuracy:', '%.3f' % accuracy_score(y_test, y_preds1))\n",
    "print('Precision:', '%.3f' % precision_score(y_test, y_preds1))\n",
    "print('Recall:', '%.3f' % recall_score(y_test, y_preds1))\n",
    "print('F1 Score:', '%.3f' % f1_score(y_test, y_preds1))"
   ]
  },
  {
   "cell_type": "markdown",
   "id": "58558dc6-e380-4fd5-9e76-63b1352ca12c",
   "metadata": {},
   "source": [
    "The warning \"UndefinedMetricWarning: Precision is ill-defined and being set to 0.0 due to no predicted samples\" means that precision is being set to 0.0 in labels with no predicted samples. You can use the zero_division parameter to control this behavior.\n",
    "\n",
    "Something that stands out is that the `Loyalty` variable we created is on a vastly different scale than some of the other variables we have, such as `Balance` or `EstimatedSalary`. The maximum value of `Loyalty` is 0.56, while the maximum for `Balance` is over 250,000&mdash;almost six orders of magnitude greater."
   ]
  },
  {
   "cell_type": "code",
   "execution_count": 59,
   "id": "51b0ada0-1d7c-4b9d-a760-0d4ac9c49e7a",
   "metadata": {},
   "outputs": [
    {
     "data": {
      "text/html": [
       "<div>\n",
       "<style scoped>\n",
       "    .dataframe tbody tr th:only-of-type {\n",
       "        vertical-align: middle;\n",
       "    }\n",
       "\n",
       "    .dataframe tbody tr th {\n",
       "        vertical-align: top;\n",
       "    }\n",
       "\n",
       "    .dataframe thead th {\n",
       "        text-align: right;\n",
       "    }\n",
       "</style>\n",
       "<table border=\"1\" class=\"dataframe\">\n",
       "  <thead>\n",
       "    <tr style=\"text-align: right;\">\n",
       "      <th></th>\n",
       "      <th>CreditScore</th>\n",
       "      <th>Balance</th>\n",
       "      <th>NumOfProducts</th>\n",
       "      <th>HasCrCard</th>\n",
       "      <th>IsActiveMember</th>\n",
       "      <th>EstimatedSalary</th>\n",
       "      <th>Loyalty</th>\n",
       "      <th>Geography_Germany</th>\n",
       "      <th>Geography_Spain</th>\n",
       "    </tr>\n",
       "  </thead>\n",
       "  <tbody>\n",
       "    <tr>\n",
       "      <th>count</th>\n",
       "      <td>10000.000000</td>\n",
       "      <td>10000.000000</td>\n",
       "      <td>10000.000000</td>\n",
       "      <td>10000.00000</td>\n",
       "      <td>10000.000000</td>\n",
       "      <td>10000.000000</td>\n",
       "      <td>10000.000000</td>\n",
       "      <td>10000.000000</td>\n",
       "      <td>10000.000000</td>\n",
       "    </tr>\n",
       "    <tr>\n",
       "      <th>mean</th>\n",
       "      <td>650.528800</td>\n",
       "      <td>76485.889288</td>\n",
       "      <td>1.530200</td>\n",
       "      <td>0.70550</td>\n",
       "      <td>0.515100</td>\n",
       "      <td>100090.239881</td>\n",
       "      <td>0.137936</td>\n",
       "      <td>0.250900</td>\n",
       "      <td>0.247700</td>\n",
       "    </tr>\n",
       "    <tr>\n",
       "      <th>std</th>\n",
       "      <td>96.653299</td>\n",
       "      <td>62397.405202</td>\n",
       "      <td>0.581654</td>\n",
       "      <td>0.45584</td>\n",
       "      <td>0.499797</td>\n",
       "      <td>57510.492818</td>\n",
       "      <td>0.089506</td>\n",
       "      <td>0.433553</td>\n",
       "      <td>0.431698</td>\n",
       "    </tr>\n",
       "    <tr>\n",
       "      <th>min</th>\n",
       "      <td>350.000000</td>\n",
       "      <td>0.000000</td>\n",
       "      <td>1.000000</td>\n",
       "      <td>0.00000</td>\n",
       "      <td>0.000000</td>\n",
       "      <td>11.580000</td>\n",
       "      <td>0.000000</td>\n",
       "      <td>0.000000</td>\n",
       "      <td>0.000000</td>\n",
       "    </tr>\n",
       "    <tr>\n",
       "      <th>25%</th>\n",
       "      <td>584.000000</td>\n",
       "      <td>0.000000</td>\n",
       "      <td>1.000000</td>\n",
       "      <td>0.00000</td>\n",
       "      <td>0.000000</td>\n",
       "      <td>51002.110000</td>\n",
       "      <td>0.064516</td>\n",
       "      <td>0.000000</td>\n",
       "      <td>0.000000</td>\n",
       "    </tr>\n",
       "    <tr>\n",
       "      <th>50%</th>\n",
       "      <td>652.000000</td>\n",
       "      <td>97198.540000</td>\n",
       "      <td>1.000000</td>\n",
       "      <td>1.00000</td>\n",
       "      <td>1.000000</td>\n",
       "      <td>100193.915000</td>\n",
       "      <td>0.129032</td>\n",
       "      <td>0.000000</td>\n",
       "      <td>0.000000</td>\n",
       "    </tr>\n",
       "    <tr>\n",
       "      <th>75%</th>\n",
       "      <td>718.000000</td>\n",
       "      <td>127644.240000</td>\n",
       "      <td>2.000000</td>\n",
       "      <td>1.00000</td>\n",
       "      <td>1.000000</td>\n",
       "      <td>149388.247500</td>\n",
       "      <td>0.200000</td>\n",
       "      <td>1.000000</td>\n",
       "      <td>0.000000</td>\n",
       "    </tr>\n",
       "    <tr>\n",
       "      <th>max</th>\n",
       "      <td>850.000000</td>\n",
       "      <td>250898.090000</td>\n",
       "      <td>4.000000</td>\n",
       "      <td>1.00000</td>\n",
       "      <td>1.000000</td>\n",
       "      <td>199992.480000</td>\n",
       "      <td>0.555556</td>\n",
       "      <td>1.000000</td>\n",
       "      <td>1.000000</td>\n",
       "    </tr>\n",
       "  </tbody>\n",
       "</table>\n",
       "</div>"
      ],
      "text/plain": [
       "        CreditScore        Balance  NumOfProducts    HasCrCard  \\\n",
       "count  10000.000000   10000.000000   10000.000000  10000.00000   \n",
       "mean     650.528800   76485.889288       1.530200      0.70550   \n",
       "std       96.653299   62397.405202       0.581654      0.45584   \n",
       "min      350.000000       0.000000       1.000000      0.00000   \n",
       "25%      584.000000       0.000000       1.000000      0.00000   \n",
       "50%      652.000000   97198.540000       1.000000      1.00000   \n",
       "75%      718.000000  127644.240000       2.000000      1.00000   \n",
       "max      850.000000  250898.090000       4.000000      1.00000   \n",
       "\n",
       "       IsActiveMember  EstimatedSalary       Loyalty  Geography_Germany  \\\n",
       "count    10000.000000     10000.000000  10000.000000       10000.000000   \n",
       "mean         0.515100    100090.239881      0.137936           0.250900   \n",
       "std          0.499797     57510.492818      0.089506           0.433553   \n",
       "min          0.000000        11.580000      0.000000           0.000000   \n",
       "25%          0.000000     51002.110000      0.064516           0.000000   \n",
       "50%          1.000000    100193.915000      0.129032           0.000000   \n",
       "75%          1.000000    149388.247500      0.200000           1.000000   \n",
       "max          1.000000    199992.480000      0.555556           1.000000   \n",
       "\n",
       "       Geography_Spain  \n",
       "count     10000.000000  \n",
       "mean          0.247700  \n",
       "std           0.431698  \n",
       "min           0.000000  \n",
       "25%           0.000000  \n",
       "50%           0.000000  \n",
       "75%           0.000000  \n",
       "max           1.000000  "
      ]
     },
     "execution_count": 59,
     "metadata": {},
     "output_type": "execute_result"
    }
   ],
   "source": [
    "## Scales are !=\n",
    "X.describe()"
   ]
  },
  {
   "cell_type": "code",
   "execution_count": 49,
   "id": "d79c77e9-c87e-4e64-bdab-e167e011de99",
   "metadata": {},
   "outputs": [
    {
     "data": {
      "text/plain": [
       "array([0])"
      ]
     },
     "execution_count": 49,
     "metadata": {},
     "output_type": "execute_result"
    }
   ],
   "source": [
    "## The model predicts all \n",
    "np.unique(y_preds1)"
   ]
  },
  {
   "cell_type": "markdown",
   "id": "192c976e-a34f-44c1-bba0-82a1858834fc",
   "metadata": {},
   "source": [
    "## 2. Scaled data\n",
    "\n",
    "Some models require you to scale the data in order for them to operate as expected, others don't. Naive Bayes does not require data scaling. However, sometimes packages and libraries need to make assumptions and approximations in their calculations. \n",
    "\n",
    "We're already breaking some of these assumptions by using the `GaussianNB` classifier on this dataset, and it may not be helping that some of our predictor variables are on very different scales. \n",
    "\n",
    "In general, scaling might not improve the model, but it probably won't make it worse. Let's try scaling our data. \n",
    "\n",
    "- `MinMaxScaler` normalizes each column so every value falls in the range of [0, 1]. The column's maximum value would scale to 1, and its minimum value would scale to 0. Everything else would fall somewhere between. This is the formula:\n",
    "\n",
    "$${x_{scaled}} = \\frac{x - x_{min}}{x_{max} - x_{min}}$$ \n",
    "\n"
   ]
  },
  {
   "cell_type": "code",
   "execution_count": 51,
   "id": "43232165-10a6-42fc-8a6a-c725a09dbafb",
   "metadata": {},
   "outputs": [],
   "source": [
    "# Instantiate the scaler\n",
    "scaler = MinMaxScaler()\n",
    "\n",
    "# Fit the scaler to the training data\n",
    "scaler.fit(X_train)\n",
    "\n",
    "# Scale the training data\n",
    "X_train = scaler.transform(X_train)\n",
    "\n",
    "# Scale the test data\n",
    "X_test = scaler.transform(X_test)"
   ]
  },
  {
   "cell_type": "code",
   "execution_count": 52,
   "id": "544912d4-bac3-45f2-9cb7-004c86976ff5",
   "metadata": {},
   "outputs": [],
   "source": [
    "# Fit the model\n",
    "gnb_scaled = GaussianNB()\n",
    "gnb_scaled.fit(X_train, y_train)\n",
    "\n",
    "# Get the predictions on test data\n",
    "scaled_preds = gnb_scaled.predict(X_test)"
   ]
  },
  {
   "cell_type": "code",
   "execution_count": 53,
   "id": "778ea3cf-69f3-40c5-bdc9-a0c8700b7a5b",
   "metadata": {},
   "outputs": [
    {
     "name": "stdout",
     "output_type": "stream",
     "text": [
      "Accuracy: 0.806\n",
      "Precision: 0.544\n",
      "Recall: 0.303\n",
      "F1 Score: 0.389\n"
     ]
    }
   ],
   "source": [
    "print('Accuracy:', '%.3f' % accuracy_score(y_test, scaled_preds))\n",
    "print('Precision:', '%.3f' % precision_score(y_test,scaled_preds))\n",
    "print('Recall:', '%.3f' % recall_score(y_test, scaled_preds))\n",
    "print('F1 Score:', '%.3f' % f1_score(y_test, scaled_preds))"
   ]
  },
  {
   "cell_type": "code",
   "execution_count": 55,
   "id": "02270a25-0c51-4d5e-a20f-1e5cb0d36b06",
   "metadata": {},
   "outputs": [
    {
     "data": {
      "image/png": "[encoded data removed]",
      "text/plain": [
       "<Figure size 640x480 with 2 Axes>"
      ]
     },
     "metadata": {},
     "output_type": "display_data"
    }
   ],
   "source": [
    "conf_matrix_plot(gnb_scaled, X_test, y_test)"
   ]
  },
  {
   "cell_type": "code",
   "execution_count": null,
   "id": "e6a4532b-f8f2-4d8a-9942-b2da6d49c816",
   "metadata": {},
   "outputs": [],
   "source": []
  }
 ],
 "metadata": {
  "kernelspec": {
   "display_name": "Python 3 (ipykernel)",
   "language": "python",
   "name": "python3"
  },
  "language_info": {
   "codemirror_mode": {
    "name": "ipython",
    "version": 3
   },
   "file_extension": ".py",
   "mimetype": "text/x-python",
   "name": "python",
   "nbconvert_exporter": "python",
   "pygments_lexer": "ipython3",
   "version": "3.9.13"
  }
 },
 "nbformat": 4,
 "nbformat_minor": 5
}
