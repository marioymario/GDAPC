{
 "cells": [
  {
   "cell_type": "code",
   "execution_count": 1,
   "id": "8e20d977-4e46-40b7-9f44-fb6d3984d0f9",
   "metadata": {},
   "outputs": [],
   "source": [
    "import exploratory_data_analysis.eda_functions as eda\n",
    "import numpy as np\n",
    "import pandas as pd\n",
    "import matplotlib.pyplot as plt\n",
    "import seaborn as sns\n",
    "\n",
    "from sklearn.model_selection import train_test_split\n",
    "import sklearn.naive_bayes as NB\n",
    "\n",
    "## Scaler function\n",
    "## A good idea when modeling, is to scaling your predictor variables (most of the time)\n",
    "from sklearn.preprocessing import MinMaxScaler\n",
    "\n",
    "## metrics\n",
    "from sklearn.metrics import recall_score, precision_score, f1_score, accuracy_score\n",
    "from sklearn.metrics import confusion_matrix, ConfusionMatrixDisplay"
   ]
  },
  {
   "cell_type": "code",
   "execution_count": 2,
   "id": "53b5ceb4-3d8f-4e79-a395-2cfd76f30f25",
   "metadata": {},
   "outputs": [],
   "source": [
    "def conf_matrix_plot(model, x_data, y_data):\n",
    "    '''\n",
    "    Accepts as argument model object, X data (test or validate), and y data (test or validate). \n",
    "    Return a plot of confusion matrix for predictions on y data.\n",
    "    ''' \n",
    "  \n",
    "    model_pred = model.predict(x_data)\n",
    "    cm = confusion_matrix(y_data, model_pred, labels=model.classes_)\n",
    "    disp = ConfusionMatrixDisplay(confusion_matrix=cm,\n",
    "                                  display_labels=model.classes_,\n",
    "                                 )\n",
    "  \n",
    "    disp.plot(values_format='') # `values_format=''` suppresses scientific notation\n",
    "    plt.show()"
   ]
  },
  {
   "cell_type": "code",
   "execution_count": 5,
   "id": "1da30706-fb13-409b-b98c-b97a7c01c46c",
   "metadata": {},
   "outputs": [],
   "source": [
    "loc = '/home/gato/Scripts/DS/MachineLearning/data/churnModeling.csv'\n",
    "df = pd.read_csv(loc)\n",
    "df.drop(['Tenure', 'Age'], axis=1, inplace=True)\n",
    "df1 = eda.upsample_minority_class(df, 'Exited')"
   ]
  },
  {
   "cell_type": "code",
   "execution_count": 6,
   "id": "e5ae98f8-c2c4-47c1-811a-1770ee457c31",
   "metadata": {},
   "outputs": [
    {
     "name": "stdout",
     "output_type": "stream",
     "text": [
      "<class 'pandas.core.frame.DataFrame'>\n",
      "RangeIndex: 4074 entries, 0 to 4073\n",
      "Data columns (total 10 columns):\n",
      " #   Column             Non-Null Count  Dtype  \n",
      "---  ------             --------------  -----  \n",
      " 0   CreditScore        4074 non-null   int64  \n",
      " 1   Balance            4074 non-null   float64\n",
      " 2   NumOfProducts      4074 non-null   int64  \n",
      " 3   HasCrCard          4074 non-null   int64  \n",
      " 4   IsActiveMember     4074 non-null   int64  \n",
      " 5   EstimatedSalary    4074 non-null   float64\n",
      " 6   Exited             4074 non-null   int64  \n",
      " 7   Loyalty            4074 non-null   float64\n",
      " 8   Geography_Germany  4074 non-null   int64  \n",
      " 9   Geography_Spain    4074 non-null   int64  \n",
      "dtypes: float64(3), int64(7)\n",
      "memory usage: 318.4 KB\n"
     ]
    }
   ],
   "source": [
    "df1.info()"
   ]
  },
  {
   "cell_type": "code",
   "execution_count": 8,
   "id": "8bc33ecb-03fc-4064-9ecc-abe4e5d61030",
   "metadata": {},
   "outputs": [
    {
     "name": "stdout",
     "output_type": "stream",
     "text": [
      "VALUE COUNTS\n",
      "1    2037\n",
      "0    2037\n",
      "Name: Exited, dtype: int64\n",
      "1    50.0\n",
      "0    50.0\n",
      "Name: Exited, dtype: float64\n"
     ]
    },
    {
     "data": {
      "image/png": "[encoded data removed]",
      "text/plain": [
       "<Figure size 640x480 with 1 Axes>"
      ]
     },
     "metadata": {},
     "output_type": "display_data"
    }
   ],
   "source": [
    "## Observing target distribution\n",
    "## \n",
    "sns.countplot(data=df1, x='Exited');\n",
    "print('VALUE COUNTS')\n",
    "print(df1['Exited'].value_counts())\n",
    "print(df1['Exited'].value_counts(normalize=True)*100)\n",
    "sns.countplot(x=df1['Exited']);"
   ]
  },
  {
   "cell_type": "code",
   "execution_count": 22,
   "id": "e6df4927-75b9-414a-8468-ca1ad0e6b7d4",
   "metadata": {},
   "outputs": [
    {
     "name": "stdout",
     "output_type": "stream",
     "text": [
      "(3259, 9) (815, 9) (3259,) (815,)\n"
     ]
    }
   ],
   "source": [
    "## Define the y (target) variable\n",
    "y = df1['Exited']\n",
    "\n",
    "# Define the X (predictor) variables\n",
    "X = df1.copy()\n",
    "X = X.drop('Exited', axis=1)\n",
    "\n",
    "## Split into train and test sets\n",
    "X_train, X_test, y_train, y_test = train_test_split(X, y, test_size=0.20, \\\n",
    "                                                    stratify=y, random_state=42)\n",
    "print(X_train.shape, X_test.shape, y_train.shape, y_test.shape)"
   ]
  },
  {
   "cell_type": "code",
   "execution_count": 23,
   "id": "51141290-2a5d-4ae6-aecd-6504a48529fd",
   "metadata": {},
   "outputs": [],
   "source": [
    "## Scaling, Fit the scaler to the training data\n",
    "scaler = MinMaxScaler()\n",
    "scaler.fit(X_train)\n",
    "\n",
    "## Scale the training data\n",
    "X_train = scaler.transform(X_train)\n",
    "\n",
    "## Scale the test data\n",
    "X_test = scaler.transform(X_test)"
   ]
  },
  {
   "cell_type": "code",
   "execution_count": 24,
   "id": "83f3ab53-b349-4b5a-a027-51a702b6757a",
   "metadata": {},
   "outputs": [],
   "source": [
    "# Fit the model\n",
    "gnb_scaled = NB.GaussianNB()\n",
    "gnb_scaled.fit(X_train, y_train)\n",
    "\n",
    "# Get the predictions on test data\n",
    "scaled_preds = gnb_scaled.predict(X_test)"
   ]
  },
  {
   "cell_type": "code",
   "execution_count": 25,
   "id": "7f430ab0-60ad-4708-805b-cda602176f45",
   "metadata": {},
   "outputs": [
    {
     "name": "stdout",
     "output_type": "stream",
     "text": [
      "Accuracy: 0.680\n",
      "Precision: 0.684\n",
      "Recall: 0.666\n",
      "F1 Score: 0.675\n"
     ]
    }
   ],
   "source": [
    "print('Accuracy:', '%.3f' % accuracy_score(y_test, scaled_preds))\n",
    "print('Precision:', '%.3f' % precision_score(y_test,scaled_preds))\n",
    "print('Recall:', '%.3f' % recall_score(y_test, scaled_preds))\n",
    "print('F1 Score:', '%.3f' % f1_score(y_test, scaled_preds))"
   ]
  },
  {
   "cell_type": "code",
   "execution_count": 26,
   "id": "4182cd94-c58f-4251-aa69-6eeec5ad47df",
   "metadata": {},
   "outputs": [
    {
     "data": {
      "image/png": "[encoded data removed]",
      "text/plain": [
       "<Figure size 640x480 with 2 Axes>"
      ]
     },
     "metadata": {},
     "output_type": "display_data"
    }
   ],
   "source": [
    "conf_matrix_plot(gnb_scaled, X_test, y_test)"
   ]
  },
  {
   "cell_type": "code",
   "execution_count": null,
   "id": "4e336672-8ed0-4f91-ba83-ab2e332b5cf7",
   "metadata": {},
   "outputs": [],
   "source": []
  }
 ],
 "metadata": {
  "kernelspec": {
   "display_name": "Python 3 (ipykernel)",
   "language": "python",
   "name": "python3"
  },
  "language_info": {
   "codemirror_mode": {
    "name": "ipython",
    "version": 3
   },
   "file_extension": ".py",
   "mimetype": "text/x-python",
   "name": "python",
   "nbconvert_exporter": "python",
   "pygments_lexer": "ipython3",
   "version": "3.9.13"
  }
 },
 "nbformat": 4,
 "nbformat_minor": 5
}
