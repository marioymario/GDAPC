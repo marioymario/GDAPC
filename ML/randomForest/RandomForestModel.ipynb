{
 "cells": [
  {
   "cell_type": "markdown",
   "id": "5fe55adf",
   "metadata": {
    "id": "700acefd-8120-42a9-a650-c610467e2a4c"
   },
   "source": [
    "# Activity: Build a random forest model"
   ]
  },
  {
   "cell_type": "markdown",
   "id": "c97d0c60",
   "metadata": {
    "id": "167f3ab7"
   },
   "source": [
    "## **Introduction**\n",
    "\n",
    "\n",
    "As you're learning, random forests are popular statistical learning algorithms. Some of their primary benefits include reducing variance, bias, and the chance of overfitting.\n",
    "\n",
    "This activity is a continuation of the project you began modeling with decision trees for an airline. Here, you will train, tune, and evaluate a random forest model using data from spreadsheet of survey responses from 129,880 customers. It includes data points such as class, flight distance, and inflight entertainment. Your random forest model will be used to predict whether a customer will be satisfied with their flight experience.\n",
    "\n",
    "**Note:** Because this lab uses a real dataset, this notebook first requires exploratory data analysis, data cleaning, and other manipulations to prepare it for modeling."
   ]
  },
  {
   "cell_type": "markdown",
   "id": "9c1f15f6",
   "metadata": {
    "id": "b42252b9-b980-4ee0-8cfd-82f4239b6d1a"
   },
   "source": [
    "## **Step 1: Imports** \n"
   ]
  },
  {
   "cell_type": "markdown",
   "id": "fa94e451",
   "metadata": {
    "id": "jwVaqXCywHpx"
   },
   "source": [
    "Import relevant Python libraries and modules, including `numpy` and `pandas`libraries for data processing; the `pickle` package to save the model; and the `sklearn` library, containing:\n",
    "- The module `ensemble`, which has the function `RandomForestClassifier`\n",
    "- The module `model_selection`, which has the functions `train_test_split`, `PredefinedSplit`, and `GridSearchCV` \n",
    "- The module `metrics`, which has the functions `f1_score`, `precision_score`, `recall_score`, and `accuracy_score`\n"
   ]
  },
  {
   "cell_type": "code",
   "execution_count": 53,
   "id": "3ae30ed7",
   "metadata": {
    "id": "ebc64d8b"
   },
   "outputs": [],
   "source": [
    "# Import `numpy`, `pandas`, `pickle`, and `sklearn`.\n",
    "# Import the relevant functions from `sklearn.ensemble`, `sklearn.model_selection`, and `sklearn.metrics`.\n",
    "\n",
    "### YOUR CODE HERE ###\n",
    "\n",
    "## Import\n",
    "import pandas as pd\n",
    "import numpy as np\n",
    "\n",
    "import matplotlib.pyplot as plt\n",
    "import seaborn as sns\n",
    "\n",
    "pd.set_option('display.max_columns', None)\n",
    "\n",
    "from sklearn.ensemble import RandomForestClassifier\n",
    "from sklearn.model_selection import GridSearchCV, train_test_split, PredefinedSplit\n",
    "from sklearn.preprocessing import OneHotEncoder, LabelEncoder\n",
    "from sklearn.metrics import precision_score, recall_score, f1_score, accuracy_score\n",
    "from sklearn.metrics import confusion_matrix, ConfusionMatrixDisplay, classification_report"
   ]
  },
  {
   "cell_type": "markdown",
   "id": "3020ba4d",
   "metadata": {
    "id": "B6msd7EKhg3X"
   },
   "source": [
    "As shown in this cell, the dataset has been automatically loaded in for you. You do not need to download the .csv file, or provide more code, in order to access the dataset and proceed with this lab. Please continue with this activity by completing the following instructions."
   ]
  },
  {
   "cell_type": "code",
   "execution_count": 15,
   "id": "e0a9eafb",
   "metadata": {
    "id": "ZvRXUsRChmtg"
   },
   "outputs": [],
   "source": [
    "# RUN THIS CELL TO IMPORT YOUR DATA. \n",
    "\n",
    "### YOUR CODE HERE ###\n",
    "\n",
    "air_data = pd.read_csv(\"Invistico_Airline.csv\")"
   ]
  },
  {
   "cell_type": "markdown",
   "id": "2e983f88",
   "metadata": {
    "id": "kRC0c_6M3ruN"
   },
   "source": [
    "<details>\n",
    "  <summary><h4><strong>Hint 1</strong></h4></summary>\n",
    "\n",
    "The `read_csv()` function from the `pandas` library can be helpful here.\n",
    " \n",
    "</details>"
   ]
  },
  {
   "cell_type": "markdown",
   "id": "0a43ff6e",
   "metadata": {
    "id": "pUvhnNqmvnXP"
   },
   "source": [
    "Now, you're ready to begin cleaning your data. "
   ]
  },
  {
   "cell_type": "markdown",
   "id": "0e169dd6",
   "metadata": {
    "id": "7ac7573d"
   },
   "source": [
    "## **Step 2: Data cleaning** "
   ]
  },
  {
   "cell_type": "markdown",
   "id": "79979444",
   "metadata": {
    "id": "555658e4"
   },
   "source": [
    "To get a sense of the data, display the first 10 rows."
   ]
  },
  {
   "cell_type": "code",
   "execution_count": 16,
   "id": "a2931d50",
   "metadata": {
    "id": "cda01022"
   },
   "outputs": [
    {
     "data": {
      "text/html": [
       "<div>\n",
       "<style scoped>\n",
       "    .dataframe tbody tr th:only-of-type {\n",
       "        vertical-align: middle;\n",
       "    }\n",
       "\n",
       "    .dataframe tbody tr th {\n",
       "        vertical-align: top;\n",
       "    }\n",
       "\n",
       "    .dataframe thead th {\n",
       "        text-align: right;\n",
       "    }\n",
       "</style>\n",
       "<table border=\"1\" class=\"dataframe\">\n",
       "  <thead>\n",
       "    <tr style=\"text-align: right;\">\n",
       "      <th></th>\n",
       "      <th>satisfaction</th>\n",
       "      <th>Customer Type</th>\n",
       "      <th>Age</th>\n",
       "      <th>Type of Travel</th>\n",
       "      <th>Class</th>\n",
       "      <th>Flight Distance</th>\n",
       "      <th>Seat comfort</th>\n",
       "      <th>Departure/Arrival time convenient</th>\n",
       "      <th>Food and drink</th>\n",
       "      <th>Gate location</th>\n",
       "      <th>Inflight wifi service</th>\n",
       "      <th>Inflight entertainment</th>\n",
       "      <th>Online support</th>\n",
       "      <th>Ease of Online booking</th>\n",
       "      <th>On-board service</th>\n",
       "      <th>Leg room service</th>\n",
       "      <th>Baggage handling</th>\n",
       "      <th>Checkin service</th>\n",
       "      <th>Cleanliness</th>\n",
       "      <th>Online boarding</th>\n",
       "      <th>Departure Delay in Minutes</th>\n",
       "      <th>Arrival Delay in Minutes</th>\n",
       "    </tr>\n",
       "  </thead>\n",
       "  <tbody>\n",
       "    <tr>\n",
       "      <th>0</th>\n",
       "      <td>satisfied</td>\n",
       "      <td>Loyal Customer</td>\n",
       "      <td>65</td>\n",
       "      <td>Personal Travel</td>\n",
       "      <td>Eco</td>\n",
       "      <td>265</td>\n",
       "      <td>0</td>\n",
       "      <td>0</td>\n",
       "      <td>0</td>\n",
       "      <td>2</td>\n",
       "      <td>2</td>\n",
       "      <td>4</td>\n",
       "      <td>2</td>\n",
       "      <td>3</td>\n",
       "      <td>3</td>\n",
       "      <td>0</td>\n",
       "      <td>3</td>\n",
       "      <td>5</td>\n",
       "      <td>3</td>\n",
       "      <td>2</td>\n",
       "      <td>0</td>\n",
       "      <td>0.0</td>\n",
       "    </tr>\n",
       "    <tr>\n",
       "      <th>1</th>\n",
       "      <td>satisfied</td>\n",
       "      <td>Loyal Customer</td>\n",
       "      <td>47</td>\n",
       "      <td>Personal Travel</td>\n",
       "      <td>Business</td>\n",
       "      <td>2464</td>\n",
       "      <td>0</td>\n",
       "      <td>0</td>\n",
       "      <td>0</td>\n",
       "      <td>3</td>\n",
       "      <td>0</td>\n",
       "      <td>2</td>\n",
       "      <td>2</td>\n",
       "      <td>3</td>\n",
       "      <td>4</td>\n",
       "      <td>4</td>\n",
       "      <td>4</td>\n",
       "      <td>2</td>\n",
       "      <td>3</td>\n",
       "      <td>2</td>\n",
       "      <td>310</td>\n",
       "      <td>305.0</td>\n",
       "    </tr>\n",
       "    <tr>\n",
       "      <th>2</th>\n",
       "      <td>satisfied</td>\n",
       "      <td>Loyal Customer</td>\n",
       "      <td>15</td>\n",
       "      <td>Personal Travel</td>\n",
       "      <td>Eco</td>\n",
       "      <td>2138</td>\n",
       "      <td>0</td>\n",
       "      <td>0</td>\n",
       "      <td>0</td>\n",
       "      <td>3</td>\n",
       "      <td>2</td>\n",
       "      <td>0</td>\n",
       "      <td>2</td>\n",
       "      <td>2</td>\n",
       "      <td>3</td>\n",
       "      <td>3</td>\n",
       "      <td>4</td>\n",
       "      <td>4</td>\n",
       "      <td>4</td>\n",
       "      <td>2</td>\n",
       "      <td>0</td>\n",
       "      <td>0.0</td>\n",
       "    </tr>\n",
       "    <tr>\n",
       "      <th>3</th>\n",
       "      <td>satisfied</td>\n",
       "      <td>Loyal Customer</td>\n",
       "      <td>60</td>\n",
       "      <td>Personal Travel</td>\n",
       "      <td>Eco</td>\n",
       "      <td>623</td>\n",
       "      <td>0</td>\n",
       "      <td>0</td>\n",
       "      <td>0</td>\n",
       "      <td>3</td>\n",
       "      <td>3</td>\n",
       "      <td>4</td>\n",
       "      <td>3</td>\n",
       "      <td>1</td>\n",
       "      <td>1</td>\n",
       "      <td>0</td>\n",
       "      <td>1</td>\n",
       "      <td>4</td>\n",
       "      <td>1</td>\n",
       "      <td>3</td>\n",
       "      <td>0</td>\n",
       "      <td>0.0</td>\n",
       "    </tr>\n",
       "    <tr>\n",
       "      <th>4</th>\n",
       "      <td>satisfied</td>\n",
       "      <td>Loyal Customer</td>\n",
       "      <td>70</td>\n",
       "      <td>Personal Travel</td>\n",
       "      <td>Eco</td>\n",
       "      <td>354</td>\n",
       "      <td>0</td>\n",
       "      <td>0</td>\n",
       "      <td>0</td>\n",
       "      <td>3</td>\n",
       "      <td>4</td>\n",
       "      <td>3</td>\n",
       "      <td>4</td>\n",
       "      <td>2</td>\n",
       "      <td>2</td>\n",
       "      <td>0</td>\n",
       "      <td>2</td>\n",
       "      <td>4</td>\n",
       "      <td>2</td>\n",
       "      <td>5</td>\n",
       "      <td>0</td>\n",
       "      <td>0.0</td>\n",
       "    </tr>\n",
       "    <tr>\n",
       "      <th>5</th>\n",
       "      <td>satisfied</td>\n",
       "      <td>Loyal Customer</td>\n",
       "      <td>30</td>\n",
       "      <td>Personal Travel</td>\n",
       "      <td>Eco</td>\n",
       "      <td>1894</td>\n",
       "      <td>0</td>\n",
       "      <td>0</td>\n",
       "      <td>0</td>\n",
       "      <td>3</td>\n",
       "      <td>2</td>\n",
       "      <td>0</td>\n",
       "      <td>2</td>\n",
       "      <td>2</td>\n",
       "      <td>5</td>\n",
       "      <td>4</td>\n",
       "      <td>5</td>\n",
       "      <td>5</td>\n",
       "      <td>4</td>\n",
       "      <td>2</td>\n",
       "      <td>0</td>\n",
       "      <td>0.0</td>\n",
       "    </tr>\n",
       "    <tr>\n",
       "      <th>6</th>\n",
       "      <td>satisfied</td>\n",
       "      <td>Loyal Customer</td>\n",
       "      <td>66</td>\n",
       "      <td>Personal Travel</td>\n",
       "      <td>Eco</td>\n",
       "      <td>227</td>\n",
       "      <td>0</td>\n",
       "      <td>0</td>\n",
       "      <td>0</td>\n",
       "      <td>3</td>\n",
       "      <td>2</td>\n",
       "      <td>5</td>\n",
       "      <td>5</td>\n",
       "      <td>5</td>\n",
       "      <td>5</td>\n",
       "      <td>0</td>\n",
       "      <td>5</td>\n",
       "      <td>5</td>\n",
       "      <td>5</td>\n",
       "      <td>3</td>\n",
       "      <td>17</td>\n",
       "      <td>15.0</td>\n",
       "    </tr>\n",
       "    <tr>\n",
       "      <th>7</th>\n",
       "      <td>satisfied</td>\n",
       "      <td>Loyal Customer</td>\n",
       "      <td>10</td>\n",
       "      <td>Personal Travel</td>\n",
       "      <td>Eco</td>\n",
       "      <td>1812</td>\n",
       "      <td>0</td>\n",
       "      <td>0</td>\n",
       "      <td>0</td>\n",
       "      <td>3</td>\n",
       "      <td>2</td>\n",
       "      <td>0</td>\n",
       "      <td>2</td>\n",
       "      <td>2</td>\n",
       "      <td>3</td>\n",
       "      <td>3</td>\n",
       "      <td>4</td>\n",
       "      <td>5</td>\n",
       "      <td>4</td>\n",
       "      <td>2</td>\n",
       "      <td>0</td>\n",
       "      <td>0.0</td>\n",
       "    </tr>\n",
       "    <tr>\n",
       "      <th>8</th>\n",
       "      <td>satisfied</td>\n",
       "      <td>Loyal Customer</td>\n",
       "      <td>56</td>\n",
       "      <td>Personal Travel</td>\n",
       "      <td>Business</td>\n",
       "      <td>73</td>\n",
       "      <td>0</td>\n",
       "      <td>0</td>\n",
       "      <td>0</td>\n",
       "      <td>3</td>\n",
       "      <td>5</td>\n",
       "      <td>3</td>\n",
       "      <td>5</td>\n",
       "      <td>4</td>\n",
       "      <td>4</td>\n",
       "      <td>0</td>\n",
       "      <td>1</td>\n",
       "      <td>5</td>\n",
       "      <td>4</td>\n",
       "      <td>4</td>\n",
       "      <td>0</td>\n",
       "      <td>0.0</td>\n",
       "    </tr>\n",
       "    <tr>\n",
       "      <th>9</th>\n",
       "      <td>satisfied</td>\n",
       "      <td>Loyal Customer</td>\n",
       "      <td>22</td>\n",
       "      <td>Personal Travel</td>\n",
       "      <td>Eco</td>\n",
       "      <td>1556</td>\n",
       "      <td>0</td>\n",
       "      <td>0</td>\n",
       "      <td>0</td>\n",
       "      <td>3</td>\n",
       "      <td>2</td>\n",
       "      <td>0</td>\n",
       "      <td>2</td>\n",
       "      <td>2</td>\n",
       "      <td>2</td>\n",
       "      <td>4</td>\n",
       "      <td>5</td>\n",
       "      <td>3</td>\n",
       "      <td>4</td>\n",
       "      <td>2</td>\n",
       "      <td>30</td>\n",
       "      <td>26.0</td>\n",
       "    </tr>\n",
       "  </tbody>\n",
       "</table>\n",
       "</div>"
      ],
      "text/plain": [
       "  satisfaction   Customer Type  Age   Type of Travel     Class  \\\n",
       "0    satisfied  Loyal Customer   65  Personal Travel       Eco   \n",
       "1    satisfied  Loyal Customer   47  Personal Travel  Business   \n",
       "2    satisfied  Loyal Customer   15  Personal Travel       Eco   \n",
       "3    satisfied  Loyal Customer   60  Personal Travel       Eco   \n",
       "4    satisfied  Loyal Customer   70  Personal Travel       Eco   \n",
       "5    satisfied  Loyal Customer   30  Personal Travel       Eco   \n",
       "6    satisfied  Loyal Customer   66  Personal Travel       Eco   \n",
       "7    satisfied  Loyal Customer   10  Personal Travel       Eco   \n",
       "8    satisfied  Loyal Customer   56  Personal Travel  Business   \n",
       "9    satisfied  Loyal Customer   22  Personal Travel       Eco   \n",
       "\n",
       "   Flight Distance  Seat comfort  Departure/Arrival time convenient  \\\n",
       "0              265             0                                  0   \n",
       "1             2464             0                                  0   \n",
       "2             2138             0                                  0   \n",
       "3              623             0                                  0   \n",
       "4              354             0                                  0   \n",
       "5             1894             0                                  0   \n",
       "6              227             0                                  0   \n",
       "7             1812             0                                  0   \n",
       "8               73             0                                  0   \n",
       "9             1556             0                                  0   \n",
       "\n",
       "   Food and drink  Gate location  Inflight wifi service  \\\n",
       "0               0              2                      2   \n",
       "1               0              3                      0   \n",
       "2               0              3                      2   \n",
       "3               0              3                      3   \n",
       "4               0              3                      4   \n",
       "5               0              3                      2   \n",
       "6               0              3                      2   \n",
       "7               0              3                      2   \n",
       "8               0              3                      5   \n",
       "9               0              3                      2   \n",
       "\n",
       "   Inflight entertainment  Online support  Ease of Online booking  \\\n",
       "0                       4               2                       3   \n",
       "1                       2               2                       3   \n",
       "2                       0               2                       2   \n",
       "3                       4               3                       1   \n",
       "4                       3               4                       2   \n",
       "5                       0               2                       2   \n",
       "6                       5               5                       5   \n",
       "7                       0               2                       2   \n",
       "8                       3               5                       4   \n",
       "9                       0               2                       2   \n",
       "\n",
       "   On-board service  Leg room service  Baggage handling  Checkin service  \\\n",
       "0                 3                 0                 3                5   \n",
       "1                 4                 4                 4                2   \n",
       "2                 3                 3                 4                4   \n",
       "3                 1                 0                 1                4   \n",
       "4                 2                 0                 2                4   \n",
       "5                 5                 4                 5                5   \n",
       "6                 5                 0                 5                5   \n",
       "7                 3                 3                 4                5   \n",
       "8                 4                 0                 1                5   \n",
       "9                 2                 4                 5                3   \n",
       "\n",
       "   Cleanliness  Online boarding  Departure Delay in Minutes  \\\n",
       "0            3                2                           0   \n",
       "1            3                2                         310   \n",
       "2            4                2                           0   \n",
       "3            1                3                           0   \n",
       "4            2                5                           0   \n",
       "5            4                2                           0   \n",
       "6            5                3                          17   \n",
       "7            4                2                           0   \n",
       "8            4                4                           0   \n",
       "9            4                2                          30   \n",
       "\n",
       "   Arrival Delay in Minutes  \n",
       "0                       0.0  \n",
       "1                     305.0  \n",
       "2                       0.0  \n",
       "3                       0.0  \n",
       "4                       0.0  \n",
       "5                       0.0  \n",
       "6                      15.0  \n",
       "7                       0.0  \n",
       "8                       0.0  \n",
       "9                      26.0  "
      ]
     },
     "execution_count": 16,
     "metadata": {},
     "output_type": "execute_result"
    }
   ],
   "source": [
    "# Display first 10 rows.\n",
    "\n",
    "### YOUR CODE HERE ###\n",
    "air_data.head(10)"
   ]
  },
  {
   "cell_type": "markdown",
   "id": "9dbd83c1",
   "metadata": {
    "id": "E7IVcXx_3fFq"
   },
   "source": [
    "<details>\n",
    "  <summary><h4><strong>Hint 1</strong></h4></summary>\n",
    "\n",
    "The `head()` function from the `pandas` library can be helpful here.\n",
    " \n",
    "</details>"
   ]
  },
  {
   "cell_type": "markdown",
   "id": "8ee7eee4",
   "metadata": {
    "id": "8XnaSp-1bco5"
   },
   "source": [
    "Now, display the variable names and their data types. "
   ]
  },
  {
   "cell_type": "code",
   "execution_count": 17,
   "id": "ca6a0022",
   "metadata": {
    "id": "yjTctqf_cZZk"
   },
   "outputs": [
    {
     "data": {
      "text/plain": [
       "satisfaction                          object\n",
       "Customer Type                         object\n",
       "Age                                    int64\n",
       "Type of Travel                        object\n",
       "Class                                 object\n",
       "Flight Distance                        int64\n",
       "Seat comfort                           int64\n",
       "Departure/Arrival time convenient      int64\n",
       "Food and drink                         int64\n",
       "Gate location                          int64\n",
       "Inflight wifi service                  int64\n",
       "Inflight entertainment                 int64\n",
       "Online support                         int64\n",
       "Ease of Online booking                 int64\n",
       "On-board service                       int64\n",
       "Leg room service                       int64\n",
       "Baggage handling                       int64\n",
       "Checkin service                        int64\n",
       "Cleanliness                            int64\n",
       "Online boarding                        int64\n",
       "Departure Delay in Minutes             int64\n",
       "Arrival Delay in Minutes             float64\n",
       "dtype: object"
      ]
     },
     "execution_count": 17,
     "metadata": {},
     "output_type": "execute_result"
    }
   ],
   "source": [
    "# Display variable names and types.\n",
    "\n",
    "### YOUR CODE HERE ###\n",
    "air_data.dtypes"
   ]
  },
  {
   "cell_type": "markdown",
   "id": "590a3376",
   "metadata": {
    "id": "oyjsCPSFdWSi"
   },
   "source": [
    "<details>\n",
    "  <summary><h4><strong>Hint 1</strong></h4></summary>\n",
    "\n",
    "DataFrames have an attribute that outputs variable names and data types in one result.\n",
    " \n",
    "</details>"
   ]
  },
  {
   "cell_type": "markdown",
   "id": "0d20b8a6",
   "metadata": {
    "id": "mZWcyh0ia_mn"
   },
   "source": [
    "**Question:** What do you observe about the differences in data types among the variables included in the data?\n",
    "`objects = ['Satisfaction','Customer Type','Type of Travel', 'Class']`\n",
    "The rest is numerical.\n",
    "We have continious numerical, categorical, and ordinal information.\n",
    "Some features (objects) require transformation. some binary some ordinal.\n"
   ]
  },
  {
   "cell_type": "markdown",
   "id": "76af7ce1",
   "metadata": {
    "id": "yDHCzUpwBqTD"
   },
   "source": [
    "Next, to understand the size of the dataset, identify the number of rows and the number of columns."
   ]
  },
  {
   "cell_type": "code",
   "execution_count": 18,
   "id": "d3c2098e",
   "metadata": {
    "id": "p-s0dOOgBr-1"
   },
   "outputs": [
    {
     "data": {
      "text/plain": [
       "(129880, 22)"
      ]
     },
     "execution_count": 18,
     "metadata": {},
     "output_type": "execute_result"
    }
   ],
   "source": [
    "# Identify the number of rows and the number of columns.\n",
    "\n",
    "### YOUR CODE HERE ###\n",
    "air_data.shape"
   ]
  },
  {
   "cell_type": "markdown",
   "id": "8c016aa5",
   "metadata": {
    "id": "7phg3U50drdh"
   },
   "source": [
    "<details>\n",
    "  <summary><h4><strong>Hint 1</strong></h4></summary>\n",
    "\n",
    "There is a method in the `pandas` library that outputs the number of rows and the number of columns in one result.\n",
    "\n",
    "</details>"
   ]
  },
  {
   "cell_type": "markdown",
   "id": "b2921d8a",
   "metadata": {
    "id": "ada5a098-e0d2-4a59-9ac5-132d8ea1eb3c",
    "tags": []
   },
   "source": [
    "Now, check for missing values in the rows of the data. Start with .isna() to get Booleans indicating whether each value in the data is missing. Then, use .any(axis=1) to get Booleans indicating whether there are any missing values along the columns in each row. Finally, use .sum() to get the number of rows that contain missing values."
   ]
  },
  {
   "cell_type": "code",
   "execution_count": 19,
   "id": "400b007a",
   "metadata": {
    "id": "db9be321-d578-4252-833c-a2dfd0e2e937"
   },
   "outputs": [
    {
     "data": {
      "text/html": [
       "<div>\n",
       "<style scoped>\n",
       "    .dataframe tbody tr th:only-of-type {\n",
       "        vertical-align: middle;\n",
       "    }\n",
       "\n",
       "    .dataframe tbody tr th {\n",
       "        vertical-align: top;\n",
       "    }\n",
       "\n",
       "    .dataframe thead th {\n",
       "        text-align: right;\n",
       "    }\n",
       "</style>\n",
       "<table border=\"1\" class=\"dataframe\">\n",
       "  <thead>\n",
       "    <tr style=\"text-align: right;\">\n",
       "      <th></th>\n",
       "      <th>Total</th>\n",
       "      <th>Percent</th>\n",
       "    </tr>\n",
       "  </thead>\n",
       "  <tbody>\n",
       "    <tr>\n",
       "      <th>Arrival Delay in Minutes</th>\n",
       "      <td>393</td>\n",
       "      <td>0.302587</td>\n",
       "    </tr>\n",
       "    <tr>\n",
       "      <th>Customer Type</th>\n",
       "      <td>0</td>\n",
       "      <td>0.000000</td>\n",
       "    </tr>\n",
       "    <tr>\n",
       "      <th>Departure Delay in Minutes</th>\n",
       "      <td>0</td>\n",
       "      <td>0.000000</td>\n",
       "    </tr>\n",
       "    <tr>\n",
       "      <th>Online boarding</th>\n",
       "      <td>0</td>\n",
       "      <td>0.000000</td>\n",
       "    </tr>\n",
       "    <tr>\n",
       "      <th>Cleanliness</th>\n",
       "      <td>0</td>\n",
       "      <td>0.000000</td>\n",
       "    </tr>\n",
       "    <tr>\n",
       "      <th>Checkin service</th>\n",
       "      <td>0</td>\n",
       "      <td>0.000000</td>\n",
       "    </tr>\n",
       "    <tr>\n",
       "      <th>Baggage handling</th>\n",
       "      <td>0</td>\n",
       "      <td>0.000000</td>\n",
       "    </tr>\n",
       "    <tr>\n",
       "      <th>Leg room service</th>\n",
       "      <td>0</td>\n",
       "      <td>0.000000</td>\n",
       "    </tr>\n",
       "    <tr>\n",
       "      <th>On-board service</th>\n",
       "      <td>0</td>\n",
       "      <td>0.000000</td>\n",
       "    </tr>\n",
       "    <tr>\n",
       "      <th>Ease of Online booking</th>\n",
       "      <td>0</td>\n",
       "      <td>0.000000</td>\n",
       "    </tr>\n",
       "    <tr>\n",
       "      <th>Online support</th>\n",
       "      <td>0</td>\n",
       "      <td>0.000000</td>\n",
       "    </tr>\n",
       "    <tr>\n",
       "      <th>satisfaction</th>\n",
       "      <td>0</td>\n",
       "      <td>0.000000</td>\n",
       "    </tr>\n",
       "    <tr>\n",
       "      <th>Inflight wifi service</th>\n",
       "      <td>0</td>\n",
       "      <td>0.000000</td>\n",
       "    </tr>\n",
       "    <tr>\n",
       "      <th>Gate location</th>\n",
       "      <td>0</td>\n",
       "      <td>0.000000</td>\n",
       "    </tr>\n",
       "    <tr>\n",
       "      <th>Food and drink</th>\n",
       "      <td>0</td>\n",
       "      <td>0.000000</td>\n",
       "    </tr>\n",
       "    <tr>\n",
       "      <th>Departure/Arrival time convenient</th>\n",
       "      <td>0</td>\n",
       "      <td>0.000000</td>\n",
       "    </tr>\n",
       "    <tr>\n",
       "      <th>Seat comfort</th>\n",
       "      <td>0</td>\n",
       "      <td>0.000000</td>\n",
       "    </tr>\n",
       "    <tr>\n",
       "      <th>Flight Distance</th>\n",
       "      <td>0</td>\n",
       "      <td>0.000000</td>\n",
       "    </tr>\n",
       "    <tr>\n",
       "      <th>Class</th>\n",
       "      <td>0</td>\n",
       "      <td>0.000000</td>\n",
       "    </tr>\n",
       "    <tr>\n",
       "      <th>Type of Travel</th>\n",
       "      <td>0</td>\n",
       "      <td>0.000000</td>\n",
       "    </tr>\n",
       "    <tr>\n",
       "      <th>Age</th>\n",
       "      <td>0</td>\n",
       "      <td>0.000000</td>\n",
       "    </tr>\n",
       "    <tr>\n",
       "      <th>Inflight entertainment</th>\n",
       "      <td>0</td>\n",
       "      <td>0.000000</td>\n",
       "    </tr>\n",
       "  </tbody>\n",
       "</table>\n",
       "</div>"
      ],
      "text/plain": [
       "                                   Total   Percent\n",
       "Arrival Delay in Minutes             393  0.302587\n",
       "Customer Type                          0  0.000000\n",
       "Departure Delay in Minutes             0  0.000000\n",
       "Online boarding                        0  0.000000\n",
       "Cleanliness                            0  0.000000\n",
       "Checkin service                        0  0.000000\n",
       "Baggage handling                       0  0.000000\n",
       "Leg room service                       0  0.000000\n",
       "On-board service                       0  0.000000\n",
       "Ease of Online booking                 0  0.000000\n",
       "Online support                         0  0.000000\n",
       "satisfaction                           0  0.000000\n",
       "Inflight wifi service                  0  0.000000\n",
       "Gate location                          0  0.000000\n",
       "Food and drink                         0  0.000000\n",
       "Departure/Arrival time convenient      0  0.000000\n",
       "Seat comfort                           0  0.000000\n",
       "Flight Distance                        0  0.000000\n",
       "Class                                  0  0.000000\n",
       "Type of Travel                         0  0.000000\n",
       "Age                                    0  0.000000\n",
       "Inflight entertainment                 0  0.000000"
      ]
     },
     "execution_count": 19,
     "metadata": {},
     "output_type": "execute_result"
    }
   ],
   "source": [
    "# Get Booleans to find missing values in data.\n",
    "# Get Booleans to find missing values along columns.\n",
    "# Get the number of rows that contain missing values.\n",
    "\n",
    "### YOUR CODE HERE ###\n",
    "def miss_df(dataframe: pd.DataFrame):\n",
    "\n",
    "    \"\"\"\n",
    "    Take a pandas df as argument, returns another one\n",
    "    with  basic information about missing data\n",
    "    Args:\n",
    "        df(pd.DataFrame): a pdDataFrame.\n",
    "    \"\"\"\n",
    "\n",
    "    # Running validation on the argument recieved\n",
    "    assert type(dataframe) == pd.DataFrame, f'{dataframe}, is not a pandas df.'\n",
    "    df = dataframe.copy()\n",
    "    total_missing = df.isnull().sum().sort_values(ascending=False)\n",
    "    percent_missing = (df.isnull().sum() / df.isnull().count()) * 100\n",
    "    missing_data = pd.concat([total_missing, percent_missing], axis=1, keys=['Total', 'Percent'])\n",
    "    return missing_data.head(len(df.columns))\n",
    "\n",
    "miss_df(air_data)"
   ]
  },
  {
   "cell_type": "markdown",
   "id": "8abd0b31",
   "metadata": {
    "id": "74e5308a-7607-4277-a508-d0efa10d9116"
   },
   "source": [
    "**Question:** How many rows of data are missing values?**\n",
    "```\n",
    "393 rows, Arrival Delay in Minutes...dtype: int64\n",
    "```"
   ]
  },
  {
   "cell_type": "markdown",
   "id": "178a1077",
   "metadata": {
    "id": "eb005a73-4621-45b9-8114-30472ce20327"
   },
   "source": [
    "Drop the rows with missing values. This is an important step in data cleaning, as it makes the data more useful for analysis and regression. Then, save the resulting pandas DataFrame in a variable named `air_data_subset`."
   ]
  },
  {
   "cell_type": "code",
   "execution_count": 7,
   "id": "164bb140",
   "metadata": {
    "id": "1cee438e-8b1f-4855-855e-3723d1958b69"
   },
   "outputs": [],
   "source": [
    "# Drop missing values.\n",
    "# Save the DataFrame in variable `air_data_subset`.\n",
    "\n",
    "### YOUR CODE HERE ###\n",
    "air_data.dropna(inplace=True)\n",
    "air_data_subset = air_data.copy()\n"
   ]
  },
  {
   "cell_type": "markdown",
   "id": "f1624e82",
   "metadata": {
    "id": "2AHDkLF5pnao"
   },
   "source": [
    "<details>\n",
    "<summary><h4><strong>Hint 1</strong></h4></summary>\n",
    "\n",
    "The `dropna()` function is helpful here.\n",
    "</details>"
   ]
  },
  {
   "cell_type": "markdown",
   "id": "43a17cec",
   "metadata": {},
   "source": [
    "<details>\n",
    "<summary><h4><strong>Hint 2</strong></h4></summary>\n",
    "\n",
    "The axis parameter passed in to this function should be set to 0 (if you want to drop rows containing missing values) or 1 (if you want to drop columns containing missing values).\n",
    "</details>"
   ]
  },
  {
   "cell_type": "markdown",
   "id": "a1b4aa53",
   "metadata": {
    "id": "0021b18e-4c93-4628-8d0d-2c55a98cc691"
   },
   "source": [
    "Next, display the first 10 rows to examine the data subset."
   ]
  },
  {
   "cell_type": "code",
   "execution_count": 8,
   "id": "ff0832ab",
   "metadata": {
    "id": "ad471526-eb38-4cc3-afa7-f9542439ea35"
   },
   "outputs": [
    {
     "data": {
      "text/html": [
       "<div>\n",
       "<style scoped>\n",
       "    .dataframe tbody tr th:only-of-type {\n",
       "        vertical-align: middle;\n",
       "    }\n",
       "\n",
       "    .dataframe tbody tr th {\n",
       "        vertical-align: top;\n",
       "    }\n",
       "\n",
       "    .dataframe thead th {\n",
       "        text-align: right;\n",
       "    }\n",
       "</style>\n",
       "<table border=\"1\" class=\"dataframe\">\n",
       "  <thead>\n",
       "    <tr style=\"text-align: right;\">\n",
       "      <th></th>\n",
       "      <th>satisfaction</th>\n",
       "      <th>Customer Type</th>\n",
       "      <th>Age</th>\n",
       "      <th>Type of Travel</th>\n",
       "      <th>Class</th>\n",
       "      <th>Flight Distance</th>\n",
       "      <th>Seat comfort</th>\n",
       "      <th>Departure/Arrival time convenient</th>\n",
       "      <th>Food and drink</th>\n",
       "      <th>Gate location</th>\n",
       "      <th>Inflight wifi service</th>\n",
       "      <th>Inflight entertainment</th>\n",
       "      <th>Online support</th>\n",
       "      <th>Ease of Online booking</th>\n",
       "      <th>On-board service</th>\n",
       "      <th>Leg room service</th>\n",
       "      <th>Baggage handling</th>\n",
       "      <th>Checkin service</th>\n",
       "      <th>Cleanliness</th>\n",
       "      <th>Online boarding</th>\n",
       "      <th>Departure Delay in Minutes</th>\n",
       "      <th>Arrival Delay in Minutes</th>\n",
       "    </tr>\n",
       "  </thead>\n",
       "  <tbody>\n",
       "    <tr>\n",
       "      <th>0</th>\n",
       "      <td>satisfied</td>\n",
       "      <td>Loyal Customer</td>\n",
       "      <td>65</td>\n",
       "      <td>Personal Travel</td>\n",
       "      <td>Eco</td>\n",
       "      <td>265</td>\n",
       "      <td>0</td>\n",
       "      <td>0</td>\n",
       "      <td>0</td>\n",
       "      <td>2</td>\n",
       "      <td>2</td>\n",
       "      <td>4</td>\n",
       "      <td>2</td>\n",
       "      <td>3</td>\n",
       "      <td>3</td>\n",
       "      <td>0</td>\n",
       "      <td>3</td>\n",
       "      <td>5</td>\n",
       "      <td>3</td>\n",
       "      <td>2</td>\n",
       "      <td>0</td>\n",
       "      <td>0.0</td>\n",
       "    </tr>\n",
       "    <tr>\n",
       "      <th>1</th>\n",
       "      <td>satisfied</td>\n",
       "      <td>Loyal Customer</td>\n",
       "      <td>47</td>\n",
       "      <td>Personal Travel</td>\n",
       "      <td>Business</td>\n",
       "      <td>2464</td>\n",
       "      <td>0</td>\n",
       "      <td>0</td>\n",
       "      <td>0</td>\n",
       "      <td>3</td>\n",
       "      <td>0</td>\n",
       "      <td>2</td>\n",
       "      <td>2</td>\n",
       "      <td>3</td>\n",
       "      <td>4</td>\n",
       "      <td>4</td>\n",
       "      <td>4</td>\n",
       "      <td>2</td>\n",
       "      <td>3</td>\n",
       "      <td>2</td>\n",
       "      <td>310</td>\n",
       "      <td>305.0</td>\n",
       "    </tr>\n",
       "    <tr>\n",
       "      <th>2</th>\n",
       "      <td>satisfied</td>\n",
       "      <td>Loyal Customer</td>\n",
       "      <td>15</td>\n",
       "      <td>Personal Travel</td>\n",
       "      <td>Eco</td>\n",
       "      <td>2138</td>\n",
       "      <td>0</td>\n",
       "      <td>0</td>\n",
       "      <td>0</td>\n",
       "      <td>3</td>\n",
       "      <td>2</td>\n",
       "      <td>0</td>\n",
       "      <td>2</td>\n",
       "      <td>2</td>\n",
       "      <td>3</td>\n",
       "      <td>3</td>\n",
       "      <td>4</td>\n",
       "      <td>4</td>\n",
       "      <td>4</td>\n",
       "      <td>2</td>\n",
       "      <td>0</td>\n",
       "      <td>0.0</td>\n",
       "    </tr>\n",
       "    <tr>\n",
       "      <th>3</th>\n",
       "      <td>satisfied</td>\n",
       "      <td>Loyal Customer</td>\n",
       "      <td>60</td>\n",
       "      <td>Personal Travel</td>\n",
       "      <td>Eco</td>\n",
       "      <td>623</td>\n",
       "      <td>0</td>\n",
       "      <td>0</td>\n",
       "      <td>0</td>\n",
       "      <td>3</td>\n",
       "      <td>3</td>\n",
       "      <td>4</td>\n",
       "      <td>3</td>\n",
       "      <td>1</td>\n",
       "      <td>1</td>\n",
       "      <td>0</td>\n",
       "      <td>1</td>\n",
       "      <td>4</td>\n",
       "      <td>1</td>\n",
       "      <td>3</td>\n",
       "      <td>0</td>\n",
       "      <td>0.0</td>\n",
       "    </tr>\n",
       "    <tr>\n",
       "      <th>4</th>\n",
       "      <td>satisfied</td>\n",
       "      <td>Loyal Customer</td>\n",
       "      <td>70</td>\n",
       "      <td>Personal Travel</td>\n",
       "      <td>Eco</td>\n",
       "      <td>354</td>\n",
       "      <td>0</td>\n",
       "      <td>0</td>\n",
       "      <td>0</td>\n",
       "      <td>3</td>\n",
       "      <td>4</td>\n",
       "      <td>3</td>\n",
       "      <td>4</td>\n",
       "      <td>2</td>\n",
       "      <td>2</td>\n",
       "      <td>0</td>\n",
       "      <td>2</td>\n",
       "      <td>4</td>\n",
       "      <td>2</td>\n",
       "      <td>5</td>\n",
       "      <td>0</td>\n",
       "      <td>0.0</td>\n",
       "    </tr>\n",
       "    <tr>\n",
       "      <th>5</th>\n",
       "      <td>satisfied</td>\n",
       "      <td>Loyal Customer</td>\n",
       "      <td>30</td>\n",
       "      <td>Personal Travel</td>\n",
       "      <td>Eco</td>\n",
       "      <td>1894</td>\n",
       "      <td>0</td>\n",
       "      <td>0</td>\n",
       "      <td>0</td>\n",
       "      <td>3</td>\n",
       "      <td>2</td>\n",
       "      <td>0</td>\n",
       "      <td>2</td>\n",
       "      <td>2</td>\n",
       "      <td>5</td>\n",
       "      <td>4</td>\n",
       "      <td>5</td>\n",
       "      <td>5</td>\n",
       "      <td>4</td>\n",
       "      <td>2</td>\n",
       "      <td>0</td>\n",
       "      <td>0.0</td>\n",
       "    </tr>\n",
       "    <tr>\n",
       "      <th>6</th>\n",
       "      <td>satisfied</td>\n",
       "      <td>Loyal Customer</td>\n",
       "      <td>66</td>\n",
       "      <td>Personal Travel</td>\n",
       "      <td>Eco</td>\n",
       "      <td>227</td>\n",
       "      <td>0</td>\n",
       "      <td>0</td>\n",
       "      <td>0</td>\n",
       "      <td>3</td>\n",
       "      <td>2</td>\n",
       "      <td>5</td>\n",
       "      <td>5</td>\n",
       "      <td>5</td>\n",
       "      <td>5</td>\n",
       "      <td>0</td>\n",
       "      <td>5</td>\n",
       "      <td>5</td>\n",
       "      <td>5</td>\n",
       "      <td>3</td>\n",
       "      <td>17</td>\n",
       "      <td>15.0</td>\n",
       "    </tr>\n",
       "    <tr>\n",
       "      <th>7</th>\n",
       "      <td>satisfied</td>\n",
       "      <td>Loyal Customer</td>\n",
       "      <td>10</td>\n",
       "      <td>Personal Travel</td>\n",
       "      <td>Eco</td>\n",
       "      <td>1812</td>\n",
       "      <td>0</td>\n",
       "      <td>0</td>\n",
       "      <td>0</td>\n",
       "      <td>3</td>\n",
       "      <td>2</td>\n",
       "      <td>0</td>\n",
       "      <td>2</td>\n",
       "      <td>2</td>\n",
       "      <td>3</td>\n",
       "      <td>3</td>\n",
       "      <td>4</td>\n",
       "      <td>5</td>\n",
       "      <td>4</td>\n",
       "      <td>2</td>\n",
       "      <td>0</td>\n",
       "      <td>0.0</td>\n",
       "    </tr>\n",
       "    <tr>\n",
       "      <th>8</th>\n",
       "      <td>satisfied</td>\n",
       "      <td>Loyal Customer</td>\n",
       "      <td>56</td>\n",
       "      <td>Personal Travel</td>\n",
       "      <td>Business</td>\n",
       "      <td>73</td>\n",
       "      <td>0</td>\n",
       "      <td>0</td>\n",
       "      <td>0</td>\n",
       "      <td>3</td>\n",
       "      <td>5</td>\n",
       "      <td>3</td>\n",
       "      <td>5</td>\n",
       "      <td>4</td>\n",
       "      <td>4</td>\n",
       "      <td>0</td>\n",
       "      <td>1</td>\n",
       "      <td>5</td>\n",
       "      <td>4</td>\n",
       "      <td>4</td>\n",
       "      <td>0</td>\n",
       "      <td>0.0</td>\n",
       "    </tr>\n",
       "    <tr>\n",
       "      <th>9</th>\n",
       "      <td>satisfied</td>\n",
       "      <td>Loyal Customer</td>\n",
       "      <td>22</td>\n",
       "      <td>Personal Travel</td>\n",
       "      <td>Eco</td>\n",
       "      <td>1556</td>\n",
       "      <td>0</td>\n",
       "      <td>0</td>\n",
       "      <td>0</td>\n",
       "      <td>3</td>\n",
       "      <td>2</td>\n",
       "      <td>0</td>\n",
       "      <td>2</td>\n",
       "      <td>2</td>\n",
       "      <td>2</td>\n",
       "      <td>4</td>\n",
       "      <td>5</td>\n",
       "      <td>3</td>\n",
       "      <td>4</td>\n",
       "      <td>2</td>\n",
       "      <td>30</td>\n",
       "      <td>26.0</td>\n",
       "    </tr>\n",
       "  </tbody>\n",
       "</table>\n",
       "</div>"
      ],
      "text/plain": [
       "  satisfaction   Customer Type  Age   Type of Travel     Class  \\\n",
       "0    satisfied  Loyal Customer   65  Personal Travel       Eco   \n",
       "1    satisfied  Loyal Customer   47  Personal Travel  Business   \n",
       "2    satisfied  Loyal Customer   15  Personal Travel       Eco   \n",
       "3    satisfied  Loyal Customer   60  Personal Travel       Eco   \n",
       "4    satisfied  Loyal Customer   70  Personal Travel       Eco   \n",
       "5    satisfied  Loyal Customer   30  Personal Travel       Eco   \n",
       "6    satisfied  Loyal Customer   66  Personal Travel       Eco   \n",
       "7    satisfied  Loyal Customer   10  Personal Travel       Eco   \n",
       "8    satisfied  Loyal Customer   56  Personal Travel  Business   \n",
       "9    satisfied  Loyal Customer   22  Personal Travel       Eco   \n",
       "\n",
       "   Flight Distance  Seat comfort  Departure/Arrival time convenient  \\\n",
       "0              265             0                                  0   \n",
       "1             2464             0                                  0   \n",
       "2             2138             0                                  0   \n",
       "3              623             0                                  0   \n",
       "4              354             0                                  0   \n",
       "5             1894             0                                  0   \n",
       "6              227             0                                  0   \n",
       "7             1812             0                                  0   \n",
       "8               73             0                                  0   \n",
       "9             1556             0                                  0   \n",
       "\n",
       "   Food and drink  Gate location  Inflight wifi service  \\\n",
       "0               0              2                      2   \n",
       "1               0              3                      0   \n",
       "2               0              3                      2   \n",
       "3               0              3                      3   \n",
       "4               0              3                      4   \n",
       "5               0              3                      2   \n",
       "6               0              3                      2   \n",
       "7               0              3                      2   \n",
       "8               0              3                      5   \n",
       "9               0              3                      2   \n",
       "\n",
       "   Inflight entertainment  Online support  Ease of Online booking  \\\n",
       "0                       4               2                       3   \n",
       "1                       2               2                       3   \n",
       "2                       0               2                       2   \n",
       "3                       4               3                       1   \n",
       "4                       3               4                       2   \n",
       "5                       0               2                       2   \n",
       "6                       5               5                       5   \n",
       "7                       0               2                       2   \n",
       "8                       3               5                       4   \n",
       "9                       0               2                       2   \n",
       "\n",
       "   On-board service  Leg room service  Baggage handling  Checkin service  \\\n",
       "0                 3                 0                 3                5   \n",
       "1                 4                 4                 4                2   \n",
       "2                 3                 3                 4                4   \n",
       "3                 1                 0                 1                4   \n",
       "4                 2                 0                 2                4   \n",
       "5                 5                 4                 5                5   \n",
       "6                 5                 0                 5                5   \n",
       "7                 3                 3                 4                5   \n",
       "8                 4                 0                 1                5   \n",
       "9                 2                 4                 5                3   \n",
       "\n",
       "   Cleanliness  Online boarding  Departure Delay in Minutes  \\\n",
       "0            3                2                           0   \n",
       "1            3                2                         310   \n",
       "2            4                2                           0   \n",
       "3            1                3                           0   \n",
       "4            2                5                           0   \n",
       "5            4                2                           0   \n",
       "6            5                3                          17   \n",
       "7            4                2                           0   \n",
       "8            4                4                           0   \n",
       "9            4                2                          30   \n",
       "\n",
       "   Arrival Delay in Minutes  \n",
       "0                       0.0  \n",
       "1                     305.0  \n",
       "2                       0.0  \n",
       "3                       0.0  \n",
       "4                       0.0  \n",
       "5                       0.0  \n",
       "6                      15.0  \n",
       "7                       0.0  \n",
       "8                       0.0  \n",
       "9                      26.0  "
      ]
     },
     "execution_count": 8,
     "metadata": {},
     "output_type": "execute_result"
    }
   ],
   "source": [
    "# Display the first 10 rows.\n",
    "\n",
    "### YOUR CODE HERE ###\n",
    "air_data_subset.head(10)"
   ]
  },
  {
   "cell_type": "markdown",
   "id": "338c1040",
   "metadata": {
    "id": "3c74ad00-3eaf-4868-b3a9-3aa87a5bc0d3",
    "tags": []
   },
   "source": [
    "Confirm that it does not contain any missing values."
   ]
  },
  {
   "cell_type": "code",
   "execution_count": 21,
   "id": "2af2ddbd",
   "metadata": {
    "id": "f22e303c-2c42-4227-9083-447839e2b300"
   },
   "outputs": [
    {
     "data": {
      "text/html": [
       "<div>\n",
       "<style scoped>\n",
       "    .dataframe tbody tr th:only-of-type {\n",
       "        vertical-align: middle;\n",
       "    }\n",
       "\n",
       "    .dataframe tbody tr th {\n",
       "        vertical-align: top;\n",
       "    }\n",
       "\n",
       "    .dataframe thead th {\n",
       "        text-align: right;\n",
       "    }\n",
       "</style>\n",
       "<table border=\"1\" class=\"dataframe\">\n",
       "  <thead>\n",
       "    <tr style=\"text-align: right;\">\n",
       "      <th></th>\n",
       "      <th>Total</th>\n",
       "      <th>Percent</th>\n",
       "    </tr>\n",
       "  </thead>\n",
       "  <tbody>\n",
       "    <tr>\n",
       "      <th>satisfaction</th>\n",
       "      <td>0</td>\n",
       "      <td>0.0</td>\n",
       "    </tr>\n",
       "    <tr>\n",
       "      <th>Customer Type</th>\n",
       "      <td>0</td>\n",
       "      <td>0.0</td>\n",
       "    </tr>\n",
       "    <tr>\n",
       "      <th>Departure Delay in Minutes</th>\n",
       "      <td>0</td>\n",
       "      <td>0.0</td>\n",
       "    </tr>\n",
       "    <tr>\n",
       "      <th>Online boarding</th>\n",
       "      <td>0</td>\n",
       "      <td>0.0</td>\n",
       "    </tr>\n",
       "    <tr>\n",
       "      <th>Cleanliness</th>\n",
       "      <td>0</td>\n",
       "      <td>0.0</td>\n",
       "    </tr>\n",
       "    <tr>\n",
       "      <th>Checkin service</th>\n",
       "      <td>0</td>\n",
       "      <td>0.0</td>\n",
       "    </tr>\n",
       "    <tr>\n",
       "      <th>Baggage handling</th>\n",
       "      <td>0</td>\n",
       "      <td>0.0</td>\n",
       "    </tr>\n",
       "    <tr>\n",
       "      <th>Leg room service</th>\n",
       "      <td>0</td>\n",
       "      <td>0.0</td>\n",
       "    </tr>\n",
       "    <tr>\n",
       "      <th>On-board service</th>\n",
       "      <td>0</td>\n",
       "      <td>0.0</td>\n",
       "    </tr>\n",
       "    <tr>\n",
       "      <th>Ease of Online booking</th>\n",
       "      <td>0</td>\n",
       "      <td>0.0</td>\n",
       "    </tr>\n",
       "    <tr>\n",
       "      <th>Online support</th>\n",
       "      <td>0</td>\n",
       "      <td>0.0</td>\n",
       "    </tr>\n",
       "    <tr>\n",
       "      <th>Inflight entertainment</th>\n",
       "      <td>0</td>\n",
       "      <td>0.0</td>\n",
       "    </tr>\n",
       "    <tr>\n",
       "      <th>Inflight wifi service</th>\n",
       "      <td>0</td>\n",
       "      <td>0.0</td>\n",
       "    </tr>\n",
       "    <tr>\n",
       "      <th>Gate location</th>\n",
       "      <td>0</td>\n",
       "      <td>0.0</td>\n",
       "    </tr>\n",
       "    <tr>\n",
       "      <th>Food and drink</th>\n",
       "      <td>0</td>\n",
       "      <td>0.0</td>\n",
       "    </tr>\n",
       "    <tr>\n",
       "      <th>Departure/Arrival time convenient</th>\n",
       "      <td>0</td>\n",
       "      <td>0.0</td>\n",
       "    </tr>\n",
       "    <tr>\n",
       "      <th>Seat comfort</th>\n",
       "      <td>0</td>\n",
       "      <td>0.0</td>\n",
       "    </tr>\n",
       "    <tr>\n",
       "      <th>Flight Distance</th>\n",
       "      <td>0</td>\n",
       "      <td>0.0</td>\n",
       "    </tr>\n",
       "    <tr>\n",
       "      <th>Class</th>\n",
       "      <td>0</td>\n",
       "      <td>0.0</td>\n",
       "    </tr>\n",
       "    <tr>\n",
       "      <th>Type of Travel</th>\n",
       "      <td>0</td>\n",
       "      <td>0.0</td>\n",
       "    </tr>\n",
       "    <tr>\n",
       "      <th>Age</th>\n",
       "      <td>0</td>\n",
       "      <td>0.0</td>\n",
       "    </tr>\n",
       "    <tr>\n",
       "      <th>Arrival Delay in Minutes</th>\n",
       "      <td>0</td>\n",
       "      <td>0.0</td>\n",
       "    </tr>\n",
       "  </tbody>\n",
       "</table>\n",
       "</div>"
      ],
      "text/plain": [
       "                                   Total  Percent\n",
       "satisfaction                           0      0.0\n",
       "Customer Type                          0      0.0\n",
       "Departure Delay in Minutes             0      0.0\n",
       "Online boarding                        0      0.0\n",
       "Cleanliness                            0      0.0\n",
       "Checkin service                        0      0.0\n",
       "Baggage handling                       0      0.0\n",
       "Leg room service                       0      0.0\n",
       "On-board service                       0      0.0\n",
       "Ease of Online booking                 0      0.0\n",
       "Online support                         0      0.0\n",
       "Inflight entertainment                 0      0.0\n",
       "Inflight wifi service                  0      0.0\n",
       "Gate location                          0      0.0\n",
       "Food and drink                         0      0.0\n",
       "Departure/Arrival time convenient      0      0.0\n",
       "Seat comfort                           0      0.0\n",
       "Flight Distance                        0      0.0\n",
       "Class                                  0      0.0\n",
       "Type of Travel                         0      0.0\n",
       "Age                                    0      0.0\n",
       "Arrival Delay in Minutes               0      0.0"
      ]
     },
     "execution_count": 21,
     "metadata": {},
     "output_type": "execute_result"
    }
   ],
   "source": [
    "# Count of missing values.\n",
    "\n",
    "### YOUR CODE HERE ###\n",
    "miss_df(air_data_subset)"
   ]
  },
  {
   "cell_type": "markdown",
   "id": "cf2f3b96",
   "metadata": {
    "id": "I0Y9g4C17al8"
   },
   "source": [
    "<details>\n",
    "<summary><h4><strong>Hint 1</strong></h4></summary>\n",
    "\n",
    "You can use the `.isna().sum()` to get the number of missing values for each variable.\n",
    "\n",
    "</details>"
   ]
  },
  {
   "cell_type": "markdown",
   "id": "49a59288",
   "metadata": {
    "id": "23bbe395"
   },
   "source": [
    "Next, convert the categorical features to indicator (one-hot encoded) features. \n",
    "\n",
    "**Note:** The `drop_first` argument can be kept as default (`False`) during one-hot encoding for random forest models, so it does not need to be specified. Also, the target variable, `satisfaction`, does not need to be encoded and will be extracted in a later step."
   ]
  },
  {
   "cell_type": "code",
   "execution_count": 33,
   "id": "d4ae768d",
   "metadata": {
    "id": "03d00d56"
   },
   "outputs": [],
   "source": [
    "# Convert categorical features to one-hot encoded features.\n",
    "\n",
    "### YOUR CODE HERE ###\n",
    "def str_encoder(dataframe, str_to_encode):\n",
    "    \"\"\"\n",
    "    The str_encoder function will convert these columns \n",
    "    to numerical ordinal or binary numerical columns and \n",
    "    then return a new DataFrame with the transformed columns \n",
    "    plus the original columns that were not transformed.\n",
    "    \n",
    "    Arguments:\n",
    "        df: A Pandas Data frame.\n",
    "        str_to_encode: a list of columns to tranform \n",
    "        from the same data set.\n",
    "    Returns:\n",
    "        A new data set made of the transformed columns\n",
    "        plus the original with out the previously transformed\n",
    "        data.\n",
    "    \"\"\"\n",
    "    ## make a copy \n",
    "    df_o = dataframe.copy()\n",
    "    df_e = df_o[str_to_encode].copy()\n",
    "    \n",
    "    le = LabelEncoder()\n",
    "    str_encoded = df_e.apply(le.fit_transform)\n",
    "\n",
    "    ## Drop strings categories\n",
    "    df_o_e = df_o.drop(str_to_encode, axis=1)\n",
    "\n",
    "    ## Add transformed data\n",
    "    full = df_o_e.join(str_encoded)\n",
    "    \n",
    "    return full\n",
    "\n",
    "def observe_data_type(df: pd.DataFrame, max_class):\n",
    "\n",
    "    \"\"\"\n",
    "    Args: \n",
    "        df(pd.DataFrame): a pdDataFrame.\n",
    "        max_class: max number to be considered a categorical feature.\n",
    "        Each case is different and EDA will tell.\n",
    "\n",
    "    Returns:\n",
    "        A new dataset with information related to unique values\n",
    "        per column\n",
    "    \n",
    "    \"\"\"\n",
    "    # Running validation on the argument recieved\n",
    "    assert type(df) == pd.DataFrame, f'{df}, is not a pandas df.'\n",
    "    num_uniques = []\n",
    "    column_name = []\n",
    "    check = []\n",
    "    resu = {}\n",
    "    result = pd.DataFrame({})\n",
    "    \n",
    "    for c in df.columns:\n",
    "        \n",
    "        num_uniques.append(len(df[c].unique()))\n",
    "        column_name.append(c)\n",
    "        if 2 < len(df[c].unique()) < max_class:\n",
    "            check.append('yes')\n",
    "        else: check.append('no')\n",
    "            \n",
    "    \n",
    "    result['columns_name'] = column_name\n",
    "    result['Num_uniques'] = num_uniques\n",
    "    result['possible_categorical'] = check\n",
    "    return(result) \n",
    "\n",
    "def hot_encoder(dataframe, ordinal_to_hot_encode):\n",
    "    \n",
    "    \"\"\"\n",
    "    The hot_encoder function will convert the ordinal_to_hot_encode\n",
    "    columns from numerical ordinal and then return a new DataFrame \n",
    "    with the transformed columns plus the original columns that were not transformed.\n",
    "    \n",
    "    Arguments:\n",
    "        df: A Pandas Data frame.\n",
    "        str_to_encode: a list of columns to tranform \n",
    "        from the same data set.\n",
    "    Returns:\n",
    "        A new data set made of the transformed columns\n",
    "        plus the original with out the previously transformed\n",
    "        data.\n",
    "    \"\"\"\n",
    "    ## Original set\n",
    "    original = dataframe.copy()\n",
    "    \n",
    "    ## Set minus the Transformed columns\n",
    "    nums = original.drop(ordinal_to_hot_encode, axis=1)\n",
    "    \n",
    "    ## this transfomr to str\n",
    "    str_encoded = original[ordinal_to_hot_encode].astype(str)\n",
    "\n",
    "    ## thisgets the categories.\n",
    "    categories = [original[i].unique().astype(str) for i in ordinal_to_hot_encode]\n",
    "    \n",
    "    ## update categories to remove duplicates\n",
    "    categories = [list(set(cat)) for cat in categories]\n",
    "    \n",
    "    ## Using get_dummies\n",
    "    encoded_set = pd.get_dummies(str_encoded, dtype=int)\n",
    "\n",
    "    \n",
    "    ## Using join with the nums data set and encoded_set\n",
    "    full = nums.join(encoded_set)\n",
    "    \n",
    "    return full\n",
    "\n",
    "## Selecting columns to transform\n",
    "cat_str = ['satisfaction','Customer Type','Type of Travel', 'Class']\n",
    "\n",
    "## Encode the categorical objects data type data\n",
    "encoded_string = str_encoder(air_data_subset, cat_str)\n",
    "\n",
    "## Selecting categorical features to transform\n",
    "info = observe_data_type(encoded_string, 10)\n",
    "\n",
    "to_hot_encode = info.loc[info['possible_categorical'] == 'yes', :]['columns_name'].tolist()\n",
    "to_hot_encode\n",
    "\n",
    "air_data_subset_dummies = hot_encoder(encoded_string, to_hot_encode)"
   ]
  },
  {
   "cell_type": "markdown",
   "id": "5654a231",
   "metadata": {
    "id": "a9d3a8d5"
   },
   "source": [
    "<details>\n",
    "<summary><h4><strong>Hint 1</strong></h4></summary>\n",
    "\n",
    "You can use the `pd.get_dummies()` function to convert categorical variables to one-hot encoded variables.\n",
    "</details>"
   ]
  },
  {
   "cell_type": "markdown",
   "id": "80ae10c1",
   "metadata": {
    "id": "fY6JM-6zfNLK"
   },
   "source": [
    "**Question:** Why is it necessary to convert categorical data into dummy variables?**\n",
    "\n",
    "Because models tend to have better preformance with data that has been brought to certain standards.\n",
    "Bbjects needs to be brought to numerical.\n",
    "When algorhitms are used to create models there is assumtions to be checked, but Random Forest is\n",
    "not a deterministic model, is stochiast. Is a good practice.\n",
    "\n"
   ]
  },
  {
   "cell_type": "markdown",
   "id": "250b57ff",
   "metadata": {
    "id": "dfe87acc"
   },
   "source": [
    "Next, display the first 10 rows to review the `air_data_subset_dummies`. "
   ]
  },
  {
   "cell_type": "code",
   "execution_count": 35,
   "id": "6f7195d1",
   "metadata": {
    "id": "139cb903"
   },
   "outputs": [
    {
     "data": {
      "text/html": [
       "<div>\n",
       "<style scoped>\n",
       "    .dataframe tbody tr th:only-of-type {\n",
       "        vertical-align: middle;\n",
       "    }\n",
       "\n",
       "    .dataframe tbody tr th {\n",
       "        vertical-align: top;\n",
       "    }\n",
       "\n",
       "    .dataframe thead th {\n",
       "        text-align: right;\n",
       "    }\n",
       "</style>\n",
       "<table border=\"1\" class=\"dataframe\">\n",
       "  <thead>\n",
       "    <tr style=\"text-align: right;\">\n",
       "      <th></th>\n",
       "      <th>Age</th>\n",
       "      <th>Flight Distance</th>\n",
       "      <th>Departure Delay in Minutes</th>\n",
       "      <th>Arrival Delay in Minutes</th>\n",
       "      <th>satisfaction</th>\n",
       "      <th>Customer Type</th>\n",
       "      <th>Type of Travel</th>\n",
       "      <th>Seat comfort_0</th>\n",
       "      <th>Seat comfort_1</th>\n",
       "      <th>Seat comfort_2</th>\n",
       "      <th>Seat comfort_3</th>\n",
       "      <th>Seat comfort_4</th>\n",
       "      <th>Seat comfort_5</th>\n",
       "      <th>Departure/Arrival time convenient_0</th>\n",
       "      <th>Departure/Arrival time convenient_1</th>\n",
       "      <th>Departure/Arrival time convenient_2</th>\n",
       "      <th>Departure/Arrival time convenient_3</th>\n",
       "      <th>Departure/Arrival time convenient_4</th>\n",
       "      <th>Departure/Arrival time convenient_5</th>\n",
       "      <th>Food and drink_0</th>\n",
       "      <th>Food and drink_1</th>\n",
       "      <th>Food and drink_2</th>\n",
       "      <th>Food and drink_3</th>\n",
       "      <th>Food and drink_4</th>\n",
       "      <th>Food and drink_5</th>\n",
       "      <th>Gate location_0</th>\n",
       "      <th>Gate location_1</th>\n",
       "      <th>Gate location_2</th>\n",
       "      <th>Gate location_3</th>\n",
       "      <th>Gate location_4</th>\n",
       "      <th>Gate location_5</th>\n",
       "      <th>Inflight wifi service_0</th>\n",
       "      <th>Inflight wifi service_1</th>\n",
       "      <th>Inflight wifi service_2</th>\n",
       "      <th>Inflight wifi service_3</th>\n",
       "      <th>Inflight wifi service_4</th>\n",
       "      <th>Inflight wifi service_5</th>\n",
       "      <th>Inflight entertainment_0</th>\n",
       "      <th>Inflight entertainment_1</th>\n",
       "      <th>Inflight entertainment_2</th>\n",
       "      <th>Inflight entertainment_3</th>\n",
       "      <th>Inflight entertainment_4</th>\n",
       "      <th>Inflight entertainment_5</th>\n",
       "      <th>Online support_0</th>\n",
       "      <th>Online support_1</th>\n",
       "      <th>Online support_2</th>\n",
       "      <th>Online support_3</th>\n",
       "      <th>Online support_4</th>\n",
       "      <th>Online support_5</th>\n",
       "      <th>Ease of Online booking_0</th>\n",
       "      <th>Ease of Online booking_1</th>\n",
       "      <th>Ease of Online booking_2</th>\n",
       "      <th>Ease of Online booking_3</th>\n",
       "      <th>Ease of Online booking_4</th>\n",
       "      <th>Ease of Online booking_5</th>\n",
       "      <th>On-board service_0</th>\n",
       "      <th>On-board service_1</th>\n",
       "      <th>On-board service_2</th>\n",
       "      <th>On-board service_3</th>\n",
       "      <th>On-board service_4</th>\n",
       "      <th>On-board service_5</th>\n",
       "      <th>Leg room service_0</th>\n",
       "      <th>Leg room service_1</th>\n",
       "      <th>Leg room service_2</th>\n",
       "      <th>Leg room service_3</th>\n",
       "      <th>Leg room service_4</th>\n",
       "      <th>Leg room service_5</th>\n",
       "      <th>Baggage handling_1</th>\n",
       "      <th>Baggage handling_2</th>\n",
       "      <th>Baggage handling_3</th>\n",
       "      <th>Baggage handling_4</th>\n",
       "      <th>Baggage handling_5</th>\n",
       "      <th>Checkin service_0</th>\n",
       "      <th>Checkin service_1</th>\n",
       "      <th>Checkin service_2</th>\n",
       "      <th>Checkin service_3</th>\n",
       "      <th>Checkin service_4</th>\n",
       "      <th>Checkin service_5</th>\n",
       "      <th>Cleanliness_0</th>\n",
       "      <th>Cleanliness_1</th>\n",
       "      <th>Cleanliness_2</th>\n",
       "      <th>Cleanliness_3</th>\n",
       "      <th>Cleanliness_4</th>\n",
       "      <th>Cleanliness_5</th>\n",
       "      <th>Online boarding_0</th>\n",
       "      <th>Online boarding_1</th>\n",
       "      <th>Online boarding_2</th>\n",
       "      <th>Online boarding_3</th>\n",
       "      <th>Online boarding_4</th>\n",
       "      <th>Online boarding_5</th>\n",
       "      <th>Class_0</th>\n",
       "      <th>Class_1</th>\n",
       "      <th>Class_2</th>\n",
       "    </tr>\n",
       "  </thead>\n",
       "  <tbody>\n",
       "    <tr>\n",
       "      <th>0</th>\n",
       "      <td>65</td>\n",
       "      <td>265</td>\n",
       "      <td>0</td>\n",
       "      <td>0.0</td>\n",
       "      <td>1</td>\n",
       "      <td>0</td>\n",
       "      <td>1</td>\n",
       "      <td>1</td>\n",
       "      <td>0</td>\n",
       "      <td>0</td>\n",
       "      <td>0</td>\n",
       "      <td>0</td>\n",
       "      <td>0</td>\n",
       "      <td>1</td>\n",
       "      <td>0</td>\n",
       "      <td>0</td>\n",
       "      <td>0</td>\n",
       "      <td>0</td>\n",
       "      <td>0</td>\n",
       "      <td>1</td>\n",
       "      <td>0</td>\n",
       "      <td>0</td>\n",
       "      <td>0</td>\n",
       "      <td>0</td>\n",
       "      <td>0</td>\n",
       "      <td>0</td>\n",
       "      <td>0</td>\n",
       "      <td>1</td>\n",
       "      <td>0</td>\n",
       "      <td>0</td>\n",
       "      <td>0</td>\n",
       "      <td>0</td>\n",
       "      <td>0</td>\n",
       "      <td>1</td>\n",
       "      <td>0</td>\n",
       "      <td>0</td>\n",
       "      <td>0</td>\n",
       "      <td>0</td>\n",
       "      <td>0</td>\n",
       "      <td>0</td>\n",
       "      <td>0</td>\n",
       "      <td>1</td>\n",
       "      <td>0</td>\n",
       "      <td>0</td>\n",
       "      <td>0</td>\n",
       "      <td>1</td>\n",
       "      <td>0</td>\n",
       "      <td>0</td>\n",
       "      <td>0</td>\n",
       "      <td>0</td>\n",
       "      <td>0</td>\n",
       "      <td>0</td>\n",
       "      <td>1</td>\n",
       "      <td>0</td>\n",
       "      <td>0</td>\n",
       "      <td>0</td>\n",
       "      <td>0</td>\n",
       "      <td>0</td>\n",
       "      <td>1</td>\n",
       "      <td>0</td>\n",
       "      <td>0</td>\n",
       "      <td>1</td>\n",
       "      <td>0</td>\n",
       "      <td>0</td>\n",
       "      <td>0</td>\n",
       "      <td>0</td>\n",
       "      <td>0</td>\n",
       "      <td>0</td>\n",
       "      <td>0</td>\n",
       "      <td>1</td>\n",
       "      <td>0</td>\n",
       "      <td>0</td>\n",
       "      <td>0</td>\n",
       "      <td>0</td>\n",
       "      <td>0</td>\n",
       "      <td>0</td>\n",
       "      <td>0</td>\n",
       "      <td>1</td>\n",
       "      <td>0</td>\n",
       "      <td>0</td>\n",
       "      <td>0</td>\n",
       "      <td>1</td>\n",
       "      <td>0</td>\n",
       "      <td>0</td>\n",
       "      <td>0</td>\n",
       "      <td>0</td>\n",
       "      <td>1</td>\n",
       "      <td>0</td>\n",
       "      <td>0</td>\n",
       "      <td>0</td>\n",
       "      <td>0</td>\n",
       "      <td>1</td>\n",
       "      <td>0</td>\n",
       "    </tr>\n",
       "    <tr>\n",
       "      <th>1</th>\n",
       "      <td>47</td>\n",
       "      <td>2464</td>\n",
       "      <td>310</td>\n",
       "      <td>305.0</td>\n",
       "      <td>1</td>\n",
       "      <td>0</td>\n",
       "      <td>1</td>\n",
       "      <td>1</td>\n",
       "      <td>0</td>\n",
       "      <td>0</td>\n",
       "      <td>0</td>\n",
       "      <td>0</td>\n",
       "      <td>0</td>\n",
       "      <td>1</td>\n",
       "      <td>0</td>\n",
       "      <td>0</td>\n",
       "      <td>0</td>\n",
       "      <td>0</td>\n",
       "      <td>0</td>\n",
       "      <td>1</td>\n",
       "      <td>0</td>\n",
       "      <td>0</td>\n",
       "      <td>0</td>\n",
       "      <td>0</td>\n",
       "      <td>0</td>\n",
       "      <td>0</td>\n",
       "      <td>0</td>\n",
       "      <td>0</td>\n",
       "      <td>1</td>\n",
       "      <td>0</td>\n",
       "      <td>0</td>\n",
       "      <td>1</td>\n",
       "      <td>0</td>\n",
       "      <td>0</td>\n",
       "      <td>0</td>\n",
       "      <td>0</td>\n",
       "      <td>0</td>\n",
       "      <td>0</td>\n",
       "      <td>0</td>\n",
       "      <td>1</td>\n",
       "      <td>0</td>\n",
       "      <td>0</td>\n",
       "      <td>0</td>\n",
       "      <td>0</td>\n",
       "      <td>0</td>\n",
       "      <td>1</td>\n",
       "      <td>0</td>\n",
       "      <td>0</td>\n",
       "      <td>0</td>\n",
       "      <td>0</td>\n",
       "      <td>0</td>\n",
       "      <td>0</td>\n",
       "      <td>1</td>\n",
       "      <td>0</td>\n",
       "      <td>0</td>\n",
       "      <td>0</td>\n",
       "      <td>0</td>\n",
       "      <td>0</td>\n",
       "      <td>0</td>\n",
       "      <td>1</td>\n",
       "      <td>0</td>\n",
       "      <td>0</td>\n",
       "      <td>0</td>\n",
       "      <td>0</td>\n",
       "      <td>0</td>\n",
       "      <td>1</td>\n",
       "      <td>0</td>\n",
       "      <td>0</td>\n",
       "      <td>0</td>\n",
       "      <td>0</td>\n",
       "      <td>1</td>\n",
       "      <td>0</td>\n",
       "      <td>0</td>\n",
       "      <td>0</td>\n",
       "      <td>1</td>\n",
       "      <td>0</td>\n",
       "      <td>0</td>\n",
       "      <td>0</td>\n",
       "      <td>0</td>\n",
       "      <td>0</td>\n",
       "      <td>0</td>\n",
       "      <td>1</td>\n",
       "      <td>0</td>\n",
       "      <td>0</td>\n",
       "      <td>0</td>\n",
       "      <td>0</td>\n",
       "      <td>1</td>\n",
       "      <td>0</td>\n",
       "      <td>0</td>\n",
       "      <td>0</td>\n",
       "      <td>1</td>\n",
       "      <td>0</td>\n",
       "      <td>0</td>\n",
       "    </tr>\n",
       "    <tr>\n",
       "      <th>2</th>\n",
       "      <td>15</td>\n",
       "      <td>2138</td>\n",
       "      <td>0</td>\n",
       "      <td>0.0</td>\n",
       "      <td>1</td>\n",
       "      <td>0</td>\n",
       "      <td>1</td>\n",
       "      <td>1</td>\n",
       "      <td>0</td>\n",
       "      <td>0</td>\n",
       "      <td>0</td>\n",
       "      <td>0</td>\n",
       "      <td>0</td>\n",
       "      <td>1</td>\n",
       "      <td>0</td>\n",
       "      <td>0</td>\n",
       "      <td>0</td>\n",
       "      <td>0</td>\n",
       "      <td>0</td>\n",
       "      <td>1</td>\n",
       "      <td>0</td>\n",
       "      <td>0</td>\n",
       "      <td>0</td>\n",
       "      <td>0</td>\n",
       "      <td>0</td>\n",
       "      <td>0</td>\n",
       "      <td>0</td>\n",
       "      <td>0</td>\n",
       "      <td>1</td>\n",
       "      <td>0</td>\n",
       "      <td>0</td>\n",
       "      <td>0</td>\n",
       "      <td>0</td>\n",
       "      <td>1</td>\n",
       "      <td>0</td>\n",
       "      <td>0</td>\n",
       "      <td>0</td>\n",
       "      <td>1</td>\n",
       "      <td>0</td>\n",
       "      <td>0</td>\n",
       "      <td>0</td>\n",
       "      <td>0</td>\n",
       "      <td>0</td>\n",
       "      <td>0</td>\n",
       "      <td>0</td>\n",
       "      <td>1</td>\n",
       "      <td>0</td>\n",
       "      <td>0</td>\n",
       "      <td>0</td>\n",
       "      <td>0</td>\n",
       "      <td>0</td>\n",
       "      <td>1</td>\n",
       "      <td>0</td>\n",
       "      <td>0</td>\n",
       "      <td>0</td>\n",
       "      <td>0</td>\n",
       "      <td>0</td>\n",
       "      <td>0</td>\n",
       "      <td>1</td>\n",
       "      <td>0</td>\n",
       "      <td>0</td>\n",
       "      <td>0</td>\n",
       "      <td>0</td>\n",
       "      <td>0</td>\n",
       "      <td>1</td>\n",
       "      <td>0</td>\n",
       "      <td>0</td>\n",
       "      <td>0</td>\n",
       "      <td>0</td>\n",
       "      <td>0</td>\n",
       "      <td>1</td>\n",
       "      <td>0</td>\n",
       "      <td>0</td>\n",
       "      <td>0</td>\n",
       "      <td>0</td>\n",
       "      <td>0</td>\n",
       "      <td>1</td>\n",
       "      <td>0</td>\n",
       "      <td>0</td>\n",
       "      <td>0</td>\n",
       "      <td>0</td>\n",
       "      <td>0</td>\n",
       "      <td>1</td>\n",
       "      <td>0</td>\n",
       "      <td>0</td>\n",
       "      <td>0</td>\n",
       "      <td>1</td>\n",
       "      <td>0</td>\n",
       "      <td>0</td>\n",
       "      <td>0</td>\n",
       "      <td>0</td>\n",
       "      <td>1</td>\n",
       "      <td>0</td>\n",
       "    </tr>\n",
       "    <tr>\n",
       "      <th>3</th>\n",
       "      <td>60</td>\n",
       "      <td>623</td>\n",
       "      <td>0</td>\n",
       "      <td>0.0</td>\n",
       "      <td>1</td>\n",
       "      <td>0</td>\n",
       "      <td>1</td>\n",
       "      <td>1</td>\n",
       "      <td>0</td>\n",
       "      <td>0</td>\n",
       "      <td>0</td>\n",
       "      <td>0</td>\n",
       "      <td>0</td>\n",
       "      <td>1</td>\n",
       "      <td>0</td>\n",
       "      <td>0</td>\n",
       "      <td>0</td>\n",
       "      <td>0</td>\n",
       "      <td>0</td>\n",
       "      <td>1</td>\n",
       "      <td>0</td>\n",
       "      <td>0</td>\n",
       "      <td>0</td>\n",
       "      <td>0</td>\n",
       "      <td>0</td>\n",
       "      <td>0</td>\n",
       "      <td>0</td>\n",
       "      <td>0</td>\n",
       "      <td>1</td>\n",
       "      <td>0</td>\n",
       "      <td>0</td>\n",
       "      <td>0</td>\n",
       "      <td>0</td>\n",
       "      <td>0</td>\n",
       "      <td>1</td>\n",
       "      <td>0</td>\n",
       "      <td>0</td>\n",
       "      <td>0</td>\n",
       "      <td>0</td>\n",
       "      <td>0</td>\n",
       "      <td>0</td>\n",
       "      <td>1</td>\n",
       "      <td>0</td>\n",
       "      <td>0</td>\n",
       "      <td>0</td>\n",
       "      <td>0</td>\n",
       "      <td>1</td>\n",
       "      <td>0</td>\n",
       "      <td>0</td>\n",
       "      <td>0</td>\n",
       "      <td>1</td>\n",
       "      <td>0</td>\n",
       "      <td>0</td>\n",
       "      <td>0</td>\n",
       "      <td>0</td>\n",
       "      <td>0</td>\n",
       "      <td>1</td>\n",
       "      <td>0</td>\n",
       "      <td>0</td>\n",
       "      <td>0</td>\n",
       "      <td>0</td>\n",
       "      <td>1</td>\n",
       "      <td>0</td>\n",
       "      <td>0</td>\n",
       "      <td>0</td>\n",
       "      <td>0</td>\n",
       "      <td>0</td>\n",
       "      <td>1</td>\n",
       "      <td>0</td>\n",
       "      <td>0</td>\n",
       "      <td>0</td>\n",
       "      <td>0</td>\n",
       "      <td>0</td>\n",
       "      <td>0</td>\n",
       "      <td>0</td>\n",
       "      <td>0</td>\n",
       "      <td>1</td>\n",
       "      <td>0</td>\n",
       "      <td>0</td>\n",
       "      <td>1</td>\n",
       "      <td>0</td>\n",
       "      <td>0</td>\n",
       "      <td>0</td>\n",
       "      <td>0</td>\n",
       "      <td>0</td>\n",
       "      <td>0</td>\n",
       "      <td>0</td>\n",
       "      <td>1</td>\n",
       "      <td>0</td>\n",
       "      <td>0</td>\n",
       "      <td>0</td>\n",
       "      <td>1</td>\n",
       "      <td>0</td>\n",
       "    </tr>\n",
       "    <tr>\n",
       "      <th>4</th>\n",
       "      <td>70</td>\n",
       "      <td>354</td>\n",
       "      <td>0</td>\n",
       "      <td>0.0</td>\n",
       "      <td>1</td>\n",
       "      <td>0</td>\n",
       "      <td>1</td>\n",
       "      <td>1</td>\n",
       "      <td>0</td>\n",
       "      <td>0</td>\n",
       "      <td>0</td>\n",
       "      <td>0</td>\n",
       "      <td>0</td>\n",
       "      <td>1</td>\n",
       "      <td>0</td>\n",
       "      <td>0</td>\n",
       "      <td>0</td>\n",
       "      <td>0</td>\n",
       "      <td>0</td>\n",
       "      <td>1</td>\n",
       "      <td>0</td>\n",
       "      <td>0</td>\n",
       "      <td>0</td>\n",
       "      <td>0</td>\n",
       "      <td>0</td>\n",
       "      <td>0</td>\n",
       "      <td>0</td>\n",
       "      <td>0</td>\n",
       "      <td>1</td>\n",
       "      <td>0</td>\n",
       "      <td>0</td>\n",
       "      <td>0</td>\n",
       "      <td>0</td>\n",
       "      <td>0</td>\n",
       "      <td>0</td>\n",
       "      <td>1</td>\n",
       "      <td>0</td>\n",
       "      <td>0</td>\n",
       "      <td>0</td>\n",
       "      <td>0</td>\n",
       "      <td>1</td>\n",
       "      <td>0</td>\n",
       "      <td>0</td>\n",
       "      <td>0</td>\n",
       "      <td>0</td>\n",
       "      <td>0</td>\n",
       "      <td>0</td>\n",
       "      <td>1</td>\n",
       "      <td>0</td>\n",
       "      <td>0</td>\n",
       "      <td>0</td>\n",
       "      <td>1</td>\n",
       "      <td>0</td>\n",
       "      <td>0</td>\n",
       "      <td>0</td>\n",
       "      <td>0</td>\n",
       "      <td>0</td>\n",
       "      <td>1</td>\n",
       "      <td>0</td>\n",
       "      <td>0</td>\n",
       "      <td>0</td>\n",
       "      <td>1</td>\n",
       "      <td>0</td>\n",
       "      <td>0</td>\n",
       "      <td>0</td>\n",
       "      <td>0</td>\n",
       "      <td>0</td>\n",
       "      <td>0</td>\n",
       "      <td>1</td>\n",
       "      <td>0</td>\n",
       "      <td>0</td>\n",
       "      <td>0</td>\n",
       "      <td>0</td>\n",
       "      <td>0</td>\n",
       "      <td>0</td>\n",
       "      <td>0</td>\n",
       "      <td>1</td>\n",
       "      <td>0</td>\n",
       "      <td>0</td>\n",
       "      <td>0</td>\n",
       "      <td>1</td>\n",
       "      <td>0</td>\n",
       "      <td>0</td>\n",
       "      <td>0</td>\n",
       "      <td>0</td>\n",
       "      <td>0</td>\n",
       "      <td>0</td>\n",
       "      <td>0</td>\n",
       "      <td>0</td>\n",
       "      <td>1</td>\n",
       "      <td>0</td>\n",
       "      <td>1</td>\n",
       "      <td>0</td>\n",
       "    </tr>\n",
       "  </tbody>\n",
       "</table>\n",
       "</div>"
      ],
      "text/plain": [
       "   Age  Flight Distance  Departure Delay in Minutes  Arrival Delay in Minutes  \\\n",
       "0   65              265                           0                       0.0   \n",
       "1   47             2464                         310                     305.0   \n",
       "2   15             2138                           0                       0.0   \n",
       "3   60              623                           0                       0.0   \n",
       "4   70              354                           0                       0.0   \n",
       "\n",
       "   satisfaction  Customer Type  Type of Travel  Seat comfort_0  \\\n",
       "0             1              0               1               1   \n",
       "1             1              0               1               1   \n",
       "2             1              0               1               1   \n",
       "3             1              0               1               1   \n",
       "4             1              0               1               1   \n",
       "\n",
       "   Seat comfort_1  Seat comfort_2  Seat comfort_3  Seat comfort_4  \\\n",
       "0               0               0               0               0   \n",
       "1               0               0               0               0   \n",
       "2               0               0               0               0   \n",
       "3               0               0               0               0   \n",
       "4               0               0               0               0   \n",
       "\n",
       "   Seat comfort_5  Departure/Arrival time convenient_0  \\\n",
       "0               0                                    1   \n",
       "1               0                                    1   \n",
       "2               0                                    1   \n",
       "3               0                                    1   \n",
       "4               0                                    1   \n",
       "\n",
       "   Departure/Arrival time convenient_1  Departure/Arrival time convenient_2  \\\n",
       "0                                    0                                    0   \n",
       "1                                    0                                    0   \n",
       "2                                    0                                    0   \n",
       "3                                    0                                    0   \n",
       "4                                    0                                    0   \n",
       "\n",
       "   Departure/Arrival time convenient_3  Departure/Arrival time convenient_4  \\\n",
       "0                                    0                                    0   \n",
       "1                                    0                                    0   \n",
       "2                                    0                                    0   \n",
       "3                                    0                                    0   \n",
       "4                                    0                                    0   \n",
       "\n",
       "   Departure/Arrival time convenient_5  Food and drink_0  Food and drink_1  \\\n",
       "0                                    0                 1                 0   \n",
       "1                                    0                 1                 0   \n",
       "2                                    0                 1                 0   \n",
       "3                                    0                 1                 0   \n",
       "4                                    0                 1                 0   \n",
       "\n",
       "   Food and drink_2  Food and drink_3  Food and drink_4  Food and drink_5  \\\n",
       "0                 0                 0                 0                 0   \n",
       "1                 0                 0                 0                 0   \n",
       "2                 0                 0                 0                 0   \n",
       "3                 0                 0                 0                 0   \n",
       "4                 0                 0                 0                 0   \n",
       "\n",
       "   Gate location_0  Gate location_1  Gate location_2  Gate location_3  \\\n",
       "0                0                0                1                0   \n",
       "1                0                0                0                1   \n",
       "2                0                0                0                1   \n",
       "3                0                0                0                1   \n",
       "4                0                0                0                1   \n",
       "\n",
       "   Gate location_4  Gate location_5  Inflight wifi service_0  \\\n",
       "0                0                0                        0   \n",
       "1                0                0                        1   \n",
       "2                0                0                        0   \n",
       "3                0                0                        0   \n",
       "4                0                0                        0   \n",
       "\n",
       "   Inflight wifi service_1  Inflight wifi service_2  Inflight wifi service_3  \\\n",
       "0                        0                        1                        0   \n",
       "1                        0                        0                        0   \n",
       "2                        0                        1                        0   \n",
       "3                        0                        0                        1   \n",
       "4                        0                        0                        0   \n",
       "\n",
       "   Inflight wifi service_4  Inflight wifi service_5  Inflight entertainment_0  \\\n",
       "0                        0                        0                         0   \n",
       "1                        0                        0                         0   \n",
       "2                        0                        0                         1   \n",
       "3                        0                        0                         0   \n",
       "4                        1                        0                         0   \n",
       "\n",
       "   Inflight entertainment_1  Inflight entertainment_2  \\\n",
       "0                         0                         0   \n",
       "1                         0                         1   \n",
       "2                         0                         0   \n",
       "3                         0                         0   \n",
       "4                         0                         0   \n",
       "\n",
       "   Inflight entertainment_3  Inflight entertainment_4  \\\n",
       "0                         0                         1   \n",
       "1                         0                         0   \n",
       "2                         0                         0   \n",
       "3                         0                         1   \n",
       "4                         1                         0   \n",
       "\n",
       "   Inflight entertainment_5  Online support_0  Online support_1  \\\n",
       "0                         0                 0                 0   \n",
       "1                         0                 0                 0   \n",
       "2                         0                 0                 0   \n",
       "3                         0                 0                 0   \n",
       "4                         0                 0                 0   \n",
       "\n",
       "   Online support_2  Online support_3  Online support_4  Online support_5  \\\n",
       "0                 1                 0                 0                 0   \n",
       "1                 1                 0                 0                 0   \n",
       "2                 1                 0                 0                 0   \n",
       "3                 0                 1                 0                 0   \n",
       "4                 0                 0                 1                 0   \n",
       "\n",
       "   Ease of Online booking_0  Ease of Online booking_1  \\\n",
       "0                         0                         0   \n",
       "1                         0                         0   \n",
       "2                         0                         0   \n",
       "3                         0                         1   \n",
       "4                         0                         0   \n",
       "\n",
       "   Ease of Online booking_2  Ease of Online booking_3  \\\n",
       "0                         0                         1   \n",
       "1                         0                         1   \n",
       "2                         1                         0   \n",
       "3                         0                         0   \n",
       "4                         1                         0   \n",
       "\n",
       "   Ease of Online booking_4  Ease of Online booking_5  On-board service_0  \\\n",
       "0                         0                         0                   0   \n",
       "1                         0                         0                   0   \n",
       "2                         0                         0                   0   \n",
       "3                         0                         0                   0   \n",
       "4                         0                         0                   0   \n",
       "\n",
       "   On-board service_1  On-board service_2  On-board service_3  \\\n",
       "0                   0                   0                   1   \n",
       "1                   0                   0                   0   \n",
       "2                   0                   0                   1   \n",
       "3                   1                   0                   0   \n",
       "4                   0                   1                   0   \n",
       "\n",
       "   On-board service_4  On-board service_5  Leg room service_0  \\\n",
       "0                   0                   0                   1   \n",
       "1                   1                   0                   0   \n",
       "2                   0                   0                   0   \n",
       "3                   0                   0                   1   \n",
       "4                   0                   0                   1   \n",
       "\n",
       "   Leg room service_1  Leg room service_2  Leg room service_3  \\\n",
       "0                   0                   0                   0   \n",
       "1                   0                   0                   0   \n",
       "2                   0                   0                   1   \n",
       "3                   0                   0                   0   \n",
       "4                   0                   0                   0   \n",
       "\n",
       "   Leg room service_4  Leg room service_5  Baggage handling_1  \\\n",
       "0                   0                   0                   0   \n",
       "1                   1                   0                   0   \n",
       "2                   0                   0                   0   \n",
       "3                   0                   0                   1   \n",
       "4                   0                   0                   0   \n",
       "\n",
       "   Baggage handling_2  Baggage handling_3  Baggage handling_4  \\\n",
       "0                   0                   1                   0   \n",
       "1                   0                   0                   1   \n",
       "2                   0                   0                   1   \n",
       "3                   0                   0                   0   \n",
       "4                   1                   0                   0   \n",
       "\n",
       "   Baggage handling_5  Checkin service_0  Checkin service_1  \\\n",
       "0                   0                  0                  0   \n",
       "1                   0                  0                  0   \n",
       "2                   0                  0                  0   \n",
       "3                   0                  0                  0   \n",
       "4                   0                  0                  0   \n",
       "\n",
       "   Checkin service_2  Checkin service_3  Checkin service_4  Checkin service_5  \\\n",
       "0                  0                  0                  0                  1   \n",
       "1                  1                  0                  0                  0   \n",
       "2                  0                  0                  1                  0   \n",
       "3                  0                  0                  1                  0   \n",
       "4                  0                  0                  1                  0   \n",
       "\n",
       "   Cleanliness_0  Cleanliness_1  Cleanliness_2  Cleanliness_3  Cleanliness_4  \\\n",
       "0              0              0              0              1              0   \n",
       "1              0              0              0              1              0   \n",
       "2              0              0              0              0              1   \n",
       "3              0              1              0              0              0   \n",
       "4              0              0              1              0              0   \n",
       "\n",
       "   Cleanliness_5  Online boarding_0  Online boarding_1  Online boarding_2  \\\n",
       "0              0                  0                  0                  1   \n",
       "1              0                  0                  0                  1   \n",
       "2              0                  0                  0                  1   \n",
       "3              0                  0                  0                  0   \n",
       "4              0                  0                  0                  0   \n",
       "\n",
       "   Online boarding_3  Online boarding_4  Online boarding_5  Class_0  Class_1  \\\n",
       "0                  0                  0                  0        0        1   \n",
       "1                  0                  0                  0        1        0   \n",
       "2                  0                  0                  0        0        1   \n",
       "3                  1                  0                  0        0        1   \n",
       "4                  0                  0                  1        0        1   \n",
       "\n",
       "   Class_2  \n",
       "0        0  \n",
       "1        0  \n",
       "2        0  \n",
       "3        0  \n",
       "4        0  "
      ]
     },
     "execution_count": 35,
     "metadata": {},
     "output_type": "execute_result"
    }
   ],
   "source": [
    "# Display the first 10 rows.\n",
    "\n",
    "### YOUR CODE HERE ###\n",
    "air_data_subset_dummies.head()"
   ]
  },
  {
   "cell_type": "markdown",
   "id": "5cb07f46",
   "metadata": {
    "id": "fXzLIPbYYvud"
   },
   "source": [
    "Then, check the variables of air_data_subset_dummies."
   ]
  },
  {
   "cell_type": "code",
   "execution_count": 36,
   "id": "287d47cb",
   "metadata": {
    "id": "X1V76nRmZoWN"
   },
   "outputs": [
    {
     "name": "stdout",
     "output_type": "stream",
     "text": [
      "<class 'pandas.core.frame.DataFrame'>\n",
      "Index: 129487 entries, 0 to 129879\n",
      "Data columns (total 93 columns):\n",
      " #   Column                               Non-Null Count   Dtype  \n",
      "---  ------                               --------------   -----  \n",
      " 0   Age                                  129487 non-null  int64  \n",
      " 1   Flight Distance                      129487 non-null  int64  \n",
      " 2   Departure Delay in Minutes           129487 non-null  int64  \n",
      " 3   Arrival Delay in Minutes             129487 non-null  float64\n",
      " 4   satisfaction                         129487 non-null  int64  \n",
      " 5   Customer Type                        129487 non-null  int64  \n",
      " 6   Type of Travel                       129487 non-null  int64  \n",
      " 7   Seat comfort_0                       129487 non-null  int64  \n",
      " 8   Seat comfort_1                       129487 non-null  int64  \n",
      " 9   Seat comfort_2                       129487 non-null  int64  \n",
      " 10  Seat comfort_3                       129487 non-null  int64  \n",
      " 11  Seat comfort_4                       129487 non-null  int64  \n",
      " 12  Seat comfort_5                       129487 non-null  int64  \n",
      " 13  Departure/Arrival time convenient_0  129487 non-null  int64  \n",
      " 14  Departure/Arrival time convenient_1  129487 non-null  int64  \n",
      " 15  Departure/Arrival time convenient_2  129487 non-null  int64  \n",
      " 16  Departure/Arrival time convenient_3  129487 non-null  int64  \n",
      " 17  Departure/Arrival time convenient_4  129487 non-null  int64  \n",
      " 18  Departure/Arrival time convenient_5  129487 non-null  int64  \n",
      " 19  Food and drink_0                     129487 non-null  int64  \n",
      " 20  Food and drink_1                     129487 non-null  int64  \n",
      " 21  Food and drink_2                     129487 non-null  int64  \n",
      " 22  Food and drink_3                     129487 non-null  int64  \n",
      " 23  Food and drink_4                     129487 non-null  int64  \n",
      " 24  Food and drink_5                     129487 non-null  int64  \n",
      " 25  Gate location_0                      129487 non-null  int64  \n",
      " 26  Gate location_1                      129487 non-null  int64  \n",
      " 27  Gate location_2                      129487 non-null  int64  \n",
      " 28  Gate location_3                      129487 non-null  int64  \n",
      " 29  Gate location_4                      129487 non-null  int64  \n",
      " 30  Gate location_5                      129487 non-null  int64  \n",
      " 31  Inflight wifi service_0              129487 non-null  int64  \n",
      " 32  Inflight wifi service_1              129487 non-null  int64  \n",
      " 33  Inflight wifi service_2              129487 non-null  int64  \n",
      " 34  Inflight wifi service_3              129487 non-null  int64  \n",
      " 35  Inflight wifi service_4              129487 non-null  int64  \n",
      " 36  Inflight wifi service_5              129487 non-null  int64  \n",
      " 37  Inflight entertainment_0             129487 non-null  int64  \n",
      " 38  Inflight entertainment_1             129487 non-null  int64  \n",
      " 39  Inflight entertainment_2             129487 non-null  int64  \n",
      " 40  Inflight entertainment_3             129487 non-null  int64  \n",
      " 41  Inflight entertainment_4             129487 non-null  int64  \n",
      " 42  Inflight entertainment_5             129487 non-null  int64  \n",
      " 43  Online support_0                     129487 non-null  int64  \n",
      " 44  Online support_1                     129487 non-null  int64  \n",
      " 45  Online support_2                     129487 non-null  int64  \n",
      " 46  Online support_3                     129487 non-null  int64  \n",
      " 47  Online support_4                     129487 non-null  int64  \n",
      " 48  Online support_5                     129487 non-null  int64  \n",
      " 49  Ease of Online booking_0             129487 non-null  int64  \n",
      " 50  Ease of Online booking_1             129487 non-null  int64  \n",
      " 51  Ease of Online booking_2             129487 non-null  int64  \n",
      " 52  Ease of Online booking_3             129487 non-null  int64  \n",
      " 53  Ease of Online booking_4             129487 non-null  int64  \n",
      " 54  Ease of Online booking_5             129487 non-null  int64  \n",
      " 55  On-board service_0                   129487 non-null  int64  \n",
      " 56  On-board service_1                   129487 non-null  int64  \n",
      " 57  On-board service_2                   129487 non-null  int64  \n",
      " 58  On-board service_3                   129487 non-null  int64  \n",
      " 59  On-board service_4                   129487 non-null  int64  \n",
      " 60  On-board service_5                   129487 non-null  int64  \n",
      " 61  Leg room service_0                   129487 non-null  int64  \n",
      " 62  Leg room service_1                   129487 non-null  int64  \n",
      " 63  Leg room service_2                   129487 non-null  int64  \n",
      " 64  Leg room service_3                   129487 non-null  int64  \n",
      " 65  Leg room service_4                   129487 non-null  int64  \n",
      " 66  Leg room service_5                   129487 non-null  int64  \n",
      " 67  Baggage handling_1                   129487 non-null  int64  \n",
      " 68  Baggage handling_2                   129487 non-null  int64  \n",
      " 69  Baggage handling_3                   129487 non-null  int64  \n",
      " 70  Baggage handling_4                   129487 non-null  int64  \n",
      " 71  Baggage handling_5                   129487 non-null  int64  \n",
      " 72  Checkin service_0                    129487 non-null  int64  \n",
      " 73  Checkin service_1                    129487 non-null  int64  \n",
      " 74  Checkin service_2                    129487 non-null  int64  \n",
      " 75  Checkin service_3                    129487 non-null  int64  \n",
      " 76  Checkin service_4                    129487 non-null  int64  \n",
      " 77  Checkin service_5                    129487 non-null  int64  \n",
      " 78  Cleanliness_0                        129487 non-null  int64  \n",
      " 79  Cleanliness_1                        129487 non-null  int64  \n",
      " 80  Cleanliness_2                        129487 non-null  int64  \n",
      " 81  Cleanliness_3                        129487 non-null  int64  \n",
      " 82  Cleanliness_4                        129487 non-null  int64  \n",
      " 83  Cleanliness_5                        129487 non-null  int64  \n",
      " 84  Online boarding_0                    129487 non-null  int64  \n",
      " 85  Online boarding_1                    129487 non-null  int64  \n",
      " 86  Online boarding_2                    129487 non-null  int64  \n",
      " 87  Online boarding_3                    129487 non-null  int64  \n",
      " 88  Online boarding_4                    129487 non-null  int64  \n",
      " 89  Online boarding_5                    129487 non-null  int64  \n",
      " 90  Class_0                              129487 non-null  int64  \n",
      " 91  Class_1                              129487 non-null  int64  \n",
      " 92  Class_2                              129487 non-null  int64  \n",
      "dtypes: float64(1), int64(92)\n",
      "memory usage: 96.9 MB\n"
     ]
    }
   ],
   "source": [
    "# Display variables.\n",
    "\n",
    "### YOUR CODE HERE ###\n",
    "air_data_subset_dummies.info()"
   ]
  },
  {
   "cell_type": "markdown",
   "id": "d93beb5b",
   "metadata": {
    "id": "GJkFXh96gIA2"
   },
   "source": [
    "**Question:** What changes do you observe after converting the string data to dummy variables?**\n",
    "\n",
    "We have a higher number of columns."
   ]
  },
  {
   "cell_type": "markdown",
   "id": "138f4f65",
   "metadata": {
    "id": "6b7f8803-44ee-47cf-b97a-efaf5c0fdd59",
    "tags": []
   },
   "source": [
    "## **Step 3: Model building** "
   ]
  },
  {
   "cell_type": "markdown",
   "id": "74a8862e",
   "metadata": {
    "id": "7sf5gGBFySHv"
   },
   "source": [
    "The first step to building your model is separating the labels (y) from the features (X)."
   ]
  },
  {
   "cell_type": "code",
   "execution_count": 46,
   "id": "52c6313b",
   "metadata": {
    "id": "80535d2f-8b1a-4715-b07a-f3734d8cc4c5"
   },
   "outputs": [],
   "source": [
    "# Separate the dataset into labels (y) and features (X).\n",
    "\n",
    "### YOUR CODE HERE ###\n",
    "y = air_data_subset_dummies['satisfaction']\n",
    "X = air_data_subset_dummies[['Age',\n",
    " 'Flight Distance',\n",
    " 'Departure Delay in Minutes',\n",
    " 'Arrival Delay in Minutes',\n",
    " 'Customer Type',\n",
    " 'Type of Travel',\n",
    " 'Seat comfort_0',\n",
    " 'Seat comfort_1',\n",
    " 'Seat comfort_2',\n",
    " 'Seat comfort_3',\n",
    " 'Seat comfort_4',\n",
    " 'Seat comfort_5',\n",
    " 'Departure/Arrival time convenient_0',\n",
    " 'Departure/Arrival time convenient_1',\n",
    " 'Departure/Arrival time convenient_2',\n",
    " 'Departure/Arrival time convenient_3',\n",
    " 'Departure/Arrival time convenient_4',\n",
    " 'Departure/Arrival time convenient_5',\n",
    " 'Food and drink_0',\n",
    " 'Food and drink_1',\n",
    " 'Food and drink_2',\n",
    " 'Food and drink_3',\n",
    " 'Food and drink_4',\n",
    " 'Food and drink_5',\n",
    " 'Gate location_0',\n",
    " 'Gate location_1',\n",
    " 'Gate location_2',\n",
    " 'Gate location_3',\n",
    " 'Gate location_4',\n",
    " 'Gate location_5',\n",
    " 'Inflight wifi service_0',\n",
    " 'Inflight wifi service_1',\n",
    " 'Inflight wifi service_2',\n",
    " 'Inflight wifi service_3',\n",
    " 'Inflight wifi service_4',\n",
    " 'Inflight wifi service_5',\n",
    " 'Inflight entertainment_0',\n",
    " 'Inflight entertainment_1',\n",
    " 'Inflight entertainment_2',\n",
    " 'Inflight entertainment_3',\n",
    " 'Inflight entertainment_4',\n",
    " 'Inflight entertainment_5',\n",
    " 'Online support_0',\n",
    " 'Online support_1',\n",
    " 'Online support_2',\n",
    " 'Online support_3',\n",
    " 'Online support_4',\n",
    " 'Online support_5',\n",
    " 'Ease of Online booking_0',\n",
    " 'Ease of Online booking_1',\n",
    " 'Ease of Online booking_2',\n",
    " 'Ease of Online booking_3',\n",
    " 'Ease of Online booking_4',\n",
    " 'Ease of Online booking_5',\n",
    " 'On-board service_0',\n",
    " 'On-board service_1',\n",
    " 'On-board service_2',\n",
    " 'On-board service_3',\n",
    " 'On-board service_4',\n",
    " 'On-board service_5',\n",
    " 'Leg room service_0',\n",
    " 'Leg room service_1',\n",
    " 'Leg room service_2',\n",
    " 'Leg room service_3',\n",
    " 'Leg room service_4',\n",
    " 'Leg room service_5',\n",
    " 'Baggage handling_1',\n",
    " 'Baggage handling_2',\n",
    " 'Baggage handling_3',\n",
    " 'Baggage handling_4',\n",
    " 'Baggage handling_5',\n",
    " 'Checkin service_0',\n",
    " 'Checkin service_1',\n",
    " 'Checkin service_2',\n",
    " 'Checkin service_3',\n",
    " 'Checkin service_4',\n",
    " 'Checkin service_5',\n",
    " 'Cleanliness_0',\n",
    " 'Cleanliness_1',\n",
    " 'Cleanliness_2',\n",
    " 'Cleanliness_3',\n",
    " 'Cleanliness_4',\n",
    " 'Cleanliness_5',\n",
    " 'Online boarding_0',\n",
    " 'Online boarding_1',\n",
    " 'Online boarding_2',\n",
    " 'Online boarding_3',\n",
    " 'Online boarding_4',\n",
    " 'Online boarding_5',\n",
    " 'Class_0',\n",
    " 'Class_1',\n",
    " 'Class_2']]"
   ]
  },
  {
   "cell_type": "markdown",
   "id": "98f1e19a",
   "metadata": {
    "id": "18fn6lxL8O8Q"
   },
   "source": [
    "<details>\n",
    "<summary><h4><strong>Hint 1</strong></h4></summary>\n",
    "\n",
    "Save the labels (the values in the `satisfaction` column) as `y`.\n",
    "\n",
    "Save the features as `X`. \n",
    "\n",
    "</details>"
   ]
  },
  {
   "cell_type": "markdown",
   "id": "4f4227b1",
   "metadata": {},
   "source": [
    "<details>\n",
    "<summary><h4><strong>Hint 2</strong></h4></summary>\n",
    "\n",
    "To obtain the features, drop the `satisfaction` column from the DataFrame.\n",
    "\n",
    "</details>"
   ]
  },
  {
   "cell_type": "markdown",
   "id": "1c422a65",
   "metadata": {
    "id": "49a6c7ae"
   },
   "source": [
    "Once separated, split the data into train, validate, and test sets. "
   ]
  },
  {
   "cell_type": "code",
   "execution_count": 47,
   "id": "7d2b3fd6",
   "metadata": {
    "id": "0de77cb8"
   },
   "outputs": [],
   "source": [
    "# Separate into train, validate, test sets.\n",
    "\n",
    "### YOUR CODE HERE ###\n",
    "# Split into train and test sets\n",
    "X_train, X_test, y_train, y_test = train_test_split(X, y, test_size = 0.25, random_state = 42)\n",
    "\n",
    "X_tr, X_val, y_tr, y_val = train_test_split(X_train, y_train, test_size = 0.25, random_state = 42)"
   ]
  },
  {
   "cell_type": "markdown",
   "id": "e41063f1",
   "metadata": {
    "id": "59bbd17e-84e5-463c-8806-f2b5286f9ac8",
    "tags": []
   },
   "source": [
    "### Tune the model\n",
    "\n",
    "Now, fit and tune a random forest model with separate validation set. Begin by determining a set of hyperparameters for tuning the model using GridSearchCV.\n"
   ]
  },
  {
   "cell_type": "code",
   "execution_count": 48,
   "id": "6be700dc",
   "metadata": {
    "id": "7bfdf346"
   },
   "outputs": [],
   "source": [
    "# Determine set of hyperparameters.\n",
    "\n",
    "### YOUR CODE HERE ###\n",
    "cv_params = {'n_estimators' : [50,100], \n",
    "              'max_depth' : [10,50],        \n",
    "              'min_samples_leaf' : [0.5,1], \n",
    "              'min_samples_split' : [0.001, 0.01],\n",
    "              'max_features' : [\"sqrt\"], \n",
    "              'max_samples' : [.5,.9]}"
   ]
  },
  {
   "cell_type": "markdown",
   "id": "2f651491",
   "metadata": {
    "id": "zMdizCS0rZB4"
   },
   "source": [
    "<details>\n",
    "<summary><h4><strong>Hint 1</strong></h4></summary>\n",
    "\n",
    "Create a dictionary `cv_params` that maps each hyperparameter name to a list of values. The GridSearch you conduct will set the hyperparameter to each possible value, as specified, and determine which value is optimal.\n",
    "\n",
    "</details>"
   ]
  },
  {
   "cell_type": "markdown",
   "id": "911d6c70",
   "metadata": {
    "id": "Swkbtmw7tMMv"
   },
   "source": [
    "<details>\n",
    "<summary><h4><strong>Hint 2</strong></h4></summary>\n",
    "\n",
    "The main hyperparameters here include `'n_estimators', 'max_depth', 'min_samples_leaf', 'min_samples_split', 'max_features', and 'max_samples'`. These will be the keys in the dictionary `cv_params`.\n",
    "\n",
    "</details>"
   ]
  },
  {
   "cell_type": "markdown",
   "id": "71609ab8",
   "metadata": {},
   "source": [
    "Next, create a list of split indices."
   ]
  },
  {
   "cell_type": "code",
   "execution_count": 51,
   "id": "6f5014ad",
   "metadata": {
    "id": "a58b4d77-6023-428d-89aa-4d2ac52003dc"
   },
   "outputs": [],
   "source": [
    "# Create list of split indices.\n",
    "\n",
    "### YOUR CODE HERE ###\n",
    "split_index = [0 if x in X_val.index else -1 for x in X_train.index]\n",
    "custom_split = PredefinedSplit(split_index)"
   ]
  },
  {
   "cell_type": "markdown",
   "id": "40729d25",
   "metadata": {
    "id": "USX90GwZt3xU"
   },
   "source": [
    "<details>\n",
    "<summary><h4><strong>Hint 1</strong></h4></summary>\n",
    "\n",
    "Use list comprehension, iterating over the indices of `X_train`. The list can consists of 0s to indicate data points that should be treated as validation data and -1s to indicate data points that should be treated as training data.\n",
    "\n",
    "</details>"
   ]
  },
  {
   "cell_type": "markdown",
   "id": "b2877673",
   "metadata": {},
   "source": [
    "<details>\n",
    "<summary><h4><strong>Hint 2</strong></h4></summary>\n",
    "\n",
    "Use `PredfinedSplit()`, passing in `split_index`, saving the output as `custom_split`. This will serve as a custom split that will identify which data points from the train set should be treated as validation data during GridSearch.\n",
    "\n",
    "</details>"
   ]
  },
  {
   "cell_type": "markdown",
   "id": "17968e5c",
   "metadata": {},
   "source": [
    "Now, instantiate your model."
   ]
  },
  {
   "cell_type": "code",
   "execution_count": 54,
   "id": "d1b45c82",
   "metadata": {
    "id": "U0qvZjujbTKL"
   },
   "outputs": [],
   "source": [
    "# Instantiate model.\n",
    "\n",
    "### YOUR CODE HERE ### \n",
    "rf = RandomForestClassifier(random_state=42)"
   ]
  },
  {
   "cell_type": "markdown",
   "id": "3423fea8",
   "metadata": {
    "id": "voetM7-QwI5w"
   },
   "source": [
    "<details>\n",
    "<summary><h4><strong>Hint 1</strong></h4></summary>\n",
    "\n",
    "Use `RandomForestClassifier()`, specifying the `random_state` argument for reproducible results. This will help you instantiate a random forest model, `rf`.\n",
    "\n",
    "</details>"
   ]
  },
  {
   "cell_type": "markdown",
   "id": "e8444b3b",
   "metadata": {},
   "source": [
    "Next, use GridSearchCV to search over the specified parameters."
   ]
  },
  {
   "cell_type": "code",
   "execution_count": 55,
   "id": "505351ac",
   "metadata": {
    "id": "228e65c3"
   },
   "outputs": [],
   "source": [
    "# Search over specified parameters.\n",
    "\n",
    "### YOUR CODE HERE ### \n",
    "rf_val = GridSearchCV(rf, cv_params, cv=custom_split, refit='f1', n_jobs = -1, verbose = 1)"
   ]
  },
  {
   "cell_type": "markdown",
   "id": "6e8f3a00",
   "metadata": {
    "id": "bppjmuqzwZf3"
   },
   "source": [
    "<details>\n",
    "<summary><h4><strong>Hint 1</strong></h4></summary>\n",
    "\n",
    "Use `GridSearchCV()`, passing in `rf` and `cv_params` and specifying `cv` as `custom_split`. Additional arguments that you can specify include: `refit='f1', n_jobs = -1, verbose = 1`. \n",
    "\n",
    "</details>"
   ]
  },
  {
   "cell_type": "markdown",
   "id": "ad6fcf1e",
   "metadata": {},
   "source": [
    "Now, fit your model."
   ]
  },
  {
   "cell_type": "code",
   "execution_count": 59,
   "id": "0dd4b951",
   "metadata": {
    "id": "gw_woSKtfsAk"
   },
   "outputs": [
    {
     "name": "stdout",
     "output_type": "stream",
     "text": [
      "Fitting 1 folds for each of 32 candidates, totalling 32 fits\n",
      "Fitting 1 folds for each of 32 candidates, totalling 32 fits\n",
      "Fitting 1 folds for each of 32 candidates, totalling 32 fits\n",
      "Fitting 1 folds for each of 32 candidates, totalling 32 fits\n",
      "Fitting 1 folds for each of 32 candidates, totalling 32 fits\n",
      "Fitting 1 folds for each of 32 candidates, totalling 32 fits\n",
      "Fitting 1 folds for each of 32 candidates, totalling 32 fits\n",
      "Fitting 1 folds for each of 32 candidates, totalling 32 fits\n",
      "24.5 s ± 739 ms per loop (mean ± std. dev. of 7 runs, 1 loop each)\n"
     ]
    }
   ],
   "source": [
    "%%timeit\n",
    "# Fit the model.\n",
    "\n",
    "### YOUR CODE HERE ###\n",
    "\n",
    "rf_val.fit(X_train, y_train)"
   ]
  },
  {
   "cell_type": "markdown",
   "id": "fc45c63c",
   "metadata": {},
   "source": [
    "Finally, obtain the optimal parameters."
   ]
  },
  {
   "cell_type": "code",
   "execution_count": 61,
   "id": "ab7540e9",
   "metadata": {
    "id": "c76a0bd9"
   },
   "outputs": [
    {
     "data": {
      "text/plain": [
       "{'max_depth': 50,\n",
       " 'max_features': 'sqrt',\n",
       " 'max_samples': 0.9,\n",
       " 'min_samples_leaf': 1,\n",
       " 'min_samples_split': 0.001,\n",
       " 'n_estimators': 100}"
      ]
     },
     "execution_count": 61,
     "metadata": {},
     "output_type": "execute_result"
    }
   ],
   "source": [
    "# Obtain optimal parameters.\n",
    "\n",
    "### YOUR CODE HERE ###\n",
    "rf_val.best_params_"
   ]
  },
  {
   "cell_type": "markdown",
   "id": "f515e658",
   "metadata": {
    "id": "604a475e"
   },
   "source": [
    "<details>\n",
    "<summary><h4><strong>Hint 1</strong></h4></summary>\n",
    "\n",
    "Use the `best_params_` attribute to obtain the optimal values for the hyperparameters from the GridSearchCV model.\n",
    "\n",
    "</details>"
   ]
  },
  {
   "cell_type": "markdown",
   "id": "8ac681be",
   "metadata": {
    "id": "70fc3ec6-a89a-4b25-a574-29f9d4325694"
   },
   "source": [
    "## **Step 4: Results and evaluation** "
   ]
  },
  {
   "cell_type": "markdown",
   "id": "a4e202b7",
   "metadata": {
    "id": "zXqywQtvyrS1"
   },
   "source": [
    "Use the selected model to predict on your test data. Use the optimal parameters found via GridSearchCV."
   ]
  },
  {
   "cell_type": "code",
   "execution_count": 62,
   "id": "d6803529",
   "metadata": {
    "id": "c6b8aa2d-984f-467a-b52a-e7f21d603a8c"
   },
   "outputs": [],
   "source": [
    "# Use optimal parameters on GridSearchCV.\n",
    "\n",
    "### YOUR CODE HERE ###\n",
    "rf_opt = RandomForestClassifier(**rf_val.best_params_)"
   ]
  },
  {
   "cell_type": "markdown",
   "id": "fc8252ec",
   "metadata": {
    "id": "Tu3sgtdRzmmJ"
   },
   "source": [
    "<details>\n",
    "<summary><h4><strong>Hint 1</strong></h4></summary>\n",
    "\n",
    "Use `RandomForestClassifier()`, specifying the `random_state` argument for reproducible results and passing in the optimal hyperparameters found in the previous step. To distinguish this from the previous random forest model, consider naming this variable `rf_opt`.\n",
    "\n",
    "</details>"
   ]
  },
  {
   "cell_type": "markdown",
   "id": "c8622d9c",
   "metadata": {},
   "source": [
    "Once again, fit the optimal model."
   ]
  },
  {
   "cell_type": "code",
   "execution_count": 64,
   "id": "ebe8a9b4",
   "metadata": {
    "id": "iJ7MkQ3hjh3u"
   },
   "outputs": [
    {
     "name": "stdout",
     "output_type": "stream",
     "text": [
      "CPU times: user 7.19 s, sys: 0 ns, total: 7.19 s\n",
      "Wall time: 7.19 s\n"
     ]
    },
    {
     "data": {
      "text/html": [
       "<style>#sk-container-id-1 {color: black;}#sk-container-id-1 pre{padding: 0;}#sk-container-id-1 div.sk-toggleable {background-color: white;}#sk-container-id-1 label.sk-toggleable__label {cursor: pointer;display: block;width: 100%;margin-bottom: 0;padding: 0.3em;box-sizing: border-box;text-align: center;}#sk-container-id-1 label.sk-toggleable__label-arrow:before {content: \"▸\";float: left;margin-right: 0.25em;color: #696969;}#sk-container-id-1 label.sk-toggleable__label-arrow:hover:before {color: black;}#sk-container-id-1 div.sk-estimator:hover label.sk-toggleable__label-arrow:before {color: black;}#sk-container-id-1 div.sk-toggleable__content {max-height: 0;max-width: 0;overflow: hidden;text-align: left;background-color: #f0f8ff;}#sk-container-id-1 div.sk-toggleable__content pre {margin: 0.2em;color: black;border-radius: 0.25em;background-color: #f0f8ff;}#sk-container-id-1 input.sk-toggleable__control:checked~div.sk-toggleable__content {max-height: 200px;max-width: 100%;overflow: auto;}#sk-container-id-1 input.sk-toggleable__control:checked~label.sk-toggleable__label-arrow:before {content: \"▾\";}#sk-container-id-1 div.sk-estimator input.sk-toggleable__control:checked~label.sk-toggleable__label {background-color: #d4ebff;}#sk-container-id-1 div.sk-label input.sk-toggleable__control:checked~label.sk-toggleable__label {background-color: #d4ebff;}#sk-container-id-1 input.sk-hidden--visually {border: 0;clip: rect(1px 1px 1px 1px);clip: rect(1px, 1px, 1px, 1px);height: 1px;margin: -1px;overflow: hidden;padding: 0;position: absolute;width: 1px;}#sk-container-id-1 div.sk-estimator {font-family: monospace;background-color: #f0f8ff;border: 1px dotted black;border-radius: 0.25em;box-sizing: border-box;margin-bottom: 0.5em;}#sk-container-id-1 div.sk-estimator:hover {background-color: #d4ebff;}#sk-container-id-1 div.sk-parallel-item::after {content: \"\";width: 100%;border-bottom: 1px solid gray;flex-grow: 1;}#sk-container-id-1 div.sk-label:hover label.sk-toggleable__label {background-color: #d4ebff;}#sk-container-id-1 div.sk-serial::before {content: \"\";position: absolute;border-left: 1px solid gray;box-sizing: border-box;top: 0;bottom: 0;left: 50%;z-index: 0;}#sk-container-id-1 div.sk-serial {display: flex;flex-direction: column;align-items: center;background-color: white;padding-right: 0.2em;padding-left: 0.2em;position: relative;}#sk-container-id-1 div.sk-item {position: relative;z-index: 1;}#sk-container-id-1 div.sk-parallel {display: flex;align-items: stretch;justify-content: center;background-color: white;position: relative;}#sk-container-id-1 div.sk-item::before, #sk-container-id-1 div.sk-parallel-item::before {content: \"\";position: absolute;border-left: 1px solid gray;box-sizing: border-box;top: 0;bottom: 0;left: 50%;z-index: -1;}#sk-container-id-1 div.sk-parallel-item {display: flex;flex-direction: column;z-index: 1;position: relative;background-color: white;}#sk-container-id-1 div.sk-parallel-item:first-child::after {align-self: flex-end;width: 50%;}#sk-container-id-1 div.sk-parallel-item:last-child::after {align-self: flex-start;width: 50%;}#sk-container-id-1 div.sk-parallel-item:only-child::after {width: 0;}#sk-container-id-1 div.sk-dashed-wrapped {border: 1px dashed gray;margin: 0 0.4em 0.5em 0.4em;box-sizing: border-box;padding-bottom: 0.4em;background-color: white;}#sk-container-id-1 div.sk-label label {font-family: monospace;font-weight: bold;display: inline-block;line-height: 1.2em;}#sk-container-id-1 div.sk-label-container {text-align: center;}#sk-container-id-1 div.sk-container {/* jupyter's `normalize.less` sets `[hidden] { display: none; }` but bootstrap.min.css set `[hidden] { display: none !important; }` so we also need the `!important` here to be able to override the default hidden behavior on the sphinx rendered scikit-learn.org. See: https://github.com/scikit-learn/scikit-learn/issues/21755 */display: inline-block !important;position: relative;}#sk-container-id-1 div.sk-text-repr-fallback {display: none;}</style><div id=\"sk-container-id-1\" class=\"sk-top-container\"><div class=\"sk-text-repr-fallback\"><pre>RandomForestClassifier(max_depth=50, max_samples=0.9, min_samples_split=0.001)</pre><b>In a Jupyter environment, please rerun this cell to show the HTML representation or trust the notebook. <br />On GitHub, the HTML representation is unable to render, please try loading this page with nbviewer.org.</b></div><div class=\"sk-container\" hidden><div class=\"sk-item\"><div class=\"sk-estimator sk-toggleable\"><input class=\"sk-toggleable__control sk-hidden--visually\" id=\"sk-estimator-id-1\" type=\"checkbox\" checked><label for=\"sk-estimator-id-1\" class=\"sk-toggleable__label sk-toggleable__label-arrow\">RandomForestClassifier</label><div class=\"sk-toggleable__content\"><pre>RandomForestClassifier(max_depth=50, max_samples=0.9, min_samples_split=0.001)</pre></div></div></div></div></div>"
      ],
      "text/plain": [
       "RandomForestClassifier(max_depth=50, max_samples=0.9, min_samples_split=0.001)"
      ]
     },
     "execution_count": 64,
     "metadata": {},
     "output_type": "execute_result"
    }
   ],
   "source": [
    "%%time\n",
    "# Fit the optimal model.\n",
    "\n",
    "### YOUR CODE HERE ###\n",
    "rf_opt.fit(X_train, y_train)"
   ]
  },
  {
   "cell_type": "markdown",
   "id": "3ec4dd96",
   "metadata": {
    "id": "SAKs_7Ms0HAO"
   },
   "source": [
    "<details>\n",
    "<summary><h4><strong>Hint 1</strong></h4></summary>\n",
    "\n",
    "Use the `fit()` method to train `rf_opt` on `X_train` and `y_train`.\n",
    "\n",
    "</details>"
   ]
  },
  {
   "cell_type": "markdown",
   "id": "d6712067",
   "metadata": {},
   "source": [
    "And predict on the test set using the optimal model."
   ]
  },
  {
   "cell_type": "code",
   "execution_count": 65,
   "id": "109af8dc",
   "metadata": {
    "id": "2cc40ec1-5fa4-4803-9021-abea9699a804"
   },
   "outputs": [],
   "source": [
    "# Predict on test set.\n",
    "\n",
    "### YOUR CODE HERE ###\n",
    "y_pred = rf_opt.predict(X_test)"
   ]
  },
  {
   "cell_type": "markdown",
   "id": "7c951345",
   "metadata": {
    "id": "4df36d33"
   },
   "source": [
    "<details>\n",
    "<summary><h4><strong>Hint 1</strong></h4></summary>\n",
    "\n",
    "You can call the `predict()` function to make predictions on `X_test` using `rf_opt`. Save the predictions now (for example, as `y_pred`), to use them later for comparing to the true labels. \n",
    "\n",
    "</details>"
   ]
  },
  {
   "cell_type": "markdown",
   "id": "588691e4",
   "metadata": {
    "id": "153a8200"
   },
   "source": [
    "### Obtain performance scores"
   ]
  },
  {
   "cell_type": "markdown",
   "id": "4c961cb2",
   "metadata": {
    "id": "cea208e9"
   },
   "source": [
    "First, get your precision score."
   ]
  },
  {
   "cell_type": "code",
   "execution_count": 70,
   "id": "fccde5c1",
   "metadata": {
    "id": "6913aa4b"
   },
   "outputs": [
    {
     "name": "stdout",
     "output_type": "stream",
     "text": [
      "The precision score is 0.947\n"
     ]
    }
   ],
   "source": [
    "# Get precision score.\n",
    "\n",
    "### YOUR CODE HERE ###\n",
    "pc_test = precision_score(y_test, y_pred, pos_label=1)\n",
    "print(\"The precision score is {pc:.3f}\".format(pc = pc_test))"
   ]
  },
  {
   "cell_type": "markdown",
   "id": "2cea4a58",
   "metadata": {
    "id": "XVtVtsLV0ddI"
   },
   "source": [
    "<details>\n",
    "<summary><h4><strong>Hint 1</strong></h4></summary>\n",
    "\n",
    "You can call the `precision_score()` function from `sklearn.metrics`, passing in `y_test` and `y_pred` and specifying the `pos_label` argument as `\"satisfied\"`.\n",
    "</details>"
   ]
  },
  {
   "cell_type": "markdown",
   "id": "4026f9f1",
   "metadata": {
    "id": "66dda49b"
   },
   "source": [
    "Then, collect the recall score."
   ]
  },
  {
   "cell_type": "code",
   "execution_count": 71,
   "id": "46b6fd81",
   "metadata": {
    "id": "dd971df6"
   },
   "outputs": [
    {
     "name": "stdout",
     "output_type": "stream",
     "text": [
      "The recall score is 0.939\n"
     ]
    }
   ],
   "source": [
    "# Get recall score.\n",
    "\n",
    "### YOUR CODE HERE ###\n",
    "rc_test = recall_score(y_test, y_pred, pos_label=1)\n",
    "print(\"The recall score is {rc:.3f}\".format(rc = rc_test))"
   ]
  },
  {
   "cell_type": "markdown",
   "id": "6ed21f14",
   "metadata": {
    "id": "5XUaS34s1yH_"
   },
   "source": [
    "<details>\n",
    "<summary><h4><strong>Hint 1</strong></h4></summary>\n",
    "\n",
    "You can call the `recall_score()` function from `sklearn.metrics`, passing in `y_test` and `y_pred` and specifying the `pos_label` argument as `\"satisfied\"`.\n",
    "</details>"
   ]
  },
  {
   "cell_type": "markdown",
   "id": "04bbdf12",
   "metadata": {
    "id": "ea594a68"
   },
   "source": [
    "Next, obtain your accuracy score."
   ]
  },
  {
   "cell_type": "code",
   "execution_count": 72,
   "id": "22861be2",
   "metadata": {
    "id": "011b8b71"
   },
   "outputs": [
    {
     "name": "stdout",
     "output_type": "stream",
     "text": [
      "The accuracy score is 0.938\n"
     ]
    }
   ],
   "source": [
    "# Get accuracy score.\n",
    "\n",
    "### YOUR CODE HERE ###\n",
    "ac_test = accuracy_score(y_test, y_pred)\n",
    "print(\"The accuracy score is {ac:.3f}\".format(ac = ac_test))"
   ]
  },
  {
   "cell_type": "markdown",
   "id": "fd2f9e22",
   "metadata": {
    "id": "QProyXMS10zG"
   },
   "source": [
    "<details>\n",
    "<summary><h4><strong>Hint 1</strong></h4></summary>\n",
    "\n",
    "You can call the `accuracy_score()` function from `sklearn.metrics`, passing in `y_test` and `y_pred` and specifying the `pos_label` argument as `\"satisfied\"`.\n",
    "</details>"
   ]
  },
  {
   "cell_type": "markdown",
   "id": "64d520db",
   "metadata": {
    "id": "871ea5cb"
   },
   "source": [
    "Finally, collect your F1-score."
   ]
  },
  {
   "cell_type": "code",
   "execution_count": 74,
   "id": "18d77f05",
   "metadata": {
    "id": "490fcb3e"
   },
   "outputs": [
    {
     "name": "stdout",
     "output_type": "stream",
     "text": [
      "The F1 score is 0.943\n"
     ]
    }
   ],
   "source": [
    "# Get F1 score.\n",
    "\n",
    "### YOUR CODE HERE ###\n",
    "f1_test = f1_score(y_test, y_pred, pos_label=1)\n",
    "print(\"The F1 score is {f1:.3f}\".format(f1 = f1_test))"
   ]
  },
  {
   "cell_type": "markdown",
   "id": "99c515a2",
   "metadata": {
    "id": "vtBQWSVs13dT"
   },
   "source": [
    "<details>\n",
    "<summary><h4><strong>Hint 1</strong></h4></summary>\n",
    "\n",
    "You can call the `f1_score()` function from `sklearn.metrics`, passing in `y_test` and `y_pred` and specifying the `pos_label` argument as `\"satisfied\"`.\n",
    "</details>"
   ]
  },
  {
   "cell_type": "markdown",
   "id": "c882a5b8",
   "metadata": {
    "id": "1edc4c95-1cf4-4e05-b2a2-dc18cadb3d63"
   },
   "source": [
    "**Question:** How is the F1-score calculated?\n",
    "\n",
    "F1 = 2 * (precision * recall) / (precision + recall)"
   ]
  },
  {
   "cell_type": "markdown",
   "id": "222dcb8f",
   "metadata": {
    "id": "cfkbwjlvcX3k"
   },
   "source": [
    "**Question:** What are the pros and cons of performing the model selection using test data instead of a separate validation dataset?\n",
    "\n",
    "**Question:** What are the pros and cons of performing the model selection using test data instead of a separate validation dataset?\n",
    "\n",
    "Pros:\n",
    "*  The coding workload is reduced.\n",
    "*  The scripts for data splitting are shorter.\n",
    "*  It's only  necessary to evaluate test dataset performance once, instead of two evaluations (validate and test).\n",
    "\n",
    "Cons:\n",
    "* If a model is evaluated using samples that were also used to build or fine-tune that model, it likely will provide a biased evaluation.\n",
    "* A potential overfitting issue could happen when fitting the model's scores on the test data.\n"
   ]
  },
  {
   "cell_type": "markdown",
   "id": "e05d257c",
   "metadata": {
    "id": "510b2158-2813-4600-868e-a909595a2366"
   },
   "source": [
    "### Evaluate the model\n",
    "\n",
    "Now that you have results, evaluate the model. "
   ]
  },
  {
   "cell_type": "markdown",
   "id": "dc72a809",
   "metadata": {
    "id": "57771b26"
   },
   "source": [
    "**Question:** What are the four basic parameters for evaluating the performance of a classification model?\n",
    "\n",
    "1. True positives (TP): These are correctly predicted positive values, which means the value of actual and predicted classes are positive. \n",
    "\n",
    "2. True negatives (TN): These are correctly predicted negative values, which means the value of the actual and predicted classes are negative.\n",
    "\n",
    "3. False positives (FP): This occurs when the value of the actual class is negative and the value of the predicted class is positive.\n",
    "\n",
    "4. False negatives (FN): This occurs when the value of the actual class is positive and the value of the predicted class in negative. \n",
    "\n",
    "**Reminder:** When fitting and tuning classification modeld, data professioals aim to minimize false positives and false negatives."
   ]
  },
  {
   "cell_type": "markdown",
   "id": "155c3a92",
   "metadata": {
    "id": "LojJPkIrjNbJ"
   },
   "source": [
    "**Question:**  What do the four scores demonstrate about your model, and how do you calculate them?\n",
    "\n",
    "- Accuracy (TP+TN/TP+FP+FN+TN): The ratio of correctly predicted observations to total observations. \n",
    " \n",
    "- Precision (TP/TP+FP): The ratio of correctly predicted positive observations to total predicted positive observations. \n",
    "\n",
    "- Recall (Sensitivity, TP/TP+FN): The ratio of correctly predicted positive observations to all observations in actual class.\n",
    "\n",
    "- F1 score: The harmonic average of precision and recall, which takes into account both false positives and false negatives. "
   ]
  },
  {
   "cell_type": "markdown",
   "id": "1af26f57",
   "metadata": {},
   "source": [
    "Calculate the scores: precision score, recall score, accuracy score, F1 score."
   ]
  },
  {
   "cell_type": "code",
   "execution_count": 75,
   "id": "8f1df56e",
   "metadata": {
    "id": "RUT99rnqOds3"
   },
   "outputs": [
    {
     "name": "stdout",
     "output_type": "stream",
     "text": [
      "\n",
      "The precision score is: 0.947 for the test set, \n",
      "which means of all positive predictions, 94.7% prediction are true positive.\n"
     ]
    }
   ],
   "source": [
    "# Precision score on test data set.\n",
    "\n",
    "### YOUR CODE HERE ###\n",
    "# Precision score on test data set.\n",
    "\n",
    "### YOUR CODE HERE ###\n",
    "\n",
    "print(\"\\nThe precision score is: {pc:.3f}\".format(pc = pc_test), \"for the test set,\", \"\\nwhich means of all positive predictions,\", \"{pc_pct:.1f}% prediction are true positive.\".format(pc_pct = pc_test * 100))"
   ]
  },
  {
   "cell_type": "code",
   "execution_count": 76,
   "id": "c4c2d4c8",
   "metadata": {
    "id": "GTiaHUVvTiUN"
   },
   "outputs": [
    {
     "name": "stdout",
     "output_type": "stream",
     "text": [
      "\n",
      "The recall score is: 0.939 for the test set, \n",
      "which means of which means of all real positive cases in test set, 93.9% are  predicted positive.\n"
     ]
    }
   ],
   "source": [
    "# Recall score on test data set.\n",
    "\n",
    "### YOUR CODE HERE ###\n",
    "# Recall score on test data set.\n",
    "\n",
    "### YOUR CODE HERE ###\n",
    "\n",
    "print(\"\\nThe recall score is: {rc:.3f}\".format(rc = rc_test), \"for the test set,\", \"\\nwhich means of which means of all real positive cases in test set,\", \"{rc_pct:.1f}% are  predicted positive.\".format(rc_pct = rc_test * 100))"
   ]
  },
  {
   "cell_type": "code",
   "execution_count": 77,
   "id": "fbabd584",
   "metadata": {
    "id": "VrYHruUdV1Os"
   },
   "outputs": [
    {
     "name": "stdout",
     "output_type": "stream",
     "text": [
      "\n",
      "The accuracy score is: 0.938 for the test set, \n",
      "which means of all cases in test set, 93.8% are predicted true positive or true negative.\n"
     ]
    }
   ],
   "source": [
    "# Accuracy score on test data set.\n",
    "\n",
    "### YOUR CODE HERE ###\n",
    "\n",
    "print(\"\\nThe accuracy score is: {ac:.3f}\".format(ac = ac_test), \"for the test set,\", \"\\nwhich means of all cases in test set,\", \"{ac_pct:.1f}% are predicted true positive or true negative.\".format(ac_pct = ac_test * 100))"
   ]
  },
  {
   "cell_type": "code",
   "execution_count": 78,
   "id": "d7fa29a9",
   "metadata": {
    "id": "pKGc64U2YbL1"
   },
   "outputs": [
    {
     "name": "stdout",
     "output_type": "stream",
     "text": [
      "\n",
      "The F1 score is: 0.943 for the test set, \n",
      "which means the test set's harmonic mean is 94.3%.\n"
     ]
    }
   ],
   "source": [
    "# F1 score on test data set.\n",
    "\n",
    "### YOUR CODE HERE ###\n",
    "\n",
    "print(\"\\nThe F1 score is: {f1:.3f}\".format(f1 = f1_test), \"for the test set,\", \"\\nwhich means the test set's harmonic mean is {f1_pct:.1f}%.\".format(f1_pct = f1_test * 100))"
   ]
  },
  {
   "cell_type": "markdown",
   "id": "1d13c812",
   "metadata": {},
   "source": [
    "**Question:** How does this model perform based on the four scores?\n",
    "\n",
    "[Write your response here. Double-click (or enter) to edit.]"
   ]
  },
  {
   "cell_type": "markdown",
   "id": "30c26c95",
   "metadata": {
    "id": "PaKUSbqDW28K"
   },
   "source": [
    "### Evaluate the model\n",
    "\n",
    "Finally, create a table of results that you can use to evaluate the performace of your model."
   ]
  },
  {
   "cell_type": "code",
   "execution_count": 87,
   "id": "02ba1ddc",
   "metadata": {
    "id": "6L7AgdeldsKZ"
   },
   "outputs": [
    {
     "data": {
      "text/html": [
       "<div>\n",
       "<style scoped>\n",
       "    .dataframe tbody tr th:only-of-type {\n",
       "        vertical-align: middle;\n",
       "    }\n",
       "\n",
       "    .dataframe tbody tr th {\n",
       "        vertical-align: top;\n",
       "    }\n",
       "\n",
       "    .dataframe thead th {\n",
       "        text-align: right;\n",
       "    }\n",
       "</style>\n",
       "<table border=\"1\" class=\"dataframe\">\n",
       "  <thead>\n",
       "    <tr style=\"text-align: right;\">\n",
       "      <th></th>\n",
       "      <th></th>\n",
       "    </tr>\n",
       "  </thead>\n",
       "  <tbody>\n",
       "    <tr>\n",
       "      <th>Model</th>\n",
       "      <td>Tuned Decision Tree</td>\n",
       "    </tr>\n",
       "    <tr>\n",
       "      <th>F1</th>\n",
       "      <td>0.943382</td>\n",
       "    </tr>\n",
       "    <tr>\n",
       "      <th>Recall</th>\n",
       "      <td>0.939353</td>\n",
       "    </tr>\n",
       "    <tr>\n",
       "      <th>Precision</th>\n",
       "      <td>0.947447</td>\n",
       "    </tr>\n",
       "    <tr>\n",
       "      <th>Accuracy</th>\n",
       "      <td>0.938434</td>\n",
       "    </tr>\n",
       "  </tbody>\n",
       "</table>\n",
       "</div>"
      ],
      "text/plain": [
       "                              \n",
       "Model      Tuned Decision Tree\n",
       "F1                    0.943382\n",
       "Recall                0.939353\n",
       "Precision             0.947447\n",
       "Accuracy              0.938434"
      ]
     },
     "execution_count": 87,
     "metadata": {},
     "output_type": "execute_result"
    }
   ],
   "source": [
    "# Create table of results.\n",
    "\n",
    "### YOUR CODE HERE ###\n",
    "table = {}\n",
    "table['Model'] = 'Tuned Decision Tree'\n",
    "table['F1'] = f1_score(y_test, y_pred)\n",
    "table['Recall'] = recall_score(y_test, y_pred)\n",
    "table['Precision'] = precision_score(y_test, y_pred)\n",
    "table['Accuracy'] = accuracy_score(y_test, y_pred)\n",
    "\n",
    "tabla = pd.DataFrame(table, index=['']).T\n",
    "tabla"
   ]
  },
  {
   "cell_type": "markdown",
   "id": "841337ba",
   "metadata": {
    "id": "qqu9L0ip328H"
   },
   "source": [
    "\n",
    "<details>\n",
    "<summary><h4><strong>Hint 1</strong></h4></summary>\n",
    "\n",
    "Build a table to compare the performance of the models. Create a DataFrame and use the `append()` function to add the results of each model as a new row.\n",
    "\n",
    "</details>"
   ]
  },
  {
   "cell_type": "markdown",
   "id": "3b8569e4",
   "metadata": {
    "id": "trUO9XEHbXG6"
   },
   "source": [
    "**Question:** How does the random forest model compare to the decision tree model you built in the previous lab?\n",
    "\n",
    "The tuned random forest has higher scores overall, so it is the better model. Particularly, it shows a better F1 score than the decision tree model, which indicates that the random forest model may do better at classification when taking into account false positives and false negatives. \n",
    "\n"
   ]
  },
  {
   "cell_type": "markdown",
   "id": "4e7fe19c",
   "metadata": {
    "id": "okMTunOhpotF"
   },
   "source": [
    "## **Considerations**\n",
    "\n",
    "\n",
    "**What are the key takeaways from this lab?**\n",
    "- Data exploring, cleaning, and encoding are necessary for model building.\n",
    "- A separate validation set is typically used for tuning a model, rather than using the test set. This also helps avoid the evaluation becoming biased.\n",
    "-  F1 scores are usually more useful than accuracy scores. If the cost of false positives and false negatives are very different, it’s better to use the F1 score and combine the information from precision and recall. \n",
    "* The random forest model yields a more effective performance than a decision tree model. \n",
    "\n",
    "**What summary would you provide to stakeholders?**\n",
    "* The random forest model predicted satisfaction with more than 94.2% accuracy. The precision is over 95% and the recall is approximately 94.5%. \n",
    "* The random forest model outperformed the tuned decision tree with the best hyperparameters in most of the four scores. This indicates that the random forest model may perform better.\n",
    "* Because stakeholders were interested in learning about the factors that are most important to customer satisfaction, this would be shared based on the tuned random forest. \n",
    "* In addition, you would provide details about the precision, recall, accuracy, and F1 scores to support your findings. "
   ]
  },
  {
   "cell_type": "markdown",
   "id": "5f5532d3",
   "metadata": {
    "id": "eb58bfc4"
   },
   "source": [
    "### References"
   ]
  },
  {
   "cell_type": "markdown",
   "id": "1b8f0930",
   "metadata": {
    "id": "3c2abcc0"
   },
   "source": [
    "[What is the Difference Between Test and Validation Datasets?,  Jason Brownlee](https://machinelearningmastery.com/difference-test-validation-datasets/)\n",
    "\n",
    "[Decision Trees and Random Forests Neil Liberman](https://towardsdatascience.com/decision-trees-and-random-forests-df0c3123f991)"
   ]
  },
  {
   "cell_type": "markdown",
   "id": "cda3a9b9",
   "metadata": {},
   "source": [
    "**Congratulations!** You've completed this lab. However, you may not notice a green check mark next to this item on Coursera's platform. Please continue your progress regardless of the check mark. Just click on the \"save\" icon at the top of this notebook to ensure your work has been logged"
   ]
  }
 ],
 "metadata": {
  "colab": {
   "collapsed_sections": [],
   "provenance": [
    {
     "file_id": "1ajeXfekjHYYlATQqDdzWb2bjoSQPy9e5",
     "timestamp": 1661470003810
    },
    {
     "file_id": "1sKzoVdsFNq2nBg0uus6LyTzuD2Ktou4t",
     "timestamp": 1661452831142
    }
   ]
  },
  "gpuClass": "standard",
  "kernelspec": {
   "display_name": "Python 3 (ipykernel)",
   "language": "python",
   "name": "python3"
  },
  "language_info": {
   "codemirror_mode": {
    "name": "ipython",
    "version": 3
   },
   "file_extension": ".py",
   "mimetype": "text/x-python",
   "name": "python",
   "nbconvert_exporter": "python",
   "pygments_lexer": "ipython3",
   "version": "3.11.4"
  }
 },
 "nbformat": 4,
 "nbformat_minor": 5
}
