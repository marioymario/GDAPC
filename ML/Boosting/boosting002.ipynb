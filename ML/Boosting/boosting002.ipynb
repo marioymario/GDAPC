{
 "cells": [
  {
   "cell_type": "code",
   "execution_count": 23,
   "id": "0eec14a8-f06a-45f6-ae0a-394abbc09815",
   "metadata": {},
   "outputs": [],
   "source": [
    "from xgboost import XGBClassifier\n",
    "import xgboost\n",
    "import pandas as pd\n",
    "\n",
    "\n",
    "from sklearn.model_selection import GridSearchCV, train_test_split, PredefinedSplit\n",
    "from sklearn.preprocessing import OneHotEncoder, LabelEncoder\n",
    "from sklearn.metrics import precision_score, recall_score, f1_score, accuracy_score\n",
    "from sklearn.metrics import confusion_matrix, ConfusionMatrixDisplay, classification_report\n"
   ]
  },
  {
   "cell_type": "code",
   "execution_count": 12,
   "id": "af44067e-f609-4222-8f25-8fc7d6574550",
   "metadata": {},
   "outputs": [],
   "source": [
    "loc1 = '/home/gato/Scripts/DS/MachineLearning/dataAndPickles/churnModeling.csv'\n",
    "df = pd.read_csv(loc1)"
   ]
  },
  {
   "cell_type": "code",
   "execution_count": 13,
   "id": "a1c04f46-f73b-477b-8756-c1bb0e58330d",
   "metadata": {},
   "outputs": [],
   "source": [
    "X = df[['CreditScore', 'Age', 'Tenure', 'Balance', 'NumOfProducts', 'HasCrCard',\n",
    "       'IsActiveMember', 'EstimatedSalary', 'Loyalty',\n",
    "       'Geography_Germany', 'Geography_Spain']]\n",
    "y = df['Exited']\n",
    "\n",
    "X_train, X_test, y_train, y_test = train_test_split(X, y, \n",
    "                                                    test_size=0.25, \n",
    "                                                    stratify=y, \n",
    "                                                    random_state=42)"
   ]
  },
  {
   "cell_type": "code",
   "execution_count": 18,
   "id": "1af91102-17d9-4dd1-87ab-d9651fd9a39d",
   "metadata": {},
   "outputs": [
    {
     "data": {
      "text/plain": [
       "['handle',\n",
       " 'best_iteration',\n",
       " 'best_ntree_limit',\n",
       " '__module__',\n",
       " '__doc__',\n",
       " '__init__',\n",
       " '_transform_monotone_constrains',\n",
       " '_transform_interaction_constraints',\n",
       " '_configure_constraints',\n",
       " '__del__',\n",
       " '__getstate__',\n",
       " '__setstate__',\n",
       " '__getitem__',\n",
       " 'save_config',\n",
       " 'load_config',\n",
       " '__copy__',\n",
       " '__deepcopy__',\n",
       " 'copy',\n",
       " 'attr',\n",
       " 'attributes',\n",
       " 'set_attr',\n",
       " '_get_feature_info',\n",
       " '_set_feature_info',\n",
       " 'feature_types',\n",
       " 'feature_names',\n",
       " 'set_param',\n",
       " 'update',\n",
       " 'boost',\n",
       " 'eval_set',\n",
       " 'eval',\n",
       " 'predict',\n",
       " 'inplace_predict',\n",
       " 'save_model',\n",
       " 'save_raw',\n",
       " 'load_model',\n",
       " 'num_boosted_rounds',\n",
       " 'num_features',\n",
       " 'dump_model',\n",
       " 'get_dump',\n",
       " 'get_fscore',\n",
       " 'get_score',\n",
       " 'trees_to_dataframe',\n",
       " '_validate_dmatrix_features',\n",
       " '_validate_features',\n",
       " 'get_split_value_histogram',\n",
       " '__dict__',\n",
       " '__weakref__',\n",
       " '__repr__',\n",
       " '__hash__',\n",
       " '__str__',\n",
       " '__getattribute__',\n",
       " '__setattr__',\n",
       " '__delattr__',\n",
       " '__lt__',\n",
       " '__le__',\n",
       " '__eq__',\n",
       " '__ne__',\n",
       " '__gt__',\n",
       " '__ge__',\n",
       " '__new__',\n",
       " '__reduce_ex__',\n",
       " '__reduce__',\n",
       " '__subclasshook__',\n",
       " '__init_subclass__',\n",
       " '__format__',\n",
       " '__sizeof__',\n",
       " '__dir__',\n",
       " '__class__']"
      ]
     },
     "execution_count": 18,
     "metadata": {},
     "output_type": "execute_result"
    }
   ],
   "source": [
    "model.__dir__()"
   ]
  },
  {
   "cell_type": "code",
   "execution_count": null,
   "id": "acb592cf-4ec6-4560-b95e-1be3b7764fa6",
   "metadata": {},
   "outputs": [],
   "source": []
  }
 ],
 "metadata": {
  "kernelspec": {
   "display_name": "Python 3 (ipykernel)",
   "language": "python",
   "name": "python3"
  },
  "language_info": {
   "codemirror_mode": {
    "name": "ipython",
    "version": 3
   },
   "file_extension": ".py",
   "mimetype": "text/x-python",
   "name": "python",
   "nbconvert_exporter": "python",
   "pygments_lexer": "ipython3",
   "version": "3.9.17"
  }
 },
 "nbformat": 4,
 "nbformat_minor": 5
}
