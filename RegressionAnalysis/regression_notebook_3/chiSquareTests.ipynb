{
 "cells": [
  {
   "cell_type": "code",
   "execution_count": 1,
   "id": "fab09fff-f1c2-459b-b212-78dfaab3fbf8",
   "metadata": {},
   "outputs": [],
   "source": [
    "## DS & visuals\n",
    "import pandas as pd\n",
    "import numpy as np\n",
    "import matplotlib.pyplot as plt\n",
    "import seaborn as sns\n",
    "sns.set_palette(\"pastel\")\n",
    "sns.set_theme(style=\"whitegrid\")\n",
    "\n",
    "## Stats \n",
    "import scipy\n",
    "from scipy import stats\n",
    "## For encoding\n",
    "#from sklearn.preprocessing import LabelEncoder\n",
    "\n",
    "## Linear Regression\n",
    "from statsmodels.formula.api import ols\n",
    "import statsmodels.api as sm\n",
    "from statsmodels.tools.eval_measures import mse, rmse\n",
    "\n",
    "## scikitlearn\n",
    "from sklearn.model_selection import train_test_split\n",
    "\n",
    "##\n",
    "import warnings\n",
    "warnings.filterwarnings(\"ignore\")\n",
    "\n",
    "from scipy import stats\n",
    "from scipy.stats import skew\n",
    "from scipy.stats import kurtosis\n",
    "import statsmodels.api as sm\n",
    "\n",
    "import math\n",
    "import pandas as pd\n",
    "import numpy as np\n",
    "\n",
    "## Graphs\n",
    "import matplotlib.pyplot as plt\n",
    "import seaborn as sns\n",
    "sns.set()"
   ]
  },
  {
   "cell_type": "markdown",
   "id": "171050f6-a945-4bbd-8cd0-a2be35673a6b",
   "metadata": {},
   "source": [
    "# **Chi-squared tests: Goodness of fit versus independence**\n",
    "---\n",
    "Hypothesis tests are used to see significant differences among groups. \n",
    "\n",
    "# 1. **Chi-squared tests** are used to determine whether one or more observed categorical variables follow expected distribution(s). \n",
    "\n",
    "For example, you may expect that 50% more movie goers attend movies on weekends in comparison to weekdays. After observing movie goers attendance for a month, you then can perform a chi-squared test to see if your initial hypothesis was correct. \n",
    "\n",
    "This reading will cover the two main chi-squared tests—Goodness of Fit and Test for Independence—which can be used to test your expected hypothesis against what actually occurred. Data professionals perform these hypothesis tests to offer organizations actionable insights that drive decision making.\n",
    "\n",
    "### The Chi-squared Goodness of Fit Test \n",
    "\n",
    "Chi-squared (χ²) Goodness of Fit Test is a hypothesis test that determines whether an observed categorical variable follows an expected distribution. \n",
    "\n",
    "- The null hypothesis **(H0)** of the test is that the categorical variable follows the expected distribution. \n",
    "- The alternative hypothesis **(Ha)** is that the categorical variable does not follow the expected distribution. \n",
    "\n",
    "Consider the scenario in this reading that will define the null and alternative hypotheses based on the scenario, \n",
    "**set up a Goodness of Fit test, evaluate the test results, and draw a conclusion** \n",
    "\n",
    "Chi-squared Goodness of Fit scenario\n",
    "Imagine that you work as a data professional for an online clothing company. \n",
    "\n",
    "Your boss tells you that they expect the number of website visitors to be the same for each day of the week. You decide to test your boss’s hypothesis and pull data every day for the next week and record the number of website visitors in the table below:"
   ]
  },
  {
   "cell_type": "code",
   "execution_count": 2,
   "id": "35961889-e939-4558-b4e1-d435f74b9b91",
   "metadata": {},
   "outputs": [
    {
     "data": {
      "text/html": [
       "<div>\n",
       "<style scoped>\n",
       "    .dataframe tbody tr th:only-of-type {\n",
       "        vertical-align: middle;\n",
       "    }\n",
       "\n",
       "    .dataframe tbody tr th {\n",
       "        vertical-align: top;\n",
       "    }\n",
       "\n",
       "    .dataframe thead th {\n",
       "        text-align: right;\n",
       "    }\n",
       "</style>\n",
       "<table border=\"1\" class=\"dataframe\">\n",
       "  <thead>\n",
       "    <tr style=\"text-align: right;\">\n",
       "      <th></th>\n",
       "      <th>dayOfTheWeek</th>\n",
       "      <th>observedValue</th>\n",
       "    </tr>\n",
       "  </thead>\n",
       "  <tbody>\n",
       "    <tr>\n",
       "      <th>0</th>\n",
       "      <td>mon</td>\n",
       "      <td>650</td>\n",
       "    </tr>\n",
       "    <tr>\n",
       "      <th>1</th>\n",
       "      <td>tues</td>\n",
       "      <td>570</td>\n",
       "    </tr>\n",
       "    <tr>\n",
       "      <th>2</th>\n",
       "      <td>wed</td>\n",
       "      <td>420</td>\n",
       "    </tr>\n",
       "    <tr>\n",
       "      <th>3</th>\n",
       "      <td>thu</td>\n",
       "      <td>480</td>\n",
       "    </tr>\n",
       "    <tr>\n",
       "      <th>4</th>\n",
       "      <td>fri</td>\n",
       "      <td>510</td>\n",
       "    </tr>\n",
       "    <tr>\n",
       "      <th>5</th>\n",
       "      <td>sat</td>\n",
       "      <td>380</td>\n",
       "    </tr>\n",
       "    <tr>\n",
       "      <th>6</th>\n",
       "      <td>sun</td>\n",
       "      <td>490</td>\n",
       "    </tr>\n",
       "  </tbody>\n",
       "</table>\n",
       "</div>"
      ],
      "text/plain": [
       "  dayOfTheWeek  observedValue\n",
       "0          mon            650\n",
       "1         tues            570\n",
       "2          wed            420\n",
       "3          thu            480\n",
       "4          fri            510\n",
       "5          sat            380\n",
       "6          sun            490"
      ]
     },
     "execution_count": 2,
     "metadata": {},
     "output_type": "execute_result"
    }
   ],
   "source": [
    "boss_expectatios = {}\n",
    "boss_expectatios['dayOfTheWeek']  = ['mon', 'tues', 'wed', 'thu', 'fri', 'sat', 'sun']\n",
    "boss_expectatios['observedValue'] = [650, 570, 420, 480, 510, 380, 490]\n",
    "boss = pd.DataFrame.from_dict(boss_expectatios)\n",
    "boss"
   ]
  },
  {
   "cell_type": "code",
   "execution_count": 3,
   "id": "4bc8c65c-0188-401f-bb0e-c230878883b6",
   "metadata": {},
   "outputs": [
    {
     "name": "stdout",
     "output_type": "stream",
     "text": [
      "Expected total for the week: 3500\n"
     ]
    }
   ],
   "source": [
    "total = boss['observedValue'].sum()\n",
    "print(f'Expected total for the week: {total}')"
   ]
  },
  {
   "cell_type": "markdown",
   "id": "9ad42e95-2b95-4198-b271-7256931c0973",
   "metadata": {},
   "source": [
    "#### Main steps:\n",
    "\n",
    "1. Identify the Null and Alternative Hypotheses \n",
    "\n",
    "2. Calculate the chi-square test statistic (𝛘2)\n",
    "\n",
    "3. Calculate the p-value \n",
    "\n",
    "4. Make a conclusion \n",
    "\n",
    "# *Step 1:*\n",
    "\n",
    "Identify the null and alternative hypotheses\n",
    "\n",
    "The first step in performing a chi-squared goodness of fit test is to determine your null and alternative hypothesis. Since you are testing if the number of website visitors follows your boss’s expectations, the below are your null and alternative hypotheses : \n",
    "\n",
    "- $H0$: The week you observed follows your boss’s expectations that the number of website visitors is equal on any given day\n",
    "\n",
    "- $Ha$: The week you observed does not follow your boss’s expectations; therefore, the number of website visitors is not equal across the days of the week\n",
    "\n",
    "# *Step 2:*\n",
    "\n",
    "Calculate the chi-squared test statistic $(𝛘2)$\n",
    "\n",
    "Next, calculate a test statistic to determine if you should reject or fail to reject your null hypothesis. This test statistic is known as the chi-squared statistic and is calculated based on the following formula: \n",
    "\n",
    "$\\chi^2 = \\sum \\frac {(O - E)^2}{E}$\n",
    "\n",
    "$O:Observed.$\n",
    "$E:Expected.$\n",
    "\n",
    "Since there were a \n",
    "\n",
    "total of 3,500 website visitors you observed; \n",
    "\n",
    "your boss’s expectation is that 500 visitors would visit each day (3,500/7). \n",
    "\n",
    "In the formula above, 500 would serve as the “expected” value. \n",
    "\n",
    "A column has been added to your original table to include the test statistic calculation for each weekday:\n",
    "\n",
    "The chi-squared statistic would be the sum of the third column above: \n",
    "\n",
    "x2= 45 + 9.8 + 12.8 + 0.8 + 0.2 + 28.8 + 0.2\n",
    "\n",
    "x2 = 97.6"
   ]
  },
  {
   "cell_type": "code",
   "execution_count": 4,
   "id": "be0ead2d-3c0f-4973-8727-1c49365a5aec",
   "metadata": {},
   "outputs": [],
   "source": [
    "## Expectations.\n",
    "boss['expectedValue'] = [500, 500, 500, 500, 500, 500, 500]"
   ]
  },
  {
   "cell_type": "code",
   "execution_count": 5,
   "id": "c377a78c-3dee-4247-b17a-49e1349c65bf",
   "metadata": {},
   "outputs": [],
   "source": [
    "## Formula.\n",
    "boss['ChiSquaredTestStatistic'] = (boss['observedValue'] - boss['expectedValue'])**2 / boss['expectedValue']"
   ]
  },
  {
   "cell_type": "code",
   "execution_count": 6,
   "id": "78710455-f7a6-46bf-b000-a8300e7f2f9c",
   "metadata": {},
   "outputs": [
    {
     "name": "stdout",
     "output_type": "stream",
     "text": [
      "chi-squared statistic: 97.6\n"
     ]
    }
   ],
   "source": [
    "## Chi Squared\n",
    "chi_chi = boss['ChiSquaredTestStatistic'].sum()\n",
    "print(f'chi-squared statistic: {chi_chi}')"
   ]
  },
  {
   "cell_type": "code",
   "execution_count": 7,
   "id": "5c1eafb1-90fe-48a8-8c1b-c45a946e60f6",
   "metadata": {},
   "outputs": [
    {
     "data": {
      "text/html": [
       "<div>\n",
       "<style scoped>\n",
       "    .dataframe tbody tr th:only-of-type {\n",
       "        vertical-align: middle;\n",
       "    }\n",
       "\n",
       "    .dataframe tbody tr th {\n",
       "        vertical-align: top;\n",
       "    }\n",
       "\n",
       "    .dataframe thead th {\n",
       "        text-align: right;\n",
       "    }\n",
       "</style>\n",
       "<table border=\"1\" class=\"dataframe\">\n",
       "  <thead>\n",
       "    <tr style=\"text-align: right;\">\n",
       "      <th></th>\n",
       "      <th>dayOfTheWeek</th>\n",
       "      <th>observedValue</th>\n",
       "      <th>expectedValue</th>\n",
       "      <th>ChiSquaredTestStatistic</th>\n",
       "    </tr>\n",
       "  </thead>\n",
       "  <tbody>\n",
       "    <tr>\n",
       "      <th>0</th>\n",
       "      <td>mon</td>\n",
       "      <td>650</td>\n",
       "      <td>500</td>\n",
       "      <td>45.0</td>\n",
       "    </tr>\n",
       "    <tr>\n",
       "      <th>1</th>\n",
       "      <td>tues</td>\n",
       "      <td>570</td>\n",
       "      <td>500</td>\n",
       "      <td>9.8</td>\n",
       "    </tr>\n",
       "    <tr>\n",
       "      <th>2</th>\n",
       "      <td>wed</td>\n",
       "      <td>420</td>\n",
       "      <td>500</td>\n",
       "      <td>12.8</td>\n",
       "    </tr>\n",
       "    <tr>\n",
       "      <th>3</th>\n",
       "      <td>thu</td>\n",
       "      <td>480</td>\n",
       "      <td>500</td>\n",
       "      <td>0.8</td>\n",
       "    </tr>\n",
       "    <tr>\n",
       "      <th>4</th>\n",
       "      <td>fri</td>\n",
       "      <td>510</td>\n",
       "      <td>500</td>\n",
       "      <td>0.2</td>\n",
       "    </tr>\n",
       "    <tr>\n",
       "      <th>5</th>\n",
       "      <td>sat</td>\n",
       "      <td>380</td>\n",
       "      <td>500</td>\n",
       "      <td>28.8</td>\n",
       "    </tr>\n",
       "    <tr>\n",
       "      <th>6</th>\n",
       "      <td>sun</td>\n",
       "      <td>490</td>\n",
       "      <td>500</td>\n",
       "      <td>0.2</td>\n",
       "    </tr>\n",
       "  </tbody>\n",
       "</table>\n",
       "</div>"
      ],
      "text/plain": [
       "  dayOfTheWeek  observedValue  expectedValue  ChiSquaredTestStatistic\n",
       "0          mon            650            500                     45.0\n",
       "1         tues            570            500                      9.8\n",
       "2          wed            420            500                     12.8\n",
       "3          thu            480            500                      0.8\n",
       "4          fri            510            500                      0.2\n",
       "5          sat            380            500                     28.8\n",
       "6          sun            490            500                      0.2"
      ]
     },
     "execution_count": 7,
     "metadata": {},
     "output_type": "execute_result"
    }
   ],
   "source": [
    "boss"
   ]
  },
  {
   "cell_type": "markdown",
   "id": "4c9cf8ba-e94c-4b69-b36e-e57abf52109a",
   "metadata": {},
   "source": [
    "### Notes:\n",
    "\n",
    "[chi-squared-wiki](https://en.wikipedia.org/wiki/Chi-squared_test)\n",
    "\n",
    "[chi-squared-book](https://web.archive.org/web/20230322163848if_/http://vassarstats.net/textbook/)\n",
    "\n",
    "[scipy function](https://docs.scipy.org/doc/scipy/reference/generated/scipy.stats.chisquare.html)"
   ]
  },
  {
   "cell_type": "markdown",
   "id": "c0bb3cb2-7dac-4791-855c-bf9881bb5c99",
   "metadata": {},
   "source": [
    "# *Step 3*\n",
    "\n",
    "Find the p-value \n",
    "\n",
    "Significance level (alpha) for your hypothesis test and how to use Python’s Scipy stats package to determine p-values. You can use the same module’s \n",
    "chisquare function\n",
    " to pass in your data to obtain the test statistic and p-value. The following code uses your observed and expected values to calculate the chi-squared test statistic and the p-value:\n"
   ]
  },
  {
   "cell_type": "code",
   "execution_count": 8,
   "id": "2d14fa83-45d5-4c2f-baad-d218ba750334",
   "metadata": {},
   "outputs": [
    {
     "data": {
      "text/plain": [
       "Power_divergenceResult(statistic=97.6, pvalue=7.943886923343835e-19)"
      ]
     },
     "execution_count": 8,
     "metadata": {},
     "output_type": "execute_result"
    }
   ],
   "source": [
    "expectations = boss['expectedValue']\n",
    "observations = boss['observedValue']\n",
    "\n",
    "result = stats.chisquare(f_obs = observations, f_exp = expectations)\n",
    "result"
   ]
  },
  {
   "cell_type": "markdown",
   "id": "5177755b-34de-4d71-a365-569ef39bf541",
   "metadata": {},
   "source": [
    "The output confirms your calculation of the chi-square test statistic in Step 2 and\n",
    "also gives you the associated p-value. Because the p-value is less than \n",
    "the significance level of 5%, you can **REJECT the null hypothesis.**\n",
    "\n",
    "# *Step 4:*\n",
    "\n",
    "Make a conclusion\n",
    "\n",
    "Since the p-value is less than 0.05, there is sufficient evidence to suggest that the number of visitors is not equal per day. Now that you have made this conclusion, you now have been asked to expand your analysis to look at the relationship between the device that a website user used and their membership status. In order to expand your analysis you must use the Chi-Squared Test for Independence. "
   ]
  },
  {
   "cell_type": "markdown",
   "id": "f0496562-a52a-4ddc-abfd-9e556b1015d6",
   "metadata": {},
   "source": [
    "# **The Chi-Squared Test for Independence**\n",
    "---\n",
    "\n",
    "# 2. Chi-squared $(χ²)$ Test for Independence is a hypothesis test that **determines whether or not two categorical variables are associated with each other.** \n",
    "\n",
    "- Null hypothesis $(H0)$ of the test is that two categorical variables are independent. \n",
    "\n",
    "- Alternative hypothesis $(Ha)$ is that two categorical variables are not independent. \n",
    "\n",
    "You will utilize the chi-squared test of independence to compare if the \n",
    "type of device a visitor uses to visit the website (Mac or PC) is dependent on whether he or she has a membership account or browses as a guest (Member or Guest). \n",
    "\n",
    "# *Step 1:* \n",
    "\n",
    "Identify the null and alternative hypotheses\n",
    "\n",
    "Just like the Goodness of Fit scenario, the first step is to determine your null and alternative hypotheses.  You are comparing if the device used to visit your clothing store (Mac or PC) is independent from the visitor’s membership status (Member or Guest). From that information you can determine that your null and alternative hypotheses are as follows: \n",
    "\n",
    "$H0$: The type of device a website visitor uses to visit the website is independent of the visitor’s membership status.\n",
    "\n",
    "$Ha$: The type of device a website visitor uses to visit the website is not independent of the visitor’s membership status.\n",
    "\n",
    "# *Step 2:* \n",
    "\n",
    "Calculate the chi-squared test statistic (𝛘2)\n",
    "\n",
    "The table below now breaks down our website visitors based on the device they used and their membership status. "
   ]
  },
  {
   "cell_type": "code",
   "execution_count": 9,
   "id": "bde4badd-fd19-4b57-8ba3-61766ed2d26c",
   "metadata": {},
   "outputs": [
    {
     "data": {
      "text/html": [
       "<div>\n",
       "<style scoped>\n",
       "    .dataframe tbody tr th:only-of-type {\n",
       "        vertical-align: middle;\n",
       "    }\n",
       "\n",
       "    .dataframe tbody tr th {\n",
       "        vertical-align: top;\n",
       "    }\n",
       "\n",
       "    .dataframe thead th {\n",
       "        text-align: right;\n",
       "    }\n",
       "</style>\n",
       "<table border=\"1\" class=\"dataframe\">\n",
       "  <thead>\n",
       "    <tr style=\"text-align: right;\">\n",
       "      <th></th>\n",
       "      <th>observedValues</th>\n",
       "      <th>member</th>\n",
       "      <th>guest</th>\n",
       "      <th>total</th>\n",
       "    </tr>\n",
       "  </thead>\n",
       "  <tbody>\n",
       "    <tr>\n",
       "      <th>0</th>\n",
       "      <td>mac</td>\n",
       "      <td>850</td>\n",
       "      <td>450</td>\n",
       "      <td>1300</td>\n",
       "    </tr>\n",
       "    <tr>\n",
       "      <th>1</th>\n",
       "      <td>pc</td>\n",
       "      <td>1300</td>\n",
       "      <td>900</td>\n",
       "      <td>2200</td>\n",
       "    </tr>\n",
       "    <tr>\n",
       "      <th>2</th>\n",
       "      <td>total</td>\n",
       "      <td>2150</td>\n",
       "      <td>1350</td>\n",
       "      <td>3500</td>\n",
       "    </tr>\n",
       "  </tbody>\n",
       "</table>\n",
       "</div>"
      ],
      "text/plain": [
       "  observedValues  member  guest  total\n",
       "0            mac     850    450   1300\n",
       "1             pc    1300    900   2200\n",
       "2          total    2150   1350   3500"
      ]
     },
     "execution_count": 9,
     "metadata": {},
     "output_type": "execute_result"
    }
   ],
   "source": [
    "visitors = {}\n",
    "visitors['observedValues'] = ['mac', 'pc', 'total']\n",
    "visitors['member'] = [850, 1300, 2150]\n",
    "visitors['guest'] = [450, 900, 1350]\n",
    "visitors['total'] = [1300, 2200, 3500]\n",
    "\n",
    "visitors = pd.DataFrame.from_dict(visitors)\n",
    "visitors"
   ]
  },
  {
   "cell_type": "markdown",
   "id": "7d99014d-675c-46e6-8ae3-755bfee71072",
   "metadata": {},
   "source": [
    "In order to get the expected value under the independence assumption, you will use the following formula: \n",
    "\n",
    "$$expectedValue = (columnTotal * rowTotal) / OverAllTotal$$\n",
    "\n",
    "$$expectedValue = (2150 * 1300) / 3500 = 799 $$"
   ]
  },
  {
   "cell_type": "code",
   "execution_count": 10,
   "id": "c3bfa111-8764-4c1e-8a30-20d34090d38f",
   "metadata": {},
   "outputs": [
    {
     "data": {
      "text/html": [
       "<div>\n",
       "<style scoped>\n",
       "    .dataframe tbody tr th:only-of-type {\n",
       "        vertical-align: middle;\n",
       "    }\n",
       "\n",
       "    .dataframe tbody tr th {\n",
       "        vertical-align: top;\n",
       "    }\n",
       "\n",
       "    .dataframe thead th {\n",
       "        text-align: right;\n",
       "    }\n",
       "</style>\n",
       "<table border=\"1\" class=\"dataframe\">\n",
       "  <thead>\n",
       "    <tr style=\"text-align: right;\">\n",
       "      <th></th>\n",
       "      <th>expected Value</th>\n",
       "      <th>member</th>\n",
       "      <th>guest</th>\n",
       "    </tr>\n",
       "  </thead>\n",
       "  <tbody>\n",
       "    <tr>\n",
       "      <th>0</th>\n",
       "      <td>mac</td>\n",
       "      <td>799</td>\n",
       "      <td>501</td>\n",
       "    </tr>\n",
       "    <tr>\n",
       "      <th>1</th>\n",
       "      <td>pc</td>\n",
       "      <td>1351</td>\n",
       "      <td>849</td>\n",
       "    </tr>\n",
       "  </tbody>\n",
       "</table>\n",
       "</div>"
      ],
      "text/plain": [
       "  expected Value  member  guest\n",
       "0            mac     799    501\n",
       "1             pc    1351    849"
      ]
     },
     "execution_count": 10,
     "metadata": {},
     "output_type": "execute_result"
    }
   ],
   "source": [
    "expVal = {}\n",
    "expVal['expected Value'] = ['mac', 'pc']\n",
    "expVal['member'] = [799, 1351]\n",
    "expVal['guest'] = [501, 849]\n",
    "expValdf = pd.DataFrame.from_dict(expVal)\n",
    "expValdf"
   ]
  },
  {
   "cell_type": "markdown",
   "id": "b949c1e8-47cf-497d-87b6-122cb5325a6f",
   "metadata": {},
   "source": [
    "# *Step 3:*\n",
    "\n",
    "Find the p-value\n",
    "\n",
    "You can use the Python Scipy package\n",
    "\n",
    "[chi2_contingency](https://docs.scipy.org/doc/scipy/reference/generated/scipy.stats.chi2_contingency.html) \n",
    "\n",
    "function to obtain the **chi-square test** statistic and **p-value.** \n",
    " \n",
    "The chi2_contingency function only needs the observed values - it will calculate the expected values for you. Here is the python code: "
   ]
  },
  {
   "cell_type": "code",
   "execution_count": 11,
   "id": "a0c74281-f290-48f2-98a2-07a842ffbaf7",
   "metadata": {},
   "outputs": [
    {
     "name": "stdout",
     "output_type": "stream",
     "text": [
      "(13.396423236539514, 0.0002521045757089368, 1, array([[ 798.57142857,  501.42857143],\n",
      "       [1351.42857143,  848.57142857]]))\n"
     ]
    }
   ],
   "source": [
    "Observations = np.array([[850, 450],[1300, 900]])\n",
    "Result = stats.contingency.chi2_contingency(Observations)\n",
    "print(Result)m "
   ]
  },
  {
   "cell_type": "code",
   "execution_count": 14,
   "id": "89b95b8e-ea15-4f64-8f8b-1eb74ec63a1d",
   "metadata": {},
   "outputs": [
    {
     "name": "stdout",
     "output_type": "stream",
     "text": [
      "13.396423236539514\n",
      "0.0002521045757089368\n",
      "1\n",
      "[[ 798.57142857  501.42857143]\n",
      " [1351.42857143  848.57142857]]\n"
     ]
    }
   ],
   "source": [
    "chiSquareStatistic, pVal, DOF, expectedVal = stats.contingency.chi2_contingency(Observations)\n",
    "\n",
    "print(chiSquareStatistic)\n",
    "print(pVal)\n",
    "print(DOF)\n",
    "print(expectedVal)\n"
   ]
  },
  {
   "cell_type": "code",
   "execution_count": 16,
   "id": "52de01e1-7a60-4f81-8f5d-01ad3f725229",
   "metadata": {},
   "outputs": [
    {
     "data": {
      "text/html": [
       "<div>\n",
       "<style scoped>\n",
       "    .dataframe tbody tr th:only-of-type {\n",
       "        vertical-align: middle;\n",
       "    }\n",
       "\n",
       "    .dataframe tbody tr th {\n",
       "        vertical-align: top;\n",
       "    }\n",
       "\n",
       "    .dataframe thead th {\n",
       "        text-align: right;\n",
       "    }\n",
       "</style>\n",
       "<table border=\"1\" class=\"dataframe\">\n",
       "  <thead>\n",
       "    <tr style=\"text-align: right;\">\n",
       "      <th></th>\n",
       "      <th>member</th>\n",
       "      <th>guest</th>\n",
       "    </tr>\n",
       "  </thead>\n",
       "  <tbody>\n",
       "    <tr>\n",
       "      <th>mac</th>\n",
       "      <td>798.571429</td>\n",
       "      <td>501.428571</td>\n",
       "    </tr>\n",
       "    <tr>\n",
       "      <th>pc</th>\n",
       "      <td>1351.428571</td>\n",
       "      <td>848.571429</td>\n",
       "    </tr>\n",
       "  </tbody>\n",
       "</table>\n",
       "</div>"
      ],
      "text/plain": [
       "          member       guest\n",
       "mac   798.571429  501.428571\n",
       "pc   1351.428571  848.571429"
      ]
     },
     "execution_count": 16,
     "metadata": {},
     "output_type": "execute_result"
    }
   ],
   "source": [
    "pd.DataFrame(expectedVal, index=['mac', 'pc'], columns=['member', 'guest'])"
   ]
  },
  {
   "cell_type": "markdown",
   "id": "1aab8a04-894b-46c5-813d-84ab91c9dd35",
   "metadata": {},
   "source": [
    "**The output above is in the following order:**\n",
    "the chi-square statistic, p-value, degrees of freedom, and expected values in array format. Looking at the p-value compared to a significance level of 5%, you can REJECT the null hypothesis in favor of the alternative. \n",
    "\n",
    "**Step 4:** \n",
    "\n",
    "Make a conclusion \n",
    "\n",
    "Based on the above p-value, you conclude that the type of device a website user uses is not independent of his or her membership status. You may recommend to your boss to dive into the reasons behind why visitors sign up for paid memberships more on a particular device. Is the sign-up button showing up differently on a particular device? Are there device specific bugs that need to be fixed? These are a couple of many questions you should seek into next to help \n",
    "\n",
    "Key takeaways\n",
    "The Chi-squared Goodness of Fit test is used to test if an observed categorical variable follows an expected distribution.\n",
    "\n",
    "The Chi-squared Test for Independence is used to test if two categorical variables are independent of each other or not. \n",
    "\n",
    "Both Chi-squared tests follow the same hypothesis testing steps to determine whether you should reject or fail to reject the null hypothesis to drive decision making, as you have explored elsewhere in this program.  "
   ]
  },
  {
   "cell_type": "code",
   "execution_count": null,
   "id": "57ad5635-26e6-4606-9722-31428a94edad",
   "metadata": {},
   "outputs": [],
   "source": []
  }
 ],
 "metadata": {
  "kernelspec": {
   "display_name": "Python 3 (ipykernel)",
   "language": "python",
   "name": "python3"
  },
  "language_info": {
   "codemirror_mode": {
    "name": "ipython",
    "version": 3
   },
   "file_extension": ".py",
   "mimetype": "text/x-python",
   "name": "python",
   "nbconvert_exporter": "python",
   "pygments_lexer": "ipython3",
   "version": "3.9.13"
  }
 },
 "nbformat": 4,
 "nbformat_minor": 5
}
