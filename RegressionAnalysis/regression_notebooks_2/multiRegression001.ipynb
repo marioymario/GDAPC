{
 "cells": [
  {
   "cell_type": "code",
   "execution_count": 1,
   "id": "16c51eb1-5e3c-4e69-92fb-d38b063dbda8",
   "metadata": {},
   "outputs": [],
   "source": [
    "## imports\n",
    "\n",
    "## DS & visuals\n",
    "import pandas as pd\n",
    "import numpy as np\n",
    "import matplotlib.pyplot as plt\n",
    "import seaborn as sns\n",
    "sns.set_palette(\"pastel\")\n",
    "sns.set_theme(style=\"whitegrid\")\n",
    "\n",
    "## dattes and house functions\n",
    "import datetime as dt\n",
    "import eda_functions as eda\n",
    "\n",
    "## Stats \n",
    "import scipy\n",
    "from scipy import stats\n",
    "## For encoding\n",
    "#from sklearn.preprocessing import LabelEncoder\n",
    "\n",
    "## Linear Regression\n",
    "from statsmodels.formula.api import ols\n",
    "import statsmodels.api as sm\n",
    "from statsmodels.tools.eval_measures import mse, rmse\n",
    "\n",
    "## scikitlearn\n",
    "from sklearn.model_selection import train_test_split\n",
    "\n",
    "##\n",
    "import warnings\n",
    "warnings.filterwarnings(\"ignore\")"
   ]
  },
  {
   "cell_type": "code",
   "execution_count": 2,
   "id": "8156c2c1-87c2-4f90-b928-24287d4a6f9d",
   "metadata": {},
   "outputs": [],
   "source": [
    "df = sns.load_dataset('penguins')\n",
    "df.columns = ['species', 'island', 'bill_length_mm', 'bill_depth_mm',\n",
    "       'flipper_length_mm', 'body_mass_g', 'gender']\n"
   ]
  },
  {
   "cell_type": "code",
   "execution_count": 3,
   "id": "9c676574-cf05-43c7-9269-a4c5051dcf87",
   "metadata": {},
   "outputs": [
    {
     "data": {
      "text/plain": [
       "Index(['species', 'island', 'bill_length_mm', 'bill_depth_mm',\n",
       "       'flipper_length_mm', 'body_mass_g', 'gender'],\n",
       "      dtype='object')"
      ]
     },
     "execution_count": 3,
     "metadata": {},
     "output_type": "execute_result"
    }
   ],
   "source": [
    "df.columns"
   ]
  },
  {
   "cell_type": "code",
   "execution_count": 4,
   "id": "9a61d482-f3f7-4e30-bb7c-8e9f151096b9",
   "metadata": {
    "tags": []
   },
   "outputs": [
    {
     "data": {
      "text/html": [
       "<div>\n",
       "<style scoped>\n",
       "    .dataframe tbody tr th:only-of-type {\n",
       "        vertical-align: middle;\n",
       "    }\n",
       "\n",
       "    .dataframe tbody tr th {\n",
       "        vertical-align: top;\n",
       "    }\n",
       "\n",
       "    .dataframe thead th {\n",
       "        text-align: right;\n",
       "    }\n",
       "</style>\n",
       "<table border=\"1\" class=\"dataframe\">\n",
       "  <thead>\n",
       "    <tr style=\"text-align: right;\">\n",
       "      <th></th>\n",
       "      <th>species</th>\n",
       "      <th>island</th>\n",
       "      <th>bill_length_mm</th>\n",
       "      <th>bill_depth_mm</th>\n",
       "      <th>flipper_length_mm</th>\n",
       "      <th>body_mass_g</th>\n",
       "      <th>gender</th>\n",
       "    </tr>\n",
       "  </thead>\n",
       "  <tbody>\n",
       "    <tr>\n",
       "      <th>0</th>\n",
       "      <td>Adelie</td>\n",
       "      <td>Torgersen</td>\n",
       "      <td>39.1</td>\n",
       "      <td>18.7</td>\n",
       "      <td>181.0</td>\n",
       "      <td>3750.0</td>\n",
       "      <td>Male</td>\n",
       "    </tr>\n",
       "    <tr>\n",
       "      <th>1</th>\n",
       "      <td>Adelie</td>\n",
       "      <td>Torgersen</td>\n",
       "      <td>39.5</td>\n",
       "      <td>17.4</td>\n",
       "      <td>186.0</td>\n",
       "      <td>3800.0</td>\n",
       "      <td>Female</td>\n",
       "    </tr>\n",
       "    <tr>\n",
       "      <th>2</th>\n",
       "      <td>Adelie</td>\n",
       "      <td>Torgersen</td>\n",
       "      <td>40.3</td>\n",
       "      <td>18.0</td>\n",
       "      <td>195.0</td>\n",
       "      <td>3250.0</td>\n",
       "      <td>Female</td>\n",
       "    </tr>\n",
       "    <tr>\n",
       "      <th>3</th>\n",
       "      <td>Adelie</td>\n",
       "      <td>Torgersen</td>\n",
       "      <td>NaN</td>\n",
       "      <td>NaN</td>\n",
       "      <td>NaN</td>\n",
       "      <td>NaN</td>\n",
       "      <td>NaN</td>\n",
       "    </tr>\n",
       "    <tr>\n",
       "      <th>4</th>\n",
       "      <td>Adelie</td>\n",
       "      <td>Torgersen</td>\n",
       "      <td>36.7</td>\n",
       "      <td>19.3</td>\n",
       "      <td>193.0</td>\n",
       "      <td>3450.0</td>\n",
       "      <td>Female</td>\n",
       "    </tr>\n",
       "  </tbody>\n",
       "</table>\n",
       "</div>"
      ],
      "text/plain": [
       "  species     island  bill_length_mm  bill_depth_mm  flipper_length_mm  \\\n",
       "0  Adelie  Torgersen            39.1           18.7              181.0   \n",
       "1  Adelie  Torgersen            39.5           17.4              186.0   \n",
       "2  Adelie  Torgersen            40.3           18.0              195.0   \n",
       "3  Adelie  Torgersen             NaN            NaN                NaN   \n",
       "4  Adelie  Torgersen            36.7           19.3              193.0   \n",
       "\n",
       "   body_mass_g  gender  \n",
       "0       3750.0    Male  \n",
       "1       3800.0  Female  \n",
       "2       3250.0  Female  \n",
       "3          NaN     NaN  \n",
       "4       3450.0  Female  "
      ]
     },
     "execution_count": 4,
     "metadata": {},
     "output_type": "execute_result"
    }
   ],
   "source": [
    "df.head()"
   ]
  },
  {
   "cell_type": "code",
   "execution_count": 5,
   "id": "aff1c641-3a15-4036-82d1-b74b6dcaccb2",
   "metadata": {},
   "outputs": [
    {
     "data": {
      "text/plain": [
       "((344, 7), 2408, True)"
      ]
     },
     "execution_count": 5,
     "metadata": {},
     "output_type": "execute_result"
    }
   ],
   "source": [
    "## shape and size\n",
    "df.shape, df.size, df.size == df.shape[0] * df.shape[1]"
   ]
  },
  {
   "cell_type": "code",
   "execution_count": 6,
   "id": "fe5e4e64-14b4-4d01-993e-541d04c87d47",
   "metadata": {},
   "outputs": [
    {
     "name": "stdout",
     "output_type": "stream",
     "text": [
      "<class 'pandas.core.frame.DataFrame'>\n",
      "RangeIndex: 344 entries, 0 to 343\n",
      "Data columns (total 7 columns):\n",
      " #   Column             Non-Null Count  Dtype  \n",
      "---  ------             --------------  -----  \n",
      " 0   species            344 non-null    object \n",
      " 1   island             344 non-null    object \n",
      " 2   bill_length_mm     342 non-null    float64\n",
      " 3   bill_depth_mm      342 non-null    float64\n",
      " 4   flipper_length_mm  342 non-null    float64\n",
      " 5   body_mass_g        342 non-null    float64\n",
      " 6   gender             333 non-null    object \n",
      "dtypes: float64(4), object(3)\n",
      "memory usage: 18.9+ KB\n"
     ]
    }
   ],
   "source": [
    "df.info()"
   ]
  },
  {
   "cell_type": "markdown",
   "id": "a8459672-52d2-48dc-9f4a-ab06dcbb911b",
   "metadata": {},
   "source": [
    "## EDA:\n",
    "\n",
    "**The focus of the notebook is EDA, statistical analysis and linear regression.**\n",
    "\n",
    " 1. Discovering and checking the overall shape, size, content. **done**\n",
    " \n",
    " 2. Are any Join needed? **no**\n",
    " \n",
    " 3. Validation, cleaning.**done**\n",
    " \n",
    " 4. Structuring, understand trends, validate.\n",
    " \n",
    " 5. **Clean, validate as you go.**\n",
    " \n",
    " 6. Efective data visuals.\n",
    " \n",
    " 7. Descreptive Statistics. **done**\n",
    " \n",
    "     7.1 Measure of central tendency.\n",
    "     \n",
    "     7.2 Measures of dispersion.\n",
    "     \n",
    "     7.3 Measures of position.\n",
    "     \n",
    "     7.4 Hypothesis testing t-test&pValue. **will see**\n",
    "     \n",
    " 8. Check multiple linear regression assumptions or simple linear regression assumptions. \n",
    "\n",
    "    8.1. Linearity: Each predictor variable (Xi) is linearly related to the outcome variable (Y).\n",
    "\n",
    "    8.2. Normality: The errors are normally distributed.*\n",
    "\n",
    "    8.3. Independent Observations: Each observation in the dataset is independent.\n",
    "\n",
    "    8.4. Homoscedasticity: The variance of the errors is constant or similar across the model.*\n",
    "\n",
    "    8.5. The Data can not be multicollinear.\n"
   ]
  },
  {
   "cell_type": "code",
   "execution_count": 7,
   "id": "18b24e35-54dd-41bc-8b68-2a2d618dddc2",
   "metadata": {},
   "outputs": [
    {
     "data": {
      "text/html": [
       "<div>\n",
       "<style scoped>\n",
       "    .dataframe tbody tr th:only-of-type {\n",
       "        vertical-align: middle;\n",
       "    }\n",
       "\n",
       "    .dataframe tbody tr th {\n",
       "        vertical-align: top;\n",
       "    }\n",
       "\n",
       "    .dataframe thead th {\n",
       "        text-align: right;\n",
       "    }\n",
       "</style>\n",
       "<table border=\"1\" class=\"dataframe\">\n",
       "  <thead>\n",
       "    <tr style=\"text-align: right;\">\n",
       "      <th></th>\n",
       "      <th>Total</th>\n",
       "      <th>Percent</th>\n",
       "    </tr>\n",
       "  </thead>\n",
       "  <tbody>\n",
       "    <tr>\n",
       "      <th>gender</th>\n",
       "      <td>11</td>\n",
       "      <td>0.031977</td>\n",
       "    </tr>\n",
       "    <tr>\n",
       "      <th>bill_length_mm</th>\n",
       "      <td>2</td>\n",
       "      <td>0.005814</td>\n",
       "    </tr>\n",
       "    <tr>\n",
       "      <th>bill_depth_mm</th>\n",
       "      <td>2</td>\n",
       "      <td>0.005814</td>\n",
       "    </tr>\n",
       "    <tr>\n",
       "      <th>flipper_length_mm</th>\n",
       "      <td>2</td>\n",
       "      <td>0.005814</td>\n",
       "    </tr>\n",
       "    <tr>\n",
       "      <th>body_mass_g</th>\n",
       "      <td>2</td>\n",
       "      <td>0.005814</td>\n",
       "    </tr>\n",
       "    <tr>\n",
       "      <th>species</th>\n",
       "      <td>0</td>\n",
       "      <td>0.000000</td>\n",
       "    </tr>\n",
       "    <tr>\n",
       "      <th>island</th>\n",
       "      <td>0</td>\n",
       "      <td>0.000000</td>\n",
       "    </tr>\n",
       "  </tbody>\n",
       "</table>\n",
       "</div>"
      ],
      "text/plain": [
       "                   Total   Percent\n",
       "gender                11  0.031977\n",
       "bill_length_mm         2  0.005814\n",
       "bill_depth_mm          2  0.005814\n",
       "flipper_length_mm      2  0.005814\n",
       "body_mass_g            2  0.005814\n",
       "species                0  0.000000\n",
       "island                 0  0.000000"
      ]
     },
     "execution_count": 7,
     "metadata": {},
     "output_type": "execute_result"
    }
   ],
   "source": [
    "## 3. and 4.\n",
    "\n",
    "## Observing missing data.\n",
    "eda.miss_df(df)"
   ]
  },
  {
   "cell_type": "code",
   "execution_count": 8,
   "id": "7d4dbc2f-09bc-4d70-b011-024e99cf2b27",
   "metadata": {},
   "outputs": [
    {
     "data": {
      "text/html": [
       "<div>\n",
       "<style scoped>\n",
       "    .dataframe tbody tr th:only-of-type {\n",
       "        vertical-align: middle;\n",
       "    }\n",
       "\n",
       "    .dataframe tbody tr th {\n",
       "        vertical-align: top;\n",
       "    }\n",
       "\n",
       "    .dataframe thead th {\n",
       "        text-align: right;\n",
       "    }\n",
       "</style>\n",
       "<table border=\"1\" class=\"dataframe\">\n",
       "  <thead>\n",
       "    <tr style=\"text-align: right;\">\n",
       "      <th></th>\n",
       "      <th>columns</th>\n",
       "      <th>nulls</th>\n",
       "      <th>invalids</th>\n",
       "      <th>unique_item</th>\n",
       "    </tr>\n",
       "  </thead>\n",
       "  <tbody>\n",
       "    <tr>\n",
       "      <th>0</th>\n",
       "      <td>species</td>\n",
       "      <td>0</td>\n",
       "      <td>0</td>\n",
       "      <td>[Adelie, Chinstrap, Gentoo]</td>\n",
       "    </tr>\n",
       "    <tr>\n",
       "      <th>1</th>\n",
       "      <td>island</td>\n",
       "      <td>0</td>\n",
       "      <td>0</td>\n",
       "      <td>[Torgersen, Biscoe, Dream]</td>\n",
       "    </tr>\n",
       "    <tr>\n",
       "      <th>2</th>\n",
       "      <td>bill_length_mm</td>\n",
       "      <td>2</td>\n",
       "      <td>0</td>\n",
       "      <td>[39.1, 39.5, 40.3, nan, 36.7, 39.3, 38.9, 39.2...</td>\n",
       "    </tr>\n",
       "    <tr>\n",
       "      <th>3</th>\n",
       "      <td>bill_depth_mm</td>\n",
       "      <td>2</td>\n",
       "      <td>0</td>\n",
       "      <td>[18.7, 17.4, 18.0, nan, 19.3, 20.6, 17.8, 19.6...</td>\n",
       "    </tr>\n",
       "    <tr>\n",
       "      <th>4</th>\n",
       "      <td>flipper_length_mm</td>\n",
       "      <td>2</td>\n",
       "      <td>0</td>\n",
       "      <td>[181.0, 186.0, 195.0, nan, 193.0, 190.0, 180.0...</td>\n",
       "    </tr>\n",
       "    <tr>\n",
       "      <th>5</th>\n",
       "      <td>body_mass_g</td>\n",
       "      <td>2</td>\n",
       "      <td>0</td>\n",
       "      <td>[3750.0, 3800.0, 3250.0, nan, 3450.0, 3650.0, ...</td>\n",
       "    </tr>\n",
       "    <tr>\n",
       "      <th>6</th>\n",
       "      <td>gender</td>\n",
       "      <td>11</td>\n",
       "      <td>0</td>\n",
       "      <td>[Male, Female, nan]</td>\n",
       "    </tr>\n",
       "  </tbody>\n",
       "</table>\n",
       "</div>"
      ],
      "text/plain": [
       "             columns  nulls  invalids  \\\n",
       "0            species      0         0   \n",
       "1             island      0         0   \n",
       "2     bill_length_mm      2         0   \n",
       "3      bill_depth_mm      2         0   \n",
       "4  flipper_length_mm      2         0   \n",
       "5        body_mass_g      2         0   \n",
       "6             gender     11         0   \n",
       "\n",
       "                                         unique_item  \n",
       "0                        [Adelie, Chinstrap, Gentoo]  \n",
       "1                         [Torgersen, Biscoe, Dream]  \n",
       "2  [39.1, 39.5, 40.3, nan, 36.7, 39.3, 38.9, 39.2...  \n",
       "3  [18.7, 17.4, 18.0, nan, 19.3, 20.6, 17.8, 19.6...  \n",
       "4  [181.0, 186.0, 195.0, nan, 193.0, 190.0, 180.0...  \n",
       "5  [3750.0, 3800.0, 3250.0, nan, 3450.0, 3650.0, ...  \n",
       "6                                [Male, Female, nan]  "
      ]
     },
     "execution_count": 8,
     "metadata": {},
     "output_type": "execute_result"
    }
   ],
   "source": [
    "## invalid strings\n",
    "eda.invalid_df(df)"
   ]
  },
  {
   "cell_type": "code",
   "execution_count": 9,
   "id": "1492b79f-7f53-4872-81ad-42b6d561ea0f",
   "metadata": {},
   "outputs": [],
   "source": [
    "## I will drop the missing values\n",
    "df.dropna(inplace=True)"
   ]
  },
  {
   "cell_type": "code",
   "execution_count": 10,
   "id": "50edabdc-82c4-4f80-925c-af039963c92a",
   "metadata": {},
   "outputs": [
    {
     "data": {
      "text/html": [
       "<div>\n",
       "<style scoped>\n",
       "    .dataframe tbody tr th:only-of-type {\n",
       "        vertical-align: middle;\n",
       "    }\n",
       "\n",
       "    .dataframe tbody tr th {\n",
       "        vertical-align: top;\n",
       "    }\n",
       "\n",
       "    .dataframe thead th {\n",
       "        text-align: right;\n",
       "    }\n",
       "</style>\n",
       "<table border=\"1\" class=\"dataframe\">\n",
       "  <thead>\n",
       "    <tr style=\"text-align: right;\">\n",
       "      <th></th>\n",
       "      <th>Total</th>\n",
       "      <th>Percent</th>\n",
       "    </tr>\n",
       "  </thead>\n",
       "  <tbody>\n",
       "    <tr>\n",
       "      <th>species</th>\n",
       "      <td>0</td>\n",
       "      <td>0.0</td>\n",
       "    </tr>\n",
       "    <tr>\n",
       "      <th>island</th>\n",
       "      <td>0</td>\n",
       "      <td>0.0</td>\n",
       "    </tr>\n",
       "    <tr>\n",
       "      <th>bill_length_mm</th>\n",
       "      <td>0</td>\n",
       "      <td>0.0</td>\n",
       "    </tr>\n",
       "    <tr>\n",
       "      <th>bill_depth_mm</th>\n",
       "      <td>0</td>\n",
       "      <td>0.0</td>\n",
       "    </tr>\n",
       "    <tr>\n",
       "      <th>flipper_length_mm</th>\n",
       "      <td>0</td>\n",
       "      <td>0.0</td>\n",
       "    </tr>\n",
       "    <tr>\n",
       "      <th>body_mass_g</th>\n",
       "      <td>0</td>\n",
       "      <td>0.0</td>\n",
       "    </tr>\n",
       "    <tr>\n",
       "      <th>gender</th>\n",
       "      <td>0</td>\n",
       "      <td>0.0</td>\n",
       "    </tr>\n",
       "  </tbody>\n",
       "</table>\n",
       "</div>"
      ],
      "text/plain": [
       "                   Total  Percent\n",
       "species                0      0.0\n",
       "island                 0      0.0\n",
       "bill_length_mm         0      0.0\n",
       "bill_depth_mm          0      0.0\n",
       "flipper_length_mm      0      0.0\n",
       "body_mass_g            0      0.0\n",
       "gender                 0      0.0"
      ]
     },
     "execution_count": 10,
     "metadata": {},
     "output_type": "execute_result"
    }
   ],
   "source": [
    "## Validating.\n",
    "eda.miss_df(df)"
   ]
  },
  {
   "cell_type": "code",
   "execution_count": 11,
   "id": "91b16336-a7ab-4a93-afd6-ec9912a4f0a1",
   "metadata": {},
   "outputs": [
    {
     "data": {
      "text/html": [
       "<div>\n",
       "<style scoped>\n",
       "    .dataframe tbody tr th:only-of-type {\n",
       "        vertical-align: middle;\n",
       "    }\n",
       "\n",
       "    .dataframe tbody tr th {\n",
       "        vertical-align: top;\n",
       "    }\n",
       "\n",
       "    .dataframe thead th {\n",
       "        text-align: right;\n",
       "    }\n",
       "</style>\n",
       "<table border=\"1\" class=\"dataframe\">\n",
       "  <thead>\n",
       "    <tr style=\"text-align: right;\">\n",
       "      <th></th>\n",
       "      <th>columns</th>\n",
       "      <th>nulls</th>\n",
       "      <th>invalids</th>\n",
       "      <th>unique_item</th>\n",
       "    </tr>\n",
       "  </thead>\n",
       "  <tbody>\n",
       "    <tr>\n",
       "      <th>0</th>\n",
       "      <td>species</td>\n",
       "      <td>0</td>\n",
       "      <td>0</td>\n",
       "      <td>[Adelie, Chinstrap, Gentoo]</td>\n",
       "    </tr>\n",
       "    <tr>\n",
       "      <th>1</th>\n",
       "      <td>island</td>\n",
       "      <td>0</td>\n",
       "      <td>0</td>\n",
       "      <td>[Torgersen, Biscoe, Dream]</td>\n",
       "    </tr>\n",
       "    <tr>\n",
       "      <th>2</th>\n",
       "      <td>bill_length_mm</td>\n",
       "      <td>0</td>\n",
       "      <td>0</td>\n",
       "      <td>[39.1, 39.5, 40.3, 36.7, 39.3, 38.9, 39.2, 41....</td>\n",
       "    </tr>\n",
       "    <tr>\n",
       "      <th>3</th>\n",
       "      <td>bill_depth_mm</td>\n",
       "      <td>0</td>\n",
       "      <td>0</td>\n",
       "      <td>[18.7, 17.4, 18.0, 19.3, 20.6, 17.8, 19.6, 17....</td>\n",
       "    </tr>\n",
       "    <tr>\n",
       "      <th>4</th>\n",
       "      <td>flipper_length_mm</td>\n",
       "      <td>0</td>\n",
       "      <td>0</td>\n",
       "      <td>[181.0, 186.0, 195.0, 193.0, 190.0, 182.0, 191...</td>\n",
       "    </tr>\n",
       "    <tr>\n",
       "      <th>5</th>\n",
       "      <td>body_mass_g</td>\n",
       "      <td>0</td>\n",
       "      <td>0</td>\n",
       "      <td>[3750.0, 3800.0, 3250.0, 3450.0, 3650.0, 3625....</td>\n",
       "    </tr>\n",
       "    <tr>\n",
       "      <th>6</th>\n",
       "      <td>gender</td>\n",
       "      <td>0</td>\n",
       "      <td>0</td>\n",
       "      <td>[Male, Female]</td>\n",
       "    </tr>\n",
       "  </tbody>\n",
       "</table>\n",
       "</div>"
      ],
      "text/plain": [
       "             columns  nulls  invalids  \\\n",
       "0            species      0         0   \n",
       "1             island      0         0   \n",
       "2     bill_length_mm      0         0   \n",
       "3      bill_depth_mm      0         0   \n",
       "4  flipper_length_mm      0         0   \n",
       "5        body_mass_g      0         0   \n",
       "6             gender      0         0   \n",
       "\n",
       "                                         unique_item  \n",
       "0                        [Adelie, Chinstrap, Gentoo]  \n",
       "1                         [Torgersen, Biscoe, Dream]  \n",
       "2  [39.1, 39.5, 40.3, 36.7, 39.3, 38.9, 39.2, 41....  \n",
       "3  [18.7, 17.4, 18.0, 19.3, 20.6, 17.8, 19.6, 17....  \n",
       "4  [181.0, 186.0, 195.0, 193.0, 190.0, 182.0, 191...  \n",
       "5  [3750.0, 3800.0, 3250.0, 3450.0, 3650.0, 3625....  \n",
       "6                                     [Male, Female]  "
      ]
     },
     "execution_count": 11,
     "metadata": {},
     "output_type": "execute_result"
    }
   ],
   "source": [
    "## Validating\n",
    "eda.invalid_df(df)"
   ]
  },
  {
   "cell_type": "code",
   "execution_count": 14,
   "id": "c9bb8a3c-8837-4340-889a-12478985a5d2",
   "metadata": {},
   "outputs": [
    {
     "data": {
      "text/html": [
       "<div>\n",
       "<style scoped>\n",
       "    .dataframe tbody tr th:only-of-type {\n",
       "        vertical-align: middle;\n",
       "    }\n",
       "\n",
       "    .dataframe tbody tr th {\n",
       "        vertical-align: top;\n",
       "    }\n",
       "\n",
       "    .dataframe thead th {\n",
       "        text-align: right;\n",
       "    }\n",
       "</style>\n",
       "<table border=\"1\" class=\"dataframe\">\n",
       "  <thead>\n",
       "    <tr style=\"text-align: right;\">\n",
       "      <th></th>\n",
       "      <th></th>\n",
       "      <th>body_mass_g</th>\n",
       "      <th>flipper_length_mm</th>\n",
       "      <th>bill_depth_mm</th>\n",
       "      <th>bill_length_mm</th>\n",
       "      <th>species</th>\n",
       "    </tr>\n",
       "    <tr>\n",
       "      <th>species</th>\n",
       "      <th>gender</th>\n",
       "      <th></th>\n",
       "      <th></th>\n",
       "      <th></th>\n",
       "      <th></th>\n",
       "      <th></th>\n",
       "    </tr>\n",
       "  </thead>\n",
       "  <tbody>\n",
       "    <tr>\n",
       "      <th rowspan=\"2\" valign=\"top\">Adelie</th>\n",
       "      <th>Female</th>\n",
       "      <td>269.380102</td>\n",
       "      <td>187.794521</td>\n",
       "      <td>17.621918</td>\n",
       "      <td>37.257534</td>\n",
       "      <td>73</td>\n",
       "    </tr>\n",
       "    <tr>\n",
       "      <th>Male</th>\n",
       "      <td>346.811553</td>\n",
       "      <td>192.410959</td>\n",
       "      <td>19.072603</td>\n",
       "      <td>40.390411</td>\n",
       "      <td>73</td>\n",
       "    </tr>\n",
       "    <tr>\n",
       "      <th rowspan=\"2\" valign=\"top\">Chinstrap</th>\n",
       "      <th>Female</th>\n",
       "      <td>285.333912</td>\n",
       "      <td>191.735294</td>\n",
       "      <td>17.588235</td>\n",
       "      <td>46.573529</td>\n",
       "      <td>34</td>\n",
       "    </tr>\n",
       "    <tr>\n",
       "      <th>Male</th>\n",
       "      <td>362.137550</td>\n",
       "      <td>199.911765</td>\n",
       "      <td>19.252941</td>\n",
       "      <td>51.094118</td>\n",
       "      <td>34</td>\n",
       "    </tr>\n",
       "    <tr>\n",
       "      <th rowspan=\"2\" valign=\"top\">Gentoo</th>\n",
       "      <th>Female</th>\n",
       "      <td>281.578294</td>\n",
       "      <td>212.706897</td>\n",
       "      <td>14.237931</td>\n",
       "      <td>45.563793</td>\n",
       "      <td>58</td>\n",
       "    </tr>\n",
       "    <tr>\n",
       "      <th>Male</th>\n",
       "      <td>313.158596</td>\n",
       "      <td>221.540984</td>\n",
       "      <td>15.718033</td>\n",
       "      <td>49.473770</td>\n",
       "      <td>61</td>\n",
       "    </tr>\n",
       "  </tbody>\n",
       "</table>\n",
       "</div>"
      ],
      "text/plain": [
       "                  body_mass_g  flipper_length_mm  bill_depth_mm  \\\n",
       "species   gender                                                  \n",
       "Adelie    Female   269.380102         187.794521      17.621918   \n",
       "          Male     346.811553         192.410959      19.072603   \n",
       "Chinstrap Female   285.333912         191.735294      17.588235   \n",
       "          Male     362.137550         199.911765      19.252941   \n",
       "Gentoo    Female   281.578294         212.706897      14.237931   \n",
       "          Male     313.158596         221.540984      15.718033   \n",
       "\n",
       "                  bill_length_mm  species  \n",
       "species   gender                           \n",
       "Adelie    Female       37.257534       73  \n",
       "          Male         40.390411       73  \n",
       "Chinstrap Female       46.573529       34  \n",
       "          Male         51.094118       34  \n",
       "Gentoo    Female       45.563793       58  \n",
       "          Male         49.473770       61  "
      ]
     },
     "execution_count": 14,
     "metadata": {},
     "output_type": "execute_result"
    }
   ],
   "source": [
    "## 4. Structuring, understand trends, validate.\n",
    "\n",
    "## grouping by Species and sex to observe means\n",
    "df.groupby(['species', 'gender']).agg({\n",
    "    'body_mass_g':'mean', \n",
    "    'flipper_length_mm':'mean', \n",
    "    'bill_depth_mm':'mean',\n",
    "    'bill_length_mm':'mean',\n",
    "    'species':'count',\n",
    "    'body_mass_g': 'std'\n",
    "})"
   ]
  },
  {
   "cell_type": "code",
   "execution_count": null,
   "id": "a59da98a-1eba-4381-b882-6b7c31c479cf",
   "metadata": {},
   "outputs": [],
   "source": [
    "## Species and sex\n",
    "g = sns.catplot(\n",
    "    data=df, kind='bar',\n",
    "    x='species', y='body_mass_g', hue='gender',\n",
    "    errorbar='sd', alpha=.6, height=6\n",
    ")\n",
    "g.despine(left=True)\n",
    "g.set_axis_labels('', 'Body mass (g)')\n",
    "g.legend.set_title('')"
   ]
  },
  {
   "cell_type": "code",
   "execution_count": null,
   "id": "974d10ee-df2b-41b4-948a-e098fb67f3ba",
   "metadata": {},
   "outputs": [],
   "source": [
    "## Population per island by species\n",
    "df.groupby(['species', 'island']).agg({\n",
    "    'gender':'count'})"
   ]
  },
  {
   "cell_type": "code",
   "execution_count": null,
   "id": "2aac1130-905c-412b-a900-be299a98fa77",
   "metadata": {},
   "outputs": [],
   "source": [
    "## Species and island\n",
    "g = sns.catplot(\n",
    "    data=df, kind='bar',\n",
    "    x='species', y='body_mass_g', hue='island',\n",
    "    errorbar='sd', alpha=.6, height=6\n",
    ")\n",
    "g.despine(left=True)\n",
    "g.set_axis_labels('', 'Body mass (g)')\n",
    "g.legend.set_title('')"
   ]
  },
  {
   "cell_type": "markdown",
   "id": "a18ac84c-ec19-4ca2-b677-767aa0370b9c",
   "metadata": {},
   "source": [
    " 7. Descreptive Statistics.\n",
    " \n",
    "     7.1 Measure of central tendency.\n",
    "     \n",
    "     7.2 Measures of dispersion.\n",
    "     \n",
    "     7.3 Measures of position.\n"
   ]
  },
  {
   "cell_type": "code",
   "execution_count": null,
   "id": "f8b164de-0dcc-4c88-8d11-a24ebba3fa9f",
   "metadata": {},
   "outputs": [],
   "source": [
    "## 7.1, 7.2, 7.3\n",
    "\n",
    "df.describe()"
   ]
  },
  {
   "cell_type": "code",
   "execution_count": null,
   "id": "bf25805f-366f-4533-a9a8-dd0e2c8a3972",
   "metadata": {},
   "outputs": [],
   "source": [
    "## I have decided to split the data by species\n",
    "\n",
    "Adelie = df[df['species'] == 'Adelie']\n",
    "Chinstrap =  df[df['species'] == 'Chinstrap']\n",
    "Gentoo =  df[df['species'] == 'Gentoo']\n",
    "\n",
    "species = [Adelie, Chinstrap, Gentoo]"
   ]
  },
  {
   "cell_type": "code",
   "execution_count": null,
   "id": "0b80d7cb-c0a4-4dd6-9a7a-e3d686385a5a",
   "metadata": {},
   "outputs": [],
   "source": [
    "eda.distribution(Adelie, 'body_mass_g')\n",
    "eda.estadisticas(Adelie, 'body_mass_g')"
   ]
  },
  {
   "cell_type": "code",
   "execution_count": null,
   "id": "ab5b8f85-491e-4e53-8356-6b24afbc1616",
   "metadata": {},
   "outputs": [],
   "source": [
    "eda.empirical(Adelie, 'body_mass_g')"
   ]
  },
  {
   "cell_type": "code",
   "execution_count": null,
   "id": "ead1397e-83e2-45d1-b54f-ffd598b7bcfb",
   "metadata": {},
   "outputs": [],
   "source": [
    "eda.distribution(Chinstrap, 'body_mass_g')\n",
    "eda.estadisticas(Chinstrap, 'body_mass_g')#,'bill_depth_mm','flipper_length_mm')"
   ]
  },
  {
   "cell_type": "code",
   "execution_count": null,
   "id": "5a8db9cd-00b1-47e2-bab0-6420868639e0",
   "metadata": {},
   "outputs": [],
   "source": [
    "eda.empirical(Chinstrap, 'body_mass_g')"
   ]
  },
  {
   "cell_type": "code",
   "execution_count": null,
   "id": "ebcb5965-e9e0-46f9-b25c-ebe409992623",
   "metadata": {},
   "outputs": [],
   "source": [
    "eda.distribution(Gentoo, 'body_mass_g')\n",
    "eda.estadisticas(Gentoo, 'body_mass_g')"
   ]
  },
  {
   "cell_type": "code",
   "execution_count": null,
   "id": "cfb34e10-12ab-490a-9c08-5f596e998430",
   "metadata": {},
   "outputs": [],
   "source": [
    "eda.empirical(Gentoo, 'body_mass_g')"
   ]
  },
  {
   "cell_type": "code",
   "execution_count": null,
   "id": "4f7837d3-9e5c-4fa1-bb86-cbffc0996cfc",
   "metadata": {},
   "outputs": [],
   "source": [
    "## Observing relationships\n",
    "sns.pairplot(df, hue='species')"
   ]
  },
  {
   "cell_type": "markdown",
   "id": "6a0e814b-5c72-4787-b7c8-15d50e45b649",
   "metadata": {},
   "source": [
    "### Notes\n",
    "\n",
    "Features look normal so far, even more when divided by species.\n"
   ]
  },
  {
   "cell_type": "markdown",
   "id": "0fa1f277-e741-4a99-95b2-79a451fd63a8",
   "metadata": {},
   "source": [
    " ...next\n",
    " \n",
    " 8. Check multiple linear regression assumptions or simple linear regression assumptions. \n",
    "\n",
    "    8.1. Linearity: Each predictor variable (Xi) is linearly related to the outcome variable (Y). **Done**\n",
    "\n",
    "    8.2. Normality: The errors are normally distributed.*\n",
    "\n",
    "    8.3. Independent Observations: Each observation in the dataset is independent.\n",
    "\n",
    "    8.4. Homoscedasticity: The variance of the errors is constant or similar across the model.*\n",
    "\n",
    "    8.5. The Data can not be multicollinear.\n",
    "    \n",
    "    creating a holdout sample to better test and evaluate the results of your regression model. In order to do this more easily in Python, you must subset your x and y variables, import the `train_test_split` function from `sci-kit learn`, and then use the function. Please review the course content on holdout samples as needed before proceeding through the rest of the notebook."
   ]
  },
  {
   "cell_type": "code",
   "execution_count": null,
   "id": "84a21e91-992b-4932-9341-65da248c12ab",
   "metadata": {},
   "outputs": [],
   "source": [
    "species[1]"
   ]
  },
  {
   "cell_type": "code",
   "execution_count": null,
   "id": "a4985e56-3f15-4fa8-828f-e8cb3ce31a6c",
   "metadata": {},
   "outputs": [],
   "source": [
    "sns.pairplot(Adelie)"
   ]
  },
  {
   "cell_type": "code",
   "execution_count": null,
   "id": "f011898f-7a75-4b9c-8e4d-120da09ab96e",
   "metadata": {},
   "outputs": [],
   "source": [
    "sns.pairplot(Chinstrap)"
   ]
  },
  {
   "cell_type": "code",
   "execution_count": null,
   "id": "9830e2e1-992e-4a9e-9eda-76bf5202e0aa",
   "metadata": {},
   "outputs": [],
   "source": [
    "sns.pairplot(Gentoo)"
   ]
  },
  {
   "cell_type": "code",
   "execution_count": null,
   "id": "74166406-fdf3-4a53-bcee-5aa5f7f89bac",
   "metadata": {},
   "outputs": [],
   "source": [
    "## Subset X and y variables\n",
    "\n",
    "adelieX = Adelie[[\"bill_length_mm\", \"gender\", \"species\"]]\n",
    "adeliey = Adelie[[\"body_mass_g\"]]\n",
    "\n",
    "chinstrapX = Chinstrap[[\"bill_length_mm\", \"gender\", \"species\"]]\n",
    "chinstrapy = Chinstrap[[\"body_mass_g\"]]\n",
    "\n",
    "gentooX = Gentoo[[\"bill_length_mm\", \"gender\", \"species\"]]\n",
    "gentooy = Gentoo[[\"body_mass_g\"]]"
   ]
  },
  {
   "cell_type": "code",
   "execution_count": null,
   "id": "3a4ba2d0-92fb-40ab-aed0-37e1996bbb15",
   "metadata": {},
   "outputs": [],
   "source": [
    "## Create training data sets and holdout (testing) data sets\n",
    "## 30% test 40% train random_seed = 42 as a pythonaite\n",
    "\n",
    "adelieX_train, adelieX_test, adeliey_train, adeliey_test = train_test_split(adelieX, adeliey, \n",
    "                                                    test_size = 0.3, random_state = 42)\n",
    "chinstrapX_train, chinstrapX_test, chinstrapy_train, chinstrapy_test = train_test_split(chinstrapX, chinstrapy, \n",
    "                                                    test_size = 0.3, random_state = 42)\n",
    "gentooX_train, gentooX_test, gentooy_train, gentooy_test = train_test_split(gentooX, gentooy, \n",
    "                                                    test_size = 0.3, random_state = 42)"
   ]
  },
  {
   "cell_type": "markdown",
   "id": "8f220c2d-011b-4c8b-85e6-1b08899365fb",
   "metadata": {},
   "source": [
    "# Model construction\n",
    "\n",
    "Ideally we will finish with 3 regression one per species.\n",
    "\n",
    "## IMPORTANT NOTE\n",
    "To write out the formula as a string. We write out the name of the y variable first, followed by the tilde (`~`), and then each of the X variables separated by a plus sign (`+`). **We can use `C()` to indicate a categorical variable. This will tell the `ols()` function to one hot encode those variables in the model.** \n",
    "\n",
    "After we've imported the `ols()` function, we can save the `ols_data` as a dataframe, create the `ols` object, fit the model, and generate summary statistics. At this point, it would make sense to double check the model assumptions about errors (homoscedasticity and normality of residuals). Please review other resources in the program as needed.\n",
    "\n",
    "# **formula = \"y ~ numFeature1 + numFeature2 + ... + C(catFeature1) + C(catFeature2)\"**\n",
    "\n",
    "#### Steps as follow:"
   ]
  },
  {
   "cell_type": "code",
   "execution_count": null,
   "id": "f2d7bf96-79c8-4560-955b-25ba08a7d9b8",
   "metadata": {},
   "outputs": [],
   "source": [
    "## Import ols() function from statsmodels package\n",
    "## Ojo is different\n",
    "from statsmodels.formula.api import ols"
   ]
  },
  {
   "cell_type": "code",
   "execution_count": null,
   "id": "ef87942e-d7bc-4b96-9c5a-182c6478adfe",
   "metadata": {},
   "outputs": [],
   "source": [
    "## OSL formula as a string formula = \"y ~ numFeature1 + numFeature2 + ... + C(catFeature1) + C(catFeature2)\" \n",
    "adelie_ols_formula = \"body_mass_g ~ bill_length_mm + C(gender) + C(species)\"\n",
    "chinstrap_ols_formula = \"body_mass_g ~ bill_length_mm + C(gender) + C(species)\"\n",
    "gentoo_ols_formula = \"body_mass_g ~ bill_length_mm + C(gender) + C(species)\""
   ]
  },
  {
   "cell_type": "code",
   "execution_count": null,
   "id": "630af052-5e03-4705-8560-518c6ebf3a43",
   "metadata": {},
   "outputs": [],
   "source": [
    "# Create OLS dataframe adelie\n",
    "ols_data_adelie = pd.concat([adelieX_train, adeliey_train], axis = 1)\n",
    "\n",
    "# Create OLS object and fit the model adelie\n",
    "OLSadelie = ols(formula = adelie_ols_formula, data = ols_data_adelie)\n",
    "model_adelie = OLSadelie.fit()\n",
    "\n",
    "# Create OLS dataframe chinstrap\n",
    "ols_data_chinstrap = pd.concat([chinstrapX_train, chinstrapy_train], axis = 1)\n",
    "\n",
    "# Create OLS object and fit the model chinstrap\n",
    "OLSchinstrap = ols(formula = chinstrap_ols_formula, data = ols_data_chinstrap)\n",
    "model_chinstrap = OLSchinstrap.fit()\n",
    "\n",
    "# Create OLS dataframe gentooo\n",
    "ols_data_gentoo = pd.concat([gentooX_train, gentooy_train], axis = 1)\n",
    "\n",
    "# Create OLS object and fit the model gentooo\n",
    "OLSgentoo = ols(formula = gentoo_ols_formula, data = ols_data_gentoo)\n",
    "model_gentoo = OLSgentoo.fit()"
   ]
  },
  {
   "cell_type": "markdown",
   "id": "c8a5bd53-dfd9-4265-aada-db0cdc9b3980",
   "metadata": {},
   "source": [
    "## Model evaluation and interpretation\n",
    "\n",
    "Use the `.summary()` function to get a summary table of model results and statistics.\n",
    "\n",
    "Once we have our summary table, we can interpret and evaluate the model. In the upper half of the table, we get several summary statistics. We'll focus on `R-squared`, which tells us how much variation in body mass (g) is explained by the model. An `R-squared` of 0.85 is fairly high, and this means that 85% of the variation in body mass (g) is explained by the model.\n",
    "\n",
    "Turning to the lower half of the table, we get the beta coefficients estimated by the model and their corresponding 95% confidence intervals and p-values. Based on the p-value column, labeled `P>|t|`, we can tell that all of the X variables are statistically significant, since the p-value is less than 0.05 for every X variable."
   ]
  },
  {
   "cell_type": "code",
   "execution_count": null,
   "id": "62399cab-ae74-4f83-a74a-6bb0492e3b8a",
   "metadata": {},
   "outputs": [],
   "source": [
    "model_adelie.summary()"
   ]
  },
  {
   "cell_type": "code",
   "execution_count": null,
   "id": "bd47cf4f-674d-46dc-94eb-1b98bbc96675",
   "metadata": {},
   "outputs": [],
   "source": [
    "model_chinstrap.summary()"
   ]
  },
  {
   "cell_type": "code",
   "execution_count": null,
   "id": "c07da83f-1633-416c-b679-3a627a827f55",
   "metadata": {},
   "outputs": [],
   "source": [
    "model_gentoo.summary()"
   ]
  },
  {
   "cell_type": "markdown",
   "id": "1d7e5dad-3b22-4159-ac05-6726a207a5f0",
   "metadata": {},
   "source": [
    "# ...and the whole data. Not split by species as before.\n",
    "\n",
    "As a whole data set the model does better $r^2$"
   ]
  },
  {
   "cell_type": "code",
   "execution_count": null,
   "id": "c334693d-307f-433b-a314-1b7e0c06ceb5",
   "metadata": {},
   "outputs": [],
   "source": [
    "X = df[[\"bill_length_mm\", \"gender\", \"species\"]]\n",
    "y = df[[\"body_mass_g\"]]\n",
    "\n",
    "# Create training data sets and holdout (testing) data sets\n",
    "X_train, X_test, y_train, y_test = train_test_split(X, y, \n",
    "                                                    test_size = 0.3, random_state = 42)\n",
    "# Write out OLS formula as a string\n",
    "ols_formula = \"body_mass_g ~ bill_length_mm + C(gender) + C(species)\"\n",
    "\n",
    "# Create OLS dataframe\n",
    "ols_data = pd.concat([X_train, y_train], axis = 1)\n",
    "\n",
    "# Create OLS object and fit the model\n",
    "OLS = ols(formula = ols_formula, data = ols_data)\n",
    "model = OLS.fit()\n",
    "\n",
    "# Get model results\n",
    "model.summary()"
   ]
  },
  {
   "cell_type": "markdown",
   "id": "bb91b3e0-83d7-4669-94fe-7d45f7b2074f",
   "metadata": {},
   "source": [
    "We can then interpret each of the beta coefficients for each X variable.\n",
    "\n",
    "### C(gender) - Male\n",
    "Given the name of the variable, we know that the variable was encoded as `Male = 1`, `Female = 0`. This means that female penguins are the reference point. If all other variables are constant, then we would expect a male penguin's body mass to be about 528.95 grams more than a female penguin's body mass.\n",
    "\n",
    "### C(species) - Chinstrap and Gentoo\n",
    "Given the names of these two variables, we know that Adelie penguins are the reference point. So, if we compare an Adelie penguin and a Chinstrap penguin, who have the same characteristics except their species, we would expect the Chinstrap penguin to have a body mass of about 285.39 grams less than the Adelie penguin. If we compare an Adelie penguin and a Gentoo penguin, who have the same characteristics except their species, we would expect the Gentoo penguin to have a body mass of about 1,081.62 grams more than the Adelie penguin.\n",
    "\n",
    "### Bill length (mm)\n",
    "Lastly, bill length (mm) is a continuous variable, so if we compare two penguins who have the same characteristics, except one penguin's bill is 1 millimeter longer, we would expect the penguin with the longer bill to have 35.55 grams more body mass than the penguin with the shorter bill."
   ]
  },
  {
   "cell_type": "markdown",
   "id": "d9edda54-5ce6-4bd0-a345-f354c6878f66",
   "metadata": {},
   "source": [
    "# Variance Inflation Factor\n",
    "\n",
    "The variance inflation factor is a measure for the increase of the variance of the parameter estimates if an additional variable, given by exog_idx is added to the linear regression. It is a measure for multicollinearity of the design matrix, exog.\n",
    "\n",
    "One recommendation is that if VIF is greater than 5, then the explanatory variable given by exog_idx is highly collinear with the other explanatory variables, and the parameter estimates will have large standard errors because of this.\n",
    "\n",
    "[WIKI](https://en.wikipedia.org/wiki/Variance_inflation_factor)\n",
    "\n",
    "[VIF-StatsModels](https://www.statsmodels.org/v0.12.2/generated/statsmodels.stats.outliers_influence.variance_inflation_factor.html)"
   ]
  },
  {
   "cell_type": "code",
   "execution_count": null,
   "id": "a154217a-ed7e-49a1-b407-91b366b73709",
   "metadata": {},
   "outputs": [],
   "source": [
    "from statsmodels.stats.outliers_influence import variance_inflation_factor\n",
    "from statsmodels.tools.tools import add_constant\n",
    "\n",
    "X = df[['bill_length_mm','bill_depth_mm','flipper_length_mm']]#,'body_mass_g']]\n",
    "\n",
    "X = add_constant(X)\n",
    "#print(X)\n",
    "VIF = {}\n",
    "VIF[\"VIF\"] = [variance_inflation_factor(X.values, i) for i in range(X.shape[1])]\n"
   ]
  },
  {
   "cell_type": "code",
   "execution_count": null,
   "id": "a80e6aa9-1e7a-40d3-b1b1-4b9252c8a9ca",
   "metadata": {},
   "outputs": [],
   "source": [
    "VIF"
   ]
  },
  {
   "cell_type": "code",
   "execution_count": null,
   "id": "4af8e7e8-d68b-40b9-8479-20d16afa5ff8",
   "metadata": {},
   "outputs": [],
   "source": [
    "X_train.reset_index"
   ]
  },
  {
   "cell_type": "code",
   "execution_count": null,
   "id": "e217221b-cd0a-4e06-bd0f-7e79a4bb61cb",
   "metadata": {
    "tags": []
   },
   "outputs": [],
   "source": [
    "## This is nice to compare Test and train\n",
    "## will show dist all nums columns.\n",
    "\n",
    "plt.figure(figsize=(10,30))\n",
    "i = 1\n",
    "X_train.reset_index()\n",
    "for col in X_train.columns[:-2]:\n",
    "    plt.subplot(7,2,i)\n",
    "    sns.histplot(x=X_train[col],color='Blue',kde=True,lw=1)\n",
    "    plt.title(\"training data: distribution of '{}' feature\".format(col));\n",
    "   \n",
    "    plt.subplot(7,2,i+1)\n",
    "    sns.histplot(x=X_test[col],color='Red',kde=True,lw=1)\n",
    "    plt.title(\"testing data: distribution of '{}' feature\".format(col));\n",
    "    i+=2\n",
    "plt.tight_layout()"
   ]
  },
  {
   "cell_type": "code",
   "execution_count": null,
   "id": "3b37fe1b-f55e-479b-a839-cd1625eae5f8",
   "metadata": {},
   "outputs": [],
   "source": []
  }
 ],
 "metadata": {
  "kernelspec": {
   "display_name": "Python 3 (ipykernel)",
   "language": "python",
   "name": "python3"
  },
  "language_info": {
   "codemirror_mode": {
    "name": "ipython",
    "version": 3
   },
   "file_extension": ".py",
   "mimetype": "text/x-python",
   "name": "python",
   "nbconvert_exporter": "python",
   "pygments_lexer": "ipython3",
   "version": "3.9.13"
  }
 },
 "nbformat": 4,
 "nbformat_minor": 5
}
