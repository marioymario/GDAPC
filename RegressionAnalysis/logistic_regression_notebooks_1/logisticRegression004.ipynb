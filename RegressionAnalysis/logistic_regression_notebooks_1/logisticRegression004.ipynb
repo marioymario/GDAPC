{
 "cells": [
  {
   "cell_type": "code",
   "execution_count": 1,
   "id": "ac01d578-8cee-484c-af62-ce2db00a5563",
   "metadata": {},
   "outputs": [],
   "source": [
    "## loading libraries in memory \n",
    "\n",
    "import pandas as pd\n",
    "import numpy as np\n",
    "import matplotlib.pyplot as plt\n",
    "import seaborn as sns\n",
    "import datetime as dt\n",
    "import eda_functions as eda\n",
    "\n",
    "import scipy\n",
    "from scipy import stats\n",
    "\n",
    "## For encoding\n",
    "from sklearn.preprocessing import LabelEncoder\n",
    "from sklearn.model_selection import train_test_split\n",
    "from sklearn.linear_model import LogisticRegression\n",
    "import sklearn.metrics as metrics ## confusion_matrix, accuracy_score, classification_report\n",
    "\n",
    "## logistic regression \n",
    "import statsmodels.api as sm\n",
    "import statsmodels.formula.api as smf\n",
    "\n",
    "import warnings\n",
    "warnings.filterwarnings(\"ignore\")"
   ]
  },
  {
   "cell_type": "code",
   "execution_count": 2,
   "id": "b508369e-d88a-42f3-9d91-d30df6ddbc9d",
   "metadata": {},
   "outputs": [],
   "source": [
    "df = pd.read_csv('activity.csv')\n",
    "df.columns = ['independent', 'responce']"
   ]
  },
  {
   "cell_type": "code",
   "execution_count": 3,
   "id": "f30b7df3-a7c8-4c32-b934-4598a2b6b181",
   "metadata": {},
   "outputs": [],
   "source": [
    "## Defining the dependent and independent variable\n",
    "X = df[['independent']]\n",
    "y = df[['responce']]\n",
    "\n",
    "## Split dataset into training and holdout datasets\n",
    "X_train, X_test, y_train, y_test = train_test_split(X,y, test_size=0.3, random_state=42)"
   ]
  },
  {
   "cell_type": "code",
   "execution_count": 4,
   "id": "f2f75d06-d27c-47c6-94c8-08b9c669a44e",
   "metadata": {},
   "outputs": [
    {
     "name": "stdout",
     "output_type": "stream",
     "text": [
      "Optimization terminated successfully.\n",
      "         Current function value: 0.080459\n",
      "         Iterations 9\n"
     ]
    }
   ],
   "source": [
    "## model definition, fitting also.\n",
    "concated = pd.concat([X, y], axis=1)\n",
    "concated.columns = columns=['independent', 'responce']\n",
    "formula = \" responce ~ independent \"\n",
    "m1 = smf.logit(formula=formula, data=concated).fit()"
   ]
  },
  {
   "cell_type": "code",
   "execution_count": 44,
   "id": "3c3f01cf-3a49-42b0-8712-517ed9d97753",
   "metadata": {},
   "outputs": [
    {
     "data": {
      "text/plain": [
       "['__class__',\n",
       " '__delattr__',\n",
       " '__dict__',\n",
       " '__dir__',\n",
       " '__doc__',\n",
       " '__eq__',\n",
       " '__format__',\n",
       " '__ge__',\n",
       " '__getattribute__',\n",
       " '__getstate__',\n",
       " '__gt__',\n",
       " '__hash__',\n",
       " '__init__',\n",
       " '__init_subclass__',\n",
       " '__le__',\n",
       " '__lt__',\n",
       " '__module__',\n",
       " '__ne__',\n",
       " '__new__',\n",
       " '__reduce__',\n",
       " '__reduce_ex__',\n",
       " '__repr__',\n",
       " '__setattr__',\n",
       " '__sizeof__',\n",
       " '__str__',\n",
       " '__subclasshook__',\n",
       " '__weakref__',\n",
       " '_cache',\n",
       " '_data_attr',\n",
       " '_data_in_cache',\n",
       " '_get_endog_name',\n",
       " '_get_robustcov_results',\n",
       " '_use_t',\n",
       " 'aic',\n",
       " 'bic',\n",
       " 'bse',\n",
       " 'conf_int',\n",
       " 'cov_kwds',\n",
       " 'cov_params',\n",
       " 'cov_type',\n",
       " 'df_model',\n",
       " 'df_resid',\n",
       " 'f_test',\n",
       " 'fittedvalues',\n",
       " 'get_margeff',\n",
       " 'initialize',\n",
       " 'k_constant',\n",
       " 'llf',\n",
       " 'llnull',\n",
       " 'llr',\n",
       " 'llr_pvalue',\n",
       " 'load',\n",
       " 'mle_retvals',\n",
       " 'mle_settings',\n",
       " 'model',\n",
       " 'nobs',\n",
       " 'normalized_cov_params',\n",
       " 'params',\n",
       " 'pred_table',\n",
       " 'predict',\n",
       " 'prsquared',\n",
       " 'pvalues',\n",
       " 'remove_data',\n",
       " 'resid_dev',\n",
       " 'resid_generalized',\n",
       " 'resid_pearson',\n",
       " 'resid_response',\n",
       " 'save',\n",
       " 'scale',\n",
       " 'set_null_options',\n",
       " 'summary',\n",
       " 'summary2',\n",
       " 't_test',\n",
       " 't_test_pairwise',\n",
       " 'tvalues',\n",
       " 'use_t',\n",
       " 'wald_test',\n",
       " 'wald_test_terms']"
      ]
     },
     "execution_count": 44,
     "metadata": {},
     "output_type": "execute_result"
    }
   ],
   "source": [
    "m1.__dir__()"
   ]
  },
  {
   "cell_type": "code",
   "execution_count": 47,
   "id": "a8433db7-78c2-49d2-b90d-978ed8bdd584",
   "metadata": {},
   "outputs": [
    {
     "data": {
      "text/html": [
       "<table class=\"simpletable\">\n",
       "<tr>\n",
       "        <td>Model:</td>              <td>Logit</td>      <td>Pseudo R-squared:</td>    <td>0.884</td>   \n",
       "</tr>\n",
       "<tr>\n",
       "  <td>Dependent Variable:</td>     <td>responce</td>           <td>AIC:</td>          <td>83.4932</td>  \n",
       "</tr>\n",
       "<tr>\n",
       "         <td>Date:</td>        <td>2023-06-26 15:16</td>       <td>BIC:</td>          <td>91.8983</td>  \n",
       "</tr>\n",
       "<tr>\n",
       "   <td>No. Observations:</td>         <td>494</td>        <td>Log-Likelihood:</td>    <td>-39.747</td>  \n",
       "</tr>\n",
       "<tr>\n",
       "       <td>Df Model:</td>              <td>1</td>            <td>LL-Null:</td>        <td>-342.16</td>  \n",
       "</tr>\n",
       "<tr>\n",
       "     <td>Df Residuals:</td>           <td>492</td>         <td>LLR p-value:</td>    <td>1.4993e-133</td>\n",
       "</tr>\n",
       "<tr>\n",
       "      <td>Converged:</td>           <td>1.0000</td>           <td>Scale:</td>         <td>1.0000</td>   \n",
       "</tr>\n",
       "<tr>\n",
       "    <td>No. Iterations:</td>        <td>9.0000</td>              <td></td>               <td></td>      \n",
       "</tr>\n",
       "</table>\n",
       "<table class=\"simpletable\">\n",
       "<tr>\n",
       "       <td></td>        <th>Coef.</th>  <th>Std.Err.</th>    <th>z</th>     <th>P>|z|</th> <th>[0.025</th>  <th>0.975]</th> \n",
       "</tr>\n",
       "<tr>\n",
       "  <th>Intercept</th>   <td>6.7454</td>   <td>0.8102</td>  <td>8.3254</td>  <td>0.0000</td> <td>5.1574</td>  <td>8.3333</td> \n",
       "</tr>\n",
       "<tr>\n",
       "  <th>independent</th> <td>-0.1309</td>  <td>0.0146</td>  <td>-8.9846</td> <td>0.0000</td> <td>-0.1595</td> <td>-0.1024</td>\n",
       "</tr>\n",
       "</table>"
      ],
      "text/plain": [
       "<class 'statsmodels.iolib.summary2.Summary'>\n",
       "\"\"\"\n",
       "                          Results: Logit\n",
       "==================================================================\n",
       "Model:              Logit            Pseudo R-squared: 0.884      \n",
       "Dependent Variable: responce         AIC:              83.4932    \n",
       "Date:               2023-06-26 15:16 BIC:              91.8983    \n",
       "No. Observations:   494              Log-Likelihood:   -39.747    \n",
       "Df Model:           1                LL-Null:          -342.16    \n",
       "Df Residuals:       492              LLR p-value:      1.4993e-133\n",
       "Converged:          1.0000           Scale:            1.0000     \n",
       "No. Iterations:     9.0000                                        \n",
       "-------------------------------------------------------------------\n",
       "                Coef.   Std.Err.     z     P>|z|    [0.025   0.975]\n",
       "-------------------------------------------------------------------\n",
       "Intercept       6.7454    0.8102   8.3254  0.0000   5.1574   8.3333\n",
       "independent    -0.1309    0.0146  -8.9846  0.0000  -0.1595  -0.1024\n",
       "==================================================================\n",
       "\n",
       "\"\"\""
      ]
     },
     "execution_count": 47,
     "metadata": {},
     "output_type": "execute_result"
    }
   ],
   "source": [
    "m1.summary2()"
   ]
  },
  {
   "cell_type": "code",
   "execution_count": 48,
   "id": "7e3a94aa-1f71-49a2-9546-62f69bfd75d5",
   "metadata": {},
   "outputs": [
    {
     "data": {
      "text/html": [
       "<table class=\"simpletable\">\n",
       "<caption>Logit Regression Results</caption>\n",
       "<tr>\n",
       "  <th>Dep. Variable:</th>       <td>responce</td>     <th>  No. Observations:  </th>   <td>   494</td>  \n",
       "</tr>\n",
       "<tr>\n",
       "  <th>Model:</th>                 <td>Logit</td>      <th>  Df Residuals:      </th>   <td>   492</td>  \n",
       "</tr>\n",
       "<tr>\n",
       "  <th>Method:</th>                 <td>MLE</td>       <th>  Df Model:          </th>   <td>     1</td>  \n",
       "</tr>\n",
       "<tr>\n",
       "  <th>Date:</th>            <td>Mon, 26 Jun 2023</td> <th>  Pseudo R-squ.:     </th>   <td>0.8838</td>  \n",
       "</tr>\n",
       "<tr>\n",
       "  <th>Time:</th>                <td>15:16:46</td>     <th>  Log-Likelihood:    </th>  <td> -39.747</td> \n",
       "</tr>\n",
       "<tr>\n",
       "  <th>converged:</th>             <td>True</td>       <th>  LL-Null:           </th>  <td> -342.16</td> \n",
       "</tr>\n",
       "<tr>\n",
       "  <th>Covariance Type:</th>     <td>nonrobust</td>    <th>  LLR p-value:       </th> <td>1.499e-133</td>\n",
       "</tr>\n",
       "</table>\n",
       "<table class=\"simpletable\">\n",
       "<tr>\n",
       "       <td></td>          <th>coef</th>     <th>std err</th>      <th>z</th>      <th>P>|z|</th>  <th>[0.025</th>    <th>0.975]</th>  \n",
       "</tr>\n",
       "<tr>\n",
       "  <th>Intercept</th>   <td>    6.7454</td> <td>    0.810</td> <td>    8.325</td> <td> 0.000</td> <td>    5.157</td> <td>    8.333</td>\n",
       "</tr>\n",
       "<tr>\n",
       "  <th>independent</th> <td>   -0.1309</td> <td>    0.015</td> <td>   -8.985</td> <td> 0.000</td> <td>   -0.159</td> <td>   -0.102</td>\n",
       "</tr>\n",
       "</table>"
      ],
      "text/plain": [
       "<class 'statsmodels.iolib.summary.Summary'>\n",
       "\"\"\"\n",
       "                           Logit Regression Results                           \n",
       "==============================================================================\n",
       "Dep. Variable:               responce   No. Observations:                  494\n",
       "Model:                          Logit   Df Residuals:                      492\n",
       "Method:                           MLE   Df Model:                            1\n",
       "Date:                Mon, 26 Jun 2023   Pseudo R-squ.:                  0.8838\n",
       "Time:                        15:16:46   Log-Likelihood:                -39.747\n",
       "converged:                       True   LL-Null:                       -342.16\n",
       "Covariance Type:            nonrobust   LLR p-value:                1.499e-133\n",
       "===============================================================================\n",
       "                  coef    std err          z      P>|z|      [0.025      0.975]\n",
       "-------------------------------------------------------------------------------\n",
       "Intercept       6.7454      0.810      8.325      0.000       5.157       8.333\n",
       "independent    -0.1309      0.015     -8.985      0.000      -0.159      -0.102\n",
       "===============================================================================\n",
       "\"\"\""
      ]
     },
     "execution_count": 48,
     "metadata": {},
     "output_type": "execute_result"
    }
   ],
   "source": [
    "m1.summary()"
   ]
  },
  {
   "cell_type": "code",
   "execution_count": 7,
   "id": "aa0b52ac-9e46-4f7e-afb7-42846b308f97",
   "metadata": {},
   "outputs": [
    {
     "name": "stdout",
     "output_type": "stream",
     "text": [
      "Predictions : [0, 1, 0, 0, 1, 0, 0, 1, 1, 0, 1, 0, 0, 1, 1, 0, 0, 0, 1, 1, 0, 1, 1, 0, 1, 0, 1, 1, 0, 1, 0, 0, 1, 0, 1, 0, 1, 1, 1, 1, 0, 1, 0, 1, 0, 0, 0, 0, 0, 0, 1, 0, 0, 1, 0, 1, 0, 1, 0, 1, 0, 0, 0, 1, 0, 0, 1, 1, 0, 0, 1, 0, 0, 0, 0, 0, 1, 1, 0, 0, 0, 1, 1, 0, 1, 0, 1, 1, 1, 0, 1, 0, 1, 1, 1, 1, 1, 0, 1, 1, 0, 0, 1, 1, 1, 1, 1, 1, 1, 0, 0, 0, 1, 0, 1, 1, 0, 1, 1, 1, 1, 1, 1, 0, 1, 1, 0, 1, 1, 0, 1, 0, 0, 1, 0, 0, 1, 1, 0, 1, 0, 1, 0, 0, 1, 0, 1, 1, 1]\n"
     ]
    }
   ],
   "source": [
    "# performing predictions on the test dataset\n",
    "y_pred = m1.predict(X_test)\n",
    "prediction = list(map(round, y_pred))\n",
    "  \n",
    "# comparing original and predicted values of y\n",
    "#print('Actual values', list(y_test.values))\n",
    "print('Predictions :', prediction)"
   ]
  },
  {
   "cell_type": "code",
   "execution_count": 9,
   "id": "a6dda06b-6219-40f4-b9ce-9409a93a830b",
   "metadata": {},
   "outputs": [
    {
     "name": "stdout",
     "output_type": "stream",
     "text": [
      "Confusion Matrix : \n",
      " [[70  2]\n",
      " [ 1 76]]\n",
      "Test accuracy =  0.9798657718120806\n"
     ]
    }
   ],
   "source": [
    "# confusion matrix\n",
    "cm = metrics.confusion_matrix(y_test, prediction) \n",
    "print (\"Confusion Matrix : \\n\", cm) \n",
    "  \n",
    "# accuracy score of the model\n",
    "print('Test accuracy = ', metrics.accuracy_score(y_test, prediction))"
   ]
  },
  {
   "cell_type": "code",
   "execution_count": 49,
   "id": "b7e993b4-d95c-4bba-bbb4-5dbcc0068479",
   "metadata": {},
   "outputs": [],
   "source": [
    "## Note there is a lot of different metrics.\n",
    "#metrics.__dir__()\n"
   ]
  },
  {
   "cell_type": "code",
   "execution_count": 19,
   "id": "fe5e2db7-ca2a-49b2-9e24-dcad116f3a0e",
   "metadata": {},
   "outputs": [
    {
     "data": {
      "text/plain": [
       "0.9743589743589743"
      ]
     },
     "execution_count": 19,
     "metadata": {},
     "output_type": "execute_result"
    }
   ],
   "source": [
    "## Precision Score\n",
    "metrics.precision_score(y_test, prediction)"
   ]
  },
  {
   "cell_type": "code",
   "execution_count": 20,
   "id": "c81c7ff9-f491-4057-84e4-79eb3e2b1370",
   "metadata": {},
   "outputs": [
    {
     "data": {
      "text/plain": [
       "0.987012987012987"
      ]
     },
     "execution_count": 20,
     "metadata": {},
     "output_type": "execute_result"
    }
   ],
   "source": [
    "## Recall Score\n",
    "metrics.recall_score(y_test, prediction)"
   ]
  },
  {
   "cell_type": "code",
   "execution_count": 21,
   "id": "36ab9417-6040-4206-acd2-626306f27ccd",
   "metadata": {},
   "outputs": [
    {
     "data": {
      "text/plain": [
       "0.9798657718120806"
      ]
     },
     "execution_count": 21,
     "metadata": {},
     "output_type": "execute_result"
    }
   ],
   "source": [
    "## Accuracy Score\n",
    "metrics.accuracy_score(y_test, prediction)"
   ]
  },
  {
   "cell_type": "code",
   "execution_count": 54,
   "id": "87f07f5b-f057-4851-bf76-32a6859dedb2",
   "metadata": {},
   "outputs": [
    {
     "data": {
      "image/png": "[encoded data removed]",
      "text/plain": [
       "<Figure size 640x480 with 1 Axes>"
      ]
     },
     "metadata": {},
     "output_type": "display_data"
    }
   ],
   "source": [
    "## ROC \n",
    "\n",
    "## Do we do with the probabilities or actual prediction.??\n",
    "metrics.RocCurveDisplay.from_predictions(y_test, prediction)\n",
    "plt.show()"
   ]
  },
  {
   "cell_type": "code",
   "execution_count": 53,
   "id": "49236a60-75e6-41ef-9139-47139e80ca33",
   "metadata": {},
   "outputs": [
    {
     "data": {
      "text/plain": [
       "0.9796176046176045"
      ]
     },
     "execution_count": 53,
     "metadata": {},
     "output_type": "execute_result"
    }
   ],
   "source": [
    "## AUC stands for area under the ROC curve\n",
    "metrics.roc_auc_score(y_test, prediction)"
   ]
  },
  {
   "cell_type": "code",
   "execution_count": 37,
   "id": "400330c7-1504-478a-a03c-cac275296b78",
   "metadata": {},
   "outputs": [
    {
     "data": {
      "image/png": "[encoded data removed]",
      "text/plain": [
       "<Figure size 640x480 with 2 Axes>"
      ]
     },
     "metadata": {},
     "output_type": "display_data"
    }
   ],
   "source": [
    "## Confusion Maatrix\n",
    "cm = metrics.confusion_matrix(y_test, prediction)\n",
    "disp = metrics.ConfusionMatrixDisplay(confusion_matrix = cm)\n",
    "disp.plot();"
   ]
  },
  {
   "cell_type": "code",
   "execution_count": 36,
   "id": "0a74111f-732d-4e74-9c39-9e5f768760c5",
   "metadata": {},
   "outputs": [
    {
     "name": "stdout",
     "output_type": "stream",
     "text": [
      "              precision    recall  f1-score   support\n",
      "\n",
      "           0       0.99      0.97      0.98        72\n",
      "           1       0.97      0.99      0.98        77\n",
      "\n",
      "    accuracy                           0.98       149\n",
      "   macro avg       0.98      0.98      0.98       149\n",
      "weighted avg       0.98      0.98      0.98       149\n",
      "\n"
     ]
    }
   ],
   "source": [
    "## and a Classification report\n",
    "print(metrics.classification_report(y_test, prediction))"
   ]
  },
  {
   "cell_type": "code",
   "execution_count": null,
   "id": "425445a0-950d-411d-a6ac-bbdf3c72bcf9",
   "metadata": {},
   "outputs": [],
   "source": []
  }
 ],
 "metadata": {
  "kernelspec": {
   "display_name": "Python 3 (ipykernel)",
   "language": "python",
   "name": "python3"
  },
  "language_info": {
   "codemirror_mode": {
    "name": "ipython",
    "version": 3
   },
   "file_extension": ".py",
   "mimetype": "text/x-python",
   "name": "python",
   "nbconvert_exporter": "python",
   "pygments_lexer": "ipython3",
   "version": "3.9.13"
  }
 },
 "nbformat": 4,
 "nbformat_minor": 5
}
