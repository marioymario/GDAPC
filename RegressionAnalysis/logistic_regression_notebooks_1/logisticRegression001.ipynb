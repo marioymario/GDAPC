{
 "cells": [
  {
   "cell_type": "code",
   "execution_count": 1,
   "id": "197d61cf-22d3-4f0c-a682-7a51d0f87200",
   "metadata": {},
   "outputs": [],
   "source": [
    "import pandas as pd\n",
    "import numpy as np\n",
    "import matplotlib.pyplot as plt\n",
    "import seaborn as sns\n",
    "sns.set_palette(\"pastel\")\n",
    "sns.set_theme(style=\"whitegrid\")\n",
    "\n",
    "## Logistic regression needs.\n",
    "from sklearn.model_selection import train_test_split\n",
    "from sklearn.linear_model import LogisticRegression\n",
    "import sklearn.metrics as metrics\n",
    "\n",
    "\n",
    "import warnings\n",
    "warnings.simplefilter(action='ignore', category=FutureWarning)\n"
   ]
  },
  {
   "cell_type": "markdown",
   "id": "2f5d60c3-609b-4131-9f0a-65b9d33907c0",
   "metadata": {},
   "source": [
    "### Logistic function\n",
    "The logistic function takes the following form:\n",
    "\n",
    "$$ g(z) = \\frac{1}{1 + e^{-z}}$$\n",
    "\n",
    "If plotted, this function looks like this:\n"
   ]
  },
  {
   "cell_type": "code",
   "execution_count": 2,
   "id": "77d0d114-83bf-45e2-ba9c-a21126709494",
   "metadata": {},
   "outputs": [
    {
     "data": {
      "image/png": "[encoded data removed]",
      "text/plain": [
       "<Figure size 640x480 with 1 Axes>"
      ]
     },
     "metadata": {},
     "output_type": "display_data"
    }
   ],
   "source": [
    "z = np.arange(-5, 5, 0.1)\n",
    "g = 1 / (1 + np.exp(-z))\n",
    "\n",
    "fig = plt.figure()\n",
    "ax = fig.add_subplot(1, 1, 1)\n",
    "ax.spines['left'].set_position(('data', 0.0))\n",
    "ax.spines['bottom'].set_position(('data', 0.0))\n",
    "ax.spines['right'].set_color('none')\n",
    "ax.spines['top'].set_color('none')\n",
    "plt.plot(z, g)\n",
    "plt.plot([2, 2], [0, (1/(1 + np.exp(-2)))], 'g--', alpha = 0.8)\n",
    "plt.plot([0, 2], [(1/(1 + np.exp(-2))), (1/(1 + np.exp(-2)))], 'g--', alpha = 0.8)\n",
    "plt.xlabel('z')\n",
    "plt.ylabel('g(z)')\n",
    "plt.show()"
   ]
  },
  {
   "cell_type": "markdown",
   "id": "129ef9e4-025b-47ae-a1b5-1649ebf48755",
   "metadata": {},
   "source": [
    "##\n",
    "---\n",
    "\n",
    "## Hypothesis function\n",
    "\n",
    "*logistic regression*. \n",
    "\n",
    "Given two features, you want to determine some relationship or pattern that maps these features onto a target or label. \n",
    "\n",
    "For example, given a mean radius and mean compactness of a tumor,\n",
    "you want to map those values to either a `1` (benign) or `0` (malignant).\n",
    "\n",
    "or\n",
    "\n",
    "For example:\n",
    "\n",
    "`indepent` Represents the acceleration of one of the study participants in terms of their vertical axis while in the process of laying down.  \n",
    "\n",
    "`response` If `0`, the subject was performing a different activity. If `1` the subject was performing the lying down activity.  \n",
    "\n",
    "That is, you want to develop a function of the following form:\n",
    "\n",
    "$$  y = f(x) $$\n",
    "\n",
    "This function should predict $y$ given the input features $x$. However, you do not know the function $f(x)$ just yet. So you can refer to it as the *hypothesis function* and denote it as $h(x)$. \n",
    "\n",
    "The hypothesis function takes the following form:\n",
    "\n",
    "$$ h_{\\theta}(x) = \\theta_0 + \\theta_1x_1 + \\theta_2x_2$$\n",
    "\n",
    "The values $\\theta_0, \\theta_1$, and $\\theta_2$ are parameters (sometimes called *weights*) that you tune as you fit the function to the data. The values $x_1$ and $x_2$ are the features. Say, for example, that you have a feature that is strongly correlated with a label. The feature would have more weight or a larger theta ($\\theta$) value compared to a feature that isn't a strong predictor. \n",
    "\n",
    "Think of $\\theta_0$ as some base value that determines if a tumor is malignant or not. This is sometimes called a *bias*. $\\theta_1$ is the amount of contribution that the first feature—the mean radius in this case—contributes to the decision. And $\\theta_2$ is the amount of contribution of the second feature to the decision. As you might imagine, this can be extended to any number of features, as follows:\n",
    "\n",
    "$$ h_{\\theta}(x) = \\theta_0 + \\theta_1x_1 + \\theta_2x_2 + \\ldots + \\theta_nx_n$$\n",
    "\n",
    "For convenience, define the following vector:\n",
    "\n",
    "$$\\theta = \\begin{bmatrix}\\theta_0 \\\\ \\theta_1 \\\\ \\theta_2 \\\\ \\vdots \\\\ \\theta_n\\end{bmatrix}$$\n",
    "\n",
    "Also define the following vector:\n",
    "\n",
    "$$ x = \\begin{bmatrix}x_0 \\\\ x_{1} \\\\ x_{2} \\\\ \\vdots \\\\ x_{n} \\end{bmatrix} $$\n",
    "\n",
    "So the hypothesis function may be concisely represented as follows:\n",
    "\n",
    "$$ h_\\theta(x) = \\begin{bmatrix}\\theta_0  & \\theta_1 & \\theta_2  & \\ldots & \\theta_n \\end{bmatrix}\\begin{bmatrix}x_0 \\\\ x_{1} \\\\ x_{2} \\\\ \\vdots \\\\ x_{n} \\end{bmatrix} = \\theta^Tx$$\n",
    "\n",
    "The symbol $\\theta^T$ simply means \"the transpose of $\\theta$\". That is, a column vector transposed becomes a row vector, and vice versa. Basic matrix multiplication would show that this concise form of the expression is the same as the original form.\n",
    "\n",
    "You may have noticed that given $n$ features, you create a vector $x$ of $n+1$ elements. For convenience, assign the value `1` to $x_0$ for all rows of data in the dataset. This makes it easier to perform matrix multiplication between $\\theta$ and $x$.\n",
    "\n",
    "---\n",
    "\n",
    "We are looking for $y$ to take on the values `0` or `1` and no other value. \n",
    "\n",
    "The hypothesis function as given will generate numbers outside of this range. \n",
    "\n",
    "This is where the *logistic* part of the logistic regression comes in. \n",
    "\n",
    "You take the hypothesis function and pass it through a *logistic function* (also called a *sigmoid function*).\n",
    "\n",
    "## $ g(z) = \\frac{1}{1 + e^{-z}}$\n",
    "\n",
    "\n",
    "##"
   ]
  },
  {
   "cell_type": "code",
   "execution_count": 21,
   "id": "b2cf8059-04d4-4d56-a650-5b88b231fcdc",
   "metadata": {},
   "outputs": [],
   "source": [
    "## z, a vector of real numbers \n",
    "\n",
    "def zigmoid(z):\n",
    "    return 1 / ( 1 + np.exp(-z))\n",
    "\n",
    "def prediccion(features, weights):\n",
    "    z =np.dot(features, weights)\n",
    "    return zigmoid(z)\n"
   ]
  },
  {
   "cell_type": "markdown",
   "id": "5df6a578-f57a-4b05-bb8a-2e0adcba13b3",
   "metadata": {},
   "source": [
    "Imagine\n",
    "\n",
    "Sample # |$x_1$ | $x_2$ | target\n",
    "--- | --- | --- | ---\n",
    "1 | 0.4 | 1.3 | 1\n",
    "2 | 0.1 | 0.002 | 0\n",
    "\n",
    "Running the algorithm generates the model defined by the following:\n",
    "\n",
    "$$ \\theta = \\begin{bmatrix} 0.1 \\\\ -1.2 \\\\ 0.3 \\end{bmatrix} $$\n",
    "\n",
    "### For sample 1\n",
    "\n",
    "$$ x^1 = \\begin{bmatrix} 1 \\\\ 0.4 \\\\ 1.3 \\end{bmatrix}$$\n",
    "\n",
    "So performing $ z= \\theta^Tx$ gives the following:\n",
    "\n",
    "$$ \\begin{align*}z & = \\begin{bmatrix} 0.1 & -1.2 & 0.3 \\end{bmatrix}\\begin{bmatrix} 1 \\\\ 0.4 \\\\ 1.3 \\end{bmatrix} \\\\ &= 0.1 \\times 1 + -1.2 \\times 0.4 + 0.3 \\times 1.3 \\\\ &= 0.010\\end{align*} $$\n",
    "\n",
    "Then plotting this on the sigmoid function, you'll have the following:\n",
    "\n",
    "$$ \\begin{align*}g(0.010) & = \\frac{1}{1 + e^{-0.010}} \\\\ &= 0.502 \\end{align*}$$\n",
    "\n",
    "Therefore:\n",
    "\n",
    "$$ y = 1 \\text{ because }  h_\\theta(x^1) \\ge 0.5 $$ \n",
    "\n",
    "### For sample 2\n",
    "\n",
    "$$ x^2 = \\begin{bmatrix} 1 \\\\ 0.1 \\\\ 0.002 \\end{bmatrix}$$\n",
    "\n",
    "So performing $z = \\theta^Tx$ gives the following:\n",
    "\n",
    "$$ \\begin{align*}z & = \\begin{bmatrix} 0.1 & -1.2 & 0.3 \\end{bmatrix}\\begin{bmatrix} 1 \\\\ 0.1 \\\\ 0.002 \\end{bmatrix} \\\\ &= 0.1 \\times 1 + -1.2 \\times 0.1 + 1.3 \\times 0.002 \\\\ &= -0.019\\end{align*} $$\n",
    "\n",
    "Then plot this on the sigmoid function as follows:\n",
    "\n",
    "$$ \\begin{align*}g(-0.019) & = \\frac{1}{1 + e^{--0.019}} \\\\ &= 0.495 \\end{align*}$$\n",
    "\n",
    "Therefore:\n",
    "\n",
    "$$ y = 0 \\text{ because } h_\\theta(x^2) \\lt 0.5 $$\n",
    "\n",
    "\n",
    "For the first sample, the model predicted `1`. For the second sample, the model predicted `0`.\n",
    "\n",
    "\n"
   ]
  },
  {
   "cell_type": "code",
   "execution_count": 22,
   "id": "7431bcc6-c4b5-43de-a09a-650c3c717da7",
   "metadata": {},
   "outputs": [
    {
     "name": "stdout",
     "output_type": "stream",
     "text": [
      "For sample 1:  0.502499979166875\n",
      "For sample 2:  0.49515015210644203\n"
     ]
    }
   ],
   "source": [
    "x1 = [1, 0.4, 1.3]\n",
    "theta = [0.1, -1.2, 0.3]\n",
    "sample1 = prediccion(x1, theta)\n",
    "\n",
    "print('For sample 1: ', sample1)\n",
    "\n",
    "x2 = [1, 0.1, 0.002]\n",
    "sample2 = prediccion(x2, theta)\n",
    "\n",
    "print('For sample 2: ', sample2)"
   ]
  },
  {
   "cell_type": "markdown",
   "id": "69ed00ad-f1d3-4154-a9e0-50245d1c7091",
   "metadata": {},
   "source": [
    "## Side Note:\n",
    "\n",
    "#### Probability are not the odds of winning or loosing.\n",
    "\n",
    "#### probability = wanted result / all results\n",
    "\n",
    "#### odds = wanted result /  unwanted result "
   ]
  },
  {
   "cell_type": "markdown",
   "id": "80e29dbf-0b4a-4501-b80e-31b9c682aa7f",
   "metadata": {},
   "source": [
    "## Cost function\n",
    "Now that you've seen how you can use the hypothesis function to make some predictions, the next step is to measure the accuracy of the function. If the accuracy is too low, then adjust some parameters and measure the accuracy of the updated function. Repeat this process until you are satisfied with the accuracy or until you simply cannot get better accuracy.\n",
    "\n",
    "In this section, you will examine the function that you'll use to measure the hypothesis function's accuracy. This is known as the *cost function* or *error function*. \n",
    "\n",
    "For a given data sample, you can use the set of features $x$ to calculate the prediction given by your hypothesis function, as you did above, and compare it to the actual label for that sample $y$. If the prediction is different from the actual value of $y$, then you have an error. You then need to perform this for all samples in your training set, and sum the errors for a total error.\n",
    "\n",
    "The objective of the algorithm is to minimize the error. The cost function used in logistic regression is defined as follows:\n",
    "\n",
    "$$ cost(h_\\theta(x), y) = \\begin{cases} -log(h_\\theta(x)) & \\text{if} & y = 1 \\\\ -log(1 - h_\\theta(x)) & \\text{if} & y = 0\\end{cases}$$\n",
    "\n",
    "These two functions are plotted below.\n",
    "\n",
    "The left graph shows the function $-log(h_\\theta(x))$. If $y = 1$ and the hypothesis function returns `1`, the penalty is `0`. But if the hypothesis function returns `0`, the penalty is very large. Similarly, the right side illustrates that if $y = 0$, then a prediction of `1` results in a large penalty, but a prediction of `0` has no penalty.\n",
    "\n",
    "You can restate that cost function in a single line to make it easier to code.\n",
    "\n",
    "$$ cost(h_\\theta(x), y) = -ylog(h_\\theta(x)) - (1 - y)log(1 - h_\\theta(x))$$\n",
    "\n",
    "In the cell below, this is illustrated in code."
   ]
  },
  {
   "cell_type": "code",
   "execution_count": 23,
   "id": "9211ab13-0ec2-42b4-ba20-84974954bdf5",
   "metadata": {},
   "outputs": [
    {
     "data": {
      "image/png": "[encoded data removed]",
      "text/plain": [
       "<Figure size 640x480 with 2 Axes>"
      ]
     },
     "metadata": {},
     "output_type": "display_data"
    }
   ],
   "source": [
    "fig, (ax1, ax2) = plt.subplots(1, 2)\n",
    "z = np.arange(0.01, 1, 0.01)\n",
    "g = -np.log(z)\n",
    "ax1.spines['left'].set_position(('data', 0.0))\n",
    "ax1.spines['bottom'].set_position(('data', 0.0))\n",
    "ax1.spines['right'].set_color('none')\n",
    "ax1.spines['top'].set_color('none')\n",
    "ax1.plot(z, g)\n",
    "ax1.set(xlabel='h(x)', ylabel='Cost(h(x))')\n",
    "ax1.set_title('y = 1')\n",
    "\n",
    "g = -np.log(1 - z)\n",
    "ax2.spines['left'].set_position(('data', 0.0))\n",
    "ax2.spines['bottom'].set_position(('data', 0.0))\n",
    "ax2.spines['right'].set_color('none')\n",
    "ax2.spines['top'].set_color('none')\n",
    "ax2.plot(z, g)\n",
    "ax2.set(xlabel='h(x)', ylabel='Cost(1 - h(x))')\n",
    "ax2.set_title('y = 0')\n",
    "\n",
    "plt.show()"
   ]
  },
  {
   "cell_type": "code",
   "execution_count": 24,
   "id": "238b491f-4445-454c-8eb3-6bd459ffe0ef",
   "metadata": {},
   "outputs": [
    {
     "name": "stdout",
     "output_type": "stream",
     "text": [
      "y = 0, pred close to zero:  1.0000050000287824e-05\n",
      "y = 0, pred close to one:  11.51292546497478\n",
      "y = 1, pred close to zero:  11.512925464970229\n",
      "y = 1, pred close to one:  1.0000050000287824e-05\n"
     ]
    }
   ],
   "source": [
    "\n",
    "def cost(pred, y):\n",
    "  return -y * np.log(pred) - (1 - y) * np.log(1 - pred)\n",
    "\n",
    "# Prediction is close to 0, y = 0 (small error)\n",
    "y = 0\n",
    "pred = 0.00001\n",
    "print(\"y = 0, pred close to zero: \", cost(pred, y))\n",
    "\n",
    "# Prediction is close to 1, y = 0 (large error)\n",
    "pred = 0.99999\n",
    "print(\"y = 0, pred close to one: \", cost(pred, y))\n",
    "\n",
    "y = 1\n",
    "pred = 0.00001\n",
    "# Prediction is close to 0, y = 1 (large error)\n",
    "print(\"y = 1, pred close to zero: \", cost(pred, y))\n",
    "\n",
    "# Prediction is close to 1, y = 1 (small error)\n",
    "pred = 0.99999\n",
    "print(\"y = 1, pred close to one: \", cost(pred, y))\n",
    "\n"
   ]
  },
  {
   "cell_type": "markdown",
   "id": "4c9ace0d-1245-42be-9e7c-0669478ee588",
   "metadata": {},
   "source": [
    "## Logistic regression\n",
    "\n"
   ]
  },
  {
   "cell_type": "code",
   "execution_count": 25,
   "id": "984c4f1c-70e6-40d9-b184-e94505260cb9",
   "metadata": {},
   "outputs": [
    {
     "data": {
      "text/html": [
       "<div>\n",
       "<style scoped>\n",
       "    .dataframe tbody tr th:only-of-type {\n",
       "        vertical-align: middle;\n",
       "    }\n",
       "\n",
       "    .dataframe tbody tr th {\n",
       "        vertical-align: top;\n",
       "    }\n",
       "\n",
       "    .dataframe thead th {\n",
       "        text-align: right;\n",
       "    }\n",
       "</style>\n",
       "<table border=\"1\" class=\"dataframe\">\n",
       "  <thead>\n",
       "    <tr style=\"text-align: right;\">\n",
       "      <th></th>\n",
       "      <th>independent</th>\n",
       "      <th>responce</th>\n",
       "    </tr>\n",
       "  </thead>\n",
       "  <tbody>\n",
       "    <tr>\n",
       "      <th>0</th>\n",
       "      <td>96.229</td>\n",
       "      <td>0</td>\n",
       "    </tr>\n",
       "    <tr>\n",
       "      <th>1</th>\n",
       "      <td>84.746</td>\n",
       "      <td>0</td>\n",
       "    </tr>\n",
       "    <tr>\n",
       "      <th>2</th>\n",
       "      <td>82.449</td>\n",
       "      <td>0</td>\n",
       "    </tr>\n",
       "    <tr>\n",
       "      <th>3</th>\n",
       "      <td>106.560</td>\n",
       "      <td>0</td>\n",
       "    </tr>\n",
       "    <tr>\n",
       "      <th>4</th>\n",
       "      <td>80.152</td>\n",
       "      <td>0</td>\n",
       "    </tr>\n",
       "    <tr>\n",
       "      <th>5</th>\n",
       "      <td>19.292</td>\n",
       "      <td>1</td>\n",
       "    </tr>\n",
       "  </tbody>\n",
       "</table>\n",
       "</div>"
      ],
      "text/plain": [
       "   independent  responce\n",
       "0       96.229         0\n",
       "1       84.746         0\n",
       "2       82.449         0\n",
       "3      106.560         0\n",
       "4       80.152         0\n",
       "5       19.292         1"
      ]
     },
     "execution_count": 25,
     "metadata": {},
     "output_type": "execute_result"
    }
   ],
   "source": [
    "df = pd.read_csv('activity.csv')\n",
    "df.columns = ['independent', 'responce']\n",
    "df.head(6)"
   ]
  },
  {
   "cell_type": "code",
   "execution_count": 26,
   "id": "61d41c90-6adf-4cbb-a948-6310c82ba555",
   "metadata": {},
   "outputs": [
    {
     "data": {
      "text/html": [
       "<div>\n",
       "<style scoped>\n",
       "    .dataframe tbody tr th:only-of-type {\n",
       "        vertical-align: middle;\n",
       "    }\n",
       "\n",
       "    .dataframe tbody tr th {\n",
       "        vertical-align: top;\n",
       "    }\n",
       "\n",
       "    .dataframe thead th {\n",
       "        text-align: right;\n",
       "    }\n",
       "</style>\n",
       "<table border=\"1\" class=\"dataframe\">\n",
       "  <thead>\n",
       "    <tr style=\"text-align: right;\">\n",
       "      <th></th>\n",
       "      <th>independent</th>\n",
       "      <th>responce</th>\n",
       "    </tr>\n",
       "  </thead>\n",
       "  <tbody>\n",
       "    <tr>\n",
       "      <th>count</th>\n",
       "      <td>494.000000</td>\n",
       "      <td>494.000000</td>\n",
       "    </tr>\n",
       "    <tr>\n",
       "      <th>mean</th>\n",
       "      <td>45.512363</td>\n",
       "      <td>0.516194</td>\n",
       "    </tr>\n",
       "    <tr>\n",
       "      <th>std</th>\n",
       "      <td>44.799360</td>\n",
       "      <td>0.500244</td>\n",
       "    </tr>\n",
       "    <tr>\n",
       "      <th>min</th>\n",
       "      <td>-48.459000</td>\n",
       "      <td>0.000000</td>\n",
       "    </tr>\n",
       "    <tr>\n",
       "      <th>25%</th>\n",
       "      <td>0.918650</td>\n",
       "      <td>0.000000</td>\n",
       "    </tr>\n",
       "    <tr>\n",
       "      <th>50%</th>\n",
       "      <td>41.109500</td>\n",
       "      <td>1.000000</td>\n",
       "    </tr>\n",
       "    <tr>\n",
       "      <th>75%</th>\n",
       "      <td>89.339000</td>\n",
       "      <td>1.000000</td>\n",
       "    </tr>\n",
       "    <tr>\n",
       "      <th>max</th>\n",
       "      <td>112.310000</td>\n",
       "      <td>1.000000</td>\n",
       "    </tr>\n",
       "  </tbody>\n",
       "</table>\n",
       "</div>"
      ],
      "text/plain": [
       "       independent    responce\n",
       "count   494.000000  494.000000\n",
       "mean     45.512363    0.516194\n",
       "std      44.799360    0.500244\n",
       "min     -48.459000    0.000000\n",
       "25%       0.918650    0.000000\n",
       "50%      41.109500    1.000000\n",
       "75%      89.339000    1.000000\n",
       "max     112.310000    1.000000"
      ]
     },
     "execution_count": 26,
     "metadata": {},
     "output_type": "execute_result"
    }
   ],
   "source": [
    "df.describe()"
   ]
  },
  {
   "cell_type": "code",
   "execution_count": 33,
   "id": "9090099a-9b05-45c9-a191-77816c38d318",
   "metadata": {},
   "outputs": [
    {
     "name": "stdout",
     "output_type": "stream",
     "text": [
      "independent    0\n",
      "responce       0\n",
      "dtype: int64\n"
     ]
    }
   ],
   "source": [
    "## missing values?\n",
    "print(df.isnull().sum().sort_values())"
   ]
  },
  {
   "cell_type": "code",
   "execution_count": 36,
   "id": "a13aa3f5-1988-4cd2-a8ae-b21c62e92e05",
   "metadata": {},
   "outputs": [
    {
     "data": {
      "text/plain": [
       "1    255\n",
       "0    239\n",
       "Name: responce, dtype: int64"
      ]
     },
     "execution_count": 36,
     "metadata": {},
     "output_type": "execute_result"
    }
   ],
   "source": [
    "## Classes \n",
    "df['responce'].value_counts()\n"
   ]
  },
  {
   "cell_type": "code",
   "execution_count": 37,
   "id": "a4dea272-6a1d-4f79-81a6-1d11e9e72df1",
   "metadata": {},
   "outputs": [
    {
     "name": "stdout",
     "output_type": "stream",
     "text": [
      "Balance/Unbalance class?\n",
      "0.48380566801619435 Almost 50/50\n",
      "laying down 0.5162% of the time\n"
     ]
    }
   ],
   "source": [
    "## Is the target class balanced?\n",
    "print('Balance/Unbalance class?')\n",
    "print(239 / (255 + 239), 'Almost 50/50')\n",
    "print(f'laying down {1-0.4838}% of the time')"
   ]
  },
  {
   "cell_type": "markdown",
   "id": "6b502182-b442-4962-a557-e955abb8fa51",
   "metadata": {},
   "source": [
    "### [`LogisticRegression()`scikit-learn](https://scikit-learn.org/stable/modules/generated/sklearn.linear_model.LogisticRegression.html)"
   ]
  },
  {
   "cell_type": "code",
   "execution_count": 44,
   "id": "a88dd03b-1bba-4b5d-8a36-669f8cc376cb",
   "metadata": {},
   "outputs": [],
   "source": [
    "## Acceleration reading in G for vertical axis `independent`\n",
    "## laying down or not\n",
    "\n",
    "X = df[['independent']]\n",
    "y = df[['responce']]\n",
    "\n",
    "## Split dataset into training and holdout datasets\n",
    "X_train, X_test, y_train, y_test = train_test_split(X,y, test_size=0.3, random_state=42)\n",
    "\n",
    "## Fitting the model to the data, and saving it as a variable clf_lr: classifier logistic regression.\n",
    "clf_lr = LogisticRegression().fit(X_train, y_train.values.ravel())\n"
   ]
  },
  {
   "cell_type": "markdown",
   "id": "8a1858a6-f27b-44ec-ad99-ab797ff39dc3",
   "metadata": {},
   "source": [
    "### Predicting with test"
   ]
  },
  {
   "cell_type": "code",
   "execution_count": 47,
   "id": "72205f9d-9dfe-49a6-9918-a5db0dd31abf",
   "metadata": {},
   "outputs": [],
   "source": [
    "## Obtaining predictions\n",
    "y_pred = clf_lr.predict(X_test)"
   ]
  },
  {
   "cell_type": "code",
   "execution_count": 54,
   "id": "be9684d1-bd18-40ce-b536-0ee23a23c231",
   "metadata": {},
   "outputs": [
    {
     "data": {
      "text/plain": [
       "array([2.31693308e-02, 9.97511568e-01, 1.04282071e-02, 1.05672351e-03,\n",
       "       9.99781257e-01, 1.04282071e-02, 4.66017106e-03, 9.95733864e-01,\n",
       "       9.72343955e-01, 2.31693308e-02, 9.97825589e-01, 1.36212174e-02,\n",
       "       3.43616982e-02, 9.95733864e-01, 9.98892860e-01, 5.75929752e-02,\n",
       "       4.77298577e-01, 6.09795092e-03, 9.98732777e-01, 9.92695617e-01,\n",
       "       3.91403776e-02, 9.31712676e-01, 9.64063419e-01, 1.55638073e-02,\n",
       "       9.83708329e-01, 1.19195424e-02, 7.55107906e-01, 8.74057100e-01,\n",
       "       3.43616982e-02, 9.91646273e-01, 1.77763901e-02, 1.19195424e-02,\n",
       "       9.97152314e-01, 2.64340977e-02, 9.98892860e-01, 1.19195424e-02,\n",
       "       9.31712676e-01, 9.95119247e-01, 9.00935568e-01, 9.22594161e-01,\n",
       "       8.39846087e-02, 9.99624389e-01, 1.19195424e-02, 8.01629006e-01,\n",
       "       5.33106480e-03, 1.36212174e-02, 3.01447030e-02, 3.55976011e-03,\n",
       "       4.07288328e-03, 1.19195424e-02, 9.98892860e-01, 6.53836704e-02,\n",
       "       4.07288328e-03, 9.98892860e-01, 9.12067619e-03, 9.53422359e-01,\n",
       "       1.20976784e-03, 9.89081439e-01, 6.53836704e-02, 9.99950563e-01,\n",
       "       3.55976011e-03, 4.66017106e-03, 9.49855175e-02, 9.99713340e-01,\n",
       "       6.09795092e-03, 2.71879989e-03, 9.98732777e-01, 9.92695617e-01,\n",
       "       2.02970330e-02, 4.66017106e-03, 9.92695617e-01, 4.66017106e-03,\n",
       "       3.55976011e-03, 8.06224240e-04, 1.77763901e-02, 5.75929752e-02,\n",
       "       9.83708329e-01, 9.98732777e-01, 5.75929752e-02, 2.12858682e-01,\n",
       "       1.55638073e-02, 9.78756075e-01, 9.98339943e-01, 1.07258677e-01,\n",
       "       9.53422359e-01, 6.97519741e-03, 9.97511568e-01, 9.99261761e-01,\n",
       "       9.99671864e-01, 1.04282071e-02, 9.96271374e-01, 1.55638073e-02,\n",
       "       9.98339943e-01, 9.98892860e-01, 9.87520863e-01, 9.31712676e-01,\n",
       "       9.47037987e-01, 2.64340977e-02, 7.55107906e-01, 9.99569998e-01,\n",
       "       4.66017106e-03, 3.91403776e-02, 8.22251990e-01, 9.99154973e-01,\n",
       "       9.39833736e-01, 9.39833736e-01, 9.98549580e-01, 9.85738795e-01,\n",
       "       9.93613325e-01, 9.12067619e-03, 6.97519741e-03, 1.19195424e-02,\n",
       "       9.99713340e-01, 6.97519741e-03, 9.99671864e-01, 9.95733864e-01,\n",
       "       4.45529655e-02, 9.59075003e-01, 9.99935211e-01, 9.99569998e-01,\n",
       "       8.01629006e-01, 9.81394227e-01, 5.44778650e-01, 1.36212174e-02,\n",
       "       9.97825589e-01, 9.93613325e-01, 1.36212174e-02, 9.99781257e-01,\n",
       "       9.99154973e-01, 3.43616982e-02, 9.68463782e-01, 6.97519741e-03,\n",
       "       1.55638073e-02, 9.75755881e-01, 2.02970330e-02, 5.75929752e-02,\n",
       "       9.92695617e-01, 9.47037987e-01, 1.04282071e-02, 9.99355101e-01,\n",
       "       1.36212174e-02, 9.87520863e-01, 2.02970330e-02, 7.41453115e-02,\n",
       "       9.85738795e-01, 2.37530617e-03, 9.78756075e-01, 9.98732777e-01,\n",
       "       9.97511568e-01])"
      ]
     },
     "execution_count": 54,
     "metadata": {},
     "output_type": "execute_result"
    }
   ],
   "source": [
    "## Obtaining the predictive probabilities\n",
    "clf_lr.predict_proba(X_test)[::,-1]"
   ]
  },
  {
   "cell_type": "code",
   "execution_count": 56,
   "id": "194aaba0-b661-4ffd-bc29-5e2d04c36f78",
   "metadata": {},
   "outputs": [],
   "source": [
    "## All the classifier attributes\n",
    "clf_atributes = clf_lr.__dir__()"
   ]
  },
  {
   "cell_type": "markdown",
   "id": "00d29fc4-87a0-4152-80e4-226711d06623",
   "metadata": {},
   "source": [
    "### Getting coefficients and plot"
   ]
  },
  {
   "cell_type": "code",
   "execution_count": 40,
   "id": "b0dd7de9-e24b-4e7a-9149-8ea762a0a2e6",
   "metadata": {},
   "outputs": [
    {
     "data": {
      "text/plain": [
       "array([[-0.1177466]])"
      ]
     },
     "execution_count": 40,
     "metadata": {},
     "output_type": "execute_result"
    }
   ],
   "source": [
    "clf_lr.coef_"
   ]
  },
  {
   "cell_type": "code",
   "execution_count": 41,
   "id": "442b9c1a-25d4-4cf6-b8bc-f24fdc5c1ed6",
   "metadata": {},
   "outputs": [
    {
     "data": {
      "text/plain": [
       "array([6.10177895])"
      ]
     },
     "execution_count": 41,
     "metadata": {},
     "output_type": "execute_result"
    }
   ],
   "source": [
    "clf_lr.intercept_"
   ]
  },
  {
   "cell_type": "code",
   "execution_count": 42,
   "id": "b8112083-ce85-4ca4-8daa-cd61a6ccd2e8",
   "metadata": {},
   "outputs": [
    {
     "data": {
      "text/plain": [
       "<AxesSubplot:xlabel='independent', ylabel='responce'>"
      ]
     },
     "execution_count": 42,
     "metadata": {},
     "output_type": "execute_result"
    },
    {
     "data": {
      "image/png": "[encoded data removed]",
      "text/plain": [
       "<Figure size 640x480 with 1 Axes>"
      ]
     },
     "metadata": {},
     "output_type": "display_data"
    }
   ],
   "source": [
    "sns.regplot(x='independent', y='responce', data=df, logistic=True)"
   ]
  },
  {
   "cell_type": "markdown",
   "id": "a3057bb1-f108-4d39-b168-7948e697069a",
   "metadata": {},
   "source": [
    "## Confucion matrix\n",
    "\n",
    "Used to evaluate classification models.\n",
    "\n",
    "* **Confusion matrix:** A graphical representation of how accurate a classifier is at predicting the labels for a categorical variable.\n",
    "\n",
    "To create a confusion matrix, we'll use the [`confusion_matrix()`](https://scikit-learn.org/stable/modules/generated/sklearn.metrics.confusion_matrix.html?highlight=confusion_matrix#sklearn.metrics.confusion_matrix) function from the `metrics` module of `scikit-learn`. To use the function, we'll need to input the following:\n",
    "\n",
    "* Actual labels of the holdout sample, stored as `y_test`\n",
    "* Predicted labels of the holdout sample, stored as `y_pred`\n",
    "* The names of the labels, which you can access using `clf.classes_`\n",
    "\n",
    "**Note:** If there were more classes, we would have more numbers or labels in `clf.classes_`. Since this is a binomial logistic regression, there are only two labels, 0 and 1."
   ]
  },
  {
   "cell_type": "code",
   "execution_count": 58,
   "id": "09f31be6-bb72-46d0-a979-06188503f5d4",
   "metadata": {},
   "outputs": [],
   "source": [
    "# Calculate the values for each quadrant in the confusion matrix\n",
    "cm = metrics.confusion_matrix(y_test, y_pred, labels = clf_lr.classes_)"
   ]
  },
  {
   "cell_type": "code",
   "execution_count": 61,
   "id": "da904f0c-95be-4d32-b4d5-ee14e4c3edb8",
   "metadata": {},
   "outputs": [
    {
     "data": {
      "image/png": "[encoded data removed]",
      "text/plain": [
       "<Figure size 640x480 with 2 Axes>"
      ]
     },
     "metadata": {},
     "output_type": "display_data"
    }
   ],
   "source": [
    "# Create the confusion matrix as a visualization\n",
    "disp = metrics.ConfusionMatrixDisplay(confusion_matrix = cm,display_labels = clf_lr.classes_)\n",
    "# Display the confusion matrix\n",
    "disp.plot();"
   ]
  },
  {
   "cell_type": "markdown",
   "id": "5d0f6f9f-b5a1-46a9-a69c-f364063725cc",
   "metadata": {},
   "source": [
    "In order to understand and interpret the numbers in the below confusion matrix, it is important to keep the following in mind:\n",
    "\n",
    "* The upper-left quadrant displays the number of **true negatives**.\n",
    "* The bottom-left quadrant displays the number of **false negatives**.\n",
    "* The upper-right quadrant displays the number of **false positives**.\n",
    "* The bottom-right quadrant displays the number of **true positives**.\n",
    "\n",
    "We can define the above bolded terms as follows in our given context:\n",
    "* **True negatives**: The number of people that were not lying down that the model accurately predicted were not lying down.\n",
    "* **False negatives**: The number of people that were lying down that the model inaccurately predicted were not lying down.\n",
    "* **False positives**: The number of people that were not lying down that the model inaccurately predicted were lying down.\n",
    "* **True positives**: The number of people that were lying down that the model accurately predicted were lying down.\n",
    "\n",
    "A perfect model would yield all true negatives and true positives, and no false negatives or false positives."
   ]
  },
  {
   "cell_type": "code",
   "execution_count": null,
   "id": "47899d60-16ae-4977-84b9-8f20cb1a2dea",
   "metadata": {},
   "outputs": [],
   "source": []
  }
 ],
 "metadata": {
  "kernelspec": {
   "display_name": "Python 3 (ipykernel)",
   "language": "python",
   "name": "python3"
  },
  "language_info": {
   "codemirror_mode": {
    "name": "ipython",
    "version": 3
   },
   "file_extension": ".py",
   "mimetype": "text/x-python",
   "name": "python",
   "nbconvert_exporter": "python",
   "pygments_lexer": "ipython3",
   "version": "3.9.13"
  }
 },
 "nbformat": 4,
 "nbformat_minor": 5
}
