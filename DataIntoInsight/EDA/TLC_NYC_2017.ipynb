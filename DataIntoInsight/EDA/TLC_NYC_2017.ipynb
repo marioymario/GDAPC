{
 "cells": [
  {
   "cell_type": "markdown",
   "id": "c39c16b0-ead6-42a2-a741-4f53e960dcd4",
   "metadata": {},
   "source": [
    "# **Project Overview**\n",
    "The NYC Taxi and Limousine Commission has contracted with Automatidata to Build a machine learning model that\n",
    "predicts ride durations.\n",
    "\n",
    "This part is related to the Exploratory Data Analysis.\n",
    "I will explore the data set to **discover**, **clean**, **structure**, while **validating**.\n",
    "I will **present** the discoveries in visual forms."
   ]
  },
  {
   "cell_type": "markdown",
   "id": "eed3a691-0703-455d-994c-1641b9d10534",
   "metadata": {
    "tags": []
   },
   "source": [
    "# **EDA**\n",
    "# **Plan**-**Analyse**-**Construct**-**Execute**\n",
    "\n",
    "\n",
    "Having in mind the PACE stages, the follwoing are the steps to consider for EDA:\n",
    "\n",
    "   - Determineate state of the data observing:\n",
    "     - Data types.\n",
    "     - Missing information.\n",
    "     - Validate inputs.\n",
    "     - Distributions.\n",
    "     - Detrminate Outliers, **Do we keep/delete them?**.\n",
    "     - Verify as we go.\n",
    "   - Determinate if transformations or restructurizations are neccesary\n",
    "     - String data into Date/Time objects.\n",
    "     - Creation of new columns based on known information.\n",
    "   - Construct Visualizations\n",
    "   - Determinate insights, recommendations, new formulated questions from the observed.\n",
    "\n",
    "   \n"
   ]
  },
  {
   "cell_type": "code",
   "execution_count": 1,
   "id": "97243357-e1da-4987-be31-dbd68997505c",
   "metadata": {},
   "outputs": [],
   "source": [
    "## loading libraries in memory \n",
    "\n",
    "import pandas as pd\n",
    "import numpy as np\n",
    "import matplotlib.pyplot as plt\n",
    "import seaborn as sns\n",
    "import datetime as dt\n",
    "import eda_functions as eda\n",
    "\n",
    "import scipy\n",
    "## For encoding\n",
    "from sklearn.preprocessing import LabelEncoder\n",
    "\n",
    "\n",
    "import warnings\n",
    "warnings.filterwarnings(\"ignore\")"
   ]
  },
  {
   "cell_type": "code",
   "execution_count": 2,
   "id": "80c9fd71-149c-4041-883b-c2d251c1953a",
   "metadata": {},
   "outputs": [],
   "source": [
    "## Path of the csv file\n",
    "path  = '~/Scripts/DS/DataIntoInsights/W5_project/data/2017_Yellow_Taxi_Trip_Data.csv'\n",
    "\n",
    "## Defining and observing the first 5 exemples:\n",
    "df = pd.read_csv(path)"
   ]
  },
  {
   "cell_type": "code",
   "execution_count": 3,
   "id": "74f878b9-d625-4aec-a7a8-0e8cab7f7319",
   "metadata": {
    "tags": []
   },
   "outputs": [
    {
     "data": {
      "text/html": [
       "<div>\n",
       "<style scoped>\n",
       "    .dataframe tbody tr th:only-of-type {\n",
       "        vertical-align: middle;\n",
       "    }\n",
       "\n",
       "    .dataframe tbody tr th {\n",
       "        vertical-align: top;\n",
       "    }\n",
       "\n",
       "    .dataframe thead th {\n",
       "        text-align: right;\n",
       "    }\n",
       "</style>\n",
       "<table border=\"1\" class=\"dataframe\">\n",
       "  <thead>\n",
       "    <tr style=\"text-align: right;\">\n",
       "      <th></th>\n",
       "      <th>unnamed</th>\n",
       "      <th>vendorID</th>\n",
       "      <th>pickup_dt</th>\n",
       "      <th>dropoff_dt</th>\n",
       "      <th>psgr_count</th>\n",
       "      <th>distance</th>\n",
       "      <th>ratecodeID</th>\n",
       "      <th>store_and_fwd_flag</th>\n",
       "      <th>pickUpLocId</th>\n",
       "      <th>dOffLocID</th>\n",
       "      <th>paymenType</th>\n",
       "      <th>fareAmnt</th>\n",
       "      <th>extra</th>\n",
       "      <th>mtaTax</th>\n",
       "      <th>tip</th>\n",
       "      <th>tollsAmount</th>\n",
       "      <th>improvementSrchrg</th>\n",
       "      <th>totalAmount</th>\n",
       "    </tr>\n",
       "  </thead>\n",
       "  <tbody>\n",
       "    <tr>\n",
       "      <th>0</th>\n",
       "      <td>24870114</td>\n",
       "      <td>2</td>\n",
       "      <td>03/25/2017 8:55:43 AM</td>\n",
       "      <td>03/25/2017 9:09:47 AM</td>\n",
       "      <td>6</td>\n",
       "      <td>3.34</td>\n",
       "      <td>1</td>\n",
       "      <td>N</td>\n",
       "      <td>100</td>\n",
       "      <td>231</td>\n",
       "      <td>1</td>\n",
       "      <td>13.0</td>\n",
       "      <td>0.0</td>\n",
       "      <td>0.5</td>\n",
       "      <td>2.76</td>\n",
       "      <td>0.0</td>\n",
       "      <td>0.3</td>\n",
       "      <td>16.56</td>\n",
       "    </tr>\n",
       "    <tr>\n",
       "      <th>1</th>\n",
       "      <td>35634249</td>\n",
       "      <td>1</td>\n",
       "      <td>04/11/2017 2:53:28 PM</td>\n",
       "      <td>04/11/2017 3:19:58 PM</td>\n",
       "      <td>1</td>\n",
       "      <td>1.80</td>\n",
       "      <td>1</td>\n",
       "      <td>N</td>\n",
       "      <td>186</td>\n",
       "      <td>43</td>\n",
       "      <td>1</td>\n",
       "      <td>16.0</td>\n",
       "      <td>0.0</td>\n",
       "      <td>0.5</td>\n",
       "      <td>4.00</td>\n",
       "      <td>0.0</td>\n",
       "      <td>0.3</td>\n",
       "      <td>20.80</td>\n",
       "    </tr>\n",
       "    <tr>\n",
       "      <th>2</th>\n",
       "      <td>106203690</td>\n",
       "      <td>1</td>\n",
       "      <td>12/15/2017 7:26:56 AM</td>\n",
       "      <td>12/15/2017 7:34:08 AM</td>\n",
       "      <td>1</td>\n",
       "      <td>1.00</td>\n",
       "      <td>1</td>\n",
       "      <td>N</td>\n",
       "      <td>262</td>\n",
       "      <td>236</td>\n",
       "      <td>1</td>\n",
       "      <td>6.5</td>\n",
       "      <td>0.0</td>\n",
       "      <td>0.5</td>\n",
       "      <td>1.45</td>\n",
       "      <td>0.0</td>\n",
       "      <td>0.3</td>\n",
       "      <td>8.75</td>\n",
       "    </tr>\n",
       "    <tr>\n",
       "      <th>3</th>\n",
       "      <td>38942136</td>\n",
       "      <td>2</td>\n",
       "      <td>05/07/2017 1:17:59 PM</td>\n",
       "      <td>05/07/2017 1:48:14 PM</td>\n",
       "      <td>1</td>\n",
       "      <td>3.70</td>\n",
       "      <td>1</td>\n",
       "      <td>N</td>\n",
       "      <td>188</td>\n",
       "      <td>97</td>\n",
       "      <td>1</td>\n",
       "      <td>20.5</td>\n",
       "      <td>0.0</td>\n",
       "      <td>0.5</td>\n",
       "      <td>6.39</td>\n",
       "      <td>0.0</td>\n",
       "      <td>0.3</td>\n",
       "      <td>27.69</td>\n",
       "    </tr>\n",
       "    <tr>\n",
       "      <th>4</th>\n",
       "      <td>30841670</td>\n",
       "      <td>2</td>\n",
       "      <td>04/15/2017 11:32:20 PM</td>\n",
       "      <td>04/15/2017 11:49:03 PM</td>\n",
       "      <td>1</td>\n",
       "      <td>4.37</td>\n",
       "      <td>1</td>\n",
       "      <td>N</td>\n",
       "      <td>4</td>\n",
       "      <td>112</td>\n",
       "      <td>2</td>\n",
       "      <td>16.5</td>\n",
       "      <td>0.5</td>\n",
       "      <td>0.5</td>\n",
       "      <td>0.00</td>\n",
       "      <td>0.0</td>\n",
       "      <td>0.3</td>\n",
       "      <td>17.80</td>\n",
       "    </tr>\n",
       "  </tbody>\n",
       "</table>\n",
       "</div>"
      ],
      "text/plain": [
       "     unnamed  vendorID               pickup_dt              dropoff_dt  \\\n",
       "0   24870114         2   03/25/2017 8:55:43 AM   03/25/2017 9:09:47 AM   \n",
       "1   35634249         1   04/11/2017 2:53:28 PM   04/11/2017 3:19:58 PM   \n",
       "2  106203690         1   12/15/2017 7:26:56 AM   12/15/2017 7:34:08 AM   \n",
       "3   38942136         2   05/07/2017 1:17:59 PM   05/07/2017 1:48:14 PM   \n",
       "4   30841670         2  04/15/2017 11:32:20 PM  04/15/2017 11:49:03 PM   \n",
       "\n",
       "   psgr_count  distance  ratecodeID store_and_fwd_flag  pickUpLocId  \\\n",
       "0           6      3.34           1                  N          100   \n",
       "1           1      1.80           1                  N          186   \n",
       "2           1      1.00           1                  N          262   \n",
       "3           1      3.70           1                  N          188   \n",
       "4           1      4.37           1                  N            4   \n",
       "\n",
       "   dOffLocID  paymenType  fareAmnt  extra  mtaTax   tip  tollsAmount  \\\n",
       "0        231           1      13.0    0.0     0.5  2.76          0.0   \n",
       "1         43           1      16.0    0.0     0.5  4.00          0.0   \n",
       "2        236           1       6.5    0.0     0.5  1.45          0.0   \n",
       "3         97           1      20.5    0.0     0.5  6.39          0.0   \n",
       "4        112           2      16.5    0.5     0.5  0.00          0.0   \n",
       "\n",
       "   improvementSrchrg  totalAmount  \n",
       "0                0.3        16.56  \n",
       "1                0.3        20.80  \n",
       "2                0.3         8.75  \n",
       "3                0.3        27.69  \n",
       "4                0.3        17.80  "
      ]
     },
     "execution_count": 3,
     "metadata": {},
     "output_type": "execute_result"
    }
   ],
   "source": [
    "\n",
    "## New column names\n",
    "new_column_names = ['unnamed', 'vendorID', 'pickup_dt',\n",
    "       'dropoff_dt', 'psgr_count', 'distance',\n",
    "       'ratecodeID', 'store_and_fwd_flag', 'pickUpLocId', 'dOffLocID',\n",
    "       'paymenType', 'fareAmnt', 'extra', 'mtaTax', 'tip',\n",
    "       'tollsAmount', 'improvementSrchrg', 'totalAmount']\n",
    "\n",
    "# Rename columns with list\n",
    "df.set_axis(new_column_names, axis=1,inplace=True)\n",
    "df.head()\n"
   ]
  },
  {
   "cell_type": "code",
   "execution_count": 4,
   "id": "e1ccea83-dae6-47fd-8cff-72f702a34db9",
   "metadata": {},
   "outputs": [
    {
     "data": {
      "text/plain": [
       "unnamed                 int64\n",
       "vendorID                int64\n",
       "pickup_dt              object\n",
       "dropoff_dt             object\n",
       "psgr_count              int64\n",
       "distance              float64\n",
       "ratecodeID              int64\n",
       "store_and_fwd_flag     object\n",
       "pickUpLocId             int64\n",
       "dOffLocID               int64\n",
       "paymenType              int64\n",
       "fareAmnt              float64\n",
       "extra                 float64\n",
       "mtaTax                float64\n",
       "tip                   float64\n",
       "tollsAmount           float64\n",
       "improvementSrchrg     float64\n",
       "totalAmount           float64\n",
       "dtype: object"
      ]
     },
     "execution_count": 4,
     "metadata": {},
     "output_type": "execute_result"
    }
   ],
   "source": [
    "df.dtypes"
   ]
  },
  {
   "cell_type": "code",
   "execution_count": 5,
   "id": "c6ef518c-0fa1-4bb1-b05e-e473b5a9e818",
   "metadata": {},
   "outputs": [
    {
     "data": {
      "text/html": [
       "<div>\n",
       "<style scoped>\n",
       "    .dataframe tbody tr th:only-of-type {\n",
       "        vertical-align: middle;\n",
       "    }\n",
       "\n",
       "    .dataframe tbody tr th {\n",
       "        vertical-align: top;\n",
       "    }\n",
       "\n",
       "    .dataframe thead th {\n",
       "        text-align: right;\n",
       "    }\n",
       "</style>\n",
       "<table border=\"1\" class=\"dataframe\">\n",
       "  <thead>\n",
       "    <tr style=\"text-align: right;\">\n",
       "      <th></th>\n",
       "      <th>columns</th>\n",
       "      <th>nulls</th>\n",
       "      <th>invalids</th>\n",
       "      <th>unique_item</th>\n",
       "    </tr>\n",
       "  </thead>\n",
       "  <tbody>\n",
       "    <tr>\n",
       "      <th>0</th>\n",
       "      <td>unnamed</td>\n",
       "      <td>0</td>\n",
       "      <td>0</td>\n",
       "      <td>[24870114, 35634249, 106203690, 38942136, 3084...</td>\n",
       "    </tr>\n",
       "    <tr>\n",
       "      <th>1</th>\n",
       "      <td>vendorID</td>\n",
       "      <td>0</td>\n",
       "      <td>0</td>\n",
       "      <td>[2, 1]</td>\n",
       "    </tr>\n",
       "    <tr>\n",
       "      <th>2</th>\n",
       "      <td>pickup_dt</td>\n",
       "      <td>0</td>\n",
       "      <td>0</td>\n",
       "      <td>[03/25/2017 8:55:43 AM, 04/11/2017 2:53:28 PM,...</td>\n",
       "    </tr>\n",
       "    <tr>\n",
       "      <th>3</th>\n",
       "      <td>dropoff_dt</td>\n",
       "      <td>0</td>\n",
       "      <td>0</td>\n",
       "      <td>[03/25/2017 9:09:47 AM, 04/11/2017 3:19:58 PM,...</td>\n",
       "    </tr>\n",
       "    <tr>\n",
       "      <th>4</th>\n",
       "      <td>psgr_count</td>\n",
       "      <td>0</td>\n",
       "      <td>0</td>\n",
       "      <td>[6, 1, 2, 4, 5, 3, 0]</td>\n",
       "    </tr>\n",
       "    <tr>\n",
       "      <th>5</th>\n",
       "      <td>distance</td>\n",
       "      <td>0</td>\n",
       "      <td>0</td>\n",
       "      <td>[3.34, 1.8, 1.0, 3.7, 4.37, 2.3, 12.83, 2.98, ...</td>\n",
       "    </tr>\n",
       "    <tr>\n",
       "      <th>6</th>\n",
       "      <td>ratecodeID</td>\n",
       "      <td>0</td>\n",
       "      <td>0</td>\n",
       "      <td>[1, 2, 5, 3, 4, 99]</td>\n",
       "    </tr>\n",
       "    <tr>\n",
       "      <th>7</th>\n",
       "      <td>store_and_fwd_flag</td>\n",
       "      <td>0</td>\n",
       "      <td>0</td>\n",
       "      <td>[N, Y]</td>\n",
       "    </tr>\n",
       "    <tr>\n",
       "      <th>8</th>\n",
       "      <td>pickUpLocId</td>\n",
       "      <td>0</td>\n",
       "      <td>0</td>\n",
       "      <td>[100, 186, 262, 188, 4, 161, 79, 237, 234, 239...</td>\n",
       "    </tr>\n",
       "    <tr>\n",
       "      <th>9</th>\n",
       "      <td>dOffLocID</td>\n",
       "      <td>0</td>\n",
       "      <td>0</td>\n",
       "      <td>[231, 43, 236, 97, 112, 241, 114, 249, 237, 14...</td>\n",
       "    </tr>\n",
       "    <tr>\n",
       "      <th>10</th>\n",
       "      <td>paymenType</td>\n",
       "      <td>0</td>\n",
       "      <td>0</td>\n",
       "      <td>[1, 2, 3, 4]</td>\n",
       "    </tr>\n",
       "    <tr>\n",
       "      <th>11</th>\n",
       "      <td>fareAmnt</td>\n",
       "      <td>0</td>\n",
       "      <td>0</td>\n",
       "      <td>[13.0, 16.0, 6.5, 20.5, 16.5, 9.0, 47.5, 11.5,...</td>\n",
       "    </tr>\n",
       "    <tr>\n",
       "      <th>12</th>\n",
       "      <td>extra</td>\n",
       "      <td>0</td>\n",
       "      <td>0</td>\n",
       "      <td>[0.0, 0.5, 1.0, -0.5, 4.5, -1.0]</td>\n",
       "    </tr>\n",
       "    <tr>\n",
       "      <th>13</th>\n",
       "      <td>mtaTax</td>\n",
       "      <td>0</td>\n",
       "      <td>0</td>\n",
       "      <td>[0.5, 0.0, -0.5]</td>\n",
       "    </tr>\n",
       "    <tr>\n",
       "      <th>14</th>\n",
       "      <td>tip</td>\n",
       "      <td>0</td>\n",
       "      <td>0</td>\n",
       "      <td>[2.76, 4.0, 1.45, 6.39, 0.0, 2.06, 9.86, 1.78,...</td>\n",
       "    </tr>\n",
       "    <tr>\n",
       "      <th>15</th>\n",
       "      <td>tollsAmount</td>\n",
       "      <td>0</td>\n",
       "      <td>0</td>\n",
       "      <td>[0.0, 5.54, 16.26, 11.52, 5.76, 10.5, 16.5, 2....</td>\n",
       "    </tr>\n",
       "    <tr>\n",
       "      <th>16</th>\n",
       "      <td>improvementSrchrg</td>\n",
       "      <td>0</td>\n",
       "      <td>0</td>\n",
       "      <td>[0.3, -0.3, 0.0]</td>\n",
       "    </tr>\n",
       "    <tr>\n",
       "      <th>17</th>\n",
       "      <td>totalAmount</td>\n",
       "      <td>0</td>\n",
       "      <td>0</td>\n",
       "      <td>[16.56, 20.8, 8.75, 27.69, 17.8, 12.36, 59.16,...</td>\n",
       "    </tr>\n",
       "  </tbody>\n",
       "</table>\n",
       "</div>"
      ],
      "text/plain": [
       "               columns  nulls  invalids  \\\n",
       "0              unnamed      0         0   \n",
       "1             vendorID      0         0   \n",
       "2            pickup_dt      0         0   \n",
       "3           dropoff_dt      0         0   \n",
       "4           psgr_count      0         0   \n",
       "5             distance      0         0   \n",
       "6           ratecodeID      0         0   \n",
       "7   store_and_fwd_flag      0         0   \n",
       "8          pickUpLocId      0         0   \n",
       "9            dOffLocID      0         0   \n",
       "10          paymenType      0         0   \n",
       "11            fareAmnt      0         0   \n",
       "12               extra      0         0   \n",
       "13              mtaTax      0         0   \n",
       "14                 tip      0         0   \n",
       "15         tollsAmount      0         0   \n",
       "16   improvementSrchrg      0         0   \n",
       "17         totalAmount      0         0   \n",
       "\n",
       "                                          unique_item  \n",
       "0   [24870114, 35634249, 106203690, 38942136, 3084...  \n",
       "1                                              [2, 1]  \n",
       "2   [03/25/2017 8:55:43 AM, 04/11/2017 2:53:28 PM,...  \n",
       "3   [03/25/2017 9:09:47 AM, 04/11/2017 3:19:58 PM,...  \n",
       "4                               [6, 1, 2, 4, 5, 3, 0]  \n",
       "5   [3.34, 1.8, 1.0, 3.7, 4.37, 2.3, 12.83, 2.98, ...  \n",
       "6                                 [1, 2, 5, 3, 4, 99]  \n",
       "7                                              [N, Y]  \n",
       "8   [100, 186, 262, 188, 4, 161, 79, 237, 234, 239...  \n",
       "9   [231, 43, 236, 97, 112, 241, 114, 249, 237, 14...  \n",
       "10                                       [1, 2, 3, 4]  \n",
       "11  [13.0, 16.0, 6.5, 20.5, 16.5, 9.0, 47.5, 11.5,...  \n",
       "12                   [0.0, 0.5, 1.0, -0.5, 4.5, -1.0]  \n",
       "13                                   [0.5, 0.0, -0.5]  \n",
       "14  [2.76, 4.0, 1.45, 6.39, 0.0, 2.06, 9.86, 1.78,...  \n",
       "15  [0.0, 5.54, 16.26, 11.52, 5.76, 10.5, 16.5, 2....  \n",
       "16                                   [0.3, -0.3, 0.0]  \n",
       "17  [16.56, 20.8, 8.75, 27.69, 17.8, 12.36, 59.16,...  "
      ]
     },
     "execution_count": 5,
     "metadata": {},
     "output_type": "execute_result"
    }
   ],
   "source": [
    "## checking form invalid items\n",
    "\n",
    "## invalid_list = [np.nan, None, [], {}, 'NaN', 'Null','NULL',\n",
    "##                'None','NA','?','-', '--','.','', ' ', '   ']\n",
    "\n",
    "eda.invalid_df(df)"
   ]
  },
  {
   "cell_type": "code",
   "execution_count": 6,
   "id": "de277725-81c3-493b-9ba9-37c093397af6",
   "metadata": {},
   "outputs": [
    {
     "data": {
      "text/html": [
       "<div>\n",
       "<style scoped>\n",
       "    .dataframe tbody tr th:only-of-type {\n",
       "        vertical-align: middle;\n",
       "    }\n",
       "\n",
       "    .dataframe tbody tr th {\n",
       "        vertical-align: top;\n",
       "    }\n",
       "\n",
       "    .dataframe thead th {\n",
       "        text-align: right;\n",
       "    }\n",
       "</style>\n",
       "<table border=\"1\" class=\"dataframe\">\n",
       "  <thead>\n",
       "    <tr style=\"text-align: right;\">\n",
       "      <th></th>\n",
       "      <th>Total</th>\n",
       "      <th>Percent</th>\n",
       "    </tr>\n",
       "  </thead>\n",
       "  <tbody>\n",
       "    <tr>\n",
       "      <th>unnamed</th>\n",
       "      <td>0</td>\n",
       "      <td>0.0</td>\n",
       "    </tr>\n",
       "    <tr>\n",
       "      <th>vendorID</th>\n",
       "      <td>0</td>\n",
       "      <td>0.0</td>\n",
       "    </tr>\n",
       "    <tr>\n",
       "      <th>improvementSrchrg</th>\n",
       "      <td>0</td>\n",
       "      <td>0.0</td>\n",
       "    </tr>\n",
       "    <tr>\n",
       "      <th>tollsAmount</th>\n",
       "      <td>0</td>\n",
       "      <td>0.0</td>\n",
       "    </tr>\n",
       "    <tr>\n",
       "      <th>tip</th>\n",
       "      <td>0</td>\n",
       "      <td>0.0</td>\n",
       "    </tr>\n",
       "    <tr>\n",
       "      <th>mtaTax</th>\n",
       "      <td>0</td>\n",
       "      <td>0.0</td>\n",
       "    </tr>\n",
       "    <tr>\n",
       "      <th>extra</th>\n",
       "      <td>0</td>\n",
       "      <td>0.0</td>\n",
       "    </tr>\n",
       "    <tr>\n",
       "      <th>fareAmnt</th>\n",
       "      <td>0</td>\n",
       "      <td>0.0</td>\n",
       "    </tr>\n",
       "    <tr>\n",
       "      <th>paymenType</th>\n",
       "      <td>0</td>\n",
       "      <td>0.0</td>\n",
       "    </tr>\n",
       "    <tr>\n",
       "      <th>dOffLocID</th>\n",
       "      <td>0</td>\n",
       "      <td>0.0</td>\n",
       "    </tr>\n",
       "    <tr>\n",
       "      <th>pickUpLocId</th>\n",
       "      <td>0</td>\n",
       "      <td>0.0</td>\n",
       "    </tr>\n",
       "    <tr>\n",
       "      <th>store_and_fwd_flag</th>\n",
       "      <td>0</td>\n",
       "      <td>0.0</td>\n",
       "    </tr>\n",
       "    <tr>\n",
       "      <th>ratecodeID</th>\n",
       "      <td>0</td>\n",
       "      <td>0.0</td>\n",
       "    </tr>\n",
       "    <tr>\n",
       "      <th>distance</th>\n",
       "      <td>0</td>\n",
       "      <td>0.0</td>\n",
       "    </tr>\n",
       "    <tr>\n",
       "      <th>psgr_count</th>\n",
       "      <td>0</td>\n",
       "      <td>0.0</td>\n",
       "    </tr>\n",
       "    <tr>\n",
       "      <th>dropoff_dt</th>\n",
       "      <td>0</td>\n",
       "      <td>0.0</td>\n",
       "    </tr>\n",
       "    <tr>\n",
       "      <th>pickup_dt</th>\n",
       "      <td>0</td>\n",
       "      <td>0.0</td>\n",
       "    </tr>\n",
       "    <tr>\n",
       "      <th>totalAmount</th>\n",
       "      <td>0</td>\n",
       "      <td>0.0</td>\n",
       "    </tr>\n",
       "  </tbody>\n",
       "</table>\n",
       "</div>"
      ],
      "text/plain": [
       "                    Total  Percent\n",
       "unnamed                 0      0.0\n",
       "vendorID                0      0.0\n",
       "improvementSrchrg       0      0.0\n",
       "tollsAmount             0      0.0\n",
       "tip                     0      0.0\n",
       "mtaTax                  0      0.0\n",
       "extra                   0      0.0\n",
       "fareAmnt                0      0.0\n",
       "paymenType              0      0.0\n",
       "dOffLocID               0      0.0\n",
       "pickUpLocId             0      0.0\n",
       "store_and_fwd_flag      0      0.0\n",
       "ratecodeID              0      0.0\n",
       "distance                0      0.0\n",
       "psgr_count              0      0.0\n",
       "dropoff_dt              0      0.0\n",
       "pickup_dt               0      0.0\n",
       "totalAmount             0      0.0"
      ]
     },
     "execution_count": 6,
     "metadata": {},
     "output_type": "execute_result"
    }
   ],
   "source": [
    "## Missing values?\n",
    "eda.miss_df(df)"
   ]
  },
  {
   "cell_type": "code",
   "execution_count": 7,
   "id": "36295c1e-533a-470b-a663-1d710129e1b2",
   "metadata": {},
   "outputs": [
    {
     "data": {
      "text/html": [
       "<div>\n",
       "<style scoped>\n",
       "    .dataframe tbody tr th:only-of-type {\n",
       "        vertical-align: middle;\n",
       "    }\n",
       "\n",
       "    .dataframe tbody tr th {\n",
       "        vertical-align: top;\n",
       "    }\n",
       "\n",
       "    .dataframe thead th {\n",
       "        text-align: right;\n",
       "    }\n",
       "</style>\n",
       "<table border=\"1\" class=\"dataframe\">\n",
       "  <thead>\n",
       "    <tr style=\"text-align: right;\">\n",
       "      <th></th>\n",
       "      <th>unnamed</th>\n",
       "      <th>vendorID</th>\n",
       "      <th>psgr_count</th>\n",
       "      <th>distance</th>\n",
       "      <th>ratecodeID</th>\n",
       "      <th>pickUpLocId</th>\n",
       "      <th>dOffLocID</th>\n",
       "      <th>paymenType</th>\n",
       "      <th>fareAmnt</th>\n",
       "      <th>extra</th>\n",
       "      <th>mtaTax</th>\n",
       "      <th>tip</th>\n",
       "      <th>tollsAmount</th>\n",
       "      <th>improvementSrchrg</th>\n",
       "      <th>totalAmount</th>\n",
       "    </tr>\n",
       "  </thead>\n",
       "  <tbody>\n",
       "    <tr>\n",
       "      <th>count</th>\n",
       "      <td>2.269900e+04</td>\n",
       "      <td>22699.000000</td>\n",
       "      <td>22699.000000</td>\n",
       "      <td>22699.000000</td>\n",
       "      <td>22699.000000</td>\n",
       "      <td>22699.000000</td>\n",
       "      <td>22699.000000</td>\n",
       "      <td>22699.000000</td>\n",
       "      <td>22699.000000</td>\n",
       "      <td>22699.000000</td>\n",
       "      <td>22699.000000</td>\n",
       "      <td>22699.000000</td>\n",
       "      <td>22699.000000</td>\n",
       "      <td>22699.000000</td>\n",
       "      <td>22699.000000</td>\n",
       "    </tr>\n",
       "    <tr>\n",
       "      <th>mean</th>\n",
       "      <td>5.675849e+07</td>\n",
       "      <td>1.556236</td>\n",
       "      <td>1.642319</td>\n",
       "      <td>2.913313</td>\n",
       "      <td>1.043394</td>\n",
       "      <td>162.412353</td>\n",
       "      <td>161.527997</td>\n",
       "      <td>1.336887</td>\n",
       "      <td>13.026629</td>\n",
       "      <td>0.333275</td>\n",
       "      <td>0.497445</td>\n",
       "      <td>1.835781</td>\n",
       "      <td>0.312542</td>\n",
       "      <td>0.299551</td>\n",
       "      <td>16.310502</td>\n",
       "    </tr>\n",
       "    <tr>\n",
       "      <th>std</th>\n",
       "      <td>3.274493e+07</td>\n",
       "      <td>0.496838</td>\n",
       "      <td>1.285231</td>\n",
       "      <td>3.653171</td>\n",
       "      <td>0.708391</td>\n",
       "      <td>66.633373</td>\n",
       "      <td>70.139691</td>\n",
       "      <td>0.496211</td>\n",
       "      <td>13.243791</td>\n",
       "      <td>0.463097</td>\n",
       "      <td>0.039465</td>\n",
       "      <td>2.800626</td>\n",
       "      <td>1.399212</td>\n",
       "      <td>0.015673</td>\n",
       "      <td>16.097295</td>\n",
       "    </tr>\n",
       "    <tr>\n",
       "      <th>min</th>\n",
       "      <td>1.212700e+04</td>\n",
       "      <td>1.000000</td>\n",
       "      <td>0.000000</td>\n",
       "      <td>0.000000</td>\n",
       "      <td>1.000000</td>\n",
       "      <td>1.000000</td>\n",
       "      <td>1.000000</td>\n",
       "      <td>1.000000</td>\n",
       "      <td>-120.000000</td>\n",
       "      <td>-1.000000</td>\n",
       "      <td>-0.500000</td>\n",
       "      <td>0.000000</td>\n",
       "      <td>0.000000</td>\n",
       "      <td>-0.300000</td>\n",
       "      <td>-120.300000</td>\n",
       "    </tr>\n",
       "    <tr>\n",
       "      <th>25%</th>\n",
       "      <td>2.852056e+07</td>\n",
       "      <td>1.000000</td>\n",
       "      <td>1.000000</td>\n",
       "      <td>0.990000</td>\n",
       "      <td>1.000000</td>\n",
       "      <td>114.000000</td>\n",
       "      <td>112.000000</td>\n",
       "      <td>1.000000</td>\n",
       "      <td>6.500000</td>\n",
       "      <td>0.000000</td>\n",
       "      <td>0.500000</td>\n",
       "      <td>0.000000</td>\n",
       "      <td>0.000000</td>\n",
       "      <td>0.300000</td>\n",
       "      <td>8.750000</td>\n",
       "    </tr>\n",
       "    <tr>\n",
       "      <th>50%</th>\n",
       "      <td>5.673150e+07</td>\n",
       "      <td>2.000000</td>\n",
       "      <td>1.000000</td>\n",
       "      <td>1.610000</td>\n",
       "      <td>1.000000</td>\n",
       "      <td>162.000000</td>\n",
       "      <td>162.000000</td>\n",
       "      <td>1.000000</td>\n",
       "      <td>9.500000</td>\n",
       "      <td>0.000000</td>\n",
       "      <td>0.500000</td>\n",
       "      <td>1.350000</td>\n",
       "      <td>0.000000</td>\n",
       "      <td>0.300000</td>\n",
       "      <td>11.800000</td>\n",
       "    </tr>\n",
       "    <tr>\n",
       "      <th>75%</th>\n",
       "      <td>8.537452e+07</td>\n",
       "      <td>2.000000</td>\n",
       "      <td>2.000000</td>\n",
       "      <td>3.060000</td>\n",
       "      <td>1.000000</td>\n",
       "      <td>233.000000</td>\n",
       "      <td>233.000000</td>\n",
       "      <td>2.000000</td>\n",
       "      <td>14.500000</td>\n",
       "      <td>0.500000</td>\n",
       "      <td>0.500000</td>\n",
       "      <td>2.450000</td>\n",
       "      <td>0.000000</td>\n",
       "      <td>0.300000</td>\n",
       "      <td>17.800000</td>\n",
       "    </tr>\n",
       "    <tr>\n",
       "      <th>max</th>\n",
       "      <td>1.134863e+08</td>\n",
       "      <td>2.000000</td>\n",
       "      <td>6.000000</td>\n",
       "      <td>33.960000</td>\n",
       "      <td>99.000000</td>\n",
       "      <td>265.000000</td>\n",
       "      <td>265.000000</td>\n",
       "      <td>4.000000</td>\n",
       "      <td>999.990000</td>\n",
       "      <td>4.500000</td>\n",
       "      <td>0.500000</td>\n",
       "      <td>200.000000</td>\n",
       "      <td>19.100000</td>\n",
       "      <td>0.300000</td>\n",
       "      <td>1200.290000</td>\n",
       "    </tr>\n",
       "  </tbody>\n",
       "</table>\n",
       "</div>"
      ],
      "text/plain": [
       "            unnamed      vendorID    psgr_count      distance    ratecodeID  \\\n",
       "count  2.269900e+04  22699.000000  22699.000000  22699.000000  22699.000000   \n",
       "mean   5.675849e+07      1.556236      1.642319      2.913313      1.043394   \n",
       "std    3.274493e+07      0.496838      1.285231      3.653171      0.708391   \n",
       "min    1.212700e+04      1.000000      0.000000      0.000000      1.000000   \n",
       "25%    2.852056e+07      1.000000      1.000000      0.990000      1.000000   \n",
       "50%    5.673150e+07      2.000000      1.000000      1.610000      1.000000   \n",
       "75%    8.537452e+07      2.000000      2.000000      3.060000      1.000000   \n",
       "max    1.134863e+08      2.000000      6.000000     33.960000     99.000000   \n",
       "\n",
       "        pickUpLocId     dOffLocID    paymenType      fareAmnt         extra  \\\n",
       "count  22699.000000  22699.000000  22699.000000  22699.000000  22699.000000   \n",
       "mean     162.412353    161.527997      1.336887     13.026629      0.333275   \n",
       "std       66.633373     70.139691      0.496211     13.243791      0.463097   \n",
       "min        1.000000      1.000000      1.000000   -120.000000     -1.000000   \n",
       "25%      114.000000    112.000000      1.000000      6.500000      0.000000   \n",
       "50%      162.000000    162.000000      1.000000      9.500000      0.000000   \n",
       "75%      233.000000    233.000000      2.000000     14.500000      0.500000   \n",
       "max      265.000000    265.000000      4.000000    999.990000      4.500000   \n",
       "\n",
       "             mtaTax           tip   tollsAmount  improvementSrchrg  \\\n",
       "count  22699.000000  22699.000000  22699.000000       22699.000000   \n",
       "mean       0.497445      1.835781      0.312542           0.299551   \n",
       "std        0.039465      2.800626      1.399212           0.015673   \n",
       "min       -0.500000      0.000000      0.000000          -0.300000   \n",
       "25%        0.500000      0.000000      0.000000           0.300000   \n",
       "50%        0.500000      1.350000      0.000000           0.300000   \n",
       "75%        0.500000      2.450000      0.000000           0.300000   \n",
       "max        0.500000    200.000000     19.100000           0.300000   \n",
       "\n",
       "        totalAmount  \n",
       "count  22699.000000  \n",
       "mean      16.310502  \n",
       "std       16.097295  \n",
       "min     -120.300000  \n",
       "25%        8.750000  \n",
       "50%       11.800000  \n",
       "75%       17.800000  \n",
       "max     1200.290000  "
      ]
     },
     "execution_count": 7,
     "metadata": {},
     "output_type": "execute_result"
    }
   ],
   "source": [
    "## Descriptive stadistics.\n",
    "df.describe()"
   ]
  },
  {
   "cell_type": "code",
   "execution_count": 8,
   "id": "b7899851-32ed-4344-a322-0dc2e9e9969c",
   "metadata": {},
   "outputs": [],
   "source": [
    "## Converting columns with date and time info to a datetime objetc\n",
    "df['pickup_dt']  = pd.to_datetime(df['pickup_dt'])\n",
    "df['dropoff_dt'] = pd.to_datetime(df['dropoff_dt'])"
   ]
  },
  {
   "cell_type": "code",
   "execution_count": 9,
   "id": "de1e8dd1-6d57-4081-b39e-a958a3d3d7d5",
   "metadata": {},
   "outputs": [],
   "source": [
    "## Encoding categorical data\n",
    "le = LabelEncoder()\n",
    "df['store_and_fwd_flag'] = le.fit_transform(df['store_and_fwd_flag'])"
   ]
  },
  {
   "cell_type": "code",
   "execution_count": 10,
   "id": "a41eba19-318a-4103-8631-25013c5dcb71",
   "metadata": {},
   "outputs": [
    {
     "data": {
      "text/plain": [
       "array([0, 1])"
      ]
     },
     "execution_count": 10,
     "metadata": {},
     "output_type": "execute_result"
    }
   ],
   "source": [
    "df['store_and_fwd_flag'].unique()"
   ]
  },
  {
   "cell_type": "code",
   "execution_count": 11,
   "id": "24fe6341-e896-4faa-ad4c-1b2c223c14e6",
   "metadata": {},
   "outputs": [
    {
     "data": {
      "text/plain": [
       "22600"
      ]
     },
     "execution_count": 11,
     "metadata": {},
     "output_type": "execute_result"
    }
   ],
   "source": [
    "## Number of examples with store_and_fwd_flag no\n",
    "len(df[df['store_and_fwd_flag'] == 0]) ## no"
   ]
  },
  {
   "cell_type": "code",
   "execution_count": 12,
   "id": "465f8ded-a30d-47fc-a2c2-8535812ba7d9",
   "metadata": {},
   "outputs": [
    {
     "data": {
      "text/plain": [
       "99"
      ]
     },
     "execution_count": 12,
     "metadata": {},
     "output_type": "execute_result"
    }
   ],
   "source": [
    "len(df[df['store_and_fwd_flag'] == 1]) ## yes"
   ]
  },
  {
   "cell_type": "code",
   "execution_count": 13,
   "id": "bd6cfafb-3963-4331-afdd-64fb1f2507f2",
   "metadata": {},
   "outputs": [
    {
     "data": {
      "text/plain": [
       "unnamed                        int64\n",
       "vendorID                       int64\n",
       "pickup_dt             datetime64[ns]\n",
       "dropoff_dt            datetime64[ns]\n",
       "psgr_count                     int64\n",
       "distance                     float64\n",
       "ratecodeID                     int64\n",
       "store_and_fwd_flag             int64\n",
       "pickUpLocId                    int64\n",
       "dOffLocID                      int64\n",
       "paymenType                     int64\n",
       "fareAmnt                     float64\n",
       "extra                        float64\n",
       "mtaTax                       float64\n",
       "tip                          float64\n",
       "tollsAmount                  float64\n",
       "improvementSrchrg            float64\n",
       "totalAmount                  float64\n",
       "dtype: object"
      ]
     },
     "execution_count": 13,
     "metadata": {},
     "output_type": "execute_result"
    }
   ],
   "source": [
    "## observing\n",
    "df.dtypes"
   ]
  },
  {
   "cell_type": "code",
   "execution_count": 14,
   "id": "37717f80-2f62-4431-b72b-64864867b369",
   "metadata": {},
   "outputs": [
    {
     "data": {
      "text/plain": [
       "True"
      ]
     },
     "execution_count": 14,
     "metadata": {},
     "output_type": "execute_result"
    }
   ],
   "source": [
    "## What is the Unnamed: 0?\n",
    "## I think was an unique ID.\n",
    "## Are they unique values?\n",
    "## not sure what it is but all the values are unique.\n",
    "len(df) == len(df['unnamed'])"
   ]
  },
  {
   "cell_type": "code",
   "execution_count": 15,
   "id": "8b2e0a84-c580-47c6-a72a-fd2a3e3c72f0",
   "metadata": {
    "tags": []
   },
   "outputs": [
    {
     "data": {
      "text/plain": [
       "6"
      ]
     },
     "execution_count": 15,
     "metadata": {},
     "output_type": "execute_result"
    }
   ],
   "source": [
    "len(df['ratecodeID'].unique())"
   ]
  },
  {
   "cell_type": "code",
   "execution_count": 16,
   "id": "b16cea3e-129a-4f9a-8861-db1a1b1780cb",
   "metadata": {},
   "outputs": [],
   "source": [
    "## date time periods"
   ]
  },
  {
   "cell_type": "code",
   "execution_count": 17,
   "id": "87edf848-d324-44f3-8e5f-92531c043382",
   "metadata": {
    "tags": []
   },
   "outputs": [],
   "source": [
    "## The year is only 2017, so we dont need the year\n",
    "##\n",
    "df['week'] = df['pickup_dt'].dt.strftime('%V')\n",
    "df['month'] = df['pickup_dt'].dt.strftime('%m')\n",
    "df['quarter'] = df['pickup_dt'].dt.to_period('Q').dt.strftime('%q')\n",
    "df['day'] = df['pickup_dt'].dt.strftime('%A')\n",
    "df['hour'] = df['pickup_dt'].dt.strftime('%H')"
   ]
  },
  {
   "cell_type": "code",
   "execution_count": 18,
   "id": "8a38f0ea-524e-43a5-b8a9-0b24ac0ab4da",
   "metadata": {
    "tags": []
   },
   "outputs": [],
   "source": [
    "Df = df.sort_values(by='pickup_dt', ascending=True).reset_index().drop(['index'], axis=1)"
   ]
  },
  {
   "cell_type": "markdown",
   "id": "fdfdd167-255c-42c6-99fb-ddaa23797adb",
   "metadata": {
    "tags": []
   },
   "source": [
    "## Validating dates\n",
    "We need a way to determinate wich dates are missing.\n",
    "We will compare the dates that we have with a syntethic date range.\n",
    "The function `pd.daterange()` will create a datetime index off all dates between a start and end date (inclusive) given as arguments.\n",
    "[pd.date_range() manPage](https://pandas.pydata.org/docs/reference/api/pandas.date_range.html)\n",
    "\n",
    "Seems we have from jan 1 to dec 31, all days"
   ]
  },
  {
   "cell_type": "code",
   "execution_count": 19,
   "id": "0de3146d-d369-4ad8-8fba-012f6a2af0c9",
   "metadata": {},
   "outputs": [
    {
     "data": {
      "text/plain": [
       "Timestamp('2017-01-01 00:08:25')"
      ]
     },
     "execution_count": 19,
     "metadata": {},
     "output_type": "execute_result"
    }
   ],
   "source": [
    "Df['pickup_dt'][0]"
   ]
  },
  {
   "cell_type": "code",
   "execution_count": 20,
   "id": "97922b3a-fe89-44f1-b33e-5d6bf49ab0b8",
   "metadata": {},
   "outputs": [
    {
     "data": {
      "text/plain": [
       "Timestamp('2017-12-31 23:45:30')"
      ]
     },
     "execution_count": 20,
     "metadata": {},
     "output_type": "execute_result"
    }
   ],
   "source": [
    "Df['pickup_dt'][22698]"
   ]
  },
  {
   "cell_type": "code",
   "execution_count": 21,
   "id": "35502c76-d7e2-4154-8d3d-67b35ae509fd",
   "metadata": {},
   "outputs": [
    {
     "data": {
      "text/plain": [
       "'2017-01-01'"
      ]
     },
     "execution_count": 21,
     "metadata": {},
     "output_type": "execute_result"
    }
   ],
   "source": [
    "## Checking just for the days present\n",
    "## .strftime('%d/%m/%Y')\n",
    "Df['Y_m_d'] = Df['pickup_dt'].dt.strftime('%Y-%m-%d')\n",
    "Df['Y_m_d']  = pd.to_datetime(Df['Y_m_d']).dt.strftime('%Y-%m-%d')\n",
    "Df['Y_m_d'][0]"
   ]
  },
  {
   "cell_type": "code",
   "execution_count": 22,
   "id": "6b22f7f2-9be2-4372-9f04-fc6e2c497250",
   "metadata": {},
   "outputs": [
    {
     "data": {
      "text/plain": [
       "'2017-12-31'"
      ]
     },
     "execution_count": 22,
     "metadata": {},
     "output_type": "execute_result"
    }
   ],
   "source": [
    "Df['Y_m_d'][22698]"
   ]
  },
  {
   "cell_type": "code",
   "execution_count": 23,
   "id": "e726d813-24c5-4ffb-b32d-63417bbb9db5",
   "metadata": {
    "tags": []
   },
   "outputs": [
    {
     "data": {
      "text/plain": [
       "DatetimeIndex([], dtype='datetime64[ns]', freq=None)"
      ]
     },
     "execution_count": 23,
     "metadata": {},
     "output_type": "execute_result"
    }
   ],
   "source": [
    "## Validating dates, finding missing values with a calendar index\n",
    "## Here we observe that ther is no difference.\n",
    "\n",
    "full_2017 = pd.full_date_range = pd.date_range(start =Df['Y_m_d'][0], end = Df['Y_m_d'][22698])\n",
    "full_2017.difference(Df['Y_m_d'])"
   ]
  },
  {
   "cell_type": "code",
   "execution_count": 24,
   "id": "87694ef8-0599-41ff-9224-f724e534bf2a",
   "metadata": {},
   "outputs": [],
   "source": [
    "## no difference.\n",
    "Df.drop(['Y_m_d'], axis=1, inplace=True)"
   ]
  },
  {
   "cell_type": "code",
   "execution_count": 25,
   "id": "fba528e3-d2f6-4e28-acdb-16e1dd1be81a",
   "metadata": {},
   "outputs": [],
   "source": [
    "## Trying to obtain the time spend in the taxi."
   ]
  },
  {
   "cell_type": "code",
   "execution_count": 26,
   "id": "50b5aeb6-c4fb-423c-9888-0cc816759cdb",
   "metadata": {},
   "outputs": [],
   "source": [
    "Df['tripTime'] = (Df['dropoff_dt'] - Df['pickup_dt']).dt.seconds / 60"
   ]
  },
  {
   "cell_type": "code",
   "execution_count": 27,
   "id": "0a92064f-3913-49d3-8ee5-ac4511d40f71",
   "metadata": {},
   "outputs": [
    {
     "data": {
      "text/plain": [
       "0         8.916667\n",
       "1         9.616667\n",
       "2        14.183333\n",
       "3         4.650000\n",
       "4        12.216667\n",
       "           ...    \n",
       "22694    32.800000\n",
       "22695    42.883333\n",
       "22696    17.550000\n",
       "22697     8.583333\n",
       "22698     3.900000\n",
       "Name: tripTime, Length: 22699, dtype: float64"
      ]
     },
     "execution_count": 27,
     "metadata": {},
     "output_type": "execute_result"
    }
   ],
   "source": [
    "## Trips in minutes\n",
    "Df['tripTime']"
   ]
  },
  {
   "cell_type": "code",
   "execution_count": 28,
   "id": "0028e3bf-0c4e-4ae1-85f8-366593d0b4b8",
   "metadata": {
    "tags": []
   },
   "outputs": [],
   "source": [
    "## New columns order\n",
    "nnewOrder = ['unnamed', 'vendorID', 'pickup_dt', 'dropoff_dt', 'week', 'month',\n",
    "       'quarter', 'day', 'hour', 'tripTime','distance', 'psgr_count',\n",
    "        'ratecodeID', 'store_and_fwd_flag', 'pickUpLocId',\n",
    "       'dOffLocID', 'paymenType', 'fareAmnt', 'extra', 'mtaTax', 'tip',\n",
    "       'tollsAmount', 'improvementSrchrg', 'totalAmount']"
   ]
  },
  {
   "cell_type": "code",
   "execution_count": 29,
   "id": "c63473e7-3c2a-4ee8-8a44-534b7d0c9965",
   "metadata": {},
   "outputs": [],
   "source": [
    "## applying new order\n",
    "Df = Df[nnewOrder]"
   ]
  },
  {
   "cell_type": "code",
   "execution_count": 30,
   "id": "3e86950a-b673-476c-a20e-85c820582150",
   "metadata": {},
   "outputs": [
    {
     "data": {
      "text/plain": [
       "count    22699.000000\n",
       "mean         0.284620\n",
       "std          1.044909\n",
       "min          0.000000\n",
       "25%          0.110833\n",
       "50%          0.186389\n",
       "75%          0.306389\n",
       "max         23.992500\n",
       "Name: tripTime, dtype: float64"
      ]
     },
     "execution_count": 30,
     "metadata": {},
     "output_type": "execute_result"
    }
   ],
   "source": [
    "## observing the duration of the rides\n",
    "## in minutes\n",
    "(Df['tripTime'] / 60).describe()"
   ]
  },
  {
   "cell_type": "code",
   "execution_count": 31,
   "id": "27e89b0a-7a0a-4690-8c3c-4ce26c67fc6b",
   "metadata": {
    "tags": []
   },
   "outputs": [
    {
     "data": {
      "text/html": [
       "<div>\n",
       "<style scoped>\n",
       "    .dataframe tbody tr th:only-of-type {\n",
       "        vertical-align: middle;\n",
       "    }\n",
       "\n",
       "    .dataframe tbody tr th {\n",
       "        vertical-align: top;\n",
       "    }\n",
       "\n",
       "    .dataframe thead th {\n",
       "        text-align: right;\n",
       "    }\n",
       "</style>\n",
       "<table border=\"1\" class=\"dataframe\">\n",
       "  <thead>\n",
       "    <tr style=\"text-align: right;\">\n",
       "      <th></th>\n",
       "      <th>unnamed</th>\n",
       "      <th>vendorID</th>\n",
       "      <th>pickup_dt</th>\n",
       "      <th>dropoff_dt</th>\n",
       "      <th>week</th>\n",
       "      <th>month</th>\n",
       "      <th>quarter</th>\n",
       "      <th>day</th>\n",
       "      <th>hour</th>\n",
       "      <th>tripTime</th>\n",
       "      <th>...</th>\n",
       "      <th>pickUpLocId</th>\n",
       "      <th>dOffLocID</th>\n",
       "      <th>paymenType</th>\n",
       "      <th>fareAmnt</th>\n",
       "      <th>extra</th>\n",
       "      <th>mtaTax</th>\n",
       "      <th>tip</th>\n",
       "      <th>tollsAmount</th>\n",
       "      <th>improvementSrchrg</th>\n",
       "      <th>totalAmount</th>\n",
       "    </tr>\n",
       "  </thead>\n",
       "  <tbody>\n",
       "    <tr>\n",
       "      <th>0</th>\n",
       "      <td>111133227</td>\n",
       "      <td>2</td>\n",
       "      <td>2017-01-01 00:08:25</td>\n",
       "      <td>2017-01-01 00:17:20</td>\n",
       "      <td>52</td>\n",
       "      <td>01</td>\n",
       "      <td>1</td>\n",
       "      <td>Sunday</td>\n",
       "      <td>00</td>\n",
       "      <td>8.916667</td>\n",
       "      <td>...</td>\n",
       "      <td>237</td>\n",
       "      <td>161</td>\n",
       "      <td>2</td>\n",
       "      <td>7.0</td>\n",
       "      <td>0.5</td>\n",
       "      <td>0.5</td>\n",
       "      <td>0.00</td>\n",
       "      <td>0.0</td>\n",
       "      <td>0.3</td>\n",
       "      <td>8.30</td>\n",
       "    </tr>\n",
       "    <tr>\n",
       "      <th>1</th>\n",
       "      <td>111139506</td>\n",
       "      <td>1</td>\n",
       "      <td>2017-01-01 00:26:35</td>\n",
       "      <td>2017-01-01 00:36:12</td>\n",
       "      <td>52</td>\n",
       "      <td>01</td>\n",
       "      <td>1</td>\n",
       "      <td>Sunday</td>\n",
       "      <td>00</td>\n",
       "      <td>9.616667</td>\n",
       "      <td>...</td>\n",
       "      <td>234</td>\n",
       "      <td>164</td>\n",
       "      <td>1</td>\n",
       "      <td>7.5</td>\n",
       "      <td>0.5</td>\n",
       "      <td>0.5</td>\n",
       "      <td>1.75</td>\n",
       "      <td>0.0</td>\n",
       "      <td>0.3</td>\n",
       "      <td>10.55</td>\n",
       "    </tr>\n",
       "    <tr>\n",
       "      <th>2</th>\n",
       "      <td>111145951</td>\n",
       "      <td>1</td>\n",
       "      <td>2017-01-01 00:43:10</td>\n",
       "      <td>2017-01-01 00:57:21</td>\n",
       "      <td>52</td>\n",
       "      <td>01</td>\n",
       "      <td>1</td>\n",
       "      <td>Sunday</td>\n",
       "      <td>00</td>\n",
       "      <td>14.183333</td>\n",
       "      <td>...</td>\n",
       "      <td>261</td>\n",
       "      <td>233</td>\n",
       "      <td>2</td>\n",
       "      <td>17.0</td>\n",
       "      <td>0.5</td>\n",
       "      <td>0.5</td>\n",
       "      <td>0.00</td>\n",
       "      <td>0.0</td>\n",
       "      <td>0.3</td>\n",
       "      <td>18.30</td>\n",
       "    </tr>\n",
       "    <tr>\n",
       "      <th>3</th>\n",
       "      <td>111147465</td>\n",
       "      <td>2</td>\n",
       "      <td>2017-01-01 00:47:06</td>\n",
       "      <td>2017-01-01 00:51:45</td>\n",
       "      <td>52</td>\n",
       "      <td>01</td>\n",
       "      <td>1</td>\n",
       "      <td>Sunday</td>\n",
       "      <td>00</td>\n",
       "      <td>4.650000</td>\n",
       "      <td>...</td>\n",
       "      <td>238</td>\n",
       "      <td>151</td>\n",
       "      <td>1</td>\n",
       "      <td>5.5</td>\n",
       "      <td>0.5</td>\n",
       "      <td>0.5</td>\n",
       "      <td>1.36</td>\n",
       "      <td>0.0</td>\n",
       "      <td>0.3</td>\n",
       "      <td>8.16</td>\n",
       "    </tr>\n",
       "    <tr>\n",
       "      <th>4</th>\n",
       "      <td>111055119</td>\n",
       "      <td>1</td>\n",
       "      <td>2017-01-01 01:21:59</td>\n",
       "      <td>2017-01-01 01:34:12</td>\n",
       "      <td>52</td>\n",
       "      <td>01</td>\n",
       "      <td>1</td>\n",
       "      <td>Sunday</td>\n",
       "      <td>01</td>\n",
       "      <td>12.216667</td>\n",
       "      <td>...</td>\n",
       "      <td>170</td>\n",
       "      <td>158</td>\n",
       "      <td>2</td>\n",
       "      <td>10.0</td>\n",
       "      <td>0.5</td>\n",
       "      <td>0.5</td>\n",
       "      <td>0.00</td>\n",
       "      <td>0.0</td>\n",
       "      <td>0.3</td>\n",
       "      <td>11.30</td>\n",
       "    </tr>\n",
       "  </tbody>\n",
       "</table>\n",
       "<p>5 rows × 24 columns</p>\n",
       "</div>"
      ],
      "text/plain": [
       "     unnamed  vendorID           pickup_dt          dropoff_dt week month  \\\n",
       "0  111133227         2 2017-01-01 00:08:25 2017-01-01 00:17:20   52    01   \n",
       "1  111139506         1 2017-01-01 00:26:35 2017-01-01 00:36:12   52    01   \n",
       "2  111145951         1 2017-01-01 00:43:10 2017-01-01 00:57:21   52    01   \n",
       "3  111147465         2 2017-01-01 00:47:06 2017-01-01 00:51:45   52    01   \n",
       "4  111055119         1 2017-01-01 01:21:59 2017-01-01 01:34:12   52    01   \n",
       "\n",
       "  quarter     day hour   tripTime  ...  pickUpLocId  dOffLocID  paymenType  \\\n",
       "0       1  Sunday   00   8.916667  ...          237        161           2   \n",
       "1       1  Sunday   00   9.616667  ...          234        164           1   \n",
       "2       1  Sunday   00  14.183333  ...          261        233           2   \n",
       "3       1  Sunday   00   4.650000  ...          238        151           1   \n",
       "4       1  Sunday   01  12.216667  ...          170        158           2   \n",
       "\n",
       "   fareAmnt  extra  mtaTax   tip  tollsAmount  improvementSrchrg  totalAmount  \n",
       "0       7.0    0.5     0.5  0.00          0.0                0.3         8.30  \n",
       "1       7.5    0.5     0.5  1.75          0.0                0.3        10.55  \n",
       "2      17.0    0.5     0.5  0.00          0.0                0.3        18.30  \n",
       "3       5.5    0.5     0.5  1.36          0.0                0.3         8.16  \n",
       "4      10.0    0.5     0.5  0.00          0.0                0.3        11.30  \n",
       "\n",
       "[5 rows x 24 columns]"
      ]
     },
     "execution_count": 31,
     "metadata": {},
     "output_type": "execute_result"
    }
   ],
   "source": [
    "Df.head()"
   ]
  },
  {
   "cell_type": "code",
   "execution_count": 32,
   "id": "d6e5526a-f416-4817-8c29-11f19ca267a5",
   "metadata": {},
   "outputs": [
    {
     "data": {
      "text/plain": [
       "unnamed                        int64\n",
       "vendorID                       int64\n",
       "pickup_dt             datetime64[ns]\n",
       "dropoff_dt            datetime64[ns]\n",
       "week                          object\n",
       "month                         object\n",
       "quarter                       object\n",
       "day                           object\n",
       "hour                          object\n",
       "tripTime                     float64\n",
       "distance                     float64\n",
       "psgr_count                     int64\n",
       "ratecodeID                     int64\n",
       "store_and_fwd_flag             int64\n",
       "pickUpLocId                    int64\n",
       "dOffLocID                      int64\n",
       "paymenType                     int64\n",
       "fareAmnt                     float64\n",
       "extra                        float64\n",
       "mtaTax                       float64\n",
       "tip                          float64\n",
       "tollsAmount                  float64\n",
       "improvementSrchrg            float64\n",
       "totalAmount                  float64\n",
       "dtype: object"
      ]
     },
     "execution_count": 32,
     "metadata": {},
     "output_type": "execute_result"
    }
   ],
   "source": [
    "Df.dtypes"
   ]
  },
  {
   "cell_type": "markdown",
   "id": "afdeda45-1eb5-4202-8a4c-117d253c8649",
   "metadata": {},
   "source": [
    "# Plan-**Analyse**-Construct-Execute\n",
    "\n",
    "## Re-grouping\n",
    "\n",
    "**Initial measurements and inferences**\n",
    "\n",
    "   - Determineate state of the data observing:\n",
    "     - Data types.\n",
    "         **All data is numerical or datetime64(ns)**\n",
    "     - Missing information.\n",
    "         **No**\n",
    "     - Validate inputs.\n",
    "         **dates are continious without missing days** \n",
    "         **We have other extremes values that require further investigation**\n",
    "     - Distributions.\n",
    "     - Detrminate Outliers, **Do we keep/delete them?**.\n",
    "   - Determinate if transformations or restructurizations are neccesary\n",
    "     - String data into Date/Time objects.\n",
    "         **Done** **Also obtain week, month, quarter, day, hour, and trip time**\n",
    "     - Creation of new columns based on known information.\n",
    "         **Si**\n",
    "   - Construct Visualizations\n",
    "   - Determinate insights, recommendations, new formulated questions from the observed. \n",
    "   "
   ]
  },
  {
   "cell_type": "code",
   "execution_count": 33,
   "id": "48f86701-5b08-4347-82ff-a789bc386ee9",
   "metadata": {
    "tags": []
   },
   "outputs": [
    {
     "data": {
      "text/html": [
       "<div>\n",
       "<style scoped>\n",
       "    .dataframe tbody tr th:only-of-type {\n",
       "        vertical-align: middle;\n",
       "    }\n",
       "\n",
       "    .dataframe tbody tr th {\n",
       "        vertical-align: top;\n",
       "    }\n",
       "\n",
       "    .dataframe thead th {\n",
       "        text-align: right;\n",
       "    }\n",
       "</style>\n",
       "<table border=\"1\" class=\"dataframe\">\n",
       "  <thead>\n",
       "    <tr style=\"text-align: right;\">\n",
       "      <th></th>\n",
       "      <th>totalAmount</th>\n",
       "    </tr>\n",
       "    <tr>\n",
       "      <th>month</th>\n",
       "      <th></th>\n",
       "    </tr>\n",
       "  </thead>\n",
       "  <tbody>\n",
       "    <tr>\n",
       "      <th>01</th>\n",
       "      <td>15.891462</td>\n",
       "    </tr>\n",
       "    <tr>\n",
       "      <th>02</th>\n",
       "      <td>16.358332</td>\n",
       "    </tr>\n",
       "    <tr>\n",
       "      <th>03</th>\n",
       "      <td>16.147335</td>\n",
       "    </tr>\n",
       "    <tr>\n",
       "      <th>04</th>\n",
       "      <td>15.855641</td>\n",
       "    </tr>\n",
       "    <tr>\n",
       "      <th>05</th>\n",
       "      <td>16.805057</td>\n",
       "    </tr>\n",
       "    <tr>\n",
       "      <th>06</th>\n",
       "      <td>16.761976</td>\n",
       "    </tr>\n",
       "    <tr>\n",
       "      <th>07</th>\n",
       "      <td>15.685115</td>\n",
       "    </tr>\n",
       "    <tr>\n",
       "      <th>08</th>\n",
       "      <td>16.101833</td>\n",
       "    </tr>\n",
       "    <tr>\n",
       "      <th>09</th>\n",
       "      <td>16.266655</td>\n",
       "    </tr>\n",
       "    <tr>\n",
       "      <th>10</th>\n",
       "      <td>16.312694</td>\n",
       "    </tr>\n",
       "    <tr>\n",
       "      <th>11</th>\n",
       "      <td>16.712122</td>\n",
       "    </tr>\n",
       "    <tr>\n",
       "      <th>12</th>\n",
       "      <td>16.780231</td>\n",
       "    </tr>\n",
       "  </tbody>\n",
       "</table>\n",
       "</div>"
      ],
      "text/plain": [
       "       totalAmount\n",
       "month             \n",
       "01       15.891462\n",
       "02       16.358332\n",
       "03       16.147335\n",
       "04       15.855641\n",
       "05       16.805057\n",
       "06       16.761976\n",
       "07       15.685115\n",
       "08       16.101833\n",
       "09       16.266655\n",
       "10       16.312694\n",
       "11       16.712122\n",
       "12       16.780231"
      ]
     },
     "execution_count": 33,
     "metadata": {},
     "output_type": "execute_result"
    }
   ],
   "source": [
    "## the average total amount per month\n",
    "Df[['month', 'totalAmount']].groupby(['month']).mean()"
   ]
  },
  {
   "cell_type": "code",
   "execution_count": 34,
   "id": "5386e979-02d0-4fc4-b529-04e51d06456c",
   "metadata": {},
   "outputs": [
    {
     "data": {
      "text/html": [
       "<div>\n",
       "<style scoped>\n",
       "    .dataframe tbody tr th:only-of-type {\n",
       "        vertical-align: middle;\n",
       "    }\n",
       "\n",
       "    .dataframe tbody tr th {\n",
       "        vertical-align: top;\n",
       "    }\n",
       "\n",
       "    .dataframe thead th {\n",
       "        text-align: right;\n",
       "    }\n",
       "</style>\n",
       "<table border=\"1\" class=\"dataframe\">\n",
       "  <thead>\n",
       "    <tr style=\"text-align: right;\">\n",
       "      <th></th>\n",
       "      <th>totalAmount</th>\n",
       "    </tr>\n",
       "    <tr>\n",
       "      <th>day</th>\n",
       "      <th></th>\n",
       "    </tr>\n",
       "  </thead>\n",
       "  <tbody>\n",
       "    <tr>\n",
       "      <th>Friday</th>\n",
       "      <td>16.354744</td>\n",
       "    </tr>\n",
       "    <tr>\n",
       "      <th>Monday</th>\n",
       "      <td>16.913808</td>\n",
       "    </tr>\n",
       "    <tr>\n",
       "      <th>Saturday</th>\n",
       "      <td>15.205049</td>\n",
       "    </tr>\n",
       "    <tr>\n",
       "      <th>Sunday</th>\n",
       "      <td>16.218833</td>\n",
       "    </tr>\n",
       "    <tr>\n",
       "      <th>Thursday</th>\n",
       "      <td>16.808322</td>\n",
       "    </tr>\n",
       "    <tr>\n",
       "      <th>Tuesday</th>\n",
       "      <td>16.424997</td>\n",
       "    </tr>\n",
       "    <tr>\n",
       "      <th>Wednesday</th>\n",
       "      <td>16.315773</td>\n",
       "    </tr>\n",
       "  </tbody>\n",
       "</table>\n",
       "</div>"
      ],
      "text/plain": [
       "           totalAmount\n",
       "day                   \n",
       "Friday       16.354744\n",
       "Monday       16.913808\n",
       "Saturday     15.205049\n",
       "Sunday       16.218833\n",
       "Thursday     16.808322\n",
       "Tuesday      16.424997\n",
       "Wednesday    16.315773"
      ]
     },
     "execution_count": 34,
     "metadata": {},
     "output_type": "execute_result"
    }
   ],
   "source": [
    "## the average total amount per day\n",
    "Df[['day', 'totalAmount']].groupby(['day']).mean()"
   ]
  },
  {
   "cell_type": "code",
   "execution_count": 35,
   "id": "48a11862-1b63-46b9-8ad5-19a142378b44",
   "metadata": {},
   "outputs": [
    {
     "data": {
      "text/html": [
       "<div>\n",
       "<style scoped>\n",
       "    .dataframe tbody tr th:only-of-type {\n",
       "        vertical-align: middle;\n",
       "    }\n",
       "\n",
       "    .dataframe tbody tr th {\n",
       "        vertical-align: top;\n",
       "    }\n",
       "\n",
       "    .dataframe thead th {\n",
       "        text-align: right;\n",
       "    }\n",
       "</style>\n",
       "<table border=\"1\" class=\"dataframe\">\n",
       "  <thead>\n",
       "    <tr style=\"text-align: right;\">\n",
       "      <th></th>\n",
       "      <th>totalAmount</th>\n",
       "    </tr>\n",
       "    <tr>\n",
       "      <th>hour</th>\n",
       "      <th></th>\n",
       "    </tr>\n",
       "  </thead>\n",
       "  <tbody>\n",
       "    <tr>\n",
       "      <th>00</th>\n",
       "      <td>16.388073</td>\n",
       "    </tr>\n",
       "    <tr>\n",
       "      <th>01</th>\n",
       "      <td>14.804438</td>\n",
       "    </tr>\n",
       "    <tr>\n",
       "      <th>02</th>\n",
       "      <td>15.220829</td>\n",
       "    </tr>\n",
       "    <tr>\n",
       "      <th>03</th>\n",
       "      <td>16.485645</td>\n",
       "    </tr>\n",
       "    <tr>\n",
       "      <th>04</th>\n",
       "      <td>18.197745</td>\n",
       "    </tr>\n",
       "    <tr>\n",
       "      <th>05</th>\n",
       "      <td>24.180170</td>\n",
       "    </tr>\n",
       "    <tr>\n",
       "      <th>06</th>\n",
       "      <td>16.263427</td>\n",
       "    </tr>\n",
       "    <tr>\n",
       "      <th>07</th>\n",
       "      <td>14.454912</td>\n",
       "    </tr>\n",
       "    <tr>\n",
       "      <th>08</th>\n",
       "      <td>15.361255</td>\n",
       "    </tr>\n",
       "    <tr>\n",
       "      <th>09</th>\n",
       "      <td>15.764388</td>\n",
       "    </tr>\n",
       "    <tr>\n",
       "      <th>10</th>\n",
       "      <td>15.582788</td>\n",
       "    </tr>\n",
       "    <tr>\n",
       "      <th>11</th>\n",
       "      <td>16.381351</td>\n",
       "    </tr>\n",
       "    <tr>\n",
       "      <th>12</th>\n",
       "      <td>15.774847</td>\n",
       "    </tr>\n",
       "    <tr>\n",
       "      <th>13</th>\n",
       "      <td>16.007001</td>\n",
       "    </tr>\n",
       "    <tr>\n",
       "      <th>14</th>\n",
       "      <td>16.661495</td>\n",
       "    </tr>\n",
       "    <tr>\n",
       "      <th>15</th>\n",
       "      <td>16.817943</td>\n",
       "    </tr>\n",
       "    <tr>\n",
       "      <th>16</th>\n",
       "      <td>17.380150</td>\n",
       "    </tr>\n",
       "    <tr>\n",
       "      <th>17</th>\n",
       "      <td>17.313544</td>\n",
       "    </tr>\n",
       "    <tr>\n",
       "      <th>18</th>\n",
       "      <td>17.189110</td>\n",
       "    </tr>\n",
       "    <tr>\n",
       "      <th>19</th>\n",
       "      <td>15.567373</td>\n",
       "    </tr>\n",
       "    <tr>\n",
       "      <th>20</th>\n",
       "      <td>15.711444</td>\n",
       "    </tr>\n",
       "    <tr>\n",
       "      <th>21</th>\n",
       "      <td>16.308751</td>\n",
       "    </tr>\n",
       "    <tr>\n",
       "      <th>22</th>\n",
       "      <td>16.454188</td>\n",
       "    </tr>\n",
       "    <tr>\n",
       "      <th>23</th>\n",
       "      <td>16.884592</td>\n",
       "    </tr>\n",
       "  </tbody>\n",
       "</table>\n",
       "</div>"
      ],
      "text/plain": [
       "      totalAmount\n",
       "hour             \n",
       "00      16.388073\n",
       "01      14.804438\n",
       "02      15.220829\n",
       "03      16.485645\n",
       "04      18.197745\n",
       "05      24.180170\n",
       "06      16.263427\n",
       "07      14.454912\n",
       "08      15.361255\n",
       "09      15.764388\n",
       "10      15.582788\n",
       "11      16.381351\n",
       "12      15.774847\n",
       "13      16.007001\n",
       "14      16.661495\n",
       "15      16.817943\n",
       "16      17.380150\n",
       "17      17.313544\n",
       "18      17.189110\n",
       "19      15.567373\n",
       "20      15.711444\n",
       "21      16.308751\n",
       "22      16.454188\n",
       "23      16.884592"
      ]
     },
     "execution_count": 35,
     "metadata": {},
     "output_type": "execute_result"
    }
   ],
   "source": [
    "## Average total amount \n",
    "Df[['hour', 'totalAmount']].groupby(['hour']).mean()"
   ]
  },
  {
   "cell_type": "code",
   "execution_count": 36,
   "id": "a8fa95e5-84a0-4925-a253-dc16c7a97e77",
   "metadata": {
    "tags": []
   },
   "outputs": [
    {
     "data": {
      "text/plain": [
       "237    890\n",
       "161    861\n",
       "186    792\n",
       "236    785\n",
       "162    779\n",
       "170    749\n",
       "234    749\n",
       "48     741\n",
       "230    739\n",
       "142    649\n",
       "138    623\n",
       "79     617\n",
       "163    611\n",
       "107    590\n",
       "239    583\n",
       "164    576\n",
       "68     555\n",
       "132    532\n",
       "141    488\n",
       "249    483\n",
       "Name: pickUpLocId, dtype: int64"
      ]
     },
     "execution_count": 36,
     "metadata": {},
     "output_type": "execute_result"
    }
   ],
   "source": [
    "## Identifying the 20 bussiest pick up locations that appears the most\n",
    "Df['pickUpLocId'].value_counts()[:20]"
   ]
  },
  {
   "cell_type": "code",
   "execution_count": 37,
   "id": "2a6b34bd-808e-44b2-96dd-45cce1691499",
   "metadata": {},
   "outputs": [
    {
     "data": {
      "text/plain": [
       "57     1\n",
       "242    1\n",
       "178    1\n",
       "118    1\n",
       "185    1\n",
       "213    1\n",
       "160    1\n",
       "173    1\n",
       "153    1\n",
       "54     1\n",
       "175    1\n",
       "10     1\n",
       "159    1\n",
       "215    1\n",
       "69     1\n",
       "123    1\n",
       "218    1\n",
       "135    1\n",
       "208    1\n",
       "202    1\n",
       "128    1\n",
       "Name: pickUpLocId, dtype: int64"
      ]
     },
     "execution_count": 37,
     "metadata": {},
     "output_type": "execute_result"
    }
   ],
   "source": [
    "## Identifying the 20 less bussiest pick up locations \n",
    "## that appears not that much\n",
    "Df['pickUpLocId'].value_counts()[131:]"
   ]
  },
  {
   "cell_type": "code",
   "execution_count": 38,
   "id": "e0a1e612-f31c-4d04-8e7f-5b6d9e314d85",
   "metadata": {
    "tags": []
   },
   "outputs": [
    {
     "data": {
      "text/html": [
       "<div>\n",
       "<style scoped>\n",
       "    .dataframe tbody tr th:only-of-type {\n",
       "        vertical-align: middle;\n",
       "    }\n",
       "\n",
       "    .dataframe tbody tr th {\n",
       "        vertical-align: top;\n",
       "    }\n",
       "\n",
       "    .dataframe thead th {\n",
       "        text-align: right;\n",
       "    }\n",
       "</style>\n",
       "<table border=\"1\" class=\"dataframe\">\n",
       "  <thead>\n",
       "    <tr style=\"text-align: right;\">\n",
       "      <th></th>\n",
       "      <th>totalAmount</th>\n",
       "      <th>day</th>\n",
       "    </tr>\n",
       "    <tr>\n",
       "      <th>day</th>\n",
       "      <th></th>\n",
       "      <th></th>\n",
       "    </tr>\n",
       "  </thead>\n",
       "  <tbody>\n",
       "    <tr>\n",
       "      <th>Friday</th>\n",
       "      <td>16.354744</td>\n",
       "      <td>3413</td>\n",
       "    </tr>\n",
       "    <tr>\n",
       "      <th>Monday</th>\n",
       "      <td>16.913808</td>\n",
       "      <td>2931</td>\n",
       "    </tr>\n",
       "    <tr>\n",
       "      <th>Saturday</th>\n",
       "      <td>15.205049</td>\n",
       "      <td>3367</td>\n",
       "    </tr>\n",
       "    <tr>\n",
       "      <th>Sunday</th>\n",
       "      <td>16.218833</td>\n",
       "      <td>2998</td>\n",
       "    </tr>\n",
       "    <tr>\n",
       "      <th>Thursday</th>\n",
       "      <td>16.808322</td>\n",
       "      <td>3402</td>\n",
       "    </tr>\n",
       "    <tr>\n",
       "      <th>Tuesday</th>\n",
       "      <td>16.424997</td>\n",
       "      <td>3198</td>\n",
       "    </tr>\n",
       "    <tr>\n",
       "      <th>Wednesday</th>\n",
       "      <td>16.315773</td>\n",
       "      <td>3390</td>\n",
       "    </tr>\n",
       "  </tbody>\n",
       "</table>\n",
       "</div>"
      ],
      "text/plain": [
       "           totalAmount   day\n",
       "day                         \n",
       "Friday       16.354744  3413\n",
       "Monday       16.913808  2931\n",
       "Saturday     15.205049  3367\n",
       "Sunday       16.218833  2998\n",
       "Thursday     16.808322  3402\n",
       "Tuesday      16.424997  3198\n",
       "Wednesday    16.315773  3390"
      ]
     },
     "execution_count": 38,
     "metadata": {},
     "output_type": "execute_result"
    }
   ],
   "source": [
    "## count total amount of days and its average\n",
    "## with Wed, Thu and Friday higher count of days\n",
    "df.groupby(['day']).agg({'totalAmount':'mean','day':'count'})               "
   ]
  },
  {
   "cell_type": "code",
   "execution_count": 39,
   "id": "8cc9a57b-f517-4ff8-96fe-d892b8e26a42",
   "metadata": {},
   "outputs": [
    {
     "data": {
      "text/html": [
       "<div>\n",
       "<style scoped>\n",
       "    .dataframe tbody tr th:only-of-type {\n",
       "        vertical-align: middle;\n",
       "    }\n",
       "\n",
       "    .dataframe tbody tr th {\n",
       "        vertical-align: top;\n",
       "    }\n",
       "\n",
       "    .dataframe thead th {\n",
       "        text-align: right;\n",
       "    }\n",
       "</style>\n",
       "<table border=\"1\" class=\"dataframe\">\n",
       "  <thead>\n",
       "    <tr style=\"text-align: right;\">\n",
       "      <th></th>\n",
       "      <th>totalAmount</th>\n",
       "      <th>month</th>\n",
       "    </tr>\n",
       "    <tr>\n",
       "      <th>month</th>\n",
       "      <th></th>\n",
       "      <th></th>\n",
       "    </tr>\n",
       "  </thead>\n",
       "  <tbody>\n",
       "    <tr>\n",
       "      <th>01</th>\n",
       "      <td>15.891462</td>\n",
       "      <td>1997</td>\n",
       "    </tr>\n",
       "    <tr>\n",
       "      <th>02</th>\n",
       "      <td>16.358332</td>\n",
       "      <td>1769</td>\n",
       "    </tr>\n",
       "    <tr>\n",
       "      <th>03</th>\n",
       "      <td>16.147335</td>\n",
       "      <td>2049</td>\n",
       "    </tr>\n",
       "    <tr>\n",
       "      <th>04</th>\n",
       "      <td>15.855641</td>\n",
       "      <td>2019</td>\n",
       "    </tr>\n",
       "    <tr>\n",
       "      <th>05</th>\n",
       "      <td>16.805057</td>\n",
       "      <td>2013</td>\n",
       "    </tr>\n",
       "    <tr>\n",
       "      <th>06</th>\n",
       "      <td>16.761976</td>\n",
       "      <td>1964</td>\n",
       "    </tr>\n",
       "    <tr>\n",
       "      <th>07</th>\n",
       "      <td>15.685115</td>\n",
       "      <td>1697</td>\n",
       "    </tr>\n",
       "    <tr>\n",
       "      <th>08</th>\n",
       "      <td>16.101833</td>\n",
       "      <td>1724</td>\n",
       "    </tr>\n",
       "    <tr>\n",
       "      <th>09</th>\n",
       "      <td>16.266655</td>\n",
       "      <td>1734</td>\n",
       "    </tr>\n",
       "    <tr>\n",
       "      <th>10</th>\n",
       "      <td>16.312694</td>\n",
       "      <td>2027</td>\n",
       "    </tr>\n",
       "    <tr>\n",
       "      <th>11</th>\n",
       "      <td>16.712122</td>\n",
       "      <td>1843</td>\n",
       "    </tr>\n",
       "    <tr>\n",
       "      <th>12</th>\n",
       "      <td>16.780231</td>\n",
       "      <td>1863</td>\n",
       "    </tr>\n",
       "  </tbody>\n",
       "</table>\n",
       "</div>"
      ],
      "text/plain": [
       "       totalAmount  month\n",
       "month                    \n",
       "01       15.891462   1997\n",
       "02       16.358332   1769\n",
       "03       16.147335   2049\n",
       "04       15.855641   2019\n",
       "05       16.805057   2013\n",
       "06       16.761976   1964\n",
       "07       15.685115   1697\n",
       "08       16.101833   1724\n",
       "09       16.266655   1734\n",
       "10       16.312694   2027\n",
       "11       16.712122   1843\n",
       "12       16.780231   1863"
      ]
     },
     "execution_count": 39,
     "metadata": {},
     "output_type": "execute_result"
    }
   ],
   "source": [
    "## count total amount of months and its average\n",
    "## with October higher count of days\n",
    "df.groupby(['month']).agg({'totalAmount':'mean','month':'count'})  "
   ]
  },
  {
   "cell_type": "code",
   "execution_count": 40,
   "id": "ddb77ed2-e96f-449d-b854-54966d06b9d3",
   "metadata": {},
   "outputs": [
    {
     "data": {
      "image/png": "[encoded data removed]",
      "text/plain": [
       "<Figure size 640x480 with 1 Axes>"
      ]
     },
     "metadata": {},
     "output_type": "display_data"
    }
   ],
   "source": [
    "## Define order of days for the plot\n",
    "weekday_order = ['Monday','Tuesday', 'Wednesday', 'Thursday','Friday','Saturday','Sunday']\n",
    "\n",
    "## Box plot of the distribution grouped by day\n",
    "g = sns.boxplot(data=Df, \n",
    "            x='day',\n",
    "            y='totalAmount', \n",
    "            order=weekday_order, \n",
    "            showfliers=False \n",
    "            );\n",
    "g.set_title('totalAmount per day', );"
   ]
  },
  {
   "cell_type": "code",
   "execution_count": 41,
   "id": "14ebab4c-e5fb-4dcd-ad98-9fbd33fd8208",
   "metadata": {},
   "outputs": [
    {
     "data": {
      "image/png": "[encoded data removed]",
      "text/plain": [
       "<Figure size 640x480 with 1 Axes>"
      ]
     },
     "metadata": {},
     "output_type": "display_data"
    }
   ],
   "source": [
    "## Define order of days for the plot\n",
    "## month_order = ['jan', 'feb', 'mar', 'apr', 'may', 'jun', 'jul', 'ag', 'sep', 'oct', 'nov', 'dec' ]\n",
    "month_order = ['01', '02','03', '04', '05', '06', '07', '08', '09', '10', '11', '12' ]\n",
    "\n",
    "## Box plot of the distribution grouped by day\n",
    "g = sns.boxplot(data=Df, \n",
    "            x='month',\n",
    "            y='totalAmount', \n",
    "            order=month_order, \n",
    "            showfliers=False \n",
    "            );\n",
    "g.set_title('Total Amount per month', );"
   ]
  },
  {
   "cell_type": "code",
   "execution_count": 42,
   "id": "1bae9241-8666-446e-acd3-a829898dc18d",
   "metadata": {
    "tags": []
   },
   "outputs": [
    {
     "data": {
      "text/plain": [
       "dOffLocID\n",
       "1      17.027353\n",
       "4       2.436634\n",
       "7       3.964944\n",
       "9       9.305000\n",
       "10      3.750000\n",
       "         ...    \n",
       "261     4.935897\n",
       "262     2.866897\n",
       "263     2.501951\n",
       "264     2.928783\n",
       "265    11.039000\n",
       "Name: distance, Length: 216, dtype: float64"
      ]
     },
     "execution_count": 42,
     "metadata": {},
     "output_type": "execute_result"
    }
   ],
   "source": [
    "## Average distance per location.\n",
    "Df.groupby('dOffLocID')['distance'].mean()"
   ]
  },
  {
   "cell_type": "code",
   "execution_count": 43,
   "id": "d3aa6d46-a385-4db5-a43b-a72251965dfe",
   "metadata": {},
   "outputs": [
    {
     "data": {
      "image/png": "[encoded data removed]",
      "text/plain": [
       "<Figure size 640x480 with 1 Axes>"
      ]
     },
     "metadata": {},
     "output_type": "display_data"
    }
   ],
   "source": [
    "## box plot showing distribution\n",
    "box = sns.boxplot(x=Df['distance'], showfliers=False,)\n",
    "g = plt.gca()\n",
    "plt.xlabel('trip_distance')\n",
    "plt.title('trip_distance');"
   ]
  },
  {
   "cell_type": "code",
   "execution_count": 44,
   "id": "d7d6c9ce-55d7-4a8d-a792-6e4c1530d168",
   "metadata": {},
   "outputs": [
    {
     "data": {
      "image/png": "[encoded data removed]",
      "text/plain": [
       "<Figure size 640x480 with 1 Axes>"
      ]
     },
     "metadata": {},
     "output_type": "display_data"
    }
   ],
   "source": [
    "box = sns.boxplot(x=Df['totalAmount'], showfliers=False,)\n",
    "g = plt.gca()\n",
    "plt.xlabel('Total Amount')\n",
    "plt.title('Total amount in dollars');"
   ]
  },
  {
   "cell_type": "code",
   "execution_count": 45,
   "id": "57638d70-8341-4272-bc0c-d0610d565b30",
   "metadata": {
    "tags": []
   },
   "outputs": [],
   "source": [
    "## Rides where the distance is equal to zero\n",
    "## One solution could be to use the `travel_time_sec` to infer its values.\n",
    "dist_zero = (Df['distance'] == 0.0)\n",
    "missing_distance = Df.iloc[dist_zero.values]    "
   ]
  },
  {
   "cell_type": "code",
   "execution_count": 46,
   "id": "053513d4-2626-4a4b-bd6c-adc8957a4f78",
   "metadata": {},
   "outputs": [
    {
     "name": "stdout",
     "output_type": "stream",
     "text": [
      "<class 'pandas.core.frame.DataFrame'>\n",
      "Int64Index: 148 entries, 12 to 22667\n",
      "Data columns (total 24 columns):\n",
      " #   Column              Non-Null Count  Dtype         \n",
      "---  ------              --------------  -----         \n",
      " 0   unnamed             148 non-null    int64         \n",
      " 1   vendorID            148 non-null    int64         \n",
      " 2   pickup_dt           148 non-null    datetime64[ns]\n",
      " 3   dropoff_dt          148 non-null    datetime64[ns]\n",
      " 4   week                148 non-null    object        \n",
      " 5   month               148 non-null    object        \n",
      " 6   quarter             148 non-null    object        \n",
      " 7   day                 148 non-null    object        \n",
      " 8   hour                148 non-null    object        \n",
      " 9   tripTime            148 non-null    float64       \n",
      " 10  distance            148 non-null    float64       \n",
      " 11  psgr_count          148 non-null    int64         \n",
      " 12  ratecodeID          148 non-null    int64         \n",
      " 13  store_and_fwd_flag  148 non-null    int64         \n",
      " 14  pickUpLocId         148 non-null    int64         \n",
      " 15  dOffLocID           148 non-null    int64         \n",
      " 16  paymenType          148 non-null    int64         \n",
      " 17  fareAmnt            148 non-null    float64       \n",
      " 18  extra               148 non-null    float64       \n",
      " 19  mtaTax              148 non-null    float64       \n",
      " 20  tip                 148 non-null    float64       \n",
      " 21  tollsAmount         148 non-null    float64       \n",
      " 22  improvementSrchrg   148 non-null    float64       \n",
      " 23  totalAmount         148 non-null    float64       \n",
      "dtypes: datetime64[ns](2), float64(9), int64(8), object(5)\n",
      "memory usage: 28.9+ KB\n"
     ]
    }
   ],
   "source": [
    "missing_distance.info()"
   ]
  },
  {
   "cell_type": "code",
   "execution_count": 47,
   "id": "a3990b0e-3680-43b1-ad1f-2c9b2aa3273f",
   "metadata": {},
   "outputs": [
    {
     "data": {
      "text/plain": [
       "22699"
      ]
     },
     "execution_count": 47,
     "metadata": {},
     "output_type": "execute_result"
    }
   ],
   "source": [
    "df.shape[0]"
   ]
  },
  {
   "cell_type": "code",
   "execution_count": 48,
   "id": "6cc0064b-6d9e-4705-98d2-09864548f5b8",
   "metadata": {},
   "outputs": [
    {
     "data": {
      "text/plain": [
       "148"
      ]
     },
     "execution_count": 48,
     "metadata": {},
     "output_type": "execute_result"
    }
   ],
   "source": [
    "missing_distance.shape[0]"
   ]
  },
  {
   "cell_type": "code",
   "execution_count": 49,
   "id": "5979bd6a-1e61-4801-b38b-0588ec699a91",
   "metadata": {},
   "outputs": [
    {
     "name": "stdout",
     "output_type": "stream",
     "text": [
      "proportion of events with zero distance: 0.6520111018106525%\n"
     ]
    }
   ],
   "source": [
    "## we probably can drop them as well\n",
    "proportion = missing_distance.shape[0] / df.shape[0]\n",
    "print(f'proportion of events with zero distance: {proportion * 100}%')"
   ]
  },
  {
   "cell_type": "code",
   "execution_count": 50,
   "id": "cfec0c81-118f-4192-868d-e3bae324eeaa",
   "metadata": {
    "tags": []
   },
   "outputs": [
    {
     "data": {
      "text/plain": [
       "count    148.000000\n",
       "mean       1.103491\n",
       "std        3.822957\n",
       "min        0.000000\n",
       "25%        0.050000\n",
       "50%        0.150000\n",
       "75%        0.508333\n",
       "max       32.116667\n",
       "Name: tripTime, dtype: float64"
      ]
     },
     "execution_count": 50,
     "metadata": {},
     "output_type": "execute_result"
    }
   ],
   "source": [
    "## Investigating the tripTime\n",
    "## We may be able to get the distance based on the average\n",
    "## taxi in NYC\n",
    "missing_distance['tripTime'].describe()"
   ]
  },
  {
   "cell_type": "code",
   "execution_count": 51,
   "id": "b91e4586-2a44-4097-92d9-bf25d09d82c6",
   "metadata": {},
   "outputs": [
    {
     "data": {
      "image/png": "[encoded data removed]",
      "text/plain": [
       "<Figure size 2000x700 with 1 Axes>"
      ]
     },
     "metadata": {},
     "output_type": "display_data"
    }
   ],
   "source": [
    "## Randomly selecting and seeing 50 locations\n",
    "## the darker lines or error bars are graphical representations of the variability \n",
    "## of data and used on graphs to indicate the error or uncertainty \n",
    "## in a reported measurement, in this case distance.\n",
    "\n",
    "sample = Df.sample(n=50, replace=True, random_state=42)\n",
    "plt.figure(figsize=(20,7))\n",
    "sns.barplot(data=sample, x=sample['dOffLocID'], y=sample['distance']);\n"
   ]
  },
  {
   "cell_type": "code",
   "execution_count": 52,
   "id": "56b2294d-82f9-4ca6-bdc2-ca2fdbffd81d",
   "metadata": {},
   "outputs": [
    {
     "data": {
      "image/png": "[encoded data removed]",
      "text/plain": [
       "<Figure size 1600x800 with 1 Axes>"
      ]
     },
     "metadata": {},
     "output_type": "display_data"
    }
   ],
   "source": [
    "colors = ('b')\n",
    "colors2 = ('r')\n",
    "\n",
    "non_zero = Df[Df['distance'] > 0 ]\n",
    "non_zero = Df[Df['totalAmount'] < 400.0]\n",
    "non_zero = Df[Df['totalAmount'] > 0]\n",
    "\n",
    "#non_zero\n",
    "si_zero = Df[Df['distance'] <= 0]\n",
    "#si_zero\n",
    "\n",
    "\n",
    "fig, ax = plt.subplots(figsize=(16,8))\n",
    "ax.scatter(non_zero['totalAmount'], non_zero['distance'],c=colors, alpha=0.3, edgecolor='y')\n",
    "ax.scatter(si_zero['totalAmount'], si_zero['distance'],c=colors2, alpha=0.3, edgecolor='y')\n",
    "ax.set_xlabel('$')\n",
    "ax.set_ylabel('miles')\n",
    "ax.set_title('Miles per Money')\n",
    "\n",
    "for tick in ax.get_xticklabels():\n",
    "    tick.set_rotation(45)\n",
    "plt.show()"
   ]
  },
  {
   "cell_type": "code",
   "execution_count": 53,
   "id": "924bb017-8dc1-41b9-acc0-480e264e17ba",
   "metadata": {},
   "outputs": [
    {
     "data": {
      "image/png": "[encoded data removed]",
      "text/plain": [
       "<Figure size 2000x1000 with 2 Axes>"
      ]
     },
     "metadata": {},
     "output_type": "display_data"
    }
   ],
   "source": [
    "## this is the distibution of the total Amount. I also log it to compare.\n",
    "\n",
    "plt.figure(figsize=(20, 10))\n",
    "\n",
    "plt.subplot(1, 2, 1)\n",
    "sns.distplot(Df['totalAmount'], kde=True, fit=scipy.stats.norm , color='Orange') \n",
    "plt.title('USD')\n",
    "plt.subplot(1, 2, 2)\n",
    "sns.distplot(np.log1p(Df['totalAmount']), kde=True, fit=scipy.stats.norm, color='Green') ## fits is deprecated, still good to demo.\n",
    "plt.title('Log');"
   ]
  },
  {
   "cell_type": "code",
   "execution_count": 54,
   "id": "9506ea20-017c-428a-bd0f-b5af5700d0f8",
   "metadata": {},
   "outputs": [
    {
     "data": {
      "text/html": [
       "<div>\n",
       "<style scoped>\n",
       "    .dataframe tbody tr th:only-of-type {\n",
       "        vertical-align: middle;\n",
       "    }\n",
       "\n",
       "    .dataframe tbody tr th {\n",
       "        vertical-align: top;\n",
       "    }\n",
       "\n",
       "    .dataframe thead th {\n",
       "        text-align: right;\n",
       "    }\n",
       "</style>\n",
       "<table border=\"1\" class=\"dataframe\">\n",
       "  <thead>\n",
       "    <tr style=\"text-align: right;\">\n",
       "      <th></th>\n",
       "      <th>totalAmount</th>\n",
       "      <th>empirical_rule_suggest</th>\n",
       "      <th>difference</th>\n",
       "    </tr>\n",
       "  </thead>\n",
       "  <tbody>\n",
       "    <tr>\n",
       "      <th>Frac of the values within +/- 1 SD from the mean</th>\n",
       "      <td>0.91</td>\n",
       "      <td>0.680</td>\n",
       "      <td>0.230</td>\n",
       "    </tr>\n",
       "    <tr>\n",
       "      <th>Frac of the values within +/- 2 SD from the mean</th>\n",
       "      <td>0.96</td>\n",
       "      <td>0.950</td>\n",
       "      <td>0.010</td>\n",
       "    </tr>\n",
       "    <tr>\n",
       "      <th>Frac of the values within +/- 3 SD from the mean</th>\n",
       "      <td>0.98</td>\n",
       "      <td>0.997</td>\n",
       "      <td>0.017</td>\n",
       "    </tr>\n",
       "  </tbody>\n",
       "</table>\n",
       "</div>"
      ],
      "text/plain": [
       "                                                  totalAmount  \\\n",
       "Frac of the values within +/- 1 SD from the mean         0.91   \n",
       "Frac of the values within +/- 2 SD from the mean         0.96   \n",
       "Frac of the values within +/- 3 SD from the mean         0.98   \n",
       "\n",
       "                                                  empirical_rule_suggest  \\\n",
       "Frac of the values within +/- 1 SD from the mean                   0.680   \n",
       "Frac of the values within +/- 2 SD from the mean                   0.950   \n",
       "Frac of the values within +/- 3 SD from the mean                   0.997   \n",
       "\n",
       "                                                  difference  \n",
       "Frac of the values within +/- 1 SD from the mean       0.230  \n",
       "Frac of the values within +/- 2 SD from the mean       0.010  \n",
       "Frac of the values within +/- 3 SD from the mean       0.017  "
      ]
     },
     "execution_count": 54,
     "metadata": {},
     "output_type": "execute_result"
    }
   ],
   "source": [
    "eda.empirical(Df, 'totalAmount')"
   ]
  },
  {
   "cell_type": "code",
   "execution_count": 55,
   "id": "81c104a9-5468-4bb7-b478-fc4fa61f6735",
   "metadata": {},
   "outputs": [],
   "source": [
    "Df['log'] = np.log1p(Df['totalAmount'])"
   ]
  },
  {
   "cell_type": "code",
   "execution_count": 56,
   "id": "a519ab1a-7037-4d62-9a6f-c3587662f424",
   "metadata": {},
   "outputs": [
    {
     "data": {
      "text/html": [
       "<div>\n",
       "<style scoped>\n",
       "    .dataframe tbody tr th:only-of-type {\n",
       "        vertical-align: middle;\n",
       "    }\n",
       "\n",
       "    .dataframe tbody tr th {\n",
       "        vertical-align: top;\n",
       "    }\n",
       "\n",
       "    .dataframe thead th {\n",
       "        text-align: right;\n",
       "    }\n",
       "</style>\n",
       "<table border=\"1\" class=\"dataframe\">\n",
       "  <thead>\n",
       "    <tr style=\"text-align: right;\">\n",
       "      <th></th>\n",
       "      <th>log</th>\n",
       "      <th>empirical_rule_suggest</th>\n",
       "      <th>difference</th>\n",
       "    </tr>\n",
       "  </thead>\n",
       "  <tbody>\n",
       "    <tr>\n",
       "      <th>Frac of the values within +/- 1 SD from the mean</th>\n",
       "      <td>0.72</td>\n",
       "      <td>0.680</td>\n",
       "      <td>0.040</td>\n",
       "    </tr>\n",
       "    <tr>\n",
       "      <th>Frac of the values within +/- 2 SD from the mean</th>\n",
       "      <td>0.94</td>\n",
       "      <td>0.950</td>\n",
       "      <td>0.010</td>\n",
       "    </tr>\n",
       "    <tr>\n",
       "      <th>Frac of the values within +/- 3 SD from the mean</th>\n",
       "      <td>0.99</td>\n",
       "      <td>0.997</td>\n",
       "      <td>0.007</td>\n",
       "    </tr>\n",
       "  </tbody>\n",
       "</table>\n",
       "</div>"
      ],
      "text/plain": [
       "                                                   log  \\\n",
       "Frac of the values within +/- 1 SD from the mean  0.72   \n",
       "Frac of the values within +/- 2 SD from the mean  0.94   \n",
       "Frac of the values within +/- 3 SD from the mean  0.99   \n",
       "\n",
       "                                                  empirical_rule_suggest  \\\n",
       "Frac of the values within +/- 1 SD from the mean                   0.680   \n",
       "Frac of the values within +/- 2 SD from the mean                   0.950   \n",
       "Frac of the values within +/- 3 SD from the mean                   0.997   \n",
       "\n",
       "                                                  difference  \n",
       "Frac of the values within +/- 1 SD from the mean       0.040  \n",
       "Frac of the values within +/- 2 SD from the mean       0.010  \n",
       "Frac of the values within +/- 3 SD from the mean       0.007  "
      ]
     },
     "execution_count": 56,
     "metadata": {},
     "output_type": "execute_result"
    }
   ],
   "source": [
    "eda.empirical(Df, 'log')"
   ]
  },
  {
   "cell_type": "markdown",
   "id": "6fd6d668-0ec7-4499-b450-bf9b010614c6",
   "metadata": {},
   "source": [
    "\n",
    "# Conclusion\n",
    "\n",
    "From the initial observations:\n",
    "\n",
    "We have categorical and continuous data.\n",
    "\n",
    "Although seems like we are not missing values, we are missing information in the distance feature.\n",
    "\n",
    "The total amount feature is not normally distributed.\n",
    "\n",
    "We have group data by quarter, months, days, hours and observe measurements of central tendency, dispersion and location.\n",
    "\n",
    "The data is clean and we need to make some calls related to dropping the examples with missing distance or not.\n",
    "\n",
    "Latter we need to transform the rest of the features and scale to try to make it look as normal as we can.\n",
    "\n"
   ]
  },
  {
   "cell_type": "code",
   "execution_count": 57,
   "id": "d2c9d038-ac1f-42a3-8e97-d12760c74ea1",
   "metadata": {},
   "outputs": [],
   "source": [
    "## Df.to_csv('/home/gato/Scripts/DS/Statistics/2017_Yellow_Taxi_Trip_Data.csv', index=False)"
   ]
  }
 ],
 "metadata": {
  "kernelspec": {
   "display_name": "Python 3 (ipykernel)",
   "language": "python",
   "name": "python3"
  },
  "language_info": {
   "codemirror_mode": {
    "name": "ipython",
    "version": 3
   },
   "file_extension": ".py",
   "mimetype": "text/x-python",
   "name": "python",
   "nbconvert_exporter": "python",
   "pygments_lexer": "ipython3",
   "version": "3.9.13"
  }
 },
 "nbformat": 4,
 "nbformat_minor": 5
}
