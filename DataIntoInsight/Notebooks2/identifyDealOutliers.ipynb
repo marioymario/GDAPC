{
 "cells": [
  {
   "cell_type": "code",
   "execution_count": 1,
   "id": "62470671-dd70-42f5-8987-a358a8e3b886",
   "metadata": {},
   "outputs": [],
   "source": [
    "import pandas as pd \n",
    "import numpy as np\n",
    "import matplotlib.pyplot as plt\n",
    "import seaborn as sns\n",
    "import datetime as dt\n",
    "\n",
    "## warnings\n",
    "import warnings\n",
    "\n",
    "def fxn():\n",
    "    warnings.warn(\"deprecated\", DeprecationWarning)\n",
    "\n",
    "with warnings.catch_warnings():\n",
    "    warnings.simplefilter(\"ignore\")\n",
    "    fxn()"
   ]
  },
  {
   "cell_type": "code",
   "execution_count": 2,
   "id": "bc3cff2c-1bf4-4693-8377-5c63387878ff",
   "metadata": {},
   "outputs": [],
   "source": [
    "path1 = '/home/gato/Scripts/DS/DataIntoInsights/data/Data_week_3/eda_outliers_dataset1.csv'\n",
    "path2 = '/home/gato/Scripts/DS/DataIntoInsights/data/Data_week_3/eda_outliers_dataset2.csv'\n",
    "path3 = '/home/gato/Scripts/DS/DataIntoInsights/data/Data_week_3/eda_outliers_dataset3.csv'"
   ]
  },
  {
   "cell_type": "code",
   "execution_count": 3,
   "id": "8fb233d3-f185-4636-847f-360b1afc3e55",
   "metadata": {},
   "outputs": [],
   "source": [
    "df1 = pd.read_csv(path1)\n",
    "df2 = pd.read_csv(path2)\n",
    "df3 = pd.read_csv(path3)"
   ]
  },
  {
   "cell_type": "code",
   "execution_count": 4,
   "id": "f102e6ca-1e66-49bc-b1ff-e61d9d4c2bcb",
   "metadata": {},
   "outputs": [
    {
     "data": {
      "text/html": [
       "<div>\n",
       "<style scoped>\n",
       "    .dataframe tbody tr th:only-of-type {\n",
       "        vertical-align: middle;\n",
       "    }\n",
       "\n",
       "    .dataframe tbody tr th {\n",
       "        vertical-align: top;\n",
       "    }\n",
       "\n",
       "    .dataframe thead th {\n",
       "        text-align: right;\n",
       "    }\n",
       "</style>\n",
       "<table border=\"1\" class=\"dataframe\">\n",
       "  <thead>\n",
       "    <tr style=\"text-align: right;\">\n",
       "      <th></th>\n",
       "      <th>year</th>\n",
       "      <th>number_of_strikes</th>\n",
       "    </tr>\n",
       "  </thead>\n",
       "  <tbody>\n",
       "    <tr>\n",
       "      <th>0</th>\n",
       "      <td>2020</td>\n",
       "      <td>15620068</td>\n",
       "    </tr>\n",
       "    <tr>\n",
       "      <th>1</th>\n",
       "      <td>2019</td>\n",
       "      <td>209166</td>\n",
       "    </tr>\n",
       "    <tr>\n",
       "      <th>2</th>\n",
       "      <td>2018</td>\n",
       "      <td>44600989</td>\n",
       "    </tr>\n",
       "    <tr>\n",
       "      <th>3</th>\n",
       "      <td>2017</td>\n",
       "      <td>35095195</td>\n",
       "    </tr>\n",
       "    <tr>\n",
       "      <th>4</th>\n",
       "      <td>2016</td>\n",
       "      <td>41582229</td>\n",
       "    </tr>\n",
       "    <tr>\n",
       "      <th>5</th>\n",
       "      <td>2015</td>\n",
       "      <td>37894191</td>\n",
       "    </tr>\n",
       "    <tr>\n",
       "      <th>6</th>\n",
       "      <td>2014</td>\n",
       "      <td>34919173</td>\n",
       "    </tr>\n",
       "    <tr>\n",
       "      <th>7</th>\n",
       "      <td>2013</td>\n",
       "      <td>27600898</td>\n",
       "    </tr>\n",
       "    <tr>\n",
       "      <th>8</th>\n",
       "      <td>2012</td>\n",
       "      <td>28807552</td>\n",
       "    </tr>\n",
       "    <tr>\n",
       "      <th>9</th>\n",
       "      <td>2011</td>\n",
       "      <td>31392058</td>\n",
       "    </tr>\n",
       "  </tbody>\n",
       "</table>\n",
       "</div>"
      ],
      "text/plain": [
       "   year  number_of_strikes\n",
       "0  2020           15620068\n",
       "1  2019             209166\n",
       "2  2018           44600989\n",
       "3  2017           35095195\n",
       "4  2016           41582229\n",
       "5  2015           37894191\n",
       "6  2014           34919173\n",
       "7  2013           27600898\n",
       "8  2012           28807552\n",
       "9  2011           31392058"
      ]
     },
     "execution_count": 4,
     "metadata": {},
     "output_type": "execute_result"
    }
   ],
   "source": [
    "df1.head(10)"
   ]
  },
  {
   "cell_type": "code",
   "execution_count": 5,
   "id": "521e8de4-1a24-40f2-b378-1da099ff8cc5",
   "metadata": {},
   "outputs": [],
   "source": [
    "## Reading large numbers, \n",
    "## Sometimes reading large numbers can be misleading\n",
    "## if we miss one num for exemple, here a function\n",
    "## to help with that.\n",
    "\n",
    "def readable_numbers(x):\n",
    "    ## the doc string to explain others.\n",
    "    \"\"\"takes a large number and formats it into K,M to make it more readable\"\"\"\n",
    "    if x >= 1e6:\n",
    "        s = '{:1.1f}M'.format(x*1e-6)\n",
    "    else:\n",
    "        s = '{:1.0f}K'.format(x*1e-3)\n",
    "    return s\n",
    "\n",
    "# Use the readable_numbers() function to create a new column \n",
    "df1['number_of_strikes_readable']=df1['number_of_strikes'].apply(readable_numbers)"
   ]
  },
  {
   "cell_type": "code",
   "execution_count": 6,
   "id": "753219a1-c3ba-47f5-aefd-0c5b9fd1734c",
   "metadata": {},
   "outputs": [
    {
     "data": {
      "text/html": [
       "<div>\n",
       "<style scoped>\n",
       "    .dataframe tbody tr th:only-of-type {\n",
       "        vertical-align: middle;\n",
       "    }\n",
       "\n",
       "    .dataframe tbody tr th {\n",
       "        vertical-align: top;\n",
       "    }\n",
       "\n",
       "    .dataframe thead th {\n",
       "        text-align: right;\n",
       "    }\n",
       "</style>\n",
       "<table border=\"1\" class=\"dataframe\">\n",
       "  <thead>\n",
       "    <tr style=\"text-align: right;\">\n",
       "      <th></th>\n",
       "      <th>year</th>\n",
       "      <th>number_of_strikes</th>\n",
       "      <th>number_of_strikes_readable</th>\n",
       "    </tr>\n",
       "  </thead>\n",
       "  <tbody>\n",
       "    <tr>\n",
       "      <th>0</th>\n",
       "      <td>2020</td>\n",
       "      <td>15620068</td>\n",
       "      <td>15.6M</td>\n",
       "    </tr>\n",
       "    <tr>\n",
       "      <th>1</th>\n",
       "      <td>2019</td>\n",
       "      <td>209166</td>\n",
       "      <td>209K</td>\n",
       "    </tr>\n",
       "    <tr>\n",
       "      <th>2</th>\n",
       "      <td>2018</td>\n",
       "      <td>44600989</td>\n",
       "      <td>44.6M</td>\n",
       "    </tr>\n",
       "    <tr>\n",
       "      <th>3</th>\n",
       "      <td>2017</td>\n",
       "      <td>35095195</td>\n",
       "      <td>35.1M</td>\n",
       "    </tr>\n",
       "    <tr>\n",
       "      <th>4</th>\n",
       "      <td>2016</td>\n",
       "      <td>41582229</td>\n",
       "      <td>41.6M</td>\n",
       "    </tr>\n",
       "  </tbody>\n",
       "</table>\n",
       "</div>"
      ],
      "text/plain": [
       "   year  number_of_strikes number_of_strikes_readable\n",
       "0  2020           15620068                      15.6M\n",
       "1  2019             209166                       209K\n",
       "2  2018           44600989                      44.6M\n",
       "3  2017           35095195                      35.1M\n",
       "4  2016           41582229                      41.6M"
      ]
     },
     "execution_count": 6,
     "metadata": {},
     "output_type": "execute_result"
    }
   ],
   "source": [
    "df1.head()"
   ]
  },
  {
   "cell_type": "code",
   "execution_count": 7,
   "id": "412be159-13e2-4f55-9471-6809fa09c723",
   "metadata": {},
   "outputs": [
    {
     "name": "stdout",
     "output_type": "stream",
     "text": [
      "Mean:     26.8M\n",
      "Meadian:  28.3M\n"
     ]
    }
   ],
   "source": [
    "## mean and median\n",
    "\n",
    "print('Mean:     {}'.format(readable_numbers(np.mean(df1['number_of_strikes']))))\n",
    "print('Meadian:  {}'.format(readable_numbers(np.median(df1['number_of_strikes']))))"
   ]
  },
  {
   "cell_type": "markdown",
   "id": "aa0df01b-b677-47cd-ae88-046ee4ca01a0",
   "metadata": {},
   "source": [
    "## Note:\n",
    "With the mean being two million strikes less than the median, we suspect the data distribution is likely skewed to the left. The left side of the distribution will be a good place to investigate. One effective way to visualize outliers is a boxplot\n",
    "\n",
    "a boxplot divides the distribution of data points into four main quadrants or quartiles. The boxplot is helpful in visualizing and confirming the outliers\n",
    "\n",
    "A boxplot can help to visually break down the data into percentiles / quartiles, which are important summary statistics. The shaded center of the box represents the middle 50th percentile of the data points. This is the interquartile range, or IQR. \n",
    "\n",
    "The boxplot \"whiskers\" extend 1.5x the IQR by default."
   ]
  },
  {
   "cell_type": "code",
   "execution_count": 8,
   "id": "100d03e3-ed61-460c-af01-13359b0a4c6b",
   "metadata": {},
   "outputs": [
    {
     "name": "stderr",
     "output_type": "stream",
     "text": [
      "/tmp/ipykernel_7514/2930673278.py:5: UserWarning: FixedFormatter should only be used together with FixedLocator\n",
      "  box.set_xticklabels(np.array([readable_numbers(x) for x in g.get_xticks()]))\n"
     ]
    },
    {
     "data": {
      "image/png": "[encoded data removed]",
      "text/plain": [
       "<Figure size 640x480 with 1 Axes>"
      ]
     },
     "metadata": {},
     "output_type": "display_data"
    }
   ],
   "source": [
    "# Create boxplot\n",
    "box = sns.boxplot(x=df1['number_of_strikes'])\n",
    "g = plt.gca()\n",
    "\n",
    "box.set_xticklabels(np.array([readable_numbers(x) for x in g.get_xticks()]))\n",
    "plt.xlabel('Number of strikes')\n",
    "plt.title('Yearly number of lightning strikes');"
   ]
  },
  {
   "cell_type": "markdown",
   "id": "0524b031-5b78-4f89-93a1-3eedefcf4d33",
   "metadata": {},
   "source": [
    "The points to the left of the left whisker are outliers. Any observations that are more than 1.5 IQR below Q1 or more than 1.5 IQR above Q3 are considered outliers.\n",
    "\n",
    "One important point for every data professional: do not assume an outlier is erroneous unless there is an explanation or reason to do so.\n",
    "\n",
    "Let's define our IQR, upper, and lower limit."
   ]
  },
  {
   "cell_type": "code",
   "execution_count": 9,
   "id": "cf0570d3-35ec-4b25-aa84-722a55b8ad43",
   "metadata": {},
   "outputs": [
    {
     "name": "stdout",
     "output_type": "stream",
     "text": [
      "Lower limit is: 8.6M\n"
     ]
    }
   ],
   "source": [
    "# Calculate 25th percentile of annual strikes\n",
    "percentile25 = df1['number_of_strikes'].quantile(0.25)\n",
    "\n",
    "# Calculate 75th percentile of annual strikes\n",
    "percentile75 = df1['number_of_strikes'].quantile(0.75)\n",
    "\n",
    "# Calculate interquartile range\n",
    "iqr = percentile75 - percentile25\n",
    "\n",
    "# Calculate upper and lower thresholds for outliers\n",
    "upper_limit = percentile75 + 1.5 * iqr\n",
    "lower_limit = percentile25 - 1.5 * iqr\n",
    "\n",
    "print(f'Lower limit is: {readable_numbers(lower_limit)}')"
   ]
  },
  {
   "cell_type": "markdown",
   "id": "b5faba89-6b63-47ee-acab-2771ca0d5671",
   "metadata": {},
   "source": [
    "Now we can use a Boolean mask to select only the rows of the dataframe where the number of strikes is less than the lower limit we calculated above. These rows are the outliers on the low end."
   ]
  },
  {
   "cell_type": "code",
   "execution_count": 10,
   "id": "c87ba984-4e10-4a2b-88fd-0f883f928aea",
   "metadata": {},
   "outputs": [
    {
     "data": {
      "text/html": [
       "<div>\n",
       "<style scoped>\n",
       "    .dataframe tbody tr th:only-of-type {\n",
       "        vertical-align: middle;\n",
       "    }\n",
       "\n",
       "    .dataframe tbody tr th {\n",
       "        vertical-align: top;\n",
       "    }\n",
       "\n",
       "    .dataframe thead th {\n",
       "        text-align: right;\n",
       "    }\n",
       "</style>\n",
       "<table border=\"1\" class=\"dataframe\">\n",
       "  <thead>\n",
       "    <tr style=\"text-align: right;\">\n",
       "      <th></th>\n",
       "      <th>year</th>\n",
       "      <th>number_of_strikes</th>\n",
       "      <th>number_of_strikes_readable</th>\n",
       "    </tr>\n",
       "  </thead>\n",
       "  <tbody>\n",
       "    <tr>\n",
       "      <th>1</th>\n",
       "      <td>2019</td>\n",
       "      <td>209166</td>\n",
       "      <td>209K</td>\n",
       "    </tr>\n",
       "    <tr>\n",
       "      <th>33</th>\n",
       "      <td>1987</td>\n",
       "      <td>7378836</td>\n",
       "      <td>7.4M</td>\n",
       "    </tr>\n",
       "  </tbody>\n",
       "</table>\n",
       "</div>"
      ],
      "text/plain": [
       "    year  number_of_strikes number_of_strikes_readable\n",
       "1   2019             209166                       209K\n",
       "33  1987            7378836                       7.4M"
      ]
     },
     "execution_count": 10,
     "metadata": {},
     "output_type": "execute_result"
    }
   ],
   "source": [
    "# Isolate outliers on low end\n",
    "df1[df1['number_of_strikes'] < lower_limit]"
   ]
  },
  {
   "cell_type": "markdown",
   "id": "edf6fd01-f96f-437c-93ec-b41d4850c3ae",
   "metadata": {},
   "source": [
    "A **scatter plot** represents relationships between different variables with individual data points without a connecting line. \n",
    "\n",
    "First add labels to each point on the plot. \n",
    "\n",
    "We'll define them using the `addlabels()` function for x and y points. \n",
    "The plt.text function allows us to define how we want the text of each data point to appear. \n",
    "In this case, we tell the texts to start 0.5 pixels to the left of the data point and just start 0.5 pixels above the datapoint. We also defined the number of values using our readable number statement `readable_numbers()`. \n",
    "\n",
    "Next, let's add color to the data points. \n",
    "\n",
    "Let's make the outlier points red and the other points blue. \n",
    "To do that, we'll define colors by the lower limit. \n",
    "For those that fall below our previously defined lower limit, we'll code that they should be r for red, and everything else will code as b for blue. \n",
    "\n",
    "Our next line of code should feel familiar. \n",
    "\n",
    "We start by configuring our visualization size. In this case, we code 16 and eight inches, which are the default units for this function. \n",
    "\n",
    "Next is our code for scatter plots, ax.scatter. The ax refers to axis, which tells the notebook to plot the data on an x versus y data graphic. \n",
    "\n",
    "Inside the argument field, we first input the x-axis and then the y-axis, which is year and number of strikes, respectively. \n",
    "\n",
    "For the rest of the parameters, we fill in the x and y label and the title. We finish the parameters of our scatter plot by defining the x axis tick labels and setting the rotation of the x-axis ticks to a rotation of 45 degrees. \n",
    "\n",
    "The resulting plot shows us the years 1987 and 2019 are the two values in red or two outliers. "
   ]
  },
  {
   "cell_type": "code",
   "execution_count": 11,
   "id": "125d6244-6efa-43d6-86d4-2f2d866fb2eb",
   "metadata": {},
   "outputs": [
    {
     "data": {
      "image/png": "[encoded data removed]",
      "text/plain": [
       "<Figure size 1600x800 with 1 Axes>"
      ]
     },
     "metadata": {},
     "output_type": "display_data"
    }
   ],
   "source": [
    "def addlabels(x,y):\n",
    "    for i in range(len(x)):\n",
    "        plt.text(x[i]-0.5, y[i]+500000, s=readable_numbers(y[i]))\n",
    "\n",
    "colors = np.where(df1['number_of_strikes'] < lower_limit, 'r', 'b')\n",
    "\n",
    "fig, ax = plt.subplots(figsize=(16,8))\n",
    "ax.scatter(df1['year'], df1['number_of_strikes'],c=colors)\n",
    "ax.set_xlabel('Year')\n",
    "ax.set_ylabel('Number of strikes')\n",
    "ax.set_title('Number of lightning strikes by year')\n",
    "addlabels(df1['year'], df1['number_of_strikes'])\n",
    "for tick in ax.get_xticklabels():\n",
    "    tick.set_rotation(45)\n",
    "plt.show()"
   ]
  },
  {
   "cell_type": "markdown",
   "id": "56f0f77b-2264-4fe9-85f5-6a4be532bc50",
   "metadata": {},
   "source": [
    "### Investigating the outliers 2019 and 1987\n",
    "\n",
    "Let's examine the two outlier years a bit more closely. In the section above, we used a preprocessed dataset that didn't include a lot of the information that we're accustomed to having in this data. In order to further investigate the outlier years, we'll need more information, so we're going to import data from these years specifically."
   ]
  },
  {
   "cell_type": "code",
   "execution_count": 12,
   "id": "9f0df570-95a7-4c19-aa75-8126a39a4168",
   "metadata": {},
   "outputs": [
    {
     "data": {
      "text/html": [
       "<div>\n",
       "<style scoped>\n",
       "    .dataframe tbody tr th:only-of-type {\n",
       "        vertical-align: middle;\n",
       "    }\n",
       "\n",
       "    .dataframe tbody tr th {\n",
       "        vertical-align: top;\n",
       "    }\n",
       "\n",
       "    .dataframe thead th {\n",
       "        text-align: right;\n",
       "    }\n",
       "</style>\n",
       "<table border=\"1\" class=\"dataframe\">\n",
       "  <thead>\n",
       "    <tr style=\"text-align: right;\">\n",
       "      <th></th>\n",
       "      <th>date</th>\n",
       "      <th>number_of_strikes</th>\n",
       "      <th>center_point_geom</th>\n",
       "    </tr>\n",
       "  </thead>\n",
       "  <tbody>\n",
       "    <tr>\n",
       "      <th>0</th>\n",
       "      <td>2019-12-01</td>\n",
       "      <td>1</td>\n",
       "      <td>POINT(-79.7 35.3)</td>\n",
       "    </tr>\n",
       "    <tr>\n",
       "      <th>1</th>\n",
       "      <td>2019-12-01</td>\n",
       "      <td>1</td>\n",
       "      <td>POINT(-84.7 39.3)</td>\n",
       "    </tr>\n",
       "    <tr>\n",
       "      <th>2</th>\n",
       "      <td>2019-12-01</td>\n",
       "      <td>1</td>\n",
       "      <td>POINT(-83.4 38.9)</td>\n",
       "    </tr>\n",
       "    <tr>\n",
       "      <th>3</th>\n",
       "      <td>2019-12-01</td>\n",
       "      <td>1</td>\n",
       "      <td>POINT(-71.5 35.2)</td>\n",
       "    </tr>\n",
       "    <tr>\n",
       "      <th>4</th>\n",
       "      <td>2019-12-01</td>\n",
       "      <td>1</td>\n",
       "      <td>POINT(-87.8 41.6)</td>\n",
       "    </tr>\n",
       "  </tbody>\n",
       "</table>\n",
       "</div>"
      ],
      "text/plain": [
       "         date  number_of_strikes  center_point_geom\n",
       "0  2019-12-01                  1  POINT(-79.7 35.3)\n",
       "1  2019-12-01                  1  POINT(-84.7 39.3)\n",
       "2  2019-12-01                  1  POINT(-83.4 38.9)\n",
       "3  2019-12-01                  1  POINT(-71.5 35.2)\n",
       "4  2019-12-01                  1  POINT(-87.8 41.6)"
      ]
     },
     "execution_count": 12,
     "metadata": {},
     "output_type": "execute_result"
    }
   ],
   "source": [
    "df2.head()"
   ]
  },
  {
   "cell_type": "code",
   "execution_count": 13,
   "id": "8d746c1c-e0aa-4eba-97e5-11512eebbdfd",
   "metadata": {},
   "outputs": [],
   "source": [
    "df2['date'] = pd.to_datetime(df2['date'])"
   ]
  },
  {
   "cell_type": "code",
   "execution_count": 14,
   "id": "faccf7e9-8d5e-4a3d-9d52-168037d0bc62",
   "metadata": {},
   "outputs": [
    {
     "name": "stdout",
     "output_type": "stream",
     "text": [
      "<class 'pandas.core.frame.DataFrame'>\n",
      "RangeIndex: 54831 entries, 0 to 54830\n",
      "Data columns (total 3 columns):\n",
      " #   Column             Non-Null Count  Dtype         \n",
      "---  ------             --------------  -----         \n",
      " 0   date               54831 non-null  datetime64[ns]\n",
      " 1   number_of_strikes  54831 non-null  int64         \n",
      " 2   center_point_geom  54831 non-null  object        \n",
      "dtypes: datetime64[ns](1), int64(1), object(1)\n",
      "memory usage: 1.3+ MB\n"
     ]
    }
   ],
   "source": [
    "df2.info()"
   ]
  },
  {
   "cell_type": "code",
   "execution_count": 15,
   "id": "c6aceba0-317d-42a1-a37c-5e6f625d7ddc",
   "metadata": {},
   "outputs": [
    {
     "data": {
      "text/html": [
       "<div>\n",
       "<style scoped>\n",
       "    .dataframe tbody tr th:only-of-type {\n",
       "        vertical-align: middle;\n",
       "    }\n",
       "\n",
       "    .dataframe tbody tr th {\n",
       "        vertical-align: top;\n",
       "    }\n",
       "\n",
       "    .dataframe thead th {\n",
       "        text-align: right;\n",
       "    }\n",
       "</style>\n",
       "<table border=\"1\" class=\"dataframe\">\n",
       "  <thead>\n",
       "    <tr style=\"text-align: right;\">\n",
       "      <th></th>\n",
       "      <th>month</th>\n",
       "      <th>month_txt</th>\n",
       "      <th>number_of_strikes</th>\n",
       "    </tr>\n",
       "  </thead>\n",
       "  <tbody>\n",
       "    <tr>\n",
       "      <th>0</th>\n",
       "      <td>12</td>\n",
       "      <td>Dec</td>\n",
       "      <td>209166</td>\n",
       "    </tr>\n",
       "  </tbody>\n",
       "</table>\n",
       "</div>"
      ],
      "text/plain": [
       "   month month_txt  number_of_strikes\n",
       "0     12       Dec             209166"
      ]
     },
     "execution_count": 15,
     "metadata": {},
     "output_type": "execute_result"
    }
   ],
   "source": [
    "## Create 2 new columns\n",
    "df2['date'] = pd.to_datetime(df2['date'])\n",
    "df2['month'] = df2['date'].dt.month\n",
    "## cut the month names down to just the first three letters.\n",
    "df2['month_txt'] = df2['date'].dt.month_name().str.slice(stop=3)\n",
    "\n",
    "## Group by `month` and `month_txt`, sum it, and sort. Assign result to new df\n",
    "df_2019_by_month = df2.groupby(['month','month_txt']).sum().sort_values('month', ascending=True)\\\n",
    ".head(12).reset_index()\n",
    "df_2019_by_month"
   ]
  },
  {
   "cell_type": "code",
   "execution_count": 16,
   "id": "5df4565e-7002-4f5b-bc04-920ba6ee1090",
   "metadata": {},
   "outputs": [],
   "source": [
    "## there is only december...\n",
    "\n",
    "## checking the third one\n"
   ]
  },
  {
   "cell_type": "code",
   "execution_count": 17,
   "id": "093ff234-9207-40f3-b6ef-5c62f761790b",
   "metadata": {},
   "outputs": [
    {
     "data": {
      "text/html": [
       "<div>\n",
       "<style scoped>\n",
       "    .dataframe tbody tr th:only-of-type {\n",
       "        vertical-align: middle;\n",
       "    }\n",
       "\n",
       "    .dataframe tbody tr th {\n",
       "        vertical-align: top;\n",
       "    }\n",
       "\n",
       "    .dataframe thead th {\n",
       "        text-align: right;\n",
       "    }\n",
       "</style>\n",
       "<table border=\"1\" class=\"dataframe\">\n",
       "  <thead>\n",
       "    <tr style=\"text-align: right;\">\n",
       "      <th></th>\n",
       "      <th>month</th>\n",
       "      <th>month_txt</th>\n",
       "      <th>number_of_strikes</th>\n",
       "    </tr>\n",
       "  </thead>\n",
       "  <tbody>\n",
       "    <tr>\n",
       "      <th>0</th>\n",
       "      <td>1</td>\n",
       "      <td>Jan</td>\n",
       "      <td>23044</td>\n",
       "    </tr>\n",
       "    <tr>\n",
       "      <th>1</th>\n",
       "      <td>2</td>\n",
       "      <td>Feb</td>\n",
       "      <td>61020</td>\n",
       "    </tr>\n",
       "    <tr>\n",
       "      <th>2</th>\n",
       "      <td>3</td>\n",
       "      <td>Mar</td>\n",
       "      <td>117877</td>\n",
       "    </tr>\n",
       "    <tr>\n",
       "      <th>3</th>\n",
       "      <td>4</td>\n",
       "      <td>Apr</td>\n",
       "      <td>157890</td>\n",
       "    </tr>\n",
       "    <tr>\n",
       "      <th>4</th>\n",
       "      <td>5</td>\n",
       "      <td>May</td>\n",
       "      <td>700910</td>\n",
       "    </tr>\n",
       "    <tr>\n",
       "      <th>5</th>\n",
       "      <td>6</td>\n",
       "      <td>Jun</td>\n",
       "      <td>1064166</td>\n",
       "    </tr>\n",
       "    <tr>\n",
       "      <th>6</th>\n",
       "      <td>7</td>\n",
       "      <td>Jul</td>\n",
       "      <td>2077619</td>\n",
       "    </tr>\n",
       "    <tr>\n",
       "      <th>7</th>\n",
       "      <td>8</td>\n",
       "      <td>Aug</td>\n",
       "      <td>2001899</td>\n",
       "    </tr>\n",
       "    <tr>\n",
       "      <th>8</th>\n",
       "      <td>9</td>\n",
       "      <td>Sep</td>\n",
       "      <td>869833</td>\n",
       "    </tr>\n",
       "    <tr>\n",
       "      <th>9</th>\n",
       "      <td>10</td>\n",
       "      <td>Oct</td>\n",
       "      <td>105627</td>\n",
       "    </tr>\n",
       "    <tr>\n",
       "      <th>10</th>\n",
       "      <td>11</td>\n",
       "      <td>Nov</td>\n",
       "      <td>155290</td>\n",
       "    </tr>\n",
       "    <tr>\n",
       "      <th>11</th>\n",
       "      <td>12</td>\n",
       "      <td>Dec</td>\n",
       "      <td>43661</td>\n",
       "    </tr>\n",
       "  </tbody>\n",
       "</table>\n",
       "</div>"
      ],
      "text/plain": [
       "    month month_txt  number_of_strikes\n",
       "0       1       Jan              23044\n",
       "1       2       Feb              61020\n",
       "2       3       Mar             117877\n",
       "3       4       Apr             157890\n",
       "4       5       May             700910\n",
       "5       6       Jun            1064166\n",
       "6       7       Jul            2077619\n",
       "7       8       Aug            2001899\n",
       "8       9       Sep             869833\n",
       "9      10       Oct             105627\n",
       "10     11       Nov             155290\n",
       "11     12       Dec              43661"
      ]
     },
     "execution_count": 17,
     "metadata": {},
     "output_type": "execute_result"
    }
   ],
   "source": [
    "## Create 2 new columns\n",
    "df3['date'] = pd.to_datetime(df3['date'])\n",
    "df3['month'] = df3['date'].dt.month\n",
    "## cut the month names down to just the first three letters.\n",
    "df3['month_txt'] = df3['date'].dt.month_name().str.slice(stop=3)\n",
    "\n",
    "## Group by `month` and `month_txt`, sum it, and sort. Assign result to new df\n",
    "df_1987_by_month = df3.groupby(['month','month_txt']).sum().sort_values('month', ascending=True).head(12).reset_index()\n",
    "df_1987_by_month"
   ]
  },
  {
   "cell_type": "code",
   "execution_count": 18,
   "id": "48c6414a-cc10-444f-90ba-037e0cf7abe4",
   "metadata": {},
   "outputs": [
    {
     "data": {
      "text/html": [
       "<div>\n",
       "<style scoped>\n",
       "    .dataframe tbody tr th:only-of-type {\n",
       "        vertical-align: middle;\n",
       "    }\n",
       "\n",
       "    .dataframe tbody tr th {\n",
       "        vertical-align: top;\n",
       "    }\n",
       "\n",
       "    .dataframe thead th {\n",
       "        text-align: right;\n",
       "    }\n",
       "</style>\n",
       "<table border=\"1\" class=\"dataframe\">\n",
       "  <thead>\n",
       "    <tr style=\"text-align: right;\">\n",
       "      <th></th>\n",
       "      <th>date</th>\n",
       "      <th>number_of_strikes</th>\n",
       "      <th>center_point_geom</th>\n",
       "      <th>month</th>\n",
       "      <th>month_txt</th>\n",
       "    </tr>\n",
       "  </thead>\n",
       "  <tbody>\n",
       "    <tr>\n",
       "      <th>0</th>\n",
       "      <td>1987-01-01</td>\n",
       "      <td>21</td>\n",
       "      <td>POINT(-80.7 26)</td>\n",
       "      <td>1</td>\n",
       "      <td>Jan</td>\n",
       "    </tr>\n",
       "    <tr>\n",
       "      <th>1</th>\n",
       "      <td>1987-01-04</td>\n",
       "      <td>23</td>\n",
       "      <td>POINT(-83.2 28.3)</td>\n",
       "      <td>1</td>\n",
       "      <td>Jan</td>\n",
       "    </tr>\n",
       "    <tr>\n",
       "      <th>2</th>\n",
       "      <td>1987-01-05</td>\n",
       "      <td>40</td>\n",
       "      <td>POINT(-78.9 31.3)</td>\n",
       "      <td>1</td>\n",
       "      <td>Jan</td>\n",
       "    </tr>\n",
       "    <tr>\n",
       "      <th>3</th>\n",
       "      <td>1987-01-05</td>\n",
       "      <td>20</td>\n",
       "      <td>POINT(-79.2 31.4)</td>\n",
       "      <td>1</td>\n",
       "      <td>Jan</td>\n",
       "    </tr>\n",
       "    <tr>\n",
       "      <th>4</th>\n",
       "      <td>1987-01-05</td>\n",
       "      <td>21</td>\n",
       "      <td>POINT(-80.1 31.4)</td>\n",
       "      <td>1</td>\n",
       "      <td>Jan</td>\n",
       "    </tr>\n",
       "    <tr>\n",
       "      <th>...</th>\n",
       "      <td>...</td>\n",
       "      <td>...</td>\n",
       "      <td>...</td>\n",
       "      <td>...</td>\n",
       "      <td>...</td>\n",
       "    </tr>\n",
       "    <tr>\n",
       "      <th>1441229</th>\n",
       "      <td>1987-12-06</td>\n",
       "      <td>16</td>\n",
       "      <td>POINT(-95.3 32.3)</td>\n",
       "      <td>12</td>\n",
       "      <td>Dec</td>\n",
       "    </tr>\n",
       "    <tr>\n",
       "      <th>1441230</th>\n",
       "      <td>1987-12-06</td>\n",
       "      <td>16</td>\n",
       "      <td>POINT(-96.2 34.5)</td>\n",
       "      <td>12</td>\n",
       "      <td>Dec</td>\n",
       "    </tr>\n",
       "    <tr>\n",
       "      <th>1441231</th>\n",
       "      <td>1987-12-15</td>\n",
       "      <td>16</td>\n",
       "      <td>POINT(-84.8 28.1)</td>\n",
       "      <td>12</td>\n",
       "      <td>Dec</td>\n",
       "    </tr>\n",
       "    <tr>\n",
       "      <th>1441232</th>\n",
       "      <td>1987-12-15</td>\n",
       "      <td>16</td>\n",
       "      <td>POINT(-84.6 28.1)</td>\n",
       "      <td>12</td>\n",
       "      <td>Dec</td>\n",
       "    </tr>\n",
       "    <tr>\n",
       "      <th>1441233</th>\n",
       "      <td>1987-12-25</td>\n",
       "      <td>16</td>\n",
       "      <td>POINT(-94.5 32.7)</td>\n",
       "      <td>12</td>\n",
       "      <td>Dec</td>\n",
       "    </tr>\n",
       "  </tbody>\n",
       "</table>\n",
       "<p>1441234 rows × 5 columns</p>\n",
       "</div>"
      ],
      "text/plain": [
       "              date  number_of_strikes  center_point_geom  month month_txt\n",
       "0       1987-01-01                 21    POINT(-80.7 26)      1       Jan\n",
       "1       1987-01-04                 23  POINT(-83.2 28.3)      1       Jan\n",
       "2       1987-01-05                 40  POINT(-78.9 31.3)      1       Jan\n",
       "3       1987-01-05                 20  POINT(-79.2 31.4)      1       Jan\n",
       "4       1987-01-05                 21  POINT(-80.1 31.4)      1       Jan\n",
       "...            ...                ...                ...    ...       ...\n",
       "1441229 1987-12-06                 16  POINT(-95.3 32.3)     12       Dec\n",
       "1441230 1987-12-06                 16  POINT(-96.2 34.5)     12       Dec\n",
       "1441231 1987-12-15                 16  POINT(-84.8 28.1)     12       Dec\n",
       "1441232 1987-12-15                 16  POINT(-84.6 28.1)     12       Dec\n",
       "1441233 1987-12-25                 16  POINT(-94.5 32.7)     12       Dec\n",
       "\n",
       "[1441234 rows x 5 columns]"
      ]
     },
     "execution_count": 18,
     "metadata": {},
     "output_type": "execute_result"
    }
   ],
   "source": [
    "df3"
   ]
  },
  {
   "cell_type": "markdown",
   "id": "44022776-4de3-4b74-8ee3-05e091a39341",
   "metadata": {},
   "source": [
    "1987 has data for every month of the year. Hence, this outlier should be treated differently than 2019, which is missing data. \n",
    "\n",
    "Finally, let's re-run the mean and median after removing the outliers. Our final takeaway from our lesson on outliers is that outliers significantly affect the dataset's mean, but do not significantly affect the median. \n",
    "\n",
    "To remove the outliers, we'll use a Boolean mask to create a new dataframe that contains only the rows in the original dataframe where the number of strikes >= the lower limit we calculated above."
   ]
  },
  {
   "cell_type": "code",
   "execution_count": 19,
   "id": "c388c76b-ddda-4dc9-8c97-49a4fb5412cb",
   "metadata": {},
   "outputs": [
    {
     "name": "stdout",
     "output_type": "stream",
     "text": [
      "Mean:    28.2M\n",
      "Median:  28.8M\n"
     ]
    }
   ],
   "source": [
    "\n",
    "# Create new df that removes outliers\n",
    "df_without_outliers = df1[df1['number_of_strikes'] >= lower_limit]\n",
    "\n",
    "# Recalculate mean and median values on data without outliers\n",
    "print(f\"Mean:    {readable_numbers(np.mean(df_without_outliers['number_of_strikes']))}\")\n",
    "print(f\"Median:  {readable_numbers(np.median(df_without_outliers['number_of_strikes']))}\")"
   ]
  },
  {
   "cell_type": "markdown",
   "id": "3918c895-e9ca-4403-aa8c-a886dea39f26",
   "metadata": {},
   "source": [
    "Both the mean and the median changed, but the mean much more so. It is clear that outlier values can affect the distributions of the data and the conclusions that can be drawn from them.\n",
    "If you have successfully completed the material above, congratulations! You now understand discovering in Python and should be able to start using it on your own datasets. "
   ]
  },
  {
   "cell_type": "code",
   "execution_count": null,
   "id": "8b571bdc-475f-4439-bf3f-934e92f36185",
   "metadata": {},
   "outputs": [],
   "source": []
  }
 ],
 "metadata": {
  "kernelspec": {
   "display_name": "Python 3 (ipykernel)",
   "language": "python",
   "name": "python3"
  },
  "language_info": {
   "codemirror_mode": {
    "name": "ipython",
    "version": 3
   },
   "file_extension": ".py",
   "mimetype": "text/x-python",
   "name": "python",
   "nbconvert_exporter": "python",
   "pygments_lexer": "ipython3",
   "version": "3.9.13"
  }
 },
 "nbformat": 4,
 "nbformat_minor": 5
}
