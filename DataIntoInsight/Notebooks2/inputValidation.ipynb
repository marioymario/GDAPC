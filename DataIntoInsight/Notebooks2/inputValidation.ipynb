{
 "cells": [
  {
   "cell_type": "markdown",
   "id": "dce46372-bdd7-4ccc-b540-67006e113185",
   "metadata": {},
   "source": [
    "## Objective\n",
    "\n",
    "We will be examining monthly lightning strike data collected by the National Oceanic and Atmospheric Association (NOAA) for 2018. The dataset includes five columns:  \n",
    "\n",
    "|date|number_of_strikes|center_point_geom|longitude|latitude|\n",
    "|---|---|---|---|---|  \n",
    "\n",
    "The objective is to inspect the data and validate the quality of its contents. We will check for:\n",
    "  \n",
    "* Null values\n",
    "* Missing dates\n",
    "* A plausible range of daily lightning strikes in a location\n",
    "* A geographical range that aligns with expectation"
   ]
  },
  {
   "cell_type": "code",
   "execution_count": 18,
   "id": "879c4328-468c-4b1f-a325-40209f35dd7b",
   "metadata": {},
   "outputs": [],
   "source": [
    "import datetime as dt\n",
    "import matplotlib.pyplot as plt\n",
    "import pandas as pd\n",
    "import plotly.express as px\n",
    "import seaborn as sns\n",
    "import eda_functions\n",
    "from eda_functions import *"
   ]
  },
  {
   "cell_type": "code",
   "execution_count": 13,
   "id": "3b487ba7-c595-4d41-9f5f-f33effe1d90c",
   "metadata": {},
   "outputs": [],
   "source": [
    "df = pd.read_csv('/home/gato/Scripts/DS/DataIntoInsights/data/Data_week_3/eda_input_validation_joining_dataset1.csv')"
   ]
  },
  {
   "cell_type": "code",
   "execution_count": 14,
   "id": "369d2420-b84d-444a-a22b-05607fafa61a",
   "metadata": {},
   "outputs": [
    {
     "data": {
      "text/html": [
       "<div>\n",
       "<style scoped>\n",
       "    .dataframe tbody tr th:only-of-type {\n",
       "        vertical-align: middle;\n",
       "    }\n",
       "\n",
       "    .dataframe tbody tr th {\n",
       "        vertical-align: top;\n",
       "    }\n",
       "\n",
       "    .dataframe thead th {\n",
       "        text-align: right;\n",
       "    }\n",
       "</style>\n",
       "<table border=\"1\" class=\"dataframe\">\n",
       "  <thead>\n",
       "    <tr style=\"text-align: right;\">\n",
       "      <th></th>\n",
       "      <th>date</th>\n",
       "      <th>number_of_strikes</th>\n",
       "      <th>center_point_geom</th>\n",
       "      <th>longitude</th>\n",
       "      <th>latitude</th>\n",
       "    </tr>\n",
       "  </thead>\n",
       "  <tbody>\n",
       "    <tr>\n",
       "      <th>0</th>\n",
       "      <td>2018-01-03</td>\n",
       "      <td>194</td>\n",
       "      <td>POINT(-75 27)</td>\n",
       "      <td>-75.0</td>\n",
       "      <td>27.0</td>\n",
       "    </tr>\n",
       "    <tr>\n",
       "      <th>1</th>\n",
       "      <td>2018-01-03</td>\n",
       "      <td>41</td>\n",
       "      <td>POINT(-78.4 29)</td>\n",
       "      <td>-78.4</td>\n",
       "      <td>29.0</td>\n",
       "    </tr>\n",
       "    <tr>\n",
       "      <th>2</th>\n",
       "      <td>2018-01-03</td>\n",
       "      <td>33</td>\n",
       "      <td>POINT(-73.9 27)</td>\n",
       "      <td>-73.9</td>\n",
       "      <td>27.0</td>\n",
       "    </tr>\n",
       "    <tr>\n",
       "      <th>3</th>\n",
       "      <td>2018-01-03</td>\n",
       "      <td>38</td>\n",
       "      <td>POINT(-73.8 27)</td>\n",
       "      <td>-73.8</td>\n",
       "      <td>27.0</td>\n",
       "    </tr>\n",
       "    <tr>\n",
       "      <th>4</th>\n",
       "      <td>2018-01-03</td>\n",
       "      <td>92</td>\n",
       "      <td>POINT(-79 28)</td>\n",
       "      <td>-79.0</td>\n",
       "      <td>28.0</td>\n",
       "    </tr>\n",
       "  </tbody>\n",
       "</table>\n",
       "</div>"
      ],
      "text/plain": [
       "         date  number_of_strikes center_point_geom  longitude  latitude\n",
       "0  2018-01-03                194     POINT(-75 27)      -75.0      27.0\n",
       "1  2018-01-03                 41   POINT(-78.4 29)      -78.4      29.0\n",
       "2  2018-01-03                 33   POINT(-73.9 27)      -73.9      27.0\n",
       "3  2018-01-03                 38   POINT(-73.8 27)      -73.8      27.0\n",
       "4  2018-01-03                 92     POINT(-79 28)      -79.0      28.0"
      ]
     },
     "execution_count": 14,
     "metadata": {},
     "output_type": "execute_result"
    }
   ],
   "source": [
    "df.head()"
   ]
  },
  {
   "cell_type": "code",
   "execution_count": 15,
   "id": "05fe0cdd-f587-4301-b29a-ce2a2f86bf01",
   "metadata": {},
   "outputs": [
    {
     "name": "stdout",
     "output_type": "stream",
     "text": [
      "<class 'pandas.core.frame.DataFrame'>\n",
      "RangeIndex: 3401012 entries, 0 to 3401011\n",
      "Data columns (total 5 columns):\n",
      " #   Column             Dtype  \n",
      "---  ------             -----  \n",
      " 0   date               object \n",
      " 1   number_of_strikes  int64  \n",
      " 2   center_point_geom  object \n",
      " 3   longitude          float64\n",
      " 4   latitude           float64\n",
      "dtypes: float64(2), int64(1), object(2)\n",
      "memory usage: 129.7+ MB\n"
     ]
    }
   ],
   "source": [
    "df.info()"
   ]
  },
  {
   "cell_type": "code",
   "execution_count": 16,
   "id": "6d4e65a4-3684-4d82-9f35-2f6a00823255",
   "metadata": {},
   "outputs": [
    {
     "data": {
      "text/plain": [
       "date                 datetime64[ns]\n",
       "number_of_strikes             int64\n",
       "center_point_geom            object\n",
       "longitude                   float64\n",
       "latitude                    float64\n",
       "dtype: object"
      ]
     },
     "execution_count": 16,
     "metadata": {},
     "output_type": "execute_result"
    }
   ],
   "source": [
    "## Change and display data type\n",
    "df['date'] = pd.to_datetime(df['date'])\n",
    "df.dtypes"
   ]
  },
  {
   "cell_type": "code",
   "execution_count": 19,
   "id": "1ff5d5b1-1428-4001-8cf8-8438dac24495",
   "metadata": {},
   "outputs": [
    {
     "data": {
      "text/plain": [
       "['__builtins__',\n",
       " '__cached__',\n",
       " '__doc__',\n",
       " '__file__',\n",
       " '__loader__',\n",
       " '__name__',\n",
       " '__package__',\n",
       " '__spec__',\n",
       " 'feature_observe',\n",
       " 'filler_of_the_nans',\n",
       " 'histogramas',\n",
       " 'invalid_df',\n",
       " 'kurt_skew',\n",
       " 'math',\n",
       " 'miss_df',\n",
       " 'np',\n",
       " 'pd',\n",
       " 'plt',\n",
       " 'readableNumbers',\n",
       " 'siftdatatype',\n",
       " 'sns',\n",
       " 'stats']"
      ]
     },
     "execution_count": 19,
     "metadata": {},
     "output_type": "execute_result"
    }
   ],
   "source": [
    "dir(eda_functions)"
   ]
  },
  {
   "cell_type": "code",
   "execution_count": 7,
   "id": "6fdc465d-42c8-46b9-b145-7900d164aa95",
   "metadata": {},
   "outputs": [
    {
     "name": "stdout",
     "output_type": "stream",
     "text": [
      "Help on function filler_of_the_nans in module basicEda:\n",
      "\n",
      "filler_of_the_nans(technique, df, list_to_fill)\n",
      "    Fill in nans of a fill_list from a pandas df,\n",
      "    the fill list should be defined by the technique to use. \n",
      "    The options are mean, median, mode, interpolation and None.\n",
      "    \n",
      "    Args:\n",
      "        technique (list): a technique to use, from the list\n",
      "        df(pd.DataFrame): a pdDataFrame.\n",
      "        fill_list (pd.Series): pd.Series or list of Series with\n",
      "        missing values.\n",
      "\n"
     ]
    }
   ],
   "source": [
    "help(filler_of_the_nans)"
   ]
  },
  {
   "cell_type": "code",
   "execution_count": 20,
   "id": "b2a13380-ce82-4aff-a1d8-4272c7f918fc",
   "metadata": {},
   "outputs": [
    {
     "name": "stdout",
     "output_type": "stream",
     "text": [
      "Help on function miss_df in module eda_functions:\n",
      "\n",
      "miss_df(dataframe: pandas.core.frame.DataFrame)\n",
      "    Take a pandas df as argument, returns another one\n",
      "    with  basic information about missing data\n",
      "    Args:\n",
      "        df(pd.DataFrame): a pdDataFrame.\n",
      "\n"
     ]
    }
   ],
   "source": [
    "help(miss_df)"
   ]
  },
  {
   "cell_type": "code",
   "execution_count": 21,
   "id": "950590c2-7852-4481-b2f9-70cd5ac54fea",
   "metadata": {},
   "outputs": [
    {
     "data": {
      "text/html": [
       "<div>\n",
       "<style scoped>\n",
       "    .dataframe tbody tr th:only-of-type {\n",
       "        vertical-align: middle;\n",
       "    }\n",
       "\n",
       "    .dataframe tbody tr th {\n",
       "        vertical-align: top;\n",
       "    }\n",
       "\n",
       "    .dataframe thead th {\n",
       "        text-align: right;\n",
       "    }\n",
       "</style>\n",
       "<table border=\"1\" class=\"dataframe\">\n",
       "  <thead>\n",
       "    <tr style=\"text-align: right;\">\n",
       "      <th></th>\n",
       "      <th>Total</th>\n",
       "      <th>Percent</th>\n",
       "    </tr>\n",
       "  </thead>\n",
       "  <tbody>\n",
       "    <tr>\n",
       "      <th>date</th>\n",
       "      <td>0</td>\n",
       "      <td>0.0</td>\n",
       "    </tr>\n",
       "    <tr>\n",
       "      <th>number_of_strikes</th>\n",
       "      <td>0</td>\n",
       "      <td>0.0</td>\n",
       "    </tr>\n",
       "    <tr>\n",
       "      <th>center_point_geom</th>\n",
       "      <td>0</td>\n",
       "      <td>0.0</td>\n",
       "    </tr>\n",
       "    <tr>\n",
       "      <th>longitude</th>\n",
       "      <td>0</td>\n",
       "      <td>0.0</td>\n",
       "    </tr>\n",
       "    <tr>\n",
       "      <th>latitude</th>\n",
       "      <td>0</td>\n",
       "      <td>0.0</td>\n",
       "    </tr>\n",
       "  </tbody>\n",
       "</table>\n",
       "</div>"
      ],
      "text/plain": [
       "                   Total  Percent\n",
       "date                   0      0.0\n",
       "number_of_strikes      0      0.0\n",
       "center_point_geom      0      0.0\n",
       "longitude              0      0.0\n",
       "latitude               0      0.0"
      ]
     },
     "execution_count": 21,
     "metadata": {},
     "output_type": "execute_result"
    }
   ],
   "source": [
    "miss_df(df)"
   ]
  },
  {
   "cell_type": "code",
   "execution_count": 10,
   "id": "ccae0a28-6307-4cf9-af37-dc70a6565736",
   "metadata": {},
   "outputs": [],
   "source": [
    "# Note\n"
   ]
  },
  {
   "cell_type": "code",
   "execution_count": 11,
   "id": "9f4a1699-ecff-42d3-ab04-ee27ebd82bcc",
   "metadata": {
    "tags": []
   },
   "outputs": [
    {
     "data": {
      "text/html": [
       "<div>\n",
       "<style scoped>\n",
       "    .dataframe tbody tr th:only-of-type {\n",
       "        vertical-align: middle;\n",
       "    }\n",
       "\n",
       "    .dataframe tbody tr th {\n",
       "        vertical-align: top;\n",
       "    }\n",
       "\n",
       "    .dataframe thead th {\n",
       "        text-align: right;\n",
       "    }\n",
       "</style>\n",
       "<table border=\"1\" class=\"dataframe\">\n",
       "  <thead>\n",
       "    <tr style=\"text-align: right;\">\n",
       "      <th></th>\n",
       "      <th>date</th>\n",
       "      <th>number_of_strikes</th>\n",
       "      <th>center_point_geom</th>\n",
       "      <th>longitude</th>\n",
       "      <th>latitude</th>\n",
       "    </tr>\n",
       "  </thead>\n",
       "  <tbody>\n",
       "    <tr>\n",
       "      <th>count</th>\n",
       "      <td>3401012</td>\n",
       "      <td>3.401012e+06</td>\n",
       "      <td>3401012</td>\n",
       "      <td>3.401012e+06</td>\n",
       "      <td>3.401012e+06</td>\n",
       "    </tr>\n",
       "    <tr>\n",
       "      <th>unique</th>\n",
       "      <td>NaN</td>\n",
       "      <td>NaN</td>\n",
       "      <td>170855</td>\n",
       "      <td>NaN</td>\n",
       "      <td>NaN</td>\n",
       "    </tr>\n",
       "    <tr>\n",
       "      <th>top</th>\n",
       "      <td>NaN</td>\n",
       "      <td>NaN</td>\n",
       "      <td>POINT(-81.5 22.5)</td>\n",
       "      <td>NaN</td>\n",
       "      <td>NaN</td>\n",
       "    </tr>\n",
       "    <tr>\n",
       "      <th>freq</th>\n",
       "      <td>NaN</td>\n",
       "      <td>NaN</td>\n",
       "      <td>108</td>\n",
       "      <td>NaN</td>\n",
       "      <td>NaN</td>\n",
       "    </tr>\n",
       "    <tr>\n",
       "      <th>mean</th>\n",
       "      <td>2018-07-13 03:32:02.018504960</td>\n",
       "      <td>1.311403e+01</td>\n",
       "      <td>NaN</td>\n",
       "      <td>-9.081778e+01</td>\n",
       "      <td>3.374688e+01</td>\n",
       "    </tr>\n",
       "    <tr>\n",
       "      <th>min</th>\n",
       "      <td>2018-01-01 00:00:00</td>\n",
       "      <td>1.000000e+00</td>\n",
       "      <td>NaN</td>\n",
       "      <td>-1.418000e+02</td>\n",
       "      <td>1.660000e+01</td>\n",
       "    </tr>\n",
       "    <tr>\n",
       "      <th>25%</th>\n",
       "      <td>2018-06-04 00:00:00</td>\n",
       "      <td>2.000000e+00</td>\n",
       "      <td>NaN</td>\n",
       "      <td>-1.008000e+02</td>\n",
       "      <td>2.760000e+01</td>\n",
       "    </tr>\n",
       "    <tr>\n",
       "      <th>50%</th>\n",
       "      <td>2018-07-18 00:00:00</td>\n",
       "      <td>4.000000e+00</td>\n",
       "      <td>NaN</td>\n",
       "      <td>-9.070000e+01</td>\n",
       "      <td>3.350000e+01</td>\n",
       "    </tr>\n",
       "    <tr>\n",
       "      <th>75%</th>\n",
       "      <td>2018-08-24 00:00:00</td>\n",
       "      <td>1.200000e+01</td>\n",
       "      <td>NaN</td>\n",
       "      <td>-8.130000e+01</td>\n",
       "      <td>3.970000e+01</td>\n",
       "    </tr>\n",
       "    <tr>\n",
       "      <th>max</th>\n",
       "      <td>2018-12-31 00:00:00</td>\n",
       "      <td>2.211000e+03</td>\n",
       "      <td>NaN</td>\n",
       "      <td>-4.320000e+01</td>\n",
       "      <td>5.170000e+01</td>\n",
       "    </tr>\n",
       "    <tr>\n",
       "      <th>std</th>\n",
       "      <td>NaN</td>\n",
       "      <td>3.212099e+01</td>\n",
       "      <td>NaN</td>\n",
       "      <td>1.296593e+01</td>\n",
       "      <td>7.838555e+00</td>\n",
       "    </tr>\n",
       "  </tbody>\n",
       "</table>\n",
       "</div>"
      ],
      "text/plain": [
       "                                 date  number_of_strikes  center_point_geom  \\\n",
       "count                         3401012       3.401012e+06            3401012   \n",
       "unique                            NaN                NaN             170855   \n",
       "top                               NaN                NaN  POINT(-81.5 22.5)   \n",
       "freq                              NaN                NaN                108   \n",
       "mean    2018-07-13 03:32:02.018504960       1.311403e+01                NaN   \n",
       "min               2018-01-01 00:00:00       1.000000e+00                NaN   \n",
       "25%               2018-06-04 00:00:00       2.000000e+00                NaN   \n",
       "50%               2018-07-18 00:00:00       4.000000e+00                NaN   \n",
       "75%               2018-08-24 00:00:00       1.200000e+01                NaN   \n",
       "max               2018-12-31 00:00:00       2.211000e+03                NaN   \n",
       "std                               NaN       3.212099e+01                NaN   \n",
       "\n",
       "           longitude      latitude  \n",
       "count   3.401012e+06  3.401012e+06  \n",
       "unique           NaN           NaN  \n",
       "top              NaN           NaN  \n",
       "freq             NaN           NaN  \n",
       "mean   -9.081778e+01  3.374688e+01  \n",
       "min    -1.418000e+02  1.660000e+01  \n",
       "25%    -1.008000e+02  2.760000e+01  \n",
       "50%    -9.070000e+01  3.350000e+01  \n",
       "75%    -8.130000e+01  3.970000e+01  \n",
       "max    -4.320000e+01  5.170000e+01  \n",
       "std     1.296593e+01  7.838555e+00  "
      ]
     },
     "execution_count": 11,
     "metadata": {},
     "output_type": "execute_result"
    }
   ],
   "source": [
    "df.describe(include='all', datetime_is_numeric=True)"
   ]
  },
  {
   "cell_type": "code",
   "execution_count": 12,
   "id": "436cdc4f-41c4-4a92-a65c-2b8f7cf8a825",
   "metadata": {},
   "outputs": [
    {
     "name": "stderr",
     "output_type": "stream",
     "text": [
      "/tmp/ipykernel_21228/2884002236.py:1: FutureWarning: Treating datetime data as categorical rather than numeric in `.describe` is deprecated and will be removed in a future version of pandas. Specify `datetime_is_numeric=True` to silence this warning and adopt the future behavior now.\n",
      "  df.describe(include='all')\n"
     ]
    },
    {
     "data": {
      "text/html": [
       "<div>\n",
       "<style scoped>\n",
       "    .dataframe tbody tr th:only-of-type {\n",
       "        vertical-align: middle;\n",
       "    }\n",
       "\n",
       "    .dataframe tbody tr th {\n",
       "        vertical-align: top;\n",
       "    }\n",
       "\n",
       "    .dataframe thead th {\n",
       "        text-align: right;\n",
       "    }\n",
       "</style>\n",
       "<table border=\"1\" class=\"dataframe\">\n",
       "  <thead>\n",
       "    <tr style=\"text-align: right;\">\n",
       "      <th></th>\n",
       "      <th>date</th>\n",
       "      <th>number_of_strikes</th>\n",
       "      <th>center_point_geom</th>\n",
       "      <th>longitude</th>\n",
       "      <th>latitude</th>\n",
       "    </tr>\n",
       "  </thead>\n",
       "  <tbody>\n",
       "    <tr>\n",
       "      <th>count</th>\n",
       "      <td>3401012</td>\n",
       "      <td>3.401012e+06</td>\n",
       "      <td>3401012</td>\n",
       "      <td>3.401012e+06</td>\n",
       "      <td>3.401012e+06</td>\n",
       "    </tr>\n",
       "    <tr>\n",
       "      <th>unique</th>\n",
       "      <td>357</td>\n",
       "      <td>NaN</td>\n",
       "      <td>170855</td>\n",
       "      <td>NaN</td>\n",
       "      <td>NaN</td>\n",
       "    </tr>\n",
       "    <tr>\n",
       "      <th>top</th>\n",
       "      <td>2018-09-01 00:00:00</td>\n",
       "      <td>NaN</td>\n",
       "      <td>POINT(-81.5 22.5)</td>\n",
       "      <td>NaN</td>\n",
       "      <td>NaN</td>\n",
       "    </tr>\n",
       "    <tr>\n",
       "      <th>freq</th>\n",
       "      <td>31773</td>\n",
       "      <td>NaN</td>\n",
       "      <td>108</td>\n",
       "      <td>NaN</td>\n",
       "      <td>NaN</td>\n",
       "    </tr>\n",
       "    <tr>\n",
       "      <th>first</th>\n",
       "      <td>2018-01-01 00:00:00</td>\n",
       "      <td>NaN</td>\n",
       "      <td>NaN</td>\n",
       "      <td>NaN</td>\n",
       "      <td>NaN</td>\n",
       "    </tr>\n",
       "    <tr>\n",
       "      <th>last</th>\n",
       "      <td>2018-12-31 00:00:00</td>\n",
       "      <td>NaN</td>\n",
       "      <td>NaN</td>\n",
       "      <td>NaN</td>\n",
       "      <td>NaN</td>\n",
       "    </tr>\n",
       "    <tr>\n",
       "      <th>mean</th>\n",
       "      <td>NaN</td>\n",
       "      <td>1.311403e+01</td>\n",
       "      <td>NaN</td>\n",
       "      <td>-9.081778e+01</td>\n",
       "      <td>3.374688e+01</td>\n",
       "    </tr>\n",
       "    <tr>\n",
       "      <th>std</th>\n",
       "      <td>NaN</td>\n",
       "      <td>3.212099e+01</td>\n",
       "      <td>NaN</td>\n",
       "      <td>1.296593e+01</td>\n",
       "      <td>7.838555e+00</td>\n",
       "    </tr>\n",
       "    <tr>\n",
       "      <th>min</th>\n",
       "      <td>NaN</td>\n",
       "      <td>1.000000e+00</td>\n",
       "      <td>NaN</td>\n",
       "      <td>-1.418000e+02</td>\n",
       "      <td>1.660000e+01</td>\n",
       "    </tr>\n",
       "    <tr>\n",
       "      <th>25%</th>\n",
       "      <td>NaN</td>\n",
       "      <td>2.000000e+00</td>\n",
       "      <td>NaN</td>\n",
       "      <td>-1.008000e+02</td>\n",
       "      <td>2.760000e+01</td>\n",
       "    </tr>\n",
       "    <tr>\n",
       "      <th>50%</th>\n",
       "      <td>NaN</td>\n",
       "      <td>4.000000e+00</td>\n",
       "      <td>NaN</td>\n",
       "      <td>-9.070000e+01</td>\n",
       "      <td>3.350000e+01</td>\n",
       "    </tr>\n",
       "    <tr>\n",
       "      <th>75%</th>\n",
       "      <td>NaN</td>\n",
       "      <td>1.200000e+01</td>\n",
       "      <td>NaN</td>\n",
       "      <td>-8.130000e+01</td>\n",
       "      <td>3.970000e+01</td>\n",
       "    </tr>\n",
       "    <tr>\n",
       "      <th>max</th>\n",
       "      <td>NaN</td>\n",
       "      <td>2.211000e+03</td>\n",
       "      <td>NaN</td>\n",
       "      <td>-4.320000e+01</td>\n",
       "      <td>5.170000e+01</td>\n",
       "    </tr>\n",
       "  </tbody>\n",
       "</table>\n",
       "</div>"
      ],
      "text/plain": [
       "                       date  number_of_strikes  center_point_geom  \\\n",
       "count               3401012       3.401012e+06            3401012   \n",
       "unique                  357                NaN             170855   \n",
       "top     2018-09-01 00:00:00                NaN  POINT(-81.5 22.5)   \n",
       "freq                  31773                NaN                108   \n",
       "first   2018-01-01 00:00:00                NaN                NaN   \n",
       "last    2018-12-31 00:00:00                NaN                NaN   \n",
       "mean                    NaN       1.311403e+01                NaN   \n",
       "std                     NaN       3.212099e+01                NaN   \n",
       "min                     NaN       1.000000e+00                NaN   \n",
       "25%                     NaN       2.000000e+00                NaN   \n",
       "50%                     NaN       4.000000e+00                NaN   \n",
       "75%                     NaN       1.200000e+01                NaN   \n",
       "max                     NaN       2.211000e+03                NaN   \n",
       "\n",
       "           longitude      latitude  \n",
       "count   3.401012e+06  3.401012e+06  \n",
       "unique           NaN           NaN  \n",
       "top              NaN           NaN  \n",
       "freq             NaN           NaN  \n",
       "first            NaN           NaN  \n",
       "last             NaN           NaN  \n",
       "mean   -9.081778e+01  3.374688e+01  \n",
       "std     1.296593e+01  7.838555e+00  \n",
       "min    -1.418000e+02  1.660000e+01  \n",
       "25%    -1.008000e+02  2.760000e+01  \n",
       "50%    -9.070000e+01  3.350000e+01  \n",
       "75%    -8.130000e+01  3.970000e+01  \n",
       "max    -4.320000e+01  5.170000e+01  "
      ]
     },
     "execution_count": 12,
     "metadata": {},
     "output_type": "execute_result"
    }
   ],
   "source": [
    "df.describe(include='all')"
   ]
  },
  {
   "cell_type": "markdown",
   "id": "3c24ad79-907c-41da-93b6-277723357efd",
   "metadata": {},
   "source": [
    "We need a way to easily determine which dates are missing. We can do this by comparing all of the actual dates in 2018 to the dates we have in our `date` column. The function `pd.date_range()` will create a datetime index of all dates between a start and end date (inclusive) that we'll give as arguments. This is a very useful function that can be used for more than just days. For more information about `pd.date_range()`, refer to the [pandas date_range() function documentation](https://pandas.pydata.org/docs/reference/api/pandas.date_range.html). \n",
    "\n",
    "Once we have the datetime index object of all dates in 2018, we'll compare its contents to the dates we have in the `date` column. The `index.difference()` method is used on index objects. Its argument is an index or array that you want to compare with the one the method is being applied to. It returns the set difference of the two indices&mdash;the values that are in the original index but not in the one given in the argument. "
   ]
  },
  {
   "cell_type": "code",
   "execution_count": 13,
   "id": "8c514203-7ed7-43ff-b7ad-04da30c34066",
   "metadata": {},
   "outputs": [
    {
     "data": {
      "text/plain": [
       "DatetimeIndex(['2018-06-19', '2018-06-20', '2018-06-21', '2018-06-22',\n",
       "               '2018-09-18', '2018-09-19', '2018-12-01', '2018-12-02'],\n",
       "              dtype='datetime64[ns]', freq=None)"
      ]
     },
     "execution_count": 13,
     "metadata": {},
     "output_type": "execute_result"
    }
   ],
   "source": [
    "## finding missing dates\n",
    "## with a calendar index\n",
    "\n",
    "full_date_range = pd.date_range(start = '2018-01-01', end = '2018-12-31')\n",
    "full_date_range.difference(df['date'])"
   ]
  },
  {
   "cell_type": "code",
   "execution_count": 14,
   "id": "f7b3fe8a-4168-48d1-adac-865a804c5622",
   "metadata": {},
   "outputs": [],
   "source": [
    "## 4 june 2 in sept 2 in Dec.\n",
    "## why was this?\n"
   ]
  },
  {
   "cell_type": "markdown",
   "id": "6e77062e-c353-45e5-b5f4-ea939bca3548",
   "metadata": {},
   "source": [
    "This finding would be something to investigate or to question the owner of the data, to find out the reason why. Working as a data professional in a business setting, you would want to repeat the same process for the other two years as well. Given that the number of missing days is relatively small, you can complete your analysis by making a note of the missing days in the presentation. This will ensure that anyone who analyzes your visualization or presentation will know that the data depicted doesn't include those missing dates."
   ]
  },
  {
   "cell_type": "code",
   "execution_count": 15,
   "id": "0dfab93b-c36f-47da-850f-728a21f26d9c",
   "metadata": {},
   "outputs": [
    {
     "data": {
      "image/png": "[encoded data removed]",
      "text/plain": [
       "<Figure size 640x480 with 1 Axes>"
      ]
     },
     "metadata": {},
     "output_type": "display_data"
    }
   ],
   "source": [
    "sns.boxplot(y = df['number_of_strikes']);"
   ]
  },
  {
   "cell_type": "code",
   "execution_count": 23,
   "id": "4cb793fb-7a24-4bcc-96a5-2754de8a6081",
   "metadata": {},
   "outputs": [],
   "source": [
    "## most of the days less than 5 strikes and some 2000 very skeewed."
   ]
  },
  {
   "cell_type": "code",
   "execution_count": 24,
   "id": "96d79901-93d0-47a2-9b3d-6d6ec727fcef",
   "metadata": {},
   "outputs": [
    {
     "data": {
      "image/png": "[encoded data removed]",
      "text/plain": [
       "<Figure size 640x480 with 1 Axes>"
      ]
     },
     "metadata": {},
     "output_type": "display_data"
    }
   ],
   "source": [
    "## lets take the outliers off,\n",
    "sns.boxplot(y = df['number_of_strikes'], showfliers=False);"
   ]
  },
  {
   "cell_type": "markdown",
   "id": "00ac99ad-65df-4129-b22d-1267691ff239",
   "metadata": {},
   "source": [
    "Finally, we'll create a scatterplot of all the geographical coordinates that had lightning strikes in 2018. We'll plot the points on a map to make sure the points in the data are relevant and not in unexpected locations. Because this can be a computationally intensive process, we'll prevent redundant computation by dropping rows that have the same values in their `latitude` and `longitude` columns. We can do this because the purpose here is to examine locations that had lightning strikes, but it doesn't matter how many strikes they had or when."
   ]
  },
  {
   "cell_type": "code",
   "execution_count": 20,
   "id": "4c8655ff-17b7-4506-a5b9-bbece36e4947",
   "metadata": {},
   "outputs": [
    {
     "data": {
      "text/html": [
       "<div>\n",
       "<style scoped>\n",
       "    .dataframe tbody tr th:only-of-type {\n",
       "        vertical-align: middle;\n",
       "    }\n",
       "\n",
       "    .dataframe tbody tr th {\n",
       "        vertical-align: top;\n",
       "    }\n",
       "\n",
       "    .dataframe thead th {\n",
       "        text-align: right;\n",
       "    }\n",
       "</style>\n",
       "<table border=\"1\" class=\"dataframe\">\n",
       "  <thead>\n",
       "    <tr style=\"text-align: right;\">\n",
       "      <th></th>\n",
       "      <th>latitude</th>\n",
       "      <th>longitude</th>\n",
       "    </tr>\n",
       "  </thead>\n",
       "  <tbody>\n",
       "    <tr>\n",
       "      <th>0</th>\n",
       "      <td>27.0</td>\n",
       "      <td>-75.0</td>\n",
       "    </tr>\n",
       "    <tr>\n",
       "      <th>1</th>\n",
       "      <td>29.0</td>\n",
       "      <td>-78.4</td>\n",
       "    </tr>\n",
       "    <tr>\n",
       "      <th>2</th>\n",
       "      <td>27.0</td>\n",
       "      <td>-73.9</td>\n",
       "    </tr>\n",
       "    <tr>\n",
       "      <th>3</th>\n",
       "      <td>27.0</td>\n",
       "      <td>-73.8</td>\n",
       "    </tr>\n",
       "    <tr>\n",
       "      <th>4</th>\n",
       "      <td>28.0</td>\n",
       "      <td>-79.0</td>\n",
       "    </tr>\n",
       "  </tbody>\n",
       "</table>\n",
       "</div>"
      ],
      "text/plain": [
       "   latitude  longitude\n",
       "0      27.0      -75.0\n",
       "1      29.0      -78.4\n",
       "2      27.0      -73.9\n",
       "3      27.0      -73.8\n",
       "4      28.0      -79.0"
      ]
     },
     "execution_count": 20,
     "metadata": {},
     "output_type": "execute_result"
    }
   ],
   "source": [
    "# plot data in map to maek sure is from the USA\n",
    "df_points = df[['latitude', 'longitude']].drop_duplicates()\n",
    "df_points.head()"
   ]
  },
  {
   "cell_type": "code",
   "execution_count": 22,
   "id": "749ccc94-2b7f-4c6b-ac3c-e9900c9dfb9c",
   "metadata": {},
   "outputs": [],
   "source": [
    "#poi = px.scatter_geo(df_points, lat = 'latitude', lon = 'longitude')\n",
    "#poi.show()"
   ]
  },
  {
   "cell_type": "code",
   "execution_count": null,
   "id": "218d52b4-922a-460a-9ae4-09509bdec72b",
   "metadata": {},
   "outputs": [],
   "source": []
  }
 ],
 "metadata": {
  "kernelspec": {
   "display_name": "Python 3 (ipykernel)",
   "language": "python",
   "name": "python3"
  },
  "language_info": {
   "codemirror_mode": {
    "name": "ipython",
    "version": 3
   },
   "file_extension": ".py",
   "mimetype": "text/x-python",
   "name": "python",
   "nbconvert_exporter": "python",
   "pygments_lexer": "ipython3",
   "version": "3.9.13"
  }
 },
 "nbformat": 4,
 "nbformat_minor": 5
}
