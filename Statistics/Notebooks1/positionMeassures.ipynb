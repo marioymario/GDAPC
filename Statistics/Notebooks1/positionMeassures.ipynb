{
 "cells": [
  {
   "cell_type": "code",
   "execution_count": 1,
   "id": "54608600-c652-45e5-a65f-b80a6e5599dc",
   "metadata": {},
   "outputs": [],
   "source": [
    "import pandas as pd\n",
    "import numpy as np\n",
    "import matplotlib.pyplot as plt\n",
    "import seaborn as sns\n",
    "import math\n"
   ]
  },
  {
   "cell_type": "code",
   "execution_count": 2,
   "id": "5d5254ea-3f0d-4605-af10-dd8442ee04ca",
   "metadata": {},
   "outputs": [],
   "source": [
    "path = '~/Scripts/DS/Statistics/data/pima.csv'\n",
    "df = pd.read_csv(path)"
   ]
  },
  {
   "cell_type": "markdown",
   "id": "25938cf8-2b3a-409e-99d9-940aa2dad522",
   "metadata": {},
   "source": [
    "# You can calculate quartiles for your data in four steps: \n",
    "1. Arrange the values in your dataset from smallest to largest. \n",
    "\n",
    "2. Find the median, or middle value, of your entire dataset. This is Q2. There are an even number of values in the dataset, so the median is the average of the two middle values, 10 and 10.\n",
    "Q2 = (10 + 10)  ÷ 2 = 20 ÷ 2 = 10\n",
    " 3. Find the median of the lower half of your dataset [6, 7, 9, 10]. This is Q1. The median is the average of the two middle values, 7 and 9. \n",
    "Q1 = (7 + 9)  ÷ 2 = 16 ÷ 2 = 8 \n",
    "4. Finally, find the median of the upper half of your dataset [10, 13, 15, 18]. This is Q3. The median is the average of the two middle values, 13 and 15. \n",
    "Q3 = (13 + 15)  ÷ 2 = 28 ÷ 2 = 14\n",
    "\n",
    "Dividing the data into quartiles gives you a clear idea of ___. You now know that the lower quartile (Q1) of ___ or fewer, and the upper quartile (Q3) ___ or more. In other words, the lower 25% of ___ or fewer, and the upper 25% ___ or more. The middle 50% ___. "
   ]
  },
  {
   "cell_type": "code",
   "execution_count": 21,
   "id": "b36b911b-2dbf-4f4b-99a8-d1e9892e9b9f",
   "metadata": {},
   "outputs": [],
   "source": [
    "i = df[df['outcome'] == 1]\n",
    "oo = df[df['outcome'] == 0]\n",
    "## Sampling so both are same len.\n",
    "o = oo.sample(frac=0.536, random_state=42)"
   ]
  },
  {
   "cell_type": "code",
   "execution_count": 4,
   "id": "573797ec-edb1-4b64-995a-0f44d023676d",
   "metadata": {
    "tags": []
   },
   "outputs": [],
   "source": [
    "## 1. Arrange the values in your dataset from smallest to largest. \n",
    "a = i['glucose'].sort_values(ascending=True)\n",
    "b = o['glucose'].sort_values(ascending=True)"
   ]
  },
  {
   "cell_type": "code",
   "execution_count": 26,
   "id": "2b5e9586-ba0d-49df-b3dc-c65c52f9f766",
   "metadata": {},
   "outputs": [
    {
     "data": {
      "text/plain": [
       "count    268.000000\n",
       "mean     141.257463\n",
       "std       31.939622\n",
       "min        0.000000\n",
       "25%      119.000000\n",
       "50%      140.000000\n",
       "75%      167.000000\n",
       "max      199.000000\n",
       "Name: glucose, dtype: float64"
      ]
     },
     "execution_count": 26,
     "metadata": {},
     "output_type": "execute_result"
    }
   ],
   "source": [
    "a.describe()"
   ]
  },
  {
   "cell_type": "code",
   "execution_count": 27,
   "id": "48425b45-f051-4124-84f9-4b8b4efab0cd",
   "metadata": {},
   "outputs": [
    {
     "data": {
      "text/plain": [
       "count    268.000000\n",
       "mean     108.809701\n",
       "std       25.775267\n",
       "min        0.000000\n",
       "25%       92.000000\n",
       "50%      107.000000\n",
       "75%      123.000000\n",
       "max      197.000000\n",
       "Name: glucose, dtype: float64"
      ]
     },
     "execution_count": 27,
     "metadata": {},
     "output_type": "execute_result"
    }
   ],
   "source": [
    "b.describe()"
   ]
  },
  {
   "cell_type": "code",
   "execution_count": 7,
   "id": "b06834fa-218c-4c9b-ba20-9a1bc73af02b",
   "metadata": {},
   "outputs": [
    {
     "name": "stdout",
     "output_type": "stream",
     "text": [
      "268\n",
      "268\n"
     ]
    }
   ],
   "source": [
    "print(len(a))\n",
    "print(len(b))"
   ]
  },
  {
   "cell_type": "code",
   "execution_count": 8,
   "id": "185fc798-173e-4c14-987f-4593f0cbb76d",
   "metadata": {},
   "outputs": [
    {
     "name": "stdout",
     "output_type": "stream",
     "text": [
      "107.0\n",
      "Median or Q2 of glucose of patients with diabetes: 140.0\n",
      "Median or Q2 of glucose of patients without diabetes: 107.0\n"
     ]
    }
   ],
   "source": [
    "## Q2\n",
    "## 2. Find the median \n",
    "median_aQ2 = a.median()\n",
    "#print(median_aQ2)\n",
    "median_bQ2 = b.median()\n",
    "print(median_bQ2)\n",
    "print(f'Median or Q2 of glucose of patients with diabetes: {median_aQ2}')\n",
    "print(f'Median or Q2 of glucose of patients without diabetes: {median_bQ2}')"
   ]
  },
  {
   "cell_type": "code",
   "execution_count": 9,
   "id": "06a25cc5-cb22-4257-94ae-752f89ad1406",
   "metadata": {},
   "outputs": [],
   "source": [
    "upper_half_a = a[int(median_aQ2):]\n",
    "lower_half_a = a[:int(median_aQ2)-1]"
   ]
  },
  {
   "cell_type": "code",
   "execution_count": 10,
   "id": "522339ec-31f9-45d1-9ff3-a17403b6af74",
   "metadata": {},
   "outputs": [
    {
     "name": "stdout",
     "output_type": "stream",
     "text": [
      "128\n",
      "139\n"
     ]
    }
   ],
   "source": [
    "print(len(upper_half_a))\n",
    "print(len(lower_half_a))"
   ]
  },
  {
   "cell_type": "code",
   "execution_count": 11,
   "id": "f9e46d30-0604-43bd-a5c7-2be35d33a67e",
   "metadata": {},
   "outputs": [],
   "source": [
    "## Q3\n",
    "## Finally, find the median of the upper half of your dataset. This is Q3. The median is the average of the two middle values.\n",
    "median_aQ3 = upper_half_a.median()\n",
    "median_aQ1 = lower_half_a.median()"
   ]
  },
  {
   "cell_type": "code",
   "execution_count": 12,
   "id": "6bd4589b-1a0a-4b50-ad95-807792001d9d",
   "metadata": {},
   "outputs": [
    {
     "data": {
      "text/plain": [
       "119.0"
      ]
     },
     "execution_count": 12,
     "metadata": {},
     "output_type": "execute_result"
    }
   ],
   "source": [
    "median_aQ1"
   ]
  },
  {
   "cell_type": "code",
   "execution_count": 13,
   "id": "52e05305-abf3-4b0e-85af-a5009fd85cad",
   "metadata": {},
   "outputs": [
    {
     "data": {
      "text/plain": [
       "168.0"
      ]
     },
     "execution_count": 13,
     "metadata": {},
     "output_type": "execute_result"
    }
   ],
   "source": [
    "median_aQ3"
   ]
  },
  {
   "cell_type": "code",
   "execution_count": 14,
   "id": "059b3991-09dc-4338-83f4-bb3687666859",
   "metadata": {},
   "outputs": [],
   "source": [
    "upper_half_b = b[int(median_bQ2):]\n",
    "lower_half_b = b[:int(median_bQ2)-1]\n",
    "## Q3\n",
    "## Finally, find the median of the upper half of your dataset. This is Q3. The median is the average of the two middle values.\n",
    "median_bQ3 = upper_half_b.median()\n",
    "median_bQ1 = lower_half_b.median()"
   ]
  },
  {
   "cell_type": "code",
   "execution_count": 18,
   "id": "56d33d24-cab5-45a2-b978-2525d0fbadcc",
   "metadata": {},
   "outputs": [],
   "source": [
    "QuantilesNoDiabetes = median_bQ1, median_bQ2, median_bQ3"
   ]
  },
  {
   "cell_type": "code",
   "execution_count": 17,
   "id": "9c4d3015-5194-4716-8a5f-55d2991f84ab",
   "metadata": {},
   "outputs": [],
   "source": [
    "QuantilesYesDiabetes = median_aQ1, median_aQ2, median_aQ3"
   ]
  },
  {
   "cell_type": "code",
   "execution_count": 19,
   "id": "95d06cc9-dd4d-4973-ac25-1dd9b44ff157",
   "metadata": {},
   "outputs": [
    {
     "data": {
      "text/plain": [
       "(88.5, 107.0, 120.0)"
      ]
     },
     "execution_count": 19,
     "metadata": {},
     "output_type": "execute_result"
    }
   ],
   "source": [
    "QuantilesNoDiabetes"
   ]
  },
  {
   "cell_type": "code",
   "execution_count": 20,
   "id": "1236894e-7ce8-4a16-b945-5c96f3bf0568",
   "metadata": {},
   "outputs": [
    {
     "data": {
      "text/plain": [
       "(119.0, 140.0, 168.0)"
      ]
     },
     "execution_count": 20,
     "metadata": {},
     "output_type": "execute_result"
    }
   ],
   "source": [
    "QuantilesYesDiabetes"
   ]
  },
  {
   "cell_type": "markdown",
   "id": "b82bb494-1cf9-4bae-99be-bca0b810b95a",
   "metadata": {},
   "source": [
    "# VARIANCE\n",
    "# THE AVERAGE OF THE SQUARED DIFFERENCE OF EACH DATA POINT FROM THE MEAN.\n",
    "\n"
   ]
  },
  {
   "cell_type": "markdown",
   "id": "3989ecbb-1e7c-4cd3-b988-928eb8c701f4",
   "metadata": {},
   "source": [
    "# STD\n",
    "# The squared root of the variance, avg amount we expect a point to differ."
   ]
  },
  {
   "cell_type": "markdown",
   "id": "85a18902-f98d-4313-b96c-c6ba56f8d0b0",
   "metadata": {},
   "source": [
    "# The average of the squared difference of each data point from the mean"
   ]
  },
  {
   "cell_type": "code",
   "execution_count": 25,
   "id": "1d46bb6f-5447-44ea-9eca-e1ac1ad4e207",
   "metadata": {},
   "outputs": [
    {
     "data": {
      "text/plain": [
       "31.5"
      ]
     },
     "execution_count": 25,
     "metadata": {},
     "output_type": "execute_result"
    }
   ],
   "source": [
    "## Interquartile range\n",
    "## The difference between the third quartile (Q3) and the first quartile (Q1). \n",
    "## It indicates the spread of the middle half or the middle 50% of your data\n",
    "\n",
    "QuantilesNoDiabetes[2] - QuantilesNoDiabetes[0]"
   ]
  },
  {
   "cell_type": "code",
   "execution_count": null,
   "id": "fc11fce8-f46e-4e37-b549-a4ae06484c48",
   "metadata": {},
   "outputs": [],
   "source": []
  }
 ],
 "metadata": {
  "kernelspec": {
   "display_name": "Python 3 (ipykernel)",
   "language": "python",
   "name": "python3"
  },
  "language_info": {
   "codemirror_mode": {
    "name": "ipython",
    "version": 3
   },
   "file_extension": ".py",
   "mimetype": "text/x-python",
   "name": "python",
   "nbconvert_exporter": "python",
   "pygments_lexer": "ipython3",
   "version": "3.9.13"
  }
 },
 "nbformat": 4,
 "nbformat_minor": 5
}
